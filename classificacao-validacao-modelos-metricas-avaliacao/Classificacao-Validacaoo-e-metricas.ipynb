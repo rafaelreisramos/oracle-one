{
  "nbformat": 4,
  "nbformat_minor": 0,
  "metadata": {
    "colab": {
      "provenance": [],
      "toc_visible": true
    },
    "kernelspec": {
      "name": "python3",
      "display_name": "Python 3"
    },
    "language_info": {
      "name": "python"
    }
  },
  "cells": [
    {
      "cell_type": "markdown",
      "source": [
        "# <font color='dark'>**Classificação: Validação de modelos e métricas de avaliação**</h1>"
      ],
      "metadata": {
        "id": "MCqTDybk4ShK"
      }
    },
    {
      "cell_type": "markdown",
      "source": [
        "### Projeto\n",
        "\n",
        "Uma empresa de empréstimo de automóveis está passando por uma situação complicada, com alta demanda para uma frota reduzida de veículos e alto número de inadimplentes, trazendo um prejuízo grande para a empresa.\n",
        "\n",
        "Nós fomos contratados para buscar melhorias na identificação de inadimplentes. A análise dos clientes atualmente é feita de forma manual, cliente por cliente, tomando muito tempo e ainda assim a detecção de inadimplentes é muito imprecisa.\n",
        "\n",
        "Nossa tarefa é utilizar os dados fornecidos pela empresa para **classificar** os clientes em adimplentes e inadimplentes."
      ],
      "metadata": {
        "id": "WscU3KG7a9No"
      }
    },
    {
      "cell_type": "markdown",
      "source": [
        "## <font color='dark'>Classificando dados</h1>"
      ],
      "metadata": {
        "id": "WgS8iF51Csrn"
      }
    },
    {
      "cell_type": "markdown",
      "source": [
        "### Criando um modelo inicial"
      ],
      "metadata": {
        "id": "6lExmBuKn-xe"
      }
    },
    {
      "cell_type": "markdown",
      "source": [
        "Uma empresa de empréstimo de automóveis está passando por uma situação muito complicada. Ela está com uma alta demanda para uma frota reduzida e uma alta taxa de clientes inadimplentes, ou seja, clientes que não pagam o empréstimo no tempo devido.\n",
        "\n",
        "- Alta demanda\n",
        "- Frota reduzida\n",
        "- Inadimplência\n",
        "\n",
        "Isso está gerando um grande prejuízo para a empresa. E nós fomos contratados para ajudar a melhorar essa situação da empresa, para identificar esses clientes inadimplentes antes mesmo da empresa conceder o empréstimo do veículo.\n",
        "\n",
        "Para resolver essa situação, essa empresa nos forneceu uma base de dados em formato CSV com dados históricos de clientes inadimplentes. Vamos utilizar essa base de dados para construir um modelo de inteligência artificial que vai conseguir classificar os clientes entre adimplentes e inadimplentes.\n",
        "\n",
        "Para começar o projeto, vamos utilizar o Google Colab, que já possui todas as ferramentas necessárias para a construção do nosso projeto.\n",
        "\n",
        "Vamos abrir aqui o Google Colab e o primeiro passo é fazer o upload da base de dados.\n",
        "\n",
        "Vamos clicar no menu lateral esquerdo de arquivos e selecionar a opção \"Fazer upload para o armazenamento da sessão\".\n",
        "\n",
        "Será aberto o explorador de arquivos do computador e vamos selecionar o arquivo emp_automovel.csv.\n",
        "\n",
        "O arquivo emp_automovel.csv será disponibilizado na atividade \"Preparando o ambiente\". Antes de começar, volte até a atividade e baixe esse arquivo.\n",
        "\n",
        "Com o upload do arquivo para o Google Colab feito, podemos importar a biblioteca pandas, que será utilizada para fazer a leitura desse arquivo. Mas antes, vamos copiar o caminho do arquivo no menu lateral. Clique com o botão direito no arquivo emp_automovel.csv e selecione a opção \"Copiar caminho\". Feito isso, podemos fechar o menu de arquivos e importar a biblioteca pandas, que já vem instalada no Google Colab.\n",
        "\n",
        "Na primeira célula, vamos escrever import pandas as pd e vamos executar esse código com \"Ctrl + Enter\"."
      ],
      "metadata": {
        "id": "sjGSFIBEml2w"
      }
    },
    {
      "cell_type": "code",
      "execution_count": 1,
      "metadata": {
        "id": "ZP9giPwL7Qvz"
      },
      "outputs": [],
      "source": [
        "import pandas as pd"
      ]
    },
    {
      "cell_type": "markdown",
      "source": [
        "Então, com o código já executado e a biblioteca importada, vamos fazer a leitura da base de dados. Na próxima célula, vamos escrever dados = pd.read_csv(), que é a função que será utilizada para fazer a leitura do arquivo em formato CSV. Dentro dos parênteses, vamos passar uma string vazia e apertar o atalho \"Ctrl + V\", que vai colar o caminho do arquivo que foi copiado no menu de arquivos. Agora, podemos executar esta célula para fazer a leitura da base de dados."
      ],
      "metadata": {
        "id": "-ZzqyGTNmrso"
      }
    },
    {
      "cell_type": "code",
      "source": [
        "dados = pd.read_csv('https://raw.githubusercontent.com/rafaelreisramos/oracle-one/refs/heads/main/classificacao-validacao-modelos-metricas-avaliacao/dados/emp_automovel.csv')"
      ],
      "metadata": {
        "id": "w1MaIGaj7UZL"
      },
      "execution_count": 2,
      "outputs": []
    },
    {
      "cell_type": "code",
      "source": [
        "dados"
      ],
      "metadata": {
        "id": "ef4aPUAHkyLQ",
        "outputId": "6cb9acf7-4d1a-44a8-d156-bfce823f5c0d",
        "colab": {
          "base_uri": "https://localhost:8080/",
          "height": 424
        }
      },
      "execution_count": 4,
      "outputs": [
        {
          "output_type": "execute_result",
          "data": {
            "text/plain": [
              "       receita_cliente  anuidade_emprestimo  anos_casa_propria  telefone_trab  \\\n",
              "0         12600.000000          3569.400000          12.157324              1   \n",
              "1          9000.000000          2722.188351           7.000000              0   \n",
              "2         15750.000000          4477.500000          12.000000              0   \n",
              "3          9000.000000          1309.050000          12.157324              0   \n",
              "4          7650.000000          1125.000000          12.157324              0   \n",
              "...                ...                  ...                ...            ...   \n",
              "54020     16855.246324           675.000000          12.157324              1   \n",
              "54021     11250.000000           675.000000          14.000000              0   \n",
              "54022     13500.000000           900.000000          64.000000              0   \n",
              "54023     11250.000000          2371.500000          12.157324              0   \n",
              "54024     21060.000000          2459.250000          12.157324              0   \n",
              "\n",
              "       avaliacao_cidade   score_1   score_2   score_3  score_social  \\\n",
              "0                   2.0  0.057153  0.527227  0.513171      0.117428   \n",
              "1                   2.0  0.657661  0.285898  0.614414      0.222700   \n",
              "2                   2.0  0.501213  0.695423  0.513171      0.117428   \n",
              "3                   3.0  0.501213  0.155973  0.513171      0.117428   \n",
              "4                   2.0  0.294328  0.152076  0.513171      0.117428   \n",
              "...                 ...       ...       ...       ...           ...   \n",
              "54020               2.0  0.501213  0.180635  0.513171      0.082500   \n",
              "54021               3.0  0.409620  0.606002  0.513171      0.117428   \n",
              "54022               2.0  0.162632  0.525412  0.513171      0.117428   \n",
              "54023               3.0  0.501213  0.664027  0.513171      0.117428   \n",
              "54024               2.0  0.339656  0.656468  0.513171      0.117428   \n",
              "\n",
              "       troca_telefone  inadimplente  \n",
              "0         2545.000000             0  \n",
              "1          495.000000             0  \n",
              "2         1212.000000             0  \n",
              "3          515.000000             0  \n",
              "4          162.000000             0  \n",
              "...               ...           ...  \n",
              "54020        0.000000             1  \n",
              "54021      466.000000             1  \n",
              "54022      962.106056             1  \n",
              "54023      482.000000             1  \n",
              "54024        0.000000             1  \n",
              "\n",
              "[54025 rows x 11 columns]"
            ],
            "text/html": [
              "\n",
              "  <div id=\"df-0a58f6f8-4761-40f2-9834-c67b20a90545\" class=\"colab-df-container\">\n",
              "    <div>\n",
              "<style scoped>\n",
              "    .dataframe tbody tr th:only-of-type {\n",
              "        vertical-align: middle;\n",
              "    }\n",
              "\n",
              "    .dataframe tbody tr th {\n",
              "        vertical-align: top;\n",
              "    }\n",
              "\n",
              "    .dataframe thead th {\n",
              "        text-align: right;\n",
              "    }\n",
              "</style>\n",
              "<table border=\"1\" class=\"dataframe\">\n",
              "  <thead>\n",
              "    <tr style=\"text-align: right;\">\n",
              "      <th></th>\n",
              "      <th>receita_cliente</th>\n",
              "      <th>anuidade_emprestimo</th>\n",
              "      <th>anos_casa_propria</th>\n",
              "      <th>telefone_trab</th>\n",
              "      <th>avaliacao_cidade</th>\n",
              "      <th>score_1</th>\n",
              "      <th>score_2</th>\n",
              "      <th>score_3</th>\n",
              "      <th>score_social</th>\n",
              "      <th>troca_telefone</th>\n",
              "      <th>inadimplente</th>\n",
              "    </tr>\n",
              "  </thead>\n",
              "  <tbody>\n",
              "    <tr>\n",
              "      <th>0</th>\n",
              "      <td>12600.000000</td>\n",
              "      <td>3569.400000</td>\n",
              "      <td>12.157324</td>\n",
              "      <td>1</td>\n",
              "      <td>2.0</td>\n",
              "      <td>0.057153</td>\n",
              "      <td>0.527227</td>\n",
              "      <td>0.513171</td>\n",
              "      <td>0.117428</td>\n",
              "      <td>2545.000000</td>\n",
              "      <td>0</td>\n",
              "    </tr>\n",
              "    <tr>\n",
              "      <th>1</th>\n",
              "      <td>9000.000000</td>\n",
              "      <td>2722.188351</td>\n",
              "      <td>7.000000</td>\n",
              "      <td>0</td>\n",
              "      <td>2.0</td>\n",
              "      <td>0.657661</td>\n",
              "      <td>0.285898</td>\n",
              "      <td>0.614414</td>\n",
              "      <td>0.222700</td>\n",
              "      <td>495.000000</td>\n",
              "      <td>0</td>\n",
              "    </tr>\n",
              "    <tr>\n",
              "      <th>2</th>\n",
              "      <td>15750.000000</td>\n",
              "      <td>4477.500000</td>\n",
              "      <td>12.000000</td>\n",
              "      <td>0</td>\n",
              "      <td>2.0</td>\n",
              "      <td>0.501213</td>\n",
              "      <td>0.695423</td>\n",
              "      <td>0.513171</td>\n",
              "      <td>0.117428</td>\n",
              "      <td>1212.000000</td>\n",
              "      <td>0</td>\n",
              "    </tr>\n",
              "    <tr>\n",
              "      <th>3</th>\n",
              "      <td>9000.000000</td>\n",
              "      <td>1309.050000</td>\n",
              "      <td>12.157324</td>\n",
              "      <td>0</td>\n",
              "      <td>3.0</td>\n",
              "      <td>0.501213</td>\n",
              "      <td>0.155973</td>\n",
              "      <td>0.513171</td>\n",
              "      <td>0.117428</td>\n",
              "      <td>515.000000</td>\n",
              "      <td>0</td>\n",
              "    </tr>\n",
              "    <tr>\n",
              "      <th>4</th>\n",
              "      <td>7650.000000</td>\n",
              "      <td>1125.000000</td>\n",
              "      <td>12.157324</td>\n",
              "      <td>0</td>\n",
              "      <td>2.0</td>\n",
              "      <td>0.294328</td>\n",
              "      <td>0.152076</td>\n",
              "      <td>0.513171</td>\n",
              "      <td>0.117428</td>\n",
              "      <td>162.000000</td>\n",
              "      <td>0</td>\n",
              "    </tr>\n",
              "    <tr>\n",
              "      <th>...</th>\n",
              "      <td>...</td>\n",
              "      <td>...</td>\n",
              "      <td>...</td>\n",
              "      <td>...</td>\n",
              "      <td>...</td>\n",
              "      <td>...</td>\n",
              "      <td>...</td>\n",
              "      <td>...</td>\n",
              "      <td>...</td>\n",
              "      <td>...</td>\n",
              "      <td>...</td>\n",
              "    </tr>\n",
              "    <tr>\n",
              "      <th>54020</th>\n",
              "      <td>16855.246324</td>\n",
              "      <td>675.000000</td>\n",
              "      <td>12.157324</td>\n",
              "      <td>1</td>\n",
              "      <td>2.0</td>\n",
              "      <td>0.501213</td>\n",
              "      <td>0.180635</td>\n",
              "      <td>0.513171</td>\n",
              "      <td>0.082500</td>\n",
              "      <td>0.000000</td>\n",
              "      <td>1</td>\n",
              "    </tr>\n",
              "    <tr>\n",
              "      <th>54021</th>\n",
              "      <td>11250.000000</td>\n",
              "      <td>675.000000</td>\n",
              "      <td>14.000000</td>\n",
              "      <td>0</td>\n",
              "      <td>3.0</td>\n",
              "      <td>0.409620</td>\n",
              "      <td>0.606002</td>\n",
              "      <td>0.513171</td>\n",
              "      <td>0.117428</td>\n",
              "      <td>466.000000</td>\n",
              "      <td>1</td>\n",
              "    </tr>\n",
              "    <tr>\n",
              "      <th>54022</th>\n",
              "      <td>13500.000000</td>\n",
              "      <td>900.000000</td>\n",
              "      <td>64.000000</td>\n",
              "      <td>0</td>\n",
              "      <td>2.0</td>\n",
              "      <td>0.162632</td>\n",
              "      <td>0.525412</td>\n",
              "      <td>0.513171</td>\n",
              "      <td>0.117428</td>\n",
              "      <td>962.106056</td>\n",
              "      <td>1</td>\n",
              "    </tr>\n",
              "    <tr>\n",
              "      <th>54023</th>\n",
              "      <td>11250.000000</td>\n",
              "      <td>2371.500000</td>\n",
              "      <td>12.157324</td>\n",
              "      <td>0</td>\n",
              "      <td>3.0</td>\n",
              "      <td>0.501213</td>\n",
              "      <td>0.664027</td>\n",
              "      <td>0.513171</td>\n",
              "      <td>0.117428</td>\n",
              "      <td>482.000000</td>\n",
              "      <td>1</td>\n",
              "    </tr>\n",
              "    <tr>\n",
              "      <th>54024</th>\n",
              "      <td>21060.000000</td>\n",
              "      <td>2459.250000</td>\n",
              "      <td>12.157324</td>\n",
              "      <td>0</td>\n",
              "      <td>2.0</td>\n",
              "      <td>0.339656</td>\n",
              "      <td>0.656468</td>\n",
              "      <td>0.513171</td>\n",
              "      <td>0.117428</td>\n",
              "      <td>0.000000</td>\n",
              "      <td>1</td>\n",
              "    </tr>\n",
              "  </tbody>\n",
              "</table>\n",
              "<p>54025 rows × 11 columns</p>\n",
              "</div>\n",
              "    <div class=\"colab-df-buttons\">\n",
              "\n",
              "  <div class=\"colab-df-container\">\n",
              "    <button class=\"colab-df-convert\" onclick=\"convertToInteractive('df-0a58f6f8-4761-40f2-9834-c67b20a90545')\"\n",
              "            title=\"Convert this dataframe to an interactive table.\"\n",
              "            style=\"display:none;\">\n",
              "\n",
              "  <svg xmlns=\"http://www.w3.org/2000/svg\" height=\"24px\" viewBox=\"0 -960 960 960\">\n",
              "    <path d=\"M120-120v-720h720v720H120Zm60-500h600v-160H180v160Zm220 220h160v-160H400v160Zm0 220h160v-160H400v160ZM180-400h160v-160H180v160Zm440 0h160v-160H620v160ZM180-180h160v-160H180v160Zm440 0h160v-160H620v160Z\"/>\n",
              "  </svg>\n",
              "    </button>\n",
              "\n",
              "  <style>\n",
              "    .colab-df-container {\n",
              "      display:flex;\n",
              "      gap: 12px;\n",
              "    }\n",
              "\n",
              "    .colab-df-convert {\n",
              "      background-color: #E8F0FE;\n",
              "      border: none;\n",
              "      border-radius: 50%;\n",
              "      cursor: pointer;\n",
              "      display: none;\n",
              "      fill: #1967D2;\n",
              "      height: 32px;\n",
              "      padding: 0 0 0 0;\n",
              "      width: 32px;\n",
              "    }\n",
              "\n",
              "    .colab-df-convert:hover {\n",
              "      background-color: #E2EBFA;\n",
              "      box-shadow: 0px 1px 2px rgba(60, 64, 67, 0.3), 0px 1px 3px 1px rgba(60, 64, 67, 0.15);\n",
              "      fill: #174EA6;\n",
              "    }\n",
              "\n",
              "    .colab-df-buttons div {\n",
              "      margin-bottom: 4px;\n",
              "    }\n",
              "\n",
              "    [theme=dark] .colab-df-convert {\n",
              "      background-color: #3B4455;\n",
              "      fill: #D2E3FC;\n",
              "    }\n",
              "\n",
              "    [theme=dark] .colab-df-convert:hover {\n",
              "      background-color: #434B5C;\n",
              "      box-shadow: 0px 1px 3px 1px rgba(0, 0, 0, 0.15);\n",
              "      filter: drop-shadow(0px 1px 2px rgba(0, 0, 0, 0.3));\n",
              "      fill: #FFFFFF;\n",
              "    }\n",
              "  </style>\n",
              "\n",
              "    <script>\n",
              "      const buttonEl =\n",
              "        document.querySelector('#df-0a58f6f8-4761-40f2-9834-c67b20a90545 button.colab-df-convert');\n",
              "      buttonEl.style.display =\n",
              "        google.colab.kernel.accessAllowed ? 'block' : 'none';\n",
              "\n",
              "      async function convertToInteractive(key) {\n",
              "        const element = document.querySelector('#df-0a58f6f8-4761-40f2-9834-c67b20a90545');\n",
              "        const dataTable =\n",
              "          await google.colab.kernel.invokeFunction('convertToInteractive',\n",
              "                                                    [key], {});\n",
              "        if (!dataTable) return;\n",
              "\n",
              "        const docLinkHtml = 'Like what you see? Visit the ' +\n",
              "          '<a target=\"_blank\" href=https://colab.research.google.com/notebooks/data_table.ipynb>data table notebook</a>'\n",
              "          + ' to learn more about interactive tables.';\n",
              "        element.innerHTML = '';\n",
              "        dataTable['output_type'] = 'display_data';\n",
              "        await google.colab.output.renderOutput(dataTable, element);\n",
              "        const docLink = document.createElement('div');\n",
              "        docLink.innerHTML = docLinkHtml;\n",
              "        element.appendChild(docLink);\n",
              "      }\n",
              "    </script>\n",
              "  </div>\n",
              "\n",
              "\n",
              "    <div id=\"df-80cc004a-b010-4266-a953-14f41b12af9a\">\n",
              "      <button class=\"colab-df-quickchart\" onclick=\"quickchart('df-80cc004a-b010-4266-a953-14f41b12af9a')\"\n",
              "                title=\"Suggest charts\"\n",
              "                style=\"display:none;\">\n",
              "\n",
              "<svg xmlns=\"http://www.w3.org/2000/svg\" height=\"24px\"viewBox=\"0 0 24 24\"\n",
              "     width=\"24px\">\n",
              "    <g>\n",
              "        <path d=\"M19 3H5c-1.1 0-2 .9-2 2v14c0 1.1.9 2 2 2h14c1.1 0 2-.9 2-2V5c0-1.1-.9-2-2-2zM9 17H7v-7h2v7zm4 0h-2V7h2v10zm4 0h-2v-4h2v4z\"/>\n",
              "    </g>\n",
              "</svg>\n",
              "      </button>\n",
              "\n",
              "<style>\n",
              "  .colab-df-quickchart {\n",
              "      --bg-color: #E8F0FE;\n",
              "      --fill-color: #1967D2;\n",
              "      --hover-bg-color: #E2EBFA;\n",
              "      --hover-fill-color: #174EA6;\n",
              "      --disabled-fill-color: #AAA;\n",
              "      --disabled-bg-color: #DDD;\n",
              "  }\n",
              "\n",
              "  [theme=dark] .colab-df-quickchart {\n",
              "      --bg-color: #3B4455;\n",
              "      --fill-color: #D2E3FC;\n",
              "      --hover-bg-color: #434B5C;\n",
              "      --hover-fill-color: #FFFFFF;\n",
              "      --disabled-bg-color: #3B4455;\n",
              "      --disabled-fill-color: #666;\n",
              "  }\n",
              "\n",
              "  .colab-df-quickchart {\n",
              "    background-color: var(--bg-color);\n",
              "    border: none;\n",
              "    border-radius: 50%;\n",
              "    cursor: pointer;\n",
              "    display: none;\n",
              "    fill: var(--fill-color);\n",
              "    height: 32px;\n",
              "    padding: 0;\n",
              "    width: 32px;\n",
              "  }\n",
              "\n",
              "  .colab-df-quickchart:hover {\n",
              "    background-color: var(--hover-bg-color);\n",
              "    box-shadow: 0 1px 2px rgba(60, 64, 67, 0.3), 0 1px 3px 1px rgba(60, 64, 67, 0.15);\n",
              "    fill: var(--button-hover-fill-color);\n",
              "  }\n",
              "\n",
              "  .colab-df-quickchart-complete:disabled,\n",
              "  .colab-df-quickchart-complete:disabled:hover {\n",
              "    background-color: var(--disabled-bg-color);\n",
              "    fill: var(--disabled-fill-color);\n",
              "    box-shadow: none;\n",
              "  }\n",
              "\n",
              "  .colab-df-spinner {\n",
              "    border: 2px solid var(--fill-color);\n",
              "    border-color: transparent;\n",
              "    border-bottom-color: var(--fill-color);\n",
              "    animation:\n",
              "      spin 1s steps(1) infinite;\n",
              "  }\n",
              "\n",
              "  @keyframes spin {\n",
              "    0% {\n",
              "      border-color: transparent;\n",
              "      border-bottom-color: var(--fill-color);\n",
              "      border-left-color: var(--fill-color);\n",
              "    }\n",
              "    20% {\n",
              "      border-color: transparent;\n",
              "      border-left-color: var(--fill-color);\n",
              "      border-top-color: var(--fill-color);\n",
              "    }\n",
              "    30% {\n",
              "      border-color: transparent;\n",
              "      border-left-color: var(--fill-color);\n",
              "      border-top-color: var(--fill-color);\n",
              "      border-right-color: var(--fill-color);\n",
              "    }\n",
              "    40% {\n",
              "      border-color: transparent;\n",
              "      border-right-color: var(--fill-color);\n",
              "      border-top-color: var(--fill-color);\n",
              "    }\n",
              "    60% {\n",
              "      border-color: transparent;\n",
              "      border-right-color: var(--fill-color);\n",
              "    }\n",
              "    80% {\n",
              "      border-color: transparent;\n",
              "      border-right-color: var(--fill-color);\n",
              "      border-bottom-color: var(--fill-color);\n",
              "    }\n",
              "    90% {\n",
              "      border-color: transparent;\n",
              "      border-bottom-color: var(--fill-color);\n",
              "    }\n",
              "  }\n",
              "</style>\n",
              "\n",
              "      <script>\n",
              "        async function quickchart(key) {\n",
              "          const quickchartButtonEl =\n",
              "            document.querySelector('#' + key + ' button');\n",
              "          quickchartButtonEl.disabled = true;  // To prevent multiple clicks.\n",
              "          quickchartButtonEl.classList.add('colab-df-spinner');\n",
              "          try {\n",
              "            const charts = await google.colab.kernel.invokeFunction(\n",
              "                'suggestCharts', [key], {});\n",
              "          } catch (error) {\n",
              "            console.error('Error during call to suggestCharts:', error);\n",
              "          }\n",
              "          quickchartButtonEl.classList.remove('colab-df-spinner');\n",
              "          quickchartButtonEl.classList.add('colab-df-quickchart-complete');\n",
              "        }\n",
              "        (() => {\n",
              "          let quickchartButtonEl =\n",
              "            document.querySelector('#df-80cc004a-b010-4266-a953-14f41b12af9a button');\n",
              "          quickchartButtonEl.style.display =\n",
              "            google.colab.kernel.accessAllowed ? 'block' : 'none';\n",
              "        })();\n",
              "      </script>\n",
              "    </div>\n",
              "\n",
              "  <div id=\"id_c77bddcc-5537-4d78-9871-dedf3ba9de14\">\n",
              "    <style>\n",
              "      .colab-df-generate {\n",
              "        background-color: #E8F0FE;\n",
              "        border: none;\n",
              "        border-radius: 50%;\n",
              "        cursor: pointer;\n",
              "        display: none;\n",
              "        fill: #1967D2;\n",
              "        height: 32px;\n",
              "        padding: 0 0 0 0;\n",
              "        width: 32px;\n",
              "      }\n",
              "\n",
              "      .colab-df-generate:hover {\n",
              "        background-color: #E2EBFA;\n",
              "        box-shadow: 0px 1px 2px rgba(60, 64, 67, 0.3), 0px 1px 3px 1px rgba(60, 64, 67, 0.15);\n",
              "        fill: #174EA6;\n",
              "      }\n",
              "\n",
              "      [theme=dark] .colab-df-generate {\n",
              "        background-color: #3B4455;\n",
              "        fill: #D2E3FC;\n",
              "      }\n",
              "\n",
              "      [theme=dark] .colab-df-generate:hover {\n",
              "        background-color: #434B5C;\n",
              "        box-shadow: 0px 1px 3px 1px rgba(0, 0, 0, 0.15);\n",
              "        filter: drop-shadow(0px 1px 2px rgba(0, 0, 0, 0.3));\n",
              "        fill: #FFFFFF;\n",
              "      }\n",
              "    </style>\n",
              "    <button class=\"colab-df-generate\" onclick=\"generateWithVariable('dados')\"\n",
              "            title=\"Generate code using this dataframe.\"\n",
              "            style=\"display:none;\">\n",
              "\n",
              "  <svg xmlns=\"http://www.w3.org/2000/svg\" height=\"24px\"viewBox=\"0 0 24 24\"\n",
              "       width=\"24px\">\n",
              "    <path d=\"M7,19H8.4L18.45,9,17,7.55,7,17.6ZM5,21V16.75L18.45,3.32a2,2,0,0,1,2.83,0l1.4,1.43a1.91,1.91,0,0,1,.58,1.4,1.91,1.91,0,0,1-.58,1.4L9.25,21ZM18.45,9,17,7.55Zm-12,3A5.31,5.31,0,0,0,4.9,8.1,5.31,5.31,0,0,0,1,6.5,5.31,5.31,0,0,0,4.9,4.9,5.31,5.31,0,0,0,6.5,1,5.31,5.31,0,0,0,8.1,4.9,5.31,5.31,0,0,0,12,6.5,5.46,5.46,0,0,0,6.5,12Z\"/>\n",
              "  </svg>\n",
              "    </button>\n",
              "    <script>\n",
              "      (() => {\n",
              "      const buttonEl =\n",
              "        document.querySelector('#id_c77bddcc-5537-4d78-9871-dedf3ba9de14 button.colab-df-generate');\n",
              "      buttonEl.style.display =\n",
              "        google.colab.kernel.accessAllowed ? 'block' : 'none';\n",
              "\n",
              "      buttonEl.onclick = () => {\n",
              "        google.colab.notebook.generateWithVariable('dados');\n",
              "      }\n",
              "      })();\n",
              "    </script>\n",
              "  </div>\n",
              "\n",
              "    </div>\n",
              "  </div>\n"
            ],
            "application/vnd.google.colaboratory.intrinsic+json": {
              "type": "dataframe",
              "variable_name": "dados",
              "summary": "{\n  \"name\": \"dados\",\n  \"rows\": 54025,\n  \"fields\": [\n    {\n      \"column\": \"receita_cliente\",\n      \"properties\": {\n        \"dtype\": \"number\",\n        \"std\": 9658.762569130264,\n        \"min\": 2700.0,\n        \"max\": 450000.0,\n        \"num_unique_values\": 663,\n        \"samples\": [\n          11018.7,\n          38520.0,\n          17796.6\n        ],\n        \"semantic_type\": \"\",\n        \"description\": \"\"\n      }\n    },\n    {\n      \"column\": \"anuidade_emprestimo\",\n      \"properties\": {\n        \"dtype\": \"number\",\n        \"std\": 1305.3647344874787,\n        \"min\": 218.7,\n        \"max\": 22500.0,\n        \"num_unique_values\": 8004,\n        \"samples\": [\n          5339.7,\n          5067.0,\n          5757.3\n        ],\n        \"semantic_type\": \"\",\n        \"description\": \"\"\n      }\n    },\n    {\n      \"column\": \"anos_casa_propria\",\n      \"properties\": {\n        \"dtype\": \"number\",\n        \"std\": 7.452120104984191,\n        \"min\": 0.0,\n        \"max\": 69.0,\n        \"num_unique_values\": 53,\n        \"samples\": [\n          11.0,\n          31.0,\n          32.0\n        ],\n        \"semantic_type\": \"\",\n        \"description\": \"\"\n      }\n    },\n    {\n      \"column\": \"telefone_trab\",\n      \"properties\": {\n        \"dtype\": \"number\",\n        \"std\": 0,\n        \"min\": 0,\n        \"max\": 1,\n        \"num_unique_values\": 2,\n        \"samples\": [\n          0,\n          1\n        ],\n        \"semantic_type\": \"\",\n        \"description\": \"\"\n      }\n    },\n    {\n      \"column\": \"avaliacao_cidade\",\n      \"properties\": {\n        \"dtype\": \"number\",\n        \"std\": 0.49880682251877845,\n        \"min\": 1.0,\n        \"max\": 3.0,\n        \"num_unique_values\": 4,\n        \"samples\": [\n          3.0,\n          2.030038427084816\n        ],\n        \"semantic_type\": \"\",\n        \"description\": \"\"\n      }\n    },\n    {\n      \"column\": \"score_1\",\n      \"properties\": {\n        \"dtype\": \"number\",\n        \"std\": 0.14238945649917853,\n        \"min\": 0.014568132,\n        \"max\": 0.942680454,\n        \"num_unique_values\": 23062,\n        \"samples\": [\n          0.475611877,\n          0.435226091\n        ],\n        \"semantic_type\": \"\",\n        \"description\": \"\"\n      }\n    },\n    {\n      \"column\": \"score_2\",\n      \"properties\": {\n        \"dtype\": \"number\",\n        \"std\": 0.8759454878096079,\n        \"min\": 5e-06,\n        \"max\": 100.0,\n        \"num_unique_values\": 38047,\n        \"samples\": [\n          0.416306086,\n          0.675062411\n        ],\n        \"semantic_type\": \"\",\n        \"description\": \"\"\n      }\n    },\n    {\n      \"column\": \"score_3\",\n      \"properties\": {\n        \"dtype\": \"number\",\n        \"std\": 0.06272486372343226,\n        \"min\": 0.000527265,\n        \"max\": 0.869210801,\n        \"num_unique_values\": 612,\n        \"samples\": [\n          0.420610964,\n          0.168416171\n        ],\n        \"semantic_type\": \"\",\n        \"description\": \"\"\n      }\n    },\n    {\n      \"column\": \"score_social\",\n      \"properties\": {\n        \"dtype\": \"number\",\n        \"std\": 0.0761796573204536,\n        \"min\": 0.0,\n        \"max\": 1.0,\n        \"num_unique_values\": 1459,\n        \"samples\": [\n          0.1674,\n          0.6381\n        ],\n        \"semantic_type\": \"\",\n        \"description\": \"\"\n      }\n    },\n    {\n      \"column\": \"troca_telefone\",\n      \"properties\": {\n        \"dtype\": \"number\",\n        \"std\": 818.1417090553241,\n        \"min\": 0.0,\n        \"max\": 4185.0,\n        \"num_unique_values\": 3408,\n        \"samples\": [\n          966.0,\n          3099.0\n        ],\n        \"semantic_type\": \"\",\n        \"description\": \"\"\n      }\n    },\n    {\n      \"column\": \"inadimplente\",\n      \"properties\": {\n        \"dtype\": \"number\",\n        \"std\": 0,\n        \"min\": 0,\n        \"max\": 1,\n        \"num_unique_values\": 2,\n        \"samples\": [\n          1,\n          0\n        ],\n        \"semantic_type\": \"\",\n        \"description\": \"\"\n      }\n    }\n  ]\n}"
            }
          },
          "metadata": {},
          "execution_count": 4
        }
      ]
    },
    {
      "cell_type": "markdown",
      "source": [
        "Na próxima célula, vamos explorar esses dados para identificar quais tipos de informação temos nesse arquivo. Então, escrevemos dados na próxima célula e executamos o código.\n",
        "\n",
        "Depois de executar o código, obtemos uma tabela com diversas informações a respeito dos clientes. Essas informações são históricas, ou seja, informações passadas a respeito desses clientes.\n",
        "\n",
        "Temos as colunas de receita do cliente, anuidade do empréstimo, os anos de casa proprietário e assim por diante. A última coluna dessa base de dados é a coluna \"inadimplente\" que informa se o cliente pagou o empréstimo ou não.\n",
        "\n",
        "O valor 0 indica que o cliente pagou o empréstimo no tempo devido. E o valor 1 significa que o cliente é inadimplente, ou seja, não pagou o empréstimo do veículo.\n",
        "\n",
        "Todas as informações que temos a respeito desses clientes estão em formato numérico. Isso é muito importante para os algoritmos de inteligência artificial porque eles só conseguem compreender informações numéricas. Além disso, essa base de dados já veio totalmente tratada, então não precisaremos fazer nenhum tratamento nessa base de dados.\n",
        "\n",
        "Tudo que precisamos fazer aqui é executar um algoritmo que selecionaremos, que será o de árvore de decisão.\n",
        "\n",
        "Mas antes de fazermos isso, vamos separar as variáveis, as colunas das variáveis explicativas, ou seja, são as informações que explicam o padrão dos dados, e a variável \"inadimplente\". Então, vamos colocar essa variável separada das demais, que é a variável alvo. É a classe que estamos querendo identificar, que nós queremos classificar com nosso algoritmo de inteligência artificial.\n",
        "\n",
        "Na próxima célula, primeiramente faremos essa divisão das variáveis explicativas e da variável alvo. Vamos chamar as variáveis explicativas de \"X\", escreveremos:\n",
        "\n",
        "As variáveis explicativas serão todas as colunas da base de dados, com exceção da coluna \"inadimplente\". Assim, vamos utilizar o método drop() para remover essa coluna \"inadimplente\".\n",
        "\n",
        "Então, como parâmetro da função 'drop', vamos passar 'Inadimplente', entre aspas. Além disso, como segundo parâmetro, axis = 1, para identificar que essa remoção está ocorrendo nas colunas da base de dados.\n",
        "\n",
        "Na mesma célula, vamos separar também a variável alvo, que chamaremos de \"Y\". Então, escreveremos Y = dados[‘inadimplente’]. Estamos selecionando justamente a coluna 'Inadimplente'. Agora podemos executar essa célula com \"Ctrl + Enter\". Desta forma, os dados serão divididos, separados entre variável alvo e variáveis explicativas."
      ],
      "metadata": {
        "id": "9qKe8XgjmySN"
      }
    },
    {
      "cell_type": "code",
      "source": [
        "x = dados.drop('inadimplente', axis = 1)\n",
        "y = dados ['inadimplente']"
      ],
      "metadata": {
        "id": "NKbv-w-3leuU"
      },
      "execution_count": 6,
      "outputs": []
    },
    {
      "cell_type": "markdown",
      "source": [
        "### Árvore de decisão\n",
        "\n",
        "Agora, iremos utilizar o algoritmo de Árvores de Decisão, que toma decisões baseadas no padrão dos dados para classificar os clientes entre adimplente e inadimplente.\n",
        "\n",
        "Para isso, primeiramente, é necessário fazer a importação do método, da função capaz de executar esse algoritmo. Esse algoritmo está disponibilizado na biblioteca scikit-learn, que já vem instalada no Google Colab.\n",
        "\n",
        "Na próxima célula, escreveremos from sklearn.tree import DecisionTreeClassifier. A palavra \"tree\" refere-se ao módulo dos algoritmos baseados em árvore, que é a árvore de decisão que usaremos. Aqui as letras \"D\", \"T\" e \"C\" estão em caixa alta, e \"Classifier\" aqui indica que é um algoritmo do tipo classificação.\n",
        "\n",
        "Estamos usando um algoritmo deste tipo porque estamos classificando nossos dados entre duas categorias, a categoria 0 e a categoria 1, que representam os adimplentes e os inadimplentes.\n",
        "\n"
      ],
      "metadata": {
        "id": "E6-JRHmbnA1A"
      }
    },
    {
      "cell_type": "code",
      "source": [
        "from sklearn.tree import DecisionTreeClassifier"
      ],
      "metadata": {
        "id": "FTipCyhPmQX2"
      },
      "execution_count": 7,
      "outputs": []
    },
    {
      "cell_type": "markdown",
      "source": [
        "Ao executar essa célula, já importamos o algoritmo. Agora, vamos ajustar esse algoritmo em um modelo.\n",
        "\n",
        "Vamos ajustar o modelo a esses dados de x e y que temos aqui.\n",
        "\n",
        "Na próxima célula, escreveremos modelo e vamos inicializar esse modelo. Vamos armazenar em uma variável, escrevendo modelo = DecisionTreeClassifier().\n",
        "\n",
        "Na mesma célula, vamos finalizar o ajuste usando esse algoritmo para moldar nossos dados. Para isso, usaremos o método fit() a partir do modelo. Então, escreveremos modelo.fit(x, y). A partir da aplicação do método fit(), a variável modelo vai armazenar o padrão daqueles dados e vai conseguir classificar dados novos.\n",
        "\n",
        "Posteriormente, conseguiremos avaliar quão bem esse modelo está apresentando resultados em fazer essa classificação.\n",
        "\n",
        "Podemos utilizar o método score() para fazer essa avaliação. Portanto, na mesma célula, escreveremos modelo.score(x, y). A partir das variáveis explicativas armazenadas em x, o modelo fará a classificação desses dados da variável x, obterá o resultado da classificação e comparará o resultado com os dados armazenados na variável y.\n",
        "\n",
        "A partir dessas comparações, obtemos uma taxa de acerto. Vamos agora executar essa célula, para identificar o quão preciso foi o nosso modelo."
      ],
      "metadata": {
        "id": "VCB0y3VEnQgi"
      }
    },
    {
      "cell_type": "code",
      "source": [
        "modelo = DecisionTreeClassifier()\n",
        "modelo.fit(x, y)\n",
        "modelo.score(x, y)"
      ],
      "metadata": {
        "id": "_lzOsMZamTZr",
        "outputId": "ce3eda6a-4fb4-4d9a-bbf1-03ba61fe8cf7",
        "colab": {
          "base_uri": "https://localhost:8080/"
        }
      },
      "execution_count": 8,
      "outputs": [
        {
          "output_type": "execute_result",
          "data": {
            "text/plain": [
              "1.0"
            ]
          },
          "metadata": {},
          "execution_count": 8
        }
      ]
    },
    {
      "cell_type": "markdown",
      "source": [
        "Obtivemos um resultado de 1.0. Esse \"1.0\" representa uma métrica conhecida como acurácia, que é a taxa de acerto geral do modelo. Essa métrica é a resultante da comparação da classificação feita com base nas variáveis explicativas, comparando o resultado com os dados reais armazenados na variável y. Fazendo essa comparação, obtivemos um resultado de 1.0, que em porcentagem é 100%. Isso significa que o nosso modelo não cometeu erros de classificação.\n",
        "\n",
        "Para documentarmos esse resultado, vamos inserir na próxima célula um print com essa informação. Portanto, escreva:"
      ],
      "metadata": {
        "id": "DqqHIk3MnVQn"
      }
    },
    {
      "cell_type": "code",
      "source": [
        "print(f'Acurácia: {modelo.score(x, y)}')"
      ],
      "metadata": {
        "id": "D1j60eFOeY4-",
        "outputId": "c6cf631d-7ab1-4df1-e8ac-da19038a4d91",
        "colab": {
          "base_uri": "https://localhost:8080/"
        }
      },
      "execution_count": 9,
      "outputs": [
        {
          "output_type": "stream",
          "name": "stdout",
          "text": [
            "Acurácia: 1.0\n"
          ]
        }
      ]
    },
    {
      "cell_type": "markdown",
      "source": [
        "Ao executar essa célula, obtemos a informação de acurácia de 1.0. Isso significa que esse modelo não está errando em nenhum momento na classificação dos dados. Seria excelente, pois queremos um modelo que classifique de forma correta os dados de clientes inadimplentes e adimplentes.\n",
        "\n",
        "Porém, veremos no próximo vídeo que este resultado é enganoso. Estamos utilizando a acurácia somente na avaliação dos dados de treinamento, isto é, os dados que foram usados para ensinar o modelo a identificar os padrões.\n",
        "\n",
        "Os dados usados para avaliar o desempenho do modelo deveriam ser diferentes dos dados usados para treinamento. Se isso não ocorrer, pode-se cometer um erro em avaliar se o modelo está realmente entendendo o padrão dos dados ou se está apenas memorizando o resultado. No próximo vídeo, explicaremos como fazer essa separação corretamente."
      ],
      "metadata": {
        "id": "QzXCFjypnZEz"
      }
    },
    {
      "cell_type": "markdown",
      "source": [
        "## Validando o modelo"
      ],
      "metadata": {
        "id": "F5l1z5F5hUIU"
      }
    },
    {
      "cell_type": "markdown",
      "source": [
        "Com o objetivo de identificar clientes inadimplentes para uma empresa de empréstimos de automóveis, criamos um modelo de classificação utilizando os dados fornecidos por essa empresa. Obtivemos um resultado de acerto, conhecido como acurácia, de 100%, indicando que o modelo está acertando todas as classificações que realizou.\n",
        "\n",
        "No entanto, a validação do nosso modelo foi feita de forma pouco efetiva. Utilizamos os mesmos dados usados para o treinamento do modelo para fazer a avaliação.\n",
        "\n",
        "Isso equivale a entregar uma prova com gabarito para uma pessoa resolver, nessa prova, com o gabarito a pessoa já terá as respostas de todas as perguntas. Dessa forma, se quisermos que essa pessoa entenda o conteúdo da prova, ela poderia simplesmente memorizar o resultado com o gabarito e aplicar numa nova prova. E é exatamente isso que estamos fazendo. Estamos dando a essa pessoa a mesma prova novamente, com as mesmas questões e, consequentemente, com as mesmas respostas.\n",
        "\n",
        "Portanto, é natural que essa pessoa acerte tudo, não porque ela entendeu a matéria, de fato, mas porque memorizou o resultado. Isso não significa que o modelo que construímos memorizou o resultado. Ainda não sabemos se isso aconteceu. No entanto, como aplicamos a mesma prova, ou seja, utilizamos os mesmos dados, não sabemos se é isso que está de fato ocorrendo.\n",
        "\n",
        "Então, precisamos fazer uma validação de forma mais coerente. Precisamos passar novos dados para o modelo fazer a classificação. E nesses dados, já conheceremos a resposta, e poderemos comparar a resposta que o modelo deu para esses dados com as respostas reais e verificar se, de fato, está acertando. Dessa maneira, entenderemos se o modelo está aprendendo, ou seja, se está generalizando para novos dados ou não.\n",
        "\n",
        "Para realizar essa tarefa de validação, podemos dividir nossos dados em duas partes: uma parte de treinamento e uma parte de validação. Ainda podemos utilizar outra estratégia, em vez de dividir nossos dados em apenas duas partes, vamos dividi-los em três: treinamento, validação e teste.\n",
        "\n",
        "Qual a diferença de utilizar essas duas estratégias?\n",
        "\n",
        "Na primeira, onde temos apenas treino e teste, vamos treinar o modelo na base de dados de treinamento e avaliar na base de dados de teste, que são dados que não foram usados no treinamento, sendo assim, verificaremos se o modelo está fazendo a generalização.\n",
        "\n",
        "Na segunda estratégia, que separa entre treino, validação e teste, deixamos uma parte de teste separada durante todo o projeto e fazemos a validação do modelo no conjunto de dados de validação.\n",
        "\n",
        "Assim, treinamos o modelo, fazemos a validação daquele modelo num conjunto de validação e deixamos separado um conjunto de teste até o final do projeto.\n",
        "\n",
        "Por que fazer isso?\n",
        "\n",
        "Ao longo do projeto, comparamos diversos modelos e aprimoramos o nosso modelo conforme os dados de validação. No entanto, para não carregar um viés para esse modelo, ou seja, estamos sempre melhorando aquele modelo com base em determinados dados. E se formos avaliar o modelo numa base de dados do mundo real, não saberemos como será o comportamento dele, porque sempre utilizamos um determinado padrão de dados para melhorá-lo.\n",
        "\n",
        "Portanto, quando fazemos a separação de dados de teste, conseguimos, na escolha do melhor modelo durante o projeto, realizar essa última checagem para ver o desempenho do modelo em dados do mundo real, que ele nunca viu no processo de melhoria do modelo.\n",
        "\n",
        "Desta forma, é isso que faremos.\n",
        "\n",
        "Vamos dividir nossos dados em três partes: treinamento, validação e teste.\n",
        "\n",
        "Para isso, utilizaremos uma função da biblioteca scikit-learn chamada train_test_split.\n",
        "\n",
        "Porém, esta função permite somente a separação dos dados em treino e teste. Então, primeiramente faremos uma divisão que inclui treino e validação juntos, e teste separado. Em seguida, iremos subdividir os dados de treino e validação em duas partes.\n",
        "\n",
        "Primeiramente, precisamos importar a função train_test_split. Então, escreva:"
      ],
      "metadata": {
        "id": "lp-ZtaXBf5Vd"
      }
    },
    {
      "cell_type": "code",
      "source": [
        "from sklearn.model_selection import train_test_split"
      ],
      "metadata": {
        "id": "IJs6tyWDf8bJ"
      },
      "execution_count": 10,
      "outputs": []
    },
    {
      "cell_type": "markdown",
      "source": [
        "Depois de importada a função, podemos fazer a primeira separação. Vamos fazer a separação de treino e validação em um mesmo conjunto de dados, que será chamado de x. Esse conjunto substituirá o valor x existente. A outra parte será os dados de teste.\n",
        "\n",
        "Portanto, vamos criar variáveis chamadas de x_test e y_test, que vão armazenar esses dados. Para separá-los, podemos escrever o seguinte:"
      ],
      "metadata": {
        "id": "-h2yTxDqf_h4"
      }
    },
    {
      "cell_type": "code",
      "source": [
        "x, x_teste, y, y_teste = train_test_split(x, y, test_size = 0.15, stratify = y, random_state = 5)"
      ],
      "metadata": {
        "id": "y6Di2VrXgC2s"
      },
      "execution_count": 11,
      "outputs": []
    },
    {
      "cell_type": "markdown",
      "source": [
        "Neste fragmento de código, passamos para a função train_test_split a base de dados com os valores de x, que são as variáveis explicativas, e a variável alvo y. Definimos também que 15% dos nossos dados (ou seja, test_size = 0.15) serão usados para teste.\n",
        "\n",
        "Além disso, usamos o parâmetro stratify para estratificar os nossos dados. Isso significa que manteremos as proporções de pessoas inadimplentes e adimplentes nesses dois conjuntos de dados.\n",
        "\n",
        "Assim, mantemos a mesma proporção para que tanto nos dados de teste quanto nos dados de treino estejam representadas as mesmas proporções de dados.\n",
        "\n",
        "Por fim, definimos o parâmetro random_state como 5. Isso porque a divisão feita por train_test_split é realizada de forma aleatória. Com random_state = 5, mesmo sendo uma escolha aleatória, você obterá o mesmo resultado obtido aqui.\n",
        "\n",
        "Agora, podemos fazer a subdivisão dos dados de treino e validação. Vamos utilizar a mesma função train_test_split, mas desta vez iremos usar os dados armazenados em x e y. Lembrando que esses não são os mesmos dados iniciais, pois substituímos o dado x e y por essas novas variáveis, ou seja, somente essa parte de treino e validação está sendo separada aqui agora entre treino e validação."
      ],
      "metadata": {
        "id": "ae9RWQ_8gFyK"
      }
    },
    {
      "cell_type": "code",
      "source": [
        "x_treino, x_val, y_treino, y_val = train_test_split(x, y, stratify = y, random_state = 5)"
      ],
      "metadata": {
        "id": "hdhESYMkgJgY"
      },
      "execution_count": 12,
      "outputs": []
    },
    {
      "cell_type": "markdown",
      "source": [
        "Vamos abrir essa célula e passar o parâmetro stratify igual a y e o random_state igual a 5, isso para manter a proporção dos dados e garantir que o resultado que estamos construindo aqui seja o mesmo que você obterá nas vezes em que executar esse código."
      ],
      "metadata": {
        "id": "KYD20PWPgNpT"
      }
    },
    {
      "cell_type": "code",
      "source": [
        "x, x_teste, y, y_teste = train_test_split(x, y, test_size = 0.15, stratify = y, random_state = 5)\n",
        "x_treino, x_val, y_treino, y_val = train_test_split(x, y, stratify = y, random_state = 5)"
      ],
      "metadata": {
        "id": "8I6hxEymd2Hv"
      },
      "execution_count": 13,
      "outputs": []
    },
    {
      "cell_type": "markdown",
      "source": [
        "Vamos executar essa célula e fazer a divisão dos dados.\n",
        "\n",
        "Feita a divisão dos dados, vamos criar novamente o modelo. Desta vez, nós não avaliaremos o modelo nos mesmos dados que usamos para o treinamento. Vamos treinar e ajustar nosso modelo com os dados de treino e avaliar o resultado nos dados de validação. Os dados de teste (as variáveis x_test e y_teste) ficarão separados e não serão utilizados agora, guardaremos para um momento posterior do curso.\n",
        "\n",
        "Vamos iniciar nosso modelo escrevendo: modelo = DecisionTreeClassifier. Em seguida, ajustaremos nosso modelo escrevendo: modelo.fit, passando como parâmetros x_treino e y_treino. Dessa maneira, o modelo será ajustado, compreendendo o padrão dos dados apenas com base na sessão de treinamento."
      ],
      "metadata": {
        "id": "ZTbZJY3EgU2T"
      }
    },
    {
      "cell_type": "code",
      "source": [
        "modelo = DecisionTreeClassifier()\n",
        "modelo.fit(x_treino, y_treino)"
      ],
      "metadata": {
        "id": "jXJ2ed9SgZ_t",
        "outputId": "d8de3cfa-260f-431f-f2ef-5344a1983575",
        "colab": {
          "base_uri": "https://localhost:8080/",
          "height": 80
        }
      },
      "execution_count": 14,
      "outputs": [
        {
          "output_type": "execute_result",
          "data": {
            "text/plain": [
              "DecisionTreeClassifier()"
            ],
            "text/html": [
              "<style>#sk-container-id-1 {\n",
              "  /* Definition of color scheme common for light and dark mode */\n",
              "  --sklearn-color-text: #000;\n",
              "  --sklearn-color-text-muted: #666;\n",
              "  --sklearn-color-line: gray;\n",
              "  /* Definition of color scheme for unfitted estimators */\n",
              "  --sklearn-color-unfitted-level-0: #fff5e6;\n",
              "  --sklearn-color-unfitted-level-1: #f6e4d2;\n",
              "  --sklearn-color-unfitted-level-2: #ffe0b3;\n",
              "  --sklearn-color-unfitted-level-3: chocolate;\n",
              "  /* Definition of color scheme for fitted estimators */\n",
              "  --sklearn-color-fitted-level-0: #f0f8ff;\n",
              "  --sklearn-color-fitted-level-1: #d4ebff;\n",
              "  --sklearn-color-fitted-level-2: #b3dbfd;\n",
              "  --sklearn-color-fitted-level-3: cornflowerblue;\n",
              "\n",
              "  /* Specific color for light theme */\n",
              "  --sklearn-color-text-on-default-background: var(--sg-text-color, var(--theme-code-foreground, var(--jp-content-font-color1, black)));\n",
              "  --sklearn-color-background: var(--sg-background-color, var(--theme-background, var(--jp-layout-color0, white)));\n",
              "  --sklearn-color-border-box: var(--sg-text-color, var(--theme-code-foreground, var(--jp-content-font-color1, black)));\n",
              "  --sklearn-color-icon: #696969;\n",
              "\n",
              "  @media (prefers-color-scheme: dark) {\n",
              "    /* Redefinition of color scheme for dark theme */\n",
              "    --sklearn-color-text-on-default-background: var(--sg-text-color, var(--theme-code-foreground, var(--jp-content-font-color1, white)));\n",
              "    --sklearn-color-background: var(--sg-background-color, var(--theme-background, var(--jp-layout-color0, #111)));\n",
              "    --sklearn-color-border-box: var(--sg-text-color, var(--theme-code-foreground, var(--jp-content-font-color1, white)));\n",
              "    --sklearn-color-icon: #878787;\n",
              "  }\n",
              "}\n",
              "\n",
              "#sk-container-id-1 {\n",
              "  color: var(--sklearn-color-text);\n",
              "}\n",
              "\n",
              "#sk-container-id-1 pre {\n",
              "  padding: 0;\n",
              "}\n",
              "\n",
              "#sk-container-id-1 input.sk-hidden--visually {\n",
              "  border: 0;\n",
              "  clip: rect(1px 1px 1px 1px);\n",
              "  clip: rect(1px, 1px, 1px, 1px);\n",
              "  height: 1px;\n",
              "  margin: -1px;\n",
              "  overflow: hidden;\n",
              "  padding: 0;\n",
              "  position: absolute;\n",
              "  width: 1px;\n",
              "}\n",
              "\n",
              "#sk-container-id-1 div.sk-dashed-wrapped {\n",
              "  border: 1px dashed var(--sklearn-color-line);\n",
              "  margin: 0 0.4em 0.5em 0.4em;\n",
              "  box-sizing: border-box;\n",
              "  padding-bottom: 0.4em;\n",
              "  background-color: var(--sklearn-color-background);\n",
              "}\n",
              "\n",
              "#sk-container-id-1 div.sk-container {\n",
              "  /* jupyter's `normalize.less` sets `[hidden] { display: none; }`\n",
              "     but bootstrap.min.css set `[hidden] { display: none !important; }`\n",
              "     so we also need the `!important` here to be able to override the\n",
              "     default hidden behavior on the sphinx rendered scikit-learn.org.\n",
              "     See: https://github.com/scikit-learn/scikit-learn/issues/21755 */\n",
              "  display: inline-block !important;\n",
              "  position: relative;\n",
              "}\n",
              "\n",
              "#sk-container-id-1 div.sk-text-repr-fallback {\n",
              "  display: none;\n",
              "}\n",
              "\n",
              "div.sk-parallel-item,\n",
              "div.sk-serial,\n",
              "div.sk-item {\n",
              "  /* draw centered vertical line to link estimators */\n",
              "  background-image: linear-gradient(var(--sklearn-color-text-on-default-background), var(--sklearn-color-text-on-default-background));\n",
              "  background-size: 2px 100%;\n",
              "  background-repeat: no-repeat;\n",
              "  background-position: center center;\n",
              "}\n",
              "\n",
              "/* Parallel-specific style estimator block */\n",
              "\n",
              "#sk-container-id-1 div.sk-parallel-item::after {\n",
              "  content: \"\";\n",
              "  width: 100%;\n",
              "  border-bottom: 2px solid var(--sklearn-color-text-on-default-background);\n",
              "  flex-grow: 1;\n",
              "}\n",
              "\n",
              "#sk-container-id-1 div.sk-parallel {\n",
              "  display: flex;\n",
              "  align-items: stretch;\n",
              "  justify-content: center;\n",
              "  background-color: var(--sklearn-color-background);\n",
              "  position: relative;\n",
              "}\n",
              "\n",
              "#sk-container-id-1 div.sk-parallel-item {\n",
              "  display: flex;\n",
              "  flex-direction: column;\n",
              "}\n",
              "\n",
              "#sk-container-id-1 div.sk-parallel-item:first-child::after {\n",
              "  align-self: flex-end;\n",
              "  width: 50%;\n",
              "}\n",
              "\n",
              "#sk-container-id-1 div.sk-parallel-item:last-child::after {\n",
              "  align-self: flex-start;\n",
              "  width: 50%;\n",
              "}\n",
              "\n",
              "#sk-container-id-1 div.sk-parallel-item:only-child::after {\n",
              "  width: 0;\n",
              "}\n",
              "\n",
              "/* Serial-specific style estimator block */\n",
              "\n",
              "#sk-container-id-1 div.sk-serial {\n",
              "  display: flex;\n",
              "  flex-direction: column;\n",
              "  align-items: center;\n",
              "  background-color: var(--sklearn-color-background);\n",
              "  padding-right: 1em;\n",
              "  padding-left: 1em;\n",
              "}\n",
              "\n",
              "\n",
              "/* Toggleable style: style used for estimator/Pipeline/ColumnTransformer box that is\n",
              "clickable and can be expanded/collapsed.\n",
              "- Pipeline and ColumnTransformer use this feature and define the default style\n",
              "- Estimators will overwrite some part of the style using the `sk-estimator` class\n",
              "*/\n",
              "\n",
              "/* Pipeline and ColumnTransformer style (default) */\n",
              "\n",
              "#sk-container-id-1 div.sk-toggleable {\n",
              "  /* Default theme specific background. It is overwritten whether we have a\n",
              "  specific estimator or a Pipeline/ColumnTransformer */\n",
              "  background-color: var(--sklearn-color-background);\n",
              "}\n",
              "\n",
              "/* Toggleable label */\n",
              "#sk-container-id-1 label.sk-toggleable__label {\n",
              "  cursor: pointer;\n",
              "  display: flex;\n",
              "  width: 100%;\n",
              "  margin-bottom: 0;\n",
              "  padding: 0.5em;\n",
              "  box-sizing: border-box;\n",
              "  text-align: center;\n",
              "  align-items: start;\n",
              "  justify-content: space-between;\n",
              "  gap: 0.5em;\n",
              "}\n",
              "\n",
              "#sk-container-id-1 label.sk-toggleable__label .caption {\n",
              "  font-size: 0.6rem;\n",
              "  font-weight: lighter;\n",
              "  color: var(--sklearn-color-text-muted);\n",
              "}\n",
              "\n",
              "#sk-container-id-1 label.sk-toggleable__label-arrow:before {\n",
              "  /* Arrow on the left of the label */\n",
              "  content: \"▸\";\n",
              "  float: left;\n",
              "  margin-right: 0.25em;\n",
              "  color: var(--sklearn-color-icon);\n",
              "}\n",
              "\n",
              "#sk-container-id-1 label.sk-toggleable__label-arrow:hover:before {\n",
              "  color: var(--sklearn-color-text);\n",
              "}\n",
              "\n",
              "/* Toggleable content - dropdown */\n",
              "\n",
              "#sk-container-id-1 div.sk-toggleable__content {\n",
              "  max-height: 0;\n",
              "  max-width: 0;\n",
              "  overflow: hidden;\n",
              "  text-align: left;\n",
              "  /* unfitted */\n",
              "  background-color: var(--sklearn-color-unfitted-level-0);\n",
              "}\n",
              "\n",
              "#sk-container-id-1 div.sk-toggleable__content.fitted {\n",
              "  /* fitted */\n",
              "  background-color: var(--sklearn-color-fitted-level-0);\n",
              "}\n",
              "\n",
              "#sk-container-id-1 div.sk-toggleable__content pre {\n",
              "  margin: 0.2em;\n",
              "  border-radius: 0.25em;\n",
              "  color: var(--sklearn-color-text);\n",
              "  /* unfitted */\n",
              "  background-color: var(--sklearn-color-unfitted-level-0);\n",
              "}\n",
              "\n",
              "#sk-container-id-1 div.sk-toggleable__content.fitted pre {\n",
              "  /* unfitted */\n",
              "  background-color: var(--sklearn-color-fitted-level-0);\n",
              "}\n",
              "\n",
              "#sk-container-id-1 input.sk-toggleable__control:checked~div.sk-toggleable__content {\n",
              "  /* Expand drop-down */\n",
              "  max-height: 200px;\n",
              "  max-width: 100%;\n",
              "  overflow: auto;\n",
              "}\n",
              "\n",
              "#sk-container-id-1 input.sk-toggleable__control:checked~label.sk-toggleable__label-arrow:before {\n",
              "  content: \"▾\";\n",
              "}\n",
              "\n",
              "/* Pipeline/ColumnTransformer-specific style */\n",
              "\n",
              "#sk-container-id-1 div.sk-label input.sk-toggleable__control:checked~label.sk-toggleable__label {\n",
              "  color: var(--sklearn-color-text);\n",
              "  background-color: var(--sklearn-color-unfitted-level-2);\n",
              "}\n",
              "\n",
              "#sk-container-id-1 div.sk-label.fitted input.sk-toggleable__control:checked~label.sk-toggleable__label {\n",
              "  background-color: var(--sklearn-color-fitted-level-2);\n",
              "}\n",
              "\n",
              "/* Estimator-specific style */\n",
              "\n",
              "/* Colorize estimator box */\n",
              "#sk-container-id-1 div.sk-estimator input.sk-toggleable__control:checked~label.sk-toggleable__label {\n",
              "  /* unfitted */\n",
              "  background-color: var(--sklearn-color-unfitted-level-2);\n",
              "}\n",
              "\n",
              "#sk-container-id-1 div.sk-estimator.fitted input.sk-toggleable__control:checked~label.sk-toggleable__label {\n",
              "  /* fitted */\n",
              "  background-color: var(--sklearn-color-fitted-level-2);\n",
              "}\n",
              "\n",
              "#sk-container-id-1 div.sk-label label.sk-toggleable__label,\n",
              "#sk-container-id-1 div.sk-label label {\n",
              "  /* The background is the default theme color */\n",
              "  color: var(--sklearn-color-text-on-default-background);\n",
              "}\n",
              "\n",
              "/* On hover, darken the color of the background */\n",
              "#sk-container-id-1 div.sk-label:hover label.sk-toggleable__label {\n",
              "  color: var(--sklearn-color-text);\n",
              "  background-color: var(--sklearn-color-unfitted-level-2);\n",
              "}\n",
              "\n",
              "/* Label box, darken color on hover, fitted */\n",
              "#sk-container-id-1 div.sk-label.fitted:hover label.sk-toggleable__label.fitted {\n",
              "  color: var(--sklearn-color-text);\n",
              "  background-color: var(--sklearn-color-fitted-level-2);\n",
              "}\n",
              "\n",
              "/* Estimator label */\n",
              "\n",
              "#sk-container-id-1 div.sk-label label {\n",
              "  font-family: monospace;\n",
              "  font-weight: bold;\n",
              "  display: inline-block;\n",
              "  line-height: 1.2em;\n",
              "}\n",
              "\n",
              "#sk-container-id-1 div.sk-label-container {\n",
              "  text-align: center;\n",
              "}\n",
              "\n",
              "/* Estimator-specific */\n",
              "#sk-container-id-1 div.sk-estimator {\n",
              "  font-family: monospace;\n",
              "  border: 1px dotted var(--sklearn-color-border-box);\n",
              "  border-radius: 0.25em;\n",
              "  box-sizing: border-box;\n",
              "  margin-bottom: 0.5em;\n",
              "  /* unfitted */\n",
              "  background-color: var(--sklearn-color-unfitted-level-0);\n",
              "}\n",
              "\n",
              "#sk-container-id-1 div.sk-estimator.fitted {\n",
              "  /* fitted */\n",
              "  background-color: var(--sklearn-color-fitted-level-0);\n",
              "}\n",
              "\n",
              "/* on hover */\n",
              "#sk-container-id-1 div.sk-estimator:hover {\n",
              "  /* unfitted */\n",
              "  background-color: var(--sklearn-color-unfitted-level-2);\n",
              "}\n",
              "\n",
              "#sk-container-id-1 div.sk-estimator.fitted:hover {\n",
              "  /* fitted */\n",
              "  background-color: var(--sklearn-color-fitted-level-2);\n",
              "}\n",
              "\n",
              "/* Specification for estimator info (e.g. \"i\" and \"?\") */\n",
              "\n",
              "/* Common style for \"i\" and \"?\" */\n",
              "\n",
              ".sk-estimator-doc-link,\n",
              "a:link.sk-estimator-doc-link,\n",
              "a:visited.sk-estimator-doc-link {\n",
              "  float: right;\n",
              "  font-size: smaller;\n",
              "  line-height: 1em;\n",
              "  font-family: monospace;\n",
              "  background-color: var(--sklearn-color-background);\n",
              "  border-radius: 1em;\n",
              "  height: 1em;\n",
              "  width: 1em;\n",
              "  text-decoration: none !important;\n",
              "  margin-left: 0.5em;\n",
              "  text-align: center;\n",
              "  /* unfitted */\n",
              "  border: var(--sklearn-color-unfitted-level-1) 1pt solid;\n",
              "  color: var(--sklearn-color-unfitted-level-1);\n",
              "}\n",
              "\n",
              ".sk-estimator-doc-link.fitted,\n",
              "a:link.sk-estimator-doc-link.fitted,\n",
              "a:visited.sk-estimator-doc-link.fitted {\n",
              "  /* fitted */\n",
              "  border: var(--sklearn-color-fitted-level-1) 1pt solid;\n",
              "  color: var(--sklearn-color-fitted-level-1);\n",
              "}\n",
              "\n",
              "/* On hover */\n",
              "div.sk-estimator:hover .sk-estimator-doc-link:hover,\n",
              ".sk-estimator-doc-link:hover,\n",
              "div.sk-label-container:hover .sk-estimator-doc-link:hover,\n",
              ".sk-estimator-doc-link:hover {\n",
              "  /* unfitted */\n",
              "  background-color: var(--sklearn-color-unfitted-level-3);\n",
              "  color: var(--sklearn-color-background);\n",
              "  text-decoration: none;\n",
              "}\n",
              "\n",
              "div.sk-estimator.fitted:hover .sk-estimator-doc-link.fitted:hover,\n",
              ".sk-estimator-doc-link.fitted:hover,\n",
              "div.sk-label-container:hover .sk-estimator-doc-link.fitted:hover,\n",
              ".sk-estimator-doc-link.fitted:hover {\n",
              "  /* fitted */\n",
              "  background-color: var(--sklearn-color-fitted-level-3);\n",
              "  color: var(--sklearn-color-background);\n",
              "  text-decoration: none;\n",
              "}\n",
              "\n",
              "/* Span, style for the box shown on hovering the info icon */\n",
              ".sk-estimator-doc-link span {\n",
              "  display: none;\n",
              "  z-index: 9999;\n",
              "  position: relative;\n",
              "  font-weight: normal;\n",
              "  right: .2ex;\n",
              "  padding: .5ex;\n",
              "  margin: .5ex;\n",
              "  width: min-content;\n",
              "  min-width: 20ex;\n",
              "  max-width: 50ex;\n",
              "  color: var(--sklearn-color-text);\n",
              "  box-shadow: 2pt 2pt 4pt #999;\n",
              "  /* unfitted */\n",
              "  background: var(--sklearn-color-unfitted-level-0);\n",
              "  border: .5pt solid var(--sklearn-color-unfitted-level-3);\n",
              "}\n",
              "\n",
              ".sk-estimator-doc-link.fitted span {\n",
              "  /* fitted */\n",
              "  background: var(--sklearn-color-fitted-level-0);\n",
              "  border: var(--sklearn-color-fitted-level-3);\n",
              "}\n",
              "\n",
              ".sk-estimator-doc-link:hover span {\n",
              "  display: block;\n",
              "}\n",
              "\n",
              "/* \"?\"-specific style due to the `<a>` HTML tag */\n",
              "\n",
              "#sk-container-id-1 a.estimator_doc_link {\n",
              "  float: right;\n",
              "  font-size: 1rem;\n",
              "  line-height: 1em;\n",
              "  font-family: monospace;\n",
              "  background-color: var(--sklearn-color-background);\n",
              "  border-radius: 1rem;\n",
              "  height: 1rem;\n",
              "  width: 1rem;\n",
              "  text-decoration: none;\n",
              "  /* unfitted */\n",
              "  color: var(--sklearn-color-unfitted-level-1);\n",
              "  border: var(--sklearn-color-unfitted-level-1) 1pt solid;\n",
              "}\n",
              "\n",
              "#sk-container-id-1 a.estimator_doc_link.fitted {\n",
              "  /* fitted */\n",
              "  border: var(--sklearn-color-fitted-level-1) 1pt solid;\n",
              "  color: var(--sklearn-color-fitted-level-1);\n",
              "}\n",
              "\n",
              "/* On hover */\n",
              "#sk-container-id-1 a.estimator_doc_link:hover {\n",
              "  /* unfitted */\n",
              "  background-color: var(--sklearn-color-unfitted-level-3);\n",
              "  color: var(--sklearn-color-background);\n",
              "  text-decoration: none;\n",
              "}\n",
              "\n",
              "#sk-container-id-1 a.estimator_doc_link.fitted:hover {\n",
              "  /* fitted */\n",
              "  background-color: var(--sklearn-color-fitted-level-3);\n",
              "}\n",
              "</style><div id=\"sk-container-id-1\" class=\"sk-top-container\"><div class=\"sk-text-repr-fallback\"><pre>DecisionTreeClassifier()</pre><b>In a Jupyter environment, please rerun this cell to show the HTML representation or trust the notebook. <br />On GitHub, the HTML representation is unable to render, please try loading this page with nbviewer.org.</b></div><div class=\"sk-container\" hidden><div class=\"sk-item\"><div class=\"sk-estimator fitted sk-toggleable\"><input class=\"sk-toggleable__control sk-hidden--visually\" id=\"sk-estimator-id-1\" type=\"checkbox\" checked><label for=\"sk-estimator-id-1\" class=\"sk-toggleable__label fitted sk-toggleable__label-arrow\"><div><div>DecisionTreeClassifier</div></div><div><a class=\"sk-estimator-doc-link fitted\" rel=\"noreferrer\" target=\"_blank\" href=\"https://scikit-learn.org/1.6/modules/generated/sklearn.tree.DecisionTreeClassifier.html\">?<span>Documentation for DecisionTreeClassifier</span></a><span class=\"sk-estimator-doc-link fitted\">i<span>Fitted</span></span></div></label><div class=\"sk-toggleable__content fitted\"><pre>DecisionTreeClassifier()</pre></div> </div></div></div></div>"
            ]
          },
          "metadata": {},
          "execution_count": 14
        }
      ]
    },
    {
      "cell_type": "markdown",
      "source": [
        "Agora, utilizaremos a acurácia. Faremos duas acurácias diferentes, uma para o treinamento e outra para o teste, para conseguirmos comparar como o modelo performa utilizando os mesmos dados de treinamento e como se sai para dados novos."
      ],
      "metadata": {
        "id": "rlr14Y6XggUt"
      }
    },
    {
      "cell_type": "code",
      "source": [
        "modelo = DecisionTreeClassifier()\n",
        "modelo.fit(x_treino, y_treino)\n",
        "print(f'Acurácia de treino: {modelo.score(x_treino, y_treino)}')\n",
        "print(f'Acurácia de validação: {modelo.score(x_val, y_val)}')"
      ],
      "metadata": {
        "id": "eciWP6xWgjfB",
        "outputId": "afa66169-019b-4d21-e942-11355b4b64a9",
        "colab": {
          "base_uri": "https://localhost:8080/"
        }
      },
      "execution_count": 15,
      "outputs": [
        {
          "output_type": "stream",
          "name": "stdout",
          "text": [
            "Acurácia de treino: 1.0\n",
            "Acurácia de validação: 0.8533510965361755\n"
          ]
        }
      ]
    },
    {
      "cell_type": "markdown",
      "source": [
        "Executando essa célula, obtivemos um resultado de acurácia de treino de 1.0 e um de validação de 0.84. Nos dados de treinamento, nosso modelo não errou.\n",
        "\n",
        "Porém, nos dados de validação, que são dados novos, ele obteve uma taxa de acerto de 84%. Isso indica que ele perdeu bastante desempenho ao tentar classificar dados que ele não viu durante o treinamento.\n",
        "\n",
        "Aconteceu algo muito ruim. A performance desse modelo caiu drasticamente. Ele teve uma performance de 100% nos dados de treinamento, ou seja, não errou, mas nos dados de validação que ele nunca viu, ele teve uma performance de 84%.\n",
        "\n",
        "O que pode estar acontecendo? Nosso modelo pode estar compreendendo muito bem os dados de treino ou pode estar decorando aquele padrão e tentando replicar o mesmo padrão para os dados de teste.\n",
        "\n",
        "### Parâmetro max_depth\n",
        "\n",
        "Para resolver essa situação, podemos passar um parâmetro para esse algoritmo de árvore de decisão, que será o parâmetro max_depth. Este parâmetro controla a profundidade máxima da árvore de decisão. Sem a passagem de nenhum parâmetro, o algoritmo tentará capturar todos os traços dos dados que foram utilizados no treinamento para fazer a classificação, levando a um sobreajuste desses dados.\n",
        "\n",
        "Ele vai entender completamente como os dados funcionam e tentará aplicar isso em dados que nunca viu.\n",
        "\n",
        "Vamos copiar esse código, colar na célula abaixo e modificar esse parâmetro da árvore de decisão para max_depth igual a 10. Assim, estabeleceremos uma profundidade máxima de 10."
      ],
      "metadata": {
        "id": "6KzcKkhIgvoQ"
      }
    },
    {
      "cell_type": "code",
      "source": [
        "modelo = DecisionTreeClassifier(max_depth = 10)\n",
        "modelo.fit(x_treino, y_treino)\n",
        "print(f'Acurácia de treino: {modelo.score(x_treino, y_treino)}')\n",
        "print(f'Acurácia de validação: {modelo.score(x_val, y_val)}')"
      ],
      "metadata": {
        "id": "GF0FQV0Jgw85",
        "outputId": "7ef306ae-8873-4f83-9302-836eed0868e2",
        "colab": {
          "base_uri": "https://localhost:8080/"
        }
      },
      "execution_count": 16,
      "outputs": [
        {
          "output_type": "stream",
          "name": "stdout",
          "text": [
            "Acurácia de treino: 0.922285987565758\n",
            "Acurácia de validação: 0.9073580651772905\n"
          ]
        }
      ]
    },
    {
      "cell_type": "markdown",
      "source": [
        "Agora, obtivemos um resultado de acurácia de treino de 0.92. Ou seja, agora, o nosso modelo está errando mesmo para os dados de treinamento. Efetivamente, eu passei os mesmos dados para ele e ele não está tendo um acerto de 100%. Ele está acertando em 92%.\n",
        "\n",
        "Entretanto, veja que interessante, nos dados de validação, ele obteve uma acurácia de 0.90. Não foi a mesma dos dados de treinamento, mas melhorou em relação ao modelo anterior que era de 0.84. Isso indica que agora o nosso modelo está conseguindo entender melhor o padrão que existe nos dados e não apenas memorizando o resultado.\n",
        "\n",
        "### Conclusão\n",
        "\n",
        "Mas, até agora, avaliamos o nosso modelo utilizando apenas a acurácia, que reflete uma taxa de acerto geral do nosso modelo, isto é, se ele está acertando ou não de uma forma geral.\n",
        "\n",
        "Como podemos saber se o nosso modelo está acertando bem apenas para as pessoas inadimplentes ou apenas para as pessoas adimplentes? A acurácia não nos fornece essa informação e é exatamente isso que vamos explorar no próximo vídeo.\n",
        "\n",
        "Vamos ver uma maneira de avaliar o nosso modelo de forma mais específica para cada uma das classes."
      ],
      "metadata": {
        "id": "p33MYHLSgz67"
      }
    },
    {
      "cell_type": "markdown",
      "source": [
        "## Para saber mais: método holdout"
      ],
      "metadata": {
        "id": "4c0ggRO9hlGa"
      }
    },
    {
      "cell_type": "markdown",
      "source": [
        "No momento de validar modelos de classificação, precisamos checar se o modelo está de fato generalizando, ou seja, se está compreendendo o padrão dos dados e classificando corretamente dados novos. A estratégia mais simples para avaliar essa generalização, conhecida como holdout, consiste em dividir os dados em duas partes: um conjunto de dados de treinamento e outro de teste. O conjunto de treinamento é utilizado para treinar o modelo, enquanto o conjunto de teste é usado para avaliar o desempenho do modelo em dados não vistos anteriormente.\n",
        "\n",
        "Com o auxílio da imagem abaixo, analise a exemplificação do método holdout em funcionamento:\n",
        "\n",
        "<img src='' alt='diagrama indicando a divisão de dados em duas partes: uma de treinamento e outra de teste, com uma seta direcionada de “Dados” para “Treino”. A imagem oferece insight sobre como os conjuntos de treinamento e teste são empregados no método holdout.'/>\n",
        "\n",
        "Em alguns casos, especialmente quando se realiza ajustes finos nos parâmetros do modelo, é útil ter um conjunto de validação adicional. Nesse caso, a divisão é feita em três partes: conjunto de treino, conjunto de validação e conjunto de teste. O conjunto de validação é usado na comparação de diferentes modelos, na seleção do modelo mais adequado e no ajuste dos hiperparâmetros. Enquanto isso, o conjunto de teste continua sendo utilizado para avaliar o desempenho final do modelo escolhido, após todo o processo de ajuste.\n",
        "\n",
        "Por isso, quanto mais se utiliza os mesmos dados para tomar decisões sobre configurações de melhorias no modelo ou escolha de hiperparâmetros, mais comprometida se torna a confiabilidade desses resultados ao serem generalizados para dados novos e não vistos. Isso ocorre pois as melhorias são feitas a partir desses dados de validação.\n",
        "\n",
        "É possível perceber que as melhorias aplicadas desempenham um papel fundamental para resolver o problema. Entretanto, para assegurar que o desempenho do modelo permaneça consistente em relação aos dados do mundo real, que não foram vistos no treinamento ou no aprimoramento dos modelos, a estratégia da divisão entre 3 conjuntos de dados, como se pode analisar na imagem a seguir, oferece um bom direcionamento final, já que indica se o modelo escolhido está viesado ou não em relação aos dados de validação.\n",
        "\n",
        "<img src='' alt='diagrama indicando a divisão de dados em três partes: treinamento, validação e teste. Uma seta é direcionada de “Dados” para “Treino”, que conecta-se a “Validação”, que está em destaque.'/>\n"
      ],
      "metadata": {
        "id": "7gIuA89_h215"
      }
    },
    {
      "cell_type": "markdown",
      "source": [
        "## Avaliando o modelo"
      ],
      "metadata": {
        "id": "ajjgRqQOiiex"
      }
    },
    {
      "cell_type": "markdown",
      "source": [
        "Até o momento, criamos um modelo inicial para classificar clientes inadimplentes de uma empresa de empréstimo de automóveis e obtivemos uma acurácia de validação de cerca de 90%.\n",
        "\n",
        "No entanto, essa porcentagem de acertos não nos informa quantos clientes estão sendo identificados corretamente como inadimplentes. Afinal, o foco do projeto é identificar corretamente essas pessoas para evitar prejuízos para a empresa. Para fazer uma avaliação mais específica e estimar a quantidade de clientes que estão sendo corretamente identificados como inadimplentes, precisaremos utilizar um método diferente da acurácia, a matriz de confusão.\n",
        "\n",
        "A matriz de confusão nos informa a quantidade de acertos e erros para cada uma das categorias da variável alvo, ou seja, a quantidade de clientes que o modelo classificou como adimplentes e a quantidade de clientes que o modelo identificou como inadimplentes.\n",
        "\n",
        "Começaremos importando a função necessária para construir essa matriz de confusão. Na primeira célula, escreva:"
      ],
      "metadata": {
        "id": "9LfOAjquixFP"
      }
    },
    {
      "cell_type": "code",
      "source": [
        "from sklearn.metrics import confusion_matrix"
      ],
      "metadata": {
        "id": "7Dj3YTrUkRMX"
      },
      "execution_count": 17,
      "outputs": []
    },
    {
      "cell_type": "markdown",
      "source": [
        "Executaremos essa célula e, em seguida, vamos construir a matriz de confusão.\n",
        "\n",
        "A matriz de confusão compara o resultado de classificação do modelo com o resultado real. Primeiro, vamos armazenar as previsões do modelo utilizando o método predict() que, a partir das variáveis explicativas, determina qual é a classificação. Na primeira célula, armazene as previsões com y_previsto e depois compare essas previsões com o resultado real. Escreva:"
      ],
      "metadata": {
        "id": "k6jHnkyGkTJz"
      }
    },
    {
      "cell_type": "code",
      "source": [
        "y_previsto = modelo.predict(x_val)\n",
        "matriz_confusao = confusion_matrix(y_val, y_previsto)\n",
        "print(matriz_confusao)"
      ],
      "metadata": {
        "id": "QsnhxidGkW1Y",
        "outputId": "c7ea4e78-a740-40b5-a3b1-c09dab9bcebf",
        "colab": {
          "base_uri": "https://localhost:8080/"
        }
      },
      "execution_count": 18,
      "outputs": [
        {
          "output_type": "stream",
          "name": "stdout",
          "text": [
            "[[8823   83]\n",
            " [ 821   31]]\n"
          ]
        }
      ]
    },
    {
      "cell_type": "markdown",
      "source": [
        "Ao executar o código, o resultado será uma matriz de números, mas ela não está muito explicativa com apenas quatro valores. Para uma melhor visualização e entendimento, vamos utilizar uma função que melhore o aspecto visual e identifique o que cada linha e coluna representam.\n",
        "\n",
        "A biblioteca Scikit-learn possui uma função para melhorar a visualização da matriz de confusão. Na próxima célula, importe essa função escrevendo:"
      ],
      "metadata": {
        "id": "uNWd35AvkZmE"
      }
    },
    {
      "cell_type": "code",
      "source": [
        "from sklearn.metrics import ConfusionMatrixDisplay"
      ],
      "metadata": {
        "id": "pS2uvsWskcxw"
      },
      "execution_count": 19,
      "outputs": []
    },
    {
      "cell_type": "markdown",
      "source": [
        "Vamos executar essa célula. Agora, vamos construir essa visualização utilizando a matriz de confusão que já foi construída anteriormente.\n",
        "\n",
        "O parâmetro confusion_matrix é onde armazenamos anteriormente a matriz de confusão.\n",
        "\n",
        "Na mesma célula, escreveremos visualização.plot(), finalizando com um ponto e vírgula. Esse ponto e vírgula evita a exibição de uma informação textual que surge acima da visualização de dados. Utilizaremos essa funcionalidade em várias ocasiões ao fazer uso das visualizações da biblioteca matplotlib.\n",
        "\n",
        "Escreva na próxima célula:"
      ],
      "metadata": {
        "id": "SFj-li42kgP6"
      }
    },
    {
      "cell_type": "code",
      "source": [
        "visualizacao = ConfusionMatrixDisplay(confusion_matrix = matriz_confusao)\n",
        "visualizacao.plot();"
      ],
      "metadata": {
        "id": "qiwh79ZbknAF",
        "outputId": "2b4bec90-8695-40a8-d692-39e4fa6cfaba",
        "colab": {
          "base_uri": "https://localhost:8080/",
          "height": 449
        }
      },
      "execution_count": 20,
      "outputs": [
        {
          "output_type": "display_data",
          "data": {
            "text/plain": [
              "<Figure size 640x480 with 2 Axes>"
            ],
            "image/png": "[encoded data removed]"
          },
          "metadata": {}
        }
      ]
    },
    {
      "cell_type": "markdown",
      "source": [
        "As linhas trazem a informação \"true label\", que indica os valores reais da nossa base de dados, ou seja, são os valores y_val. Nas colunas, encontramos a informação \"predict label\", que representa a quantidade de valores previstos pelo modelo. Nesse sentido, o modelo utilizou as variáveis explicativas para realizar uma classificação, identificando a classe com base no conhecimento do modelo, e armazenou as informações na matriz de confusão, nas colunas.\n",
        "\n",
        "Além disso, encontramos o valor 0 na primeira linha e o valor 1 na segunda coluna. O valor 0 indica os clientes adimplentes, isto é, os que pagam em dia. Já o valor 1 representa os clientes inadimplentes, que não estão quitando o empréstimo.\n",
        "\n",
        "Esses são os valores reais, correspondendo à quantidade de pessoas realmente adimplentes ou inadimplentes.\n",
        "\n",
        "Nas colunas, temos a quantidade, na primeira coluna, de clientes adimplentes baseados na classificação do modelo. Assim, se somarmos essa primeira coluna, obteremos a quantidade de classificações pelo modelo que foram identificadas como adimplentes. Na segunda coluna, encontramos a quantidade de clientes inadimplentes identificados pelo modelo. Ao cruzar esses resultados, poderemos verificar quantos acertos e erros o modelo obteve.\n",
        "\n",
        "Para melhorar a visualização, alteraremos o nome do 0 e do 1 para \"adimplente\" e \"inadimplente\", respectivamente, facilitando a identificação de acertos e erros.\n",
        "\n",
        "Para isso, copiaremos o código dessa célula, colaremos na célula abaixo e adicionaremos um parâmetro adicional no Confusion Matrix Display. Logo após confusion_matrix, incluiremos display_labels = ['Adimplente', 'Inadimplente']. Execute essa célula para ver o resultado."
      ],
      "metadata": {
        "id": "sXV29Z28lCGz"
      }
    },
    {
      "cell_type": "code",
      "source": [
        "visualizacao = ConfusionMatrixDisplay(confusion_matrix = matriz_confusao, display_labels=['Adimplente', 'Inadimplente'])\n",
        "visualizacao.plot();"
      ],
      "metadata": {
        "id": "_mivack8lFA9",
        "outputId": "6081b64b-5924-43b6-900b-72745f653b77",
        "colab": {
          "base_uri": "https://localhost:8080/",
          "height": 449
        }
      },
      "execution_count": 21,
      "outputs": [
        {
          "output_type": "display_data",
          "data": {
            "text/plain": [
              "<Figure size 640x480 with 2 Axes>"
            ],
            "image/png": "[encoded data removed]"
          },
          "metadata": {}
        }
      ]
    },
    {
      "cell_type": "markdown",
      "source": [
        "Agora, está mais fácil identificar os valores dessa matriz de confusão. Consegue-se perceber, por exemplo, que o primeiro valor onde está escrito \"1e+04\" indica uma notação científica. Então esse valor é \"10^4\", que seria 10.000. Dessa forma, temos 10.000 clientes que são adimplentes, de acordo com a linha de valores reais, e que o modelo também classificou como adimplentes. O modelo acertou nesses 10.000 clientes.\n",
        "\n",
        "Já o valor de 958, que está na segunda linha e na primeira coluna, representa as pessoas verdadeiramente inadimplentes que foram classificadas como adimplentes pelo modelo. Ou seja, o modelo errou ao classificá-las como adimplentes, isto é, que elas pagariam o empréstimo, quando, na realidade, não pagariam.\n",
        "\n",
        "Algo semelhante ocorre com o valor 121, no canto superior direito. Esse é o número de clientes que o modelo classificou como inadimplentes, mas que eram adimplentes. Eles pagariam, mas o modelo sugeriu que eles não pagariam. Portanto, o modelo errou novamente, porém de maneira diferente.\n",
        "\n",
        "Por fim, temos o valor \"44\", no canto inferior direito. Esse valor corresponde aos clientes que são realmente inadimplentes e que o modelo também classificou como inadimplentes. Portanto, o modelo acertou nesse caso.\n",
        "\n",
        "Podemos ver que nosso modelo não está apresentando resultados tão bons quanto esperávamos. Embora a acurácia tenha obtido uma taxa de acerto de 90%, ao identificarmos os clientes inadimplentes, notamos que ele identificou apenas 44 deles.\n",
        "\n",
        "Se somássemos o número real de pessoas inadimplentes, teríamos mais de mil. Portanto, nosso modelo não está sendo capaz de resolver o problema que pretendemos solucionar, que é identificar corretamente as pessoas inadimplentes que não estão pagando o empréstimo do veículo.\n",
        "\n",
        "A matriz de confusão se provou muito útil para identificarmos que a acurácia não é uma métrica que sempre precisamos utilizar. Ela não é a mais importante, pois não vai nos ajudar a entender todas as nuances do nosso modelo. Além disso, a matriz de confusão também foi importante para identificar que o modelo não está classificando bem as pessoas inadimplentes.\n",
        "\n",
        "A pergunta que fica é: será que conseguimos extrair métricas a partir dos valores na matriz de confusão, assim como fizemos com a acurácia, que possam nos ajudar melhor com o nosso problema? Vamos explorar isso em nossa próxima aula."
      ],
      "metadata": {
        "id": "e_yCQW6ClK1s"
      }
    },
    {
      "cell_type": "markdown",
      "source": [
        "### Para saber mais: entendendo a matriz de confusão"
      ],
      "metadata": {
        "id": "2Z_fmOXclbzg"
      }
    },
    {
      "cell_type": "markdown",
      "source": [
        "Para obter uma avaliação mais completa do desempenho de modelos de classificação, podemos utilizar uma ferramenta conhecida como matriz de confusão. Essa matriz oferece vantagens à pessoa cientista de dados, pelo fato de permitir entender qual a quantidade de erros e acertos das previsões de um modelo. Ao invés de uma taxa de acerto geral, a matriz é capaz de fornecer informações em uma visualização para cada uma das categorias da variável alvo.\n",
        "\n",
        "Pense em um sistema de segurança de um prédio que utiliza câmeras para identificar pessoas entrando. A \"matriz de confusão\" se torna valiosa, pois possibilita verificar quantas vezes o sistema acertou ao identificar corretamente as pessoas autorizadas, quantas vezes acusou erroneamente pessoas e quantas vezes deixou passar pessoas não autorizadas. Com esses números, é possível ajustar o sistema para minimizar falsos positivos e negativos, melhorando sua precisão na detecção de visitantes.\n",
        "\n",
        "Na representação geral de uma matriz de confusão, para mais detalhes analise a imagem a seguir, as linhas da matriz correspondem aos valores reais da base de dados, enquanto as colunas correspondem aos valores previstos pelo modelo de classificação. As categorias da variável alvo são representadas pelo valor 0 (ausência do atributo), também chamado de negativo, e pelo valor 1 (presença do atributo), também chamado de positivo.\n",
        "\n",
        "<img src='' alt='Imagem de uma matriz de duas linhas e duas colunas. As linhas representam os valores reais e as colunas representam os valores previstos. A primeira linha e primeira coluna, da esquerda para a direita, está em verde. São os “verdadeiros negativos”, onde o valor real e previsto é 0. A primeira linha e segunda coluna, em vermelho, são os “falsos positivos”, onde o valor real é 0 e valor previsto é 1. A segunda linha e primeira coluna, em vermelho, são os “falsos negativos”, onde o valor real é 1 e valor previsto é 0. A segunda linha e segunda coluna, em verde, são os “verdadeiros positivos”, onde o valor real é 1 e valor previsto é 1.' />\n",
        "\n",
        "Cada elemento da matriz é identificado por um nome de acordo com o cruzamento entre a previsão e o valor real. A diagonal principal da matriz, que está destacada pela cor verde, representa os elementos que tem a previsão igual ao valor real, portanto são os acertos do modelo. Já a diagonal secundária, que está destacada pela cor vermelha, representa os elementos com previsões diferentes do valor real, portanto são os erros do modelo. A descrição de cada um dos elementos é a seguinte:\n",
        "\n",
        "Verdadeiros Negativos (VN): Quando o valor real for 0 e a predição também for 0. Indica que o modelo classificou corretamente os valores da classe negativa.\n",
        "Falsos Positivos (FP): Quando o valor real for 0 e a predição for 1. Indica que o modelo classificou erroneamente um elemento da classe negativa como se fosse da classe positiva.\n",
        "Falsos Negativos (FN): Quando o valor real for 1 e a predição for 0. Indica que o modelo classificou erroneamente um elemento da classe positiva como se fosse da classe negativa.\n",
        "Verdadeiros Positivos (VP): Quando o valor real for 1 e a predição também for 1. Indica que o modelo classificou corretamente os valores da classe positiva.\n",
        "Esses valores são muito úteis para uma análise mais aprofundada do modelo de classificação. Isso permite identificar as capacidades e limitações da predição, se há um equilíbrio entre os acertos e erros ou se o resultado está tendencioso para uma classe em detrimento da outra. Com isso, é nítido que a matriz de confusão é uma ferramenta muito mais completa do que a métrica de acurácia, que representa apenas a porcentagem de acerto do modelo, sem considerar as classes de maneira isolada."
      ],
      "metadata": {
        "id": "o1LDNZwtlhhs"
      }
    },
    {
      "cell_type": "markdown",
      "source": [],
      "metadata": {
        "id": "vKv5rjaKnjfD"
      }
    }
  ]
}