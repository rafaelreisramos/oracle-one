{
  "nbformat": 4,
  "nbformat_minor": 0,
  "metadata": {
    "colab": {
      "provenance": [],
      "toc_visible": true
    },
    "kernelspec": {
      "name": "python3",
      "display_name": "Python 3"
    },
    "language_info": {
      "name": "python"
    }
  },
  "cells": [
    {
      "cell_type": "markdown",
      "source": [
        "# <font color='dark'>**Classificação: Validação de modelos e métricas de avaliação**</h1>"
      ],
      "metadata": {
        "id": "MCqTDybk4ShK"
      }
    },
    {
      "cell_type": "markdown",
      "source": [
        "### Projeto\n",
        "\n",
        "Uma empresa de empréstimo de automóveis está passando por uma situação complicada, com alta demanda para uma frota reduzida de veículos e alto número de inadimplentes, trazendo um prejuízo grande para a empresa.\n",
        "\n",
        "Nós fomos contratados para buscar melhorias na identificação de inadimplentes. A análise dos clientes atualmente é feita de forma manual, cliente por cliente, tomando muito tempo e ainda assim a detecção de inadimplentes é muito imprecisa.\n",
        "\n",
        "Nossa tarefa é utilizar os dados fornecidos pela empresa para **classificar** os clientes em adimplentes e inadimplentes."
      ],
      "metadata": {
        "id": "WscU3KG7a9No"
      }
    },
    {
      "cell_type": "markdown",
      "source": [
        "## <font color='dark'>Classificando dados</h1>"
      ],
      "metadata": {
        "id": "WgS8iF51Csrn"
      }
    },
    {
      "cell_type": "markdown",
      "source": [
        "### Criando um modelo inicial"
      ],
      "metadata": {
        "id": "6lExmBuKn-xe"
      }
    },
    {
      "cell_type": "markdown",
      "source": [
        "Uma empresa de empréstimo de automóveis está passando por uma situação muito complicada. Ela está com uma alta demanda para uma frota reduzida e uma alta taxa de clientes inadimplentes, ou seja, clientes que não pagam o empréstimo no tempo devido.\n",
        "\n",
        "- Alta demanda\n",
        "- Frota reduzida\n",
        "- Inadimplência\n",
        "\n",
        "Isso está gerando um grande prejuízo para a empresa. E nós fomos contratados para ajudar a melhorar essa situação da empresa, para identificar esses clientes inadimplentes antes mesmo da empresa conceder o empréstimo do veículo.\n",
        "\n",
        "Para resolver essa situação, essa empresa nos forneceu uma base de dados em formato CSV com dados históricos de clientes inadimplentes. Vamos utilizar essa base de dados para construir um modelo de inteligência artificial que vai conseguir classificar os clientes entre adimplentes e inadimplentes.\n",
        "\n",
        "Para começar o projeto, vamos utilizar o Google Colab, que já possui todas as ferramentas necessárias para a construção do nosso projeto.\n",
        "\n",
        "Vamos abrir aqui o Google Colab e o primeiro passo é fazer o upload da base de dados.\n",
        "\n",
        "Vamos clicar no menu lateral esquerdo de arquivos e selecionar a opção \"Fazer upload para o armazenamento da sessão\".\n",
        "\n",
        "Será aberto o explorador de arquivos do computador e vamos selecionar o arquivo emp_automovel.csv.\n",
        "\n",
        "O arquivo emp_automovel.csv será disponibilizado na atividade \"Preparando o ambiente\". Antes de começar, volte até a atividade e baixe esse arquivo.\n",
        "\n",
        "Com o upload do arquivo para o Google Colab feito, podemos importar a biblioteca pandas, que será utilizada para fazer a leitura desse arquivo. Mas antes, vamos copiar o caminho do arquivo no menu lateral. Clique com o botão direito no arquivo emp_automovel.csv e selecione a opção \"Copiar caminho\". Feito isso, podemos fechar o menu de arquivos e importar a biblioteca pandas, que já vem instalada no Google Colab.\n",
        "\n",
        "Na primeira célula, vamos escrever import pandas as pd e vamos executar esse código com \"Ctrl + Enter\"."
      ],
      "metadata": {
        "id": "sjGSFIBEml2w"
      }
    },
    {
      "cell_type": "code",
      "execution_count": 65,
      "metadata": {
        "id": "ZP9giPwL7Qvz"
      },
      "outputs": [],
      "source": [
        "import pandas as pd"
      ]
    },
    {
      "cell_type": "markdown",
      "source": [
        "Então, com o código já executado e a biblioteca importada, vamos fazer a leitura da base de dados. Na próxima célula, vamos escrever dados = pd.read_csv(), que é a função que será utilizada para fazer a leitura do arquivo em formato CSV. Dentro dos parênteses, vamos passar uma string vazia e apertar o atalho \"Ctrl + V\", que vai colar o caminho do arquivo que foi copiado no menu de arquivos. Agora, podemos executar esta célula para fazer a leitura da base de dados."
      ],
      "metadata": {
        "id": "-ZzqyGTNmrso"
      }
    },
    {
      "cell_type": "code",
      "source": [
        "dados = pd.read_csv('https://raw.githubusercontent.com/rafaelreisramos/oracle-one/refs/heads/main/classificacao-validacao-modelos-metricas-avaliacao/dados/emp_automovel.csv')"
      ],
      "metadata": {
        "id": "w1MaIGaj7UZL"
      },
      "execution_count": 66,
      "outputs": []
    },
    {
      "cell_type": "code",
      "source": [
        "dados"
      ],
      "metadata": {
        "id": "ef4aPUAHkyLQ",
        "colab": {
          "base_uri": "https://localhost:8080/",
          "height": 424
        },
        "outputId": "741efb71-df7e-43f8-a59b-fa1c98287d15"
      },
      "execution_count": 67,
      "outputs": [
        {
          "output_type": "execute_result",
          "data": {
            "text/plain": [
              "       receita_cliente  anuidade_emprestimo  anos_casa_propria  telefone_trab  \\\n",
              "0         12600.000000          3569.400000          12.157324              1   \n",
              "1          9000.000000          2722.188351           7.000000              0   \n",
              "2         15750.000000          4477.500000          12.000000              0   \n",
              "3          9000.000000          1309.050000          12.157324              0   \n",
              "4          7650.000000          1125.000000          12.157324              0   \n",
              "...                ...                  ...                ...            ...   \n",
              "54020     16855.246324           675.000000          12.157324              1   \n",
              "54021     11250.000000           675.000000          14.000000              0   \n",
              "54022     13500.000000           900.000000          64.000000              0   \n",
              "54023     11250.000000          2371.500000          12.157324              0   \n",
              "54024     21060.000000          2459.250000          12.157324              0   \n",
              "\n",
              "       avaliacao_cidade   score_1   score_2   score_3  score_social  \\\n",
              "0                   2.0  0.057153  0.527227  0.513171      0.117428   \n",
              "1                   2.0  0.657661  0.285898  0.614414      0.222700   \n",
              "2                   2.0  0.501213  0.695423  0.513171      0.117428   \n",
              "3                   3.0  0.501213  0.155973  0.513171      0.117428   \n",
              "4                   2.0  0.294328  0.152076  0.513171      0.117428   \n",
              "...                 ...       ...       ...       ...           ...   \n",
              "54020               2.0  0.501213  0.180635  0.513171      0.082500   \n",
              "54021               3.0  0.409620  0.606002  0.513171      0.117428   \n",
              "54022               2.0  0.162632  0.525412  0.513171      0.117428   \n",
              "54023               3.0  0.501213  0.664027  0.513171      0.117428   \n",
              "54024               2.0  0.339656  0.656468  0.513171      0.117428   \n",
              "\n",
              "       troca_telefone  inadimplente  \n",
              "0         2545.000000             0  \n",
              "1          495.000000             0  \n",
              "2         1212.000000             0  \n",
              "3          515.000000             0  \n",
              "4          162.000000             0  \n",
              "...               ...           ...  \n",
              "54020        0.000000             1  \n",
              "54021      466.000000             1  \n",
              "54022      962.106056             1  \n",
              "54023      482.000000             1  \n",
              "54024        0.000000             1  \n",
              "\n",
              "[54025 rows x 11 columns]"
            ],
            "text/html": [
              "\n",
              "  <div id=\"df-a49142df-f145-4f00-b4c3-bd202a566fc4\" class=\"colab-df-container\">\n",
              "    <div>\n",
              "<style scoped>\n",
              "    .dataframe tbody tr th:only-of-type {\n",
              "        vertical-align: middle;\n",
              "    }\n",
              "\n",
              "    .dataframe tbody tr th {\n",
              "        vertical-align: top;\n",
              "    }\n",
              "\n",
              "    .dataframe thead th {\n",
              "        text-align: right;\n",
              "    }\n",
              "</style>\n",
              "<table border=\"1\" class=\"dataframe\">\n",
              "  <thead>\n",
              "    <tr style=\"text-align: right;\">\n",
              "      <th></th>\n",
              "      <th>receita_cliente</th>\n",
              "      <th>anuidade_emprestimo</th>\n",
              "      <th>anos_casa_propria</th>\n",
              "      <th>telefone_trab</th>\n",
              "      <th>avaliacao_cidade</th>\n",
              "      <th>score_1</th>\n",
              "      <th>score_2</th>\n",
              "      <th>score_3</th>\n",
              "      <th>score_social</th>\n",
              "      <th>troca_telefone</th>\n",
              "      <th>inadimplente</th>\n",
              "    </tr>\n",
              "  </thead>\n",
              "  <tbody>\n",
              "    <tr>\n",
              "      <th>0</th>\n",
              "      <td>12600.000000</td>\n",
              "      <td>3569.400000</td>\n",
              "      <td>12.157324</td>\n",
              "      <td>1</td>\n",
              "      <td>2.0</td>\n",
              "      <td>0.057153</td>\n",
              "      <td>0.527227</td>\n",
              "      <td>0.513171</td>\n",
              "      <td>0.117428</td>\n",
              "      <td>2545.000000</td>\n",
              "      <td>0</td>\n",
              "    </tr>\n",
              "    <tr>\n",
              "      <th>1</th>\n",
              "      <td>9000.000000</td>\n",
              "      <td>2722.188351</td>\n",
              "      <td>7.000000</td>\n",
              "      <td>0</td>\n",
              "      <td>2.0</td>\n",
              "      <td>0.657661</td>\n",
              "      <td>0.285898</td>\n",
              "      <td>0.614414</td>\n",
              "      <td>0.222700</td>\n",
              "      <td>495.000000</td>\n",
              "      <td>0</td>\n",
              "    </tr>\n",
              "    <tr>\n",
              "      <th>2</th>\n",
              "      <td>15750.000000</td>\n",
              "      <td>4477.500000</td>\n",
              "      <td>12.000000</td>\n",
              "      <td>0</td>\n",
              "      <td>2.0</td>\n",
              "      <td>0.501213</td>\n",
              "      <td>0.695423</td>\n",
              "      <td>0.513171</td>\n",
              "      <td>0.117428</td>\n",
              "      <td>1212.000000</td>\n",
              "      <td>0</td>\n",
              "    </tr>\n",
              "    <tr>\n",
              "      <th>3</th>\n",
              "      <td>9000.000000</td>\n",
              "      <td>1309.050000</td>\n",
              "      <td>12.157324</td>\n",
              "      <td>0</td>\n",
              "      <td>3.0</td>\n",
              "      <td>0.501213</td>\n",
              "      <td>0.155973</td>\n",
              "      <td>0.513171</td>\n",
              "      <td>0.117428</td>\n",
              "      <td>515.000000</td>\n",
              "      <td>0</td>\n",
              "    </tr>\n",
              "    <tr>\n",
              "      <th>4</th>\n",
              "      <td>7650.000000</td>\n",
              "      <td>1125.000000</td>\n",
              "      <td>12.157324</td>\n",
              "      <td>0</td>\n",
              "      <td>2.0</td>\n",
              "      <td>0.294328</td>\n",
              "      <td>0.152076</td>\n",
              "      <td>0.513171</td>\n",
              "      <td>0.117428</td>\n",
              "      <td>162.000000</td>\n",
              "      <td>0</td>\n",
              "    </tr>\n",
              "    <tr>\n",
              "      <th>...</th>\n",
              "      <td>...</td>\n",
              "      <td>...</td>\n",
              "      <td>...</td>\n",
              "      <td>...</td>\n",
              "      <td>...</td>\n",
              "      <td>...</td>\n",
              "      <td>...</td>\n",
              "      <td>...</td>\n",
              "      <td>...</td>\n",
              "      <td>...</td>\n",
              "      <td>...</td>\n",
              "    </tr>\n",
              "    <tr>\n",
              "      <th>54020</th>\n",
              "      <td>16855.246324</td>\n",
              "      <td>675.000000</td>\n",
              "      <td>12.157324</td>\n",
              "      <td>1</td>\n",
              "      <td>2.0</td>\n",
              "      <td>0.501213</td>\n",
              "      <td>0.180635</td>\n",
              "      <td>0.513171</td>\n",
              "      <td>0.082500</td>\n",
              "      <td>0.000000</td>\n",
              "      <td>1</td>\n",
              "    </tr>\n",
              "    <tr>\n",
              "      <th>54021</th>\n",
              "      <td>11250.000000</td>\n",
              "      <td>675.000000</td>\n",
              "      <td>14.000000</td>\n",
              "      <td>0</td>\n",
              "      <td>3.0</td>\n",
              "      <td>0.409620</td>\n",
              "      <td>0.606002</td>\n",
              "      <td>0.513171</td>\n",
              "      <td>0.117428</td>\n",
              "      <td>466.000000</td>\n",
              "      <td>1</td>\n",
              "    </tr>\n",
              "    <tr>\n",
              "      <th>54022</th>\n",
              "      <td>13500.000000</td>\n",
              "      <td>900.000000</td>\n",
              "      <td>64.000000</td>\n",
              "      <td>0</td>\n",
              "      <td>2.0</td>\n",
              "      <td>0.162632</td>\n",
              "      <td>0.525412</td>\n",
              "      <td>0.513171</td>\n",
              "      <td>0.117428</td>\n",
              "      <td>962.106056</td>\n",
              "      <td>1</td>\n",
              "    </tr>\n",
              "    <tr>\n",
              "      <th>54023</th>\n",
              "      <td>11250.000000</td>\n",
              "      <td>2371.500000</td>\n",
              "      <td>12.157324</td>\n",
              "      <td>0</td>\n",
              "      <td>3.0</td>\n",
              "      <td>0.501213</td>\n",
              "      <td>0.664027</td>\n",
              "      <td>0.513171</td>\n",
              "      <td>0.117428</td>\n",
              "      <td>482.000000</td>\n",
              "      <td>1</td>\n",
              "    </tr>\n",
              "    <tr>\n",
              "      <th>54024</th>\n",
              "      <td>21060.000000</td>\n",
              "      <td>2459.250000</td>\n",
              "      <td>12.157324</td>\n",
              "      <td>0</td>\n",
              "      <td>2.0</td>\n",
              "      <td>0.339656</td>\n",
              "      <td>0.656468</td>\n",
              "      <td>0.513171</td>\n",
              "      <td>0.117428</td>\n",
              "      <td>0.000000</td>\n",
              "      <td>1</td>\n",
              "    </tr>\n",
              "  </tbody>\n",
              "</table>\n",
              "<p>54025 rows × 11 columns</p>\n",
              "</div>\n",
              "    <div class=\"colab-df-buttons\">\n",
              "\n",
              "  <div class=\"colab-df-container\">\n",
              "    <button class=\"colab-df-convert\" onclick=\"convertToInteractive('df-a49142df-f145-4f00-b4c3-bd202a566fc4')\"\n",
              "            title=\"Convert this dataframe to an interactive table.\"\n",
              "            style=\"display:none;\">\n",
              "\n",
              "  <svg xmlns=\"http://www.w3.org/2000/svg\" height=\"24px\" viewBox=\"0 -960 960 960\">\n",
              "    <path d=\"M120-120v-720h720v720H120Zm60-500h600v-160H180v160Zm220 220h160v-160H400v160Zm0 220h160v-160H400v160ZM180-400h160v-160H180v160Zm440 0h160v-160H620v160ZM180-180h160v-160H180v160Zm440 0h160v-160H620v160Z\"/>\n",
              "  </svg>\n",
              "    </button>\n",
              "\n",
              "  <style>\n",
              "    .colab-df-container {\n",
              "      display:flex;\n",
              "      gap: 12px;\n",
              "    }\n",
              "\n",
              "    .colab-df-convert {\n",
              "      background-color: #E8F0FE;\n",
              "      border: none;\n",
              "      border-radius: 50%;\n",
              "      cursor: pointer;\n",
              "      display: none;\n",
              "      fill: #1967D2;\n",
              "      height: 32px;\n",
              "      padding: 0 0 0 0;\n",
              "      width: 32px;\n",
              "    }\n",
              "\n",
              "    .colab-df-convert:hover {\n",
              "      background-color: #E2EBFA;\n",
              "      box-shadow: 0px 1px 2px rgba(60, 64, 67, 0.3), 0px 1px 3px 1px rgba(60, 64, 67, 0.15);\n",
              "      fill: #174EA6;\n",
              "    }\n",
              "\n",
              "    .colab-df-buttons div {\n",
              "      margin-bottom: 4px;\n",
              "    }\n",
              "\n",
              "    [theme=dark] .colab-df-convert {\n",
              "      background-color: #3B4455;\n",
              "      fill: #D2E3FC;\n",
              "    }\n",
              "\n",
              "    [theme=dark] .colab-df-convert:hover {\n",
              "      background-color: #434B5C;\n",
              "      box-shadow: 0px 1px 3px 1px rgba(0, 0, 0, 0.15);\n",
              "      filter: drop-shadow(0px 1px 2px rgba(0, 0, 0, 0.3));\n",
              "      fill: #FFFFFF;\n",
              "    }\n",
              "  </style>\n",
              "\n",
              "    <script>\n",
              "      const buttonEl =\n",
              "        document.querySelector('#df-a49142df-f145-4f00-b4c3-bd202a566fc4 button.colab-df-convert');\n",
              "      buttonEl.style.display =\n",
              "        google.colab.kernel.accessAllowed ? 'block' : 'none';\n",
              "\n",
              "      async function convertToInteractive(key) {\n",
              "        const element = document.querySelector('#df-a49142df-f145-4f00-b4c3-bd202a566fc4');\n",
              "        const dataTable =\n",
              "          await google.colab.kernel.invokeFunction('convertToInteractive',\n",
              "                                                    [key], {});\n",
              "        if (!dataTable) return;\n",
              "\n",
              "        const docLinkHtml = 'Like what you see? Visit the ' +\n",
              "          '<a target=\"_blank\" href=https://colab.research.google.com/notebooks/data_table.ipynb>data table notebook</a>'\n",
              "          + ' to learn more about interactive tables.';\n",
              "        element.innerHTML = '';\n",
              "        dataTable['output_type'] = 'display_data';\n",
              "        await google.colab.output.renderOutput(dataTable, element);\n",
              "        const docLink = document.createElement('div');\n",
              "        docLink.innerHTML = docLinkHtml;\n",
              "        element.appendChild(docLink);\n",
              "      }\n",
              "    </script>\n",
              "  </div>\n",
              "\n",
              "\n",
              "    <div id=\"df-f4cee83a-e833-4453-a1fa-21eb5d41d6d5\">\n",
              "      <button class=\"colab-df-quickchart\" onclick=\"quickchart('df-f4cee83a-e833-4453-a1fa-21eb5d41d6d5')\"\n",
              "                title=\"Suggest charts\"\n",
              "                style=\"display:none;\">\n",
              "\n",
              "<svg xmlns=\"http://www.w3.org/2000/svg\" height=\"24px\"viewBox=\"0 0 24 24\"\n",
              "     width=\"24px\">\n",
              "    <g>\n",
              "        <path d=\"M19 3H5c-1.1 0-2 .9-2 2v14c0 1.1.9 2 2 2h14c1.1 0 2-.9 2-2V5c0-1.1-.9-2-2-2zM9 17H7v-7h2v7zm4 0h-2V7h2v10zm4 0h-2v-4h2v4z\"/>\n",
              "    </g>\n",
              "</svg>\n",
              "      </button>\n",
              "\n",
              "<style>\n",
              "  .colab-df-quickchart {\n",
              "      --bg-color: #E8F0FE;\n",
              "      --fill-color: #1967D2;\n",
              "      --hover-bg-color: #E2EBFA;\n",
              "      --hover-fill-color: #174EA6;\n",
              "      --disabled-fill-color: #AAA;\n",
              "      --disabled-bg-color: #DDD;\n",
              "  }\n",
              "\n",
              "  [theme=dark] .colab-df-quickchart {\n",
              "      --bg-color: #3B4455;\n",
              "      --fill-color: #D2E3FC;\n",
              "      --hover-bg-color: #434B5C;\n",
              "      --hover-fill-color: #FFFFFF;\n",
              "      --disabled-bg-color: #3B4455;\n",
              "      --disabled-fill-color: #666;\n",
              "  }\n",
              "\n",
              "  .colab-df-quickchart {\n",
              "    background-color: var(--bg-color);\n",
              "    border: none;\n",
              "    border-radius: 50%;\n",
              "    cursor: pointer;\n",
              "    display: none;\n",
              "    fill: var(--fill-color);\n",
              "    height: 32px;\n",
              "    padding: 0;\n",
              "    width: 32px;\n",
              "  }\n",
              "\n",
              "  .colab-df-quickchart:hover {\n",
              "    background-color: var(--hover-bg-color);\n",
              "    box-shadow: 0 1px 2px rgba(60, 64, 67, 0.3), 0 1px 3px 1px rgba(60, 64, 67, 0.15);\n",
              "    fill: var(--button-hover-fill-color);\n",
              "  }\n",
              "\n",
              "  .colab-df-quickchart-complete:disabled,\n",
              "  .colab-df-quickchart-complete:disabled:hover {\n",
              "    background-color: var(--disabled-bg-color);\n",
              "    fill: var(--disabled-fill-color);\n",
              "    box-shadow: none;\n",
              "  }\n",
              "\n",
              "  .colab-df-spinner {\n",
              "    border: 2px solid var(--fill-color);\n",
              "    border-color: transparent;\n",
              "    border-bottom-color: var(--fill-color);\n",
              "    animation:\n",
              "      spin 1s steps(1) infinite;\n",
              "  }\n",
              "\n",
              "  @keyframes spin {\n",
              "    0% {\n",
              "      border-color: transparent;\n",
              "      border-bottom-color: var(--fill-color);\n",
              "      border-left-color: var(--fill-color);\n",
              "    }\n",
              "    20% {\n",
              "      border-color: transparent;\n",
              "      border-left-color: var(--fill-color);\n",
              "      border-top-color: var(--fill-color);\n",
              "    }\n",
              "    30% {\n",
              "      border-color: transparent;\n",
              "      border-left-color: var(--fill-color);\n",
              "      border-top-color: var(--fill-color);\n",
              "      border-right-color: var(--fill-color);\n",
              "    }\n",
              "    40% {\n",
              "      border-color: transparent;\n",
              "      border-right-color: var(--fill-color);\n",
              "      border-top-color: var(--fill-color);\n",
              "    }\n",
              "    60% {\n",
              "      border-color: transparent;\n",
              "      border-right-color: var(--fill-color);\n",
              "    }\n",
              "    80% {\n",
              "      border-color: transparent;\n",
              "      border-right-color: var(--fill-color);\n",
              "      border-bottom-color: var(--fill-color);\n",
              "    }\n",
              "    90% {\n",
              "      border-color: transparent;\n",
              "      border-bottom-color: var(--fill-color);\n",
              "    }\n",
              "  }\n",
              "</style>\n",
              "\n",
              "      <script>\n",
              "        async function quickchart(key) {\n",
              "          const quickchartButtonEl =\n",
              "            document.querySelector('#' + key + ' button');\n",
              "          quickchartButtonEl.disabled = true;  // To prevent multiple clicks.\n",
              "          quickchartButtonEl.classList.add('colab-df-spinner');\n",
              "          try {\n",
              "            const charts = await google.colab.kernel.invokeFunction(\n",
              "                'suggestCharts', [key], {});\n",
              "          } catch (error) {\n",
              "            console.error('Error during call to suggestCharts:', error);\n",
              "          }\n",
              "          quickchartButtonEl.classList.remove('colab-df-spinner');\n",
              "          quickchartButtonEl.classList.add('colab-df-quickchart-complete');\n",
              "        }\n",
              "        (() => {\n",
              "          let quickchartButtonEl =\n",
              "            document.querySelector('#df-f4cee83a-e833-4453-a1fa-21eb5d41d6d5 button');\n",
              "          quickchartButtonEl.style.display =\n",
              "            google.colab.kernel.accessAllowed ? 'block' : 'none';\n",
              "        })();\n",
              "      </script>\n",
              "    </div>\n",
              "\n",
              "  <div id=\"id_57a7cdbc-5eca-473c-b22c-b678054e9515\">\n",
              "    <style>\n",
              "      .colab-df-generate {\n",
              "        background-color: #E8F0FE;\n",
              "        border: none;\n",
              "        border-radius: 50%;\n",
              "        cursor: pointer;\n",
              "        display: none;\n",
              "        fill: #1967D2;\n",
              "        height: 32px;\n",
              "        padding: 0 0 0 0;\n",
              "        width: 32px;\n",
              "      }\n",
              "\n",
              "      .colab-df-generate:hover {\n",
              "        background-color: #E2EBFA;\n",
              "        box-shadow: 0px 1px 2px rgba(60, 64, 67, 0.3), 0px 1px 3px 1px rgba(60, 64, 67, 0.15);\n",
              "        fill: #174EA6;\n",
              "      }\n",
              "\n",
              "      [theme=dark] .colab-df-generate {\n",
              "        background-color: #3B4455;\n",
              "        fill: #D2E3FC;\n",
              "      }\n",
              "\n",
              "      [theme=dark] .colab-df-generate:hover {\n",
              "        background-color: #434B5C;\n",
              "        box-shadow: 0px 1px 3px 1px rgba(0, 0, 0, 0.15);\n",
              "        filter: drop-shadow(0px 1px 2px rgba(0, 0, 0, 0.3));\n",
              "        fill: #FFFFFF;\n",
              "      }\n",
              "    </style>\n",
              "    <button class=\"colab-df-generate\" onclick=\"generateWithVariable('dados')\"\n",
              "            title=\"Generate code using this dataframe.\"\n",
              "            style=\"display:none;\">\n",
              "\n",
              "  <svg xmlns=\"http://www.w3.org/2000/svg\" height=\"24px\"viewBox=\"0 0 24 24\"\n",
              "       width=\"24px\">\n",
              "    <path d=\"M7,19H8.4L18.45,9,17,7.55,7,17.6ZM5,21V16.75L18.45,3.32a2,2,0,0,1,2.83,0l1.4,1.43a1.91,1.91,0,0,1,.58,1.4,1.91,1.91,0,0,1-.58,1.4L9.25,21ZM18.45,9,17,7.55Zm-12,3A5.31,5.31,0,0,0,4.9,8.1,5.31,5.31,0,0,0,1,6.5,5.31,5.31,0,0,0,4.9,4.9,5.31,5.31,0,0,0,6.5,1,5.31,5.31,0,0,0,8.1,4.9,5.31,5.31,0,0,0,12,6.5,5.46,5.46,0,0,0,6.5,12Z\"/>\n",
              "  </svg>\n",
              "    </button>\n",
              "    <script>\n",
              "      (() => {\n",
              "      const buttonEl =\n",
              "        document.querySelector('#id_57a7cdbc-5eca-473c-b22c-b678054e9515 button.colab-df-generate');\n",
              "      buttonEl.style.display =\n",
              "        google.colab.kernel.accessAllowed ? 'block' : 'none';\n",
              "\n",
              "      buttonEl.onclick = () => {\n",
              "        google.colab.notebook.generateWithVariable('dados');\n",
              "      }\n",
              "      })();\n",
              "    </script>\n",
              "  </div>\n",
              "\n",
              "    </div>\n",
              "  </div>\n"
            ],
            "application/vnd.google.colaboratory.intrinsic+json": {
              "type": "dataframe",
              "variable_name": "dados",
              "summary": "{\n  \"name\": \"dados\",\n  \"rows\": 54025,\n  \"fields\": [\n    {\n      \"column\": \"receita_cliente\",\n      \"properties\": {\n        \"dtype\": \"number\",\n        \"std\": 9658.762569130264,\n        \"min\": 2700.0,\n        \"max\": 450000.0,\n        \"num_unique_values\": 663,\n        \"samples\": [\n          11018.7,\n          38520.0,\n          17796.6\n        ],\n        \"semantic_type\": \"\",\n        \"description\": \"\"\n      }\n    },\n    {\n      \"column\": \"anuidade_emprestimo\",\n      \"properties\": {\n        \"dtype\": \"number\",\n        \"std\": 1305.3647344874787,\n        \"min\": 218.7,\n        \"max\": 22500.0,\n        \"num_unique_values\": 8004,\n        \"samples\": [\n          5339.7,\n          5067.0,\n          5757.3\n        ],\n        \"semantic_type\": \"\",\n        \"description\": \"\"\n      }\n    },\n    {\n      \"column\": \"anos_casa_propria\",\n      \"properties\": {\n        \"dtype\": \"number\",\n        \"std\": 7.452120104984191,\n        \"min\": 0.0,\n        \"max\": 69.0,\n        \"num_unique_values\": 53,\n        \"samples\": [\n          11.0,\n          31.0,\n          32.0\n        ],\n        \"semantic_type\": \"\",\n        \"description\": \"\"\n      }\n    },\n    {\n      \"column\": \"telefone_trab\",\n      \"properties\": {\n        \"dtype\": \"number\",\n        \"std\": 0,\n        \"min\": 0,\n        \"max\": 1,\n        \"num_unique_values\": 2,\n        \"samples\": [\n          0,\n          1\n        ],\n        \"semantic_type\": \"\",\n        \"description\": \"\"\n      }\n    },\n    {\n      \"column\": \"avaliacao_cidade\",\n      \"properties\": {\n        \"dtype\": \"number\",\n        \"std\": 0.49880682251877845,\n        \"min\": 1.0,\n        \"max\": 3.0,\n        \"num_unique_values\": 4,\n        \"samples\": [\n          3.0,\n          2.030038427084816\n        ],\n        \"semantic_type\": \"\",\n        \"description\": \"\"\n      }\n    },\n    {\n      \"column\": \"score_1\",\n      \"properties\": {\n        \"dtype\": \"number\",\n        \"std\": 0.14238945649917853,\n        \"min\": 0.014568132,\n        \"max\": 0.942680454,\n        \"num_unique_values\": 23062,\n        \"samples\": [\n          0.475611877,\n          0.435226091\n        ],\n        \"semantic_type\": \"\",\n        \"description\": \"\"\n      }\n    },\n    {\n      \"column\": \"score_2\",\n      \"properties\": {\n        \"dtype\": \"number\",\n        \"std\": 0.8759454878096079,\n        \"min\": 5e-06,\n        \"max\": 100.0,\n        \"num_unique_values\": 38047,\n        \"samples\": [\n          0.416306086,\n          0.675062411\n        ],\n        \"semantic_type\": \"\",\n        \"description\": \"\"\n      }\n    },\n    {\n      \"column\": \"score_3\",\n      \"properties\": {\n        \"dtype\": \"number\",\n        \"std\": 0.06272486372343226,\n        \"min\": 0.000527265,\n        \"max\": 0.869210801,\n        \"num_unique_values\": 612,\n        \"samples\": [\n          0.420610964,\n          0.168416171\n        ],\n        \"semantic_type\": \"\",\n        \"description\": \"\"\n      }\n    },\n    {\n      \"column\": \"score_social\",\n      \"properties\": {\n        \"dtype\": \"number\",\n        \"std\": 0.0761796573204536,\n        \"min\": 0.0,\n        \"max\": 1.0,\n        \"num_unique_values\": 1459,\n        \"samples\": [\n          0.1674,\n          0.6381\n        ],\n        \"semantic_type\": \"\",\n        \"description\": \"\"\n      }\n    },\n    {\n      \"column\": \"troca_telefone\",\n      \"properties\": {\n        \"dtype\": \"number\",\n        \"std\": 818.1417090553241,\n        \"min\": 0.0,\n        \"max\": 4185.0,\n        \"num_unique_values\": 3408,\n        \"samples\": [\n          966.0,\n          3099.0\n        ],\n        \"semantic_type\": \"\",\n        \"description\": \"\"\n      }\n    },\n    {\n      \"column\": \"inadimplente\",\n      \"properties\": {\n        \"dtype\": \"number\",\n        \"std\": 0,\n        \"min\": 0,\n        \"max\": 1,\n        \"num_unique_values\": 2,\n        \"samples\": [\n          1,\n          0\n        ],\n        \"semantic_type\": \"\",\n        \"description\": \"\"\n      }\n    }\n  ]\n}"
            }
          },
          "metadata": {},
          "execution_count": 67
        }
      ]
    },
    {
      "cell_type": "markdown",
      "source": [
        "Na próxima célula, vamos explorar esses dados para identificar quais tipos de informação temos nesse arquivo. Então, escrevemos dados na próxima célula e executamos o código.\n",
        "\n",
        "Depois de executar o código, obtemos uma tabela com diversas informações a respeito dos clientes. Essas informações são históricas, ou seja, informações passadas a respeito desses clientes.\n",
        "\n",
        "Temos as colunas de receita do cliente, anuidade do empréstimo, os anos de casa proprietário e assim por diante. A última coluna dessa base de dados é a coluna \"inadimplente\" que informa se o cliente pagou o empréstimo ou não.\n",
        "\n",
        "O valor 0 indica que o cliente pagou o empréstimo no tempo devido. E o valor 1 significa que o cliente é inadimplente, ou seja, não pagou o empréstimo do veículo.\n",
        "\n",
        "Todas as informações que temos a respeito desses clientes estão em formato numérico. Isso é muito importante para os algoritmos de inteligência artificial porque eles só conseguem compreender informações numéricas. Além disso, essa base de dados já veio totalmente tratada, então não precisaremos fazer nenhum tratamento nessa base de dados.\n",
        "\n",
        "Tudo que precisamos fazer aqui é executar um algoritmo que selecionaremos, que será o de árvore de decisão.\n",
        "\n",
        "Mas antes de fazermos isso, vamos separar as variáveis, as colunas das variáveis explicativas, ou seja, são as informações que explicam o padrão dos dados, e a variável \"inadimplente\". Então, vamos colocar essa variável separada das demais, que é a variável alvo. É a classe que estamos querendo identificar, que nós queremos classificar com nosso algoritmo de inteligência artificial.\n",
        "\n",
        "Na próxima célula, primeiramente faremos essa divisão das variáveis explicativas e da variável alvo. Vamos chamar as variáveis explicativas de \"X\", escreveremos:\n",
        "\n",
        "As variáveis explicativas serão todas as colunas da base de dados, com exceção da coluna \"inadimplente\". Assim, vamos utilizar o método drop() para remover essa coluna \"inadimplente\".\n",
        "\n",
        "Então, como parâmetro da função 'drop', vamos passar 'Inadimplente', entre aspas. Além disso, como segundo parâmetro, axis = 1, para identificar que essa remoção está ocorrendo nas colunas da base de dados.\n",
        "\n",
        "Na mesma célula, vamos separar também a variável alvo, que chamaremos de \"Y\". Então, escreveremos Y = dados[‘inadimplente’]. Estamos selecionando justamente a coluna 'Inadimplente'. Agora podemos executar essa célula com \"Ctrl + Enter\". Desta forma, os dados serão divididos, separados entre variável alvo e variáveis explicativas."
      ],
      "metadata": {
        "id": "9qKe8XgjmySN"
      }
    },
    {
      "cell_type": "code",
      "source": [
        "x = dados.drop('inadimplente', axis = 1)\n",
        "y = dados ['inadimplente']"
      ],
      "metadata": {
        "id": "NKbv-w-3leuU"
      },
      "execution_count": 68,
      "outputs": []
    },
    {
      "cell_type": "markdown",
      "source": [
        "### Árvore de decisão\n",
        "\n",
        "Agora, iremos utilizar o algoritmo de Árvores de Decisão, que toma decisões baseadas no padrão dos dados para classificar os clientes entre adimplente e inadimplente.\n",
        "\n",
        "Para isso, primeiramente, é necessário fazer a importação do método, da função capaz de executar esse algoritmo. Esse algoritmo está disponibilizado na biblioteca scikit-learn, que já vem instalada no Google Colab.\n",
        "\n",
        "Na próxima célula, escreveremos from sklearn.tree import DecisionTreeClassifier. A palavra \"tree\" refere-se ao módulo dos algoritmos baseados em árvore, que é a árvore de decisão que usaremos. Aqui as letras \"D\", \"T\" e \"C\" estão em caixa alta, e \"Classifier\" aqui indica que é um algoritmo do tipo classificação.\n",
        "\n",
        "Estamos usando um algoritmo deste tipo porque estamos classificando nossos dados entre duas categorias, a categoria 0 e a categoria 1, que representam os adimplentes e os inadimplentes.\n",
        "\n"
      ],
      "metadata": {
        "id": "E6-JRHmbnA1A"
      }
    },
    {
      "cell_type": "code",
      "source": [
        "from sklearn.tree import DecisionTreeClassifier"
      ],
      "metadata": {
        "id": "FTipCyhPmQX2"
      },
      "execution_count": 69,
      "outputs": []
    },
    {
      "cell_type": "markdown",
      "source": [
        "Ao executar essa célula, já importamos o algoritmo. Agora, vamos ajustar esse algoritmo em um modelo.\n",
        "\n",
        "Vamos ajustar o modelo a esses dados de x e y que temos aqui.\n",
        "\n",
        "Na próxima célula, escreveremos modelo e vamos inicializar esse modelo. Vamos armazenar em uma variável, escrevendo modelo = DecisionTreeClassifier().\n",
        "\n",
        "Na mesma célula, vamos finalizar o ajuste usando esse algoritmo para moldar nossos dados. Para isso, usaremos o método fit() a partir do modelo. Então, escreveremos modelo.fit(x, y). A partir da aplicação do método fit(), a variável modelo vai armazenar o padrão daqueles dados e vai conseguir classificar dados novos.\n",
        "\n",
        "Posteriormente, conseguiremos avaliar quão bem esse modelo está apresentando resultados em fazer essa classificação.\n",
        "\n",
        "Podemos utilizar o método score() para fazer essa avaliação. Portanto, na mesma célula, escreveremos modelo.score(x, y). A partir das variáveis explicativas armazenadas em x, o modelo fará a classificação desses dados da variável x, obterá o resultado da classificação e comparará o resultado com os dados armazenados na variável y.\n",
        "\n",
        "A partir dessas comparações, obtemos uma taxa de acerto. Vamos agora executar essa célula, para identificar o quão preciso foi o nosso modelo."
      ],
      "metadata": {
        "id": "VCB0y3VEnQgi"
      }
    },
    {
      "cell_type": "code",
      "source": [
        "modelo = DecisionTreeClassifier()\n",
        "modelo.fit(x, y)\n",
        "modelo.score(x, y)"
      ],
      "metadata": {
        "id": "_lzOsMZamTZr",
        "colab": {
          "base_uri": "https://localhost:8080/"
        },
        "outputId": "655125a0-f1fd-497c-c2ba-f98ea9d73f29"
      },
      "execution_count": 70,
      "outputs": [
        {
          "output_type": "execute_result",
          "data": {
            "text/plain": [
              "1.0"
            ]
          },
          "metadata": {},
          "execution_count": 70
        }
      ]
    },
    {
      "cell_type": "markdown",
      "source": [
        "Obtivemos um resultado de 1.0. Esse \"1.0\" representa uma métrica conhecida como acurácia, que é a taxa de acerto geral do modelo. Essa métrica é a resultante da comparação da classificação feita com base nas variáveis explicativas, comparando o resultado com os dados reais armazenados na variável y. Fazendo essa comparação, obtivemos um resultado de 1.0, que em porcentagem é 100%. Isso significa que o nosso modelo não cometeu erros de classificação.\n",
        "\n",
        "Para documentarmos esse resultado, vamos inserir na próxima célula um print com essa informação. Portanto, escreva:"
      ],
      "metadata": {
        "id": "DqqHIk3MnVQn"
      }
    },
    {
      "cell_type": "code",
      "source": [
        "print(f'Acurácia: {modelo.score(x, y)}')"
      ],
      "metadata": {
        "id": "D1j60eFOeY4-",
        "colab": {
          "base_uri": "https://localhost:8080/"
        },
        "outputId": "c90d4c14-d8d6-4518-fa19-2ec7d8717908"
      },
      "execution_count": 71,
      "outputs": [
        {
          "output_type": "stream",
          "name": "stdout",
          "text": [
            "Acurácia: 1.0\n"
          ]
        }
      ]
    },
    {
      "cell_type": "markdown",
      "source": [
        "Ao executar essa célula, obtemos a informação de acurácia de 1.0. Isso significa que esse modelo não está errando em nenhum momento na classificação dos dados. Seria excelente, pois queremos um modelo que classifique de forma correta os dados de clientes inadimplentes e adimplentes.\n",
        "\n",
        "Porém, veremos no próximo vídeo que este resultado é enganoso. Estamos utilizando a acurácia somente na avaliação dos dados de treinamento, isto é, os dados que foram usados para ensinar o modelo a identificar os padrões.\n",
        "\n",
        "Os dados usados para avaliar o desempenho do modelo deveriam ser diferentes dos dados usados para treinamento. Se isso não ocorrer, pode-se cometer um erro em avaliar se o modelo está realmente entendendo o padrão dos dados ou se está apenas memorizando o resultado. No próximo vídeo, explicaremos como fazer essa separação corretamente."
      ],
      "metadata": {
        "id": "QzXCFjypnZEz"
      }
    },
    {
      "cell_type": "markdown",
      "source": [
        "## Validando o modelo"
      ],
      "metadata": {
        "id": "F5l1z5F5hUIU"
      }
    },
    {
      "cell_type": "markdown",
      "source": [
        "Com o objetivo de identificar clientes inadimplentes para uma empresa de empréstimos de automóveis, criamos um modelo de classificação utilizando os dados fornecidos por essa empresa. Obtivemos um resultado de acerto, conhecido como acurácia, de 100%, indicando que o modelo está acertando todas as classificações que realizou.\n",
        "\n",
        "No entanto, a validação do nosso modelo foi feita de forma pouco efetiva. Utilizamos os mesmos dados usados para o treinamento do modelo para fazer a avaliação.\n",
        "\n",
        "Isso equivale a entregar uma prova com gabarito para uma pessoa resolver, nessa prova, com o gabarito a pessoa já terá as respostas de todas as perguntas. Dessa forma, se quisermos que essa pessoa entenda o conteúdo da prova, ela poderia simplesmente memorizar o resultado com o gabarito e aplicar numa nova prova. E é exatamente isso que estamos fazendo. Estamos dando a essa pessoa a mesma prova novamente, com as mesmas questões e, consequentemente, com as mesmas respostas.\n",
        "\n",
        "Portanto, é natural que essa pessoa acerte tudo, não porque ela entendeu a matéria, de fato, mas porque memorizou o resultado. Isso não significa que o modelo que construímos memorizou o resultado. Ainda não sabemos se isso aconteceu. No entanto, como aplicamos a mesma prova, ou seja, utilizamos os mesmos dados, não sabemos se é isso que está de fato ocorrendo.\n",
        "\n",
        "Então, precisamos fazer uma validação de forma mais coerente. Precisamos passar novos dados para o modelo fazer a classificação. E nesses dados, já conheceremos a resposta, e poderemos comparar a resposta que o modelo deu para esses dados com as respostas reais e verificar se, de fato, está acertando. Dessa maneira, entenderemos se o modelo está aprendendo, ou seja, se está generalizando para novos dados ou não.\n",
        "\n",
        "Para realizar essa tarefa de validação, podemos dividir nossos dados em duas partes: uma parte de treinamento e uma parte de validação. Ainda podemos utilizar outra estratégia, em vez de dividir nossos dados em apenas duas partes, vamos dividi-los em três: treinamento, validação e teste.\n",
        "\n",
        "Qual a diferença de utilizar essas duas estratégias?\n",
        "\n",
        "Na primeira, onde temos apenas treino e teste, vamos treinar o modelo na base de dados de treinamento e avaliar na base de dados de teste, que são dados que não foram usados no treinamento, sendo assim, verificaremos se o modelo está fazendo a generalização.\n",
        "\n",
        "Na segunda estratégia, que separa entre treino, validação e teste, deixamos uma parte de teste separada durante todo o projeto e fazemos a validação do modelo no conjunto de dados de validação.\n",
        "\n",
        "Assim, treinamos o modelo, fazemos a validação daquele modelo num conjunto de validação e deixamos separado um conjunto de teste até o final do projeto.\n",
        "\n",
        "Por que fazer isso?\n",
        "\n",
        "Ao longo do projeto, comparamos diversos modelos e aprimoramos o nosso modelo conforme os dados de validação. No entanto, para não carregar um viés para esse modelo, ou seja, estamos sempre melhorando aquele modelo com base em determinados dados. E se formos avaliar o modelo numa base de dados do mundo real, não saberemos como será o comportamento dele, porque sempre utilizamos um determinado padrão de dados para melhorá-lo.\n",
        "\n",
        "Portanto, quando fazemos a separação de dados de teste, conseguimos, na escolha do melhor modelo durante o projeto, realizar essa última checagem para ver o desempenho do modelo em dados do mundo real, que ele nunca viu no processo de melhoria do modelo.\n",
        "\n",
        "Desta forma, é isso que faremos.\n",
        "\n",
        "Vamos dividir nossos dados em três partes: treinamento, validação e teste.\n",
        "\n",
        "Para isso, utilizaremos uma função da biblioteca scikit-learn chamada train_test_split.\n",
        "\n",
        "Porém, esta função permite somente a separação dos dados em treino e teste. Então, primeiramente faremos uma divisão que inclui treino e validação juntos, e teste separado. Em seguida, iremos subdividir os dados de treino e validação em duas partes.\n",
        "\n",
        "Primeiramente, precisamos importar a função train_test_split. Então, escreva:"
      ],
      "metadata": {
        "id": "lp-ZtaXBf5Vd"
      }
    },
    {
      "cell_type": "code",
      "source": [
        "from sklearn.model_selection import train_test_split"
      ],
      "metadata": {
        "id": "IJs6tyWDf8bJ"
      },
      "execution_count": 72,
      "outputs": []
    },
    {
      "cell_type": "markdown",
      "source": [
        "Depois de importada a função, podemos fazer a primeira separação. Vamos fazer a separação de treino e validação em um mesmo conjunto de dados, que será chamado de x. Esse conjunto substituirá o valor x existente. A outra parte será os dados de teste.\n",
        "\n",
        "Portanto, vamos criar variáveis chamadas de x_test e y_test, que vão armazenar esses dados. Para separá-los, podemos escrever o seguinte:"
      ],
      "metadata": {
        "id": "-h2yTxDqf_h4"
      }
    },
    {
      "cell_type": "code",
      "source": [
        "x, x_teste, y, y_teste = train_test_split(x, y, test_size = 0.15, stratify = y, random_state = 5)"
      ],
      "metadata": {
        "id": "y6Di2VrXgC2s"
      },
      "execution_count": 73,
      "outputs": []
    },
    {
      "cell_type": "markdown",
      "source": [
        "Neste fragmento de código, passamos para a função train_test_split a base de dados com os valores de x, que são as variáveis explicativas, e a variável alvo y. Definimos também que 15% dos nossos dados (ou seja, test_size = 0.15) serão usados para teste.\n",
        "\n",
        "Além disso, usamos o parâmetro stratify para estratificar os nossos dados. Isso significa que manteremos as proporções de pessoas inadimplentes e adimplentes nesses dois conjuntos de dados.\n",
        "\n",
        "Assim, mantemos a mesma proporção para que tanto nos dados de teste quanto nos dados de treino estejam representadas as mesmas proporções de dados.\n",
        "\n",
        "Por fim, definimos o parâmetro random_state como 5. Isso porque a divisão feita por train_test_split é realizada de forma aleatória. Com random_state = 5, mesmo sendo uma escolha aleatória, você obterá o mesmo resultado obtido aqui.\n",
        "\n",
        "Agora, podemos fazer a subdivisão dos dados de treino e validação. Vamos utilizar a mesma função train_test_split, mas desta vez iremos usar os dados armazenados em x e y. Lembrando que esses não são os mesmos dados iniciais, pois substituímos o dado x e y por essas novas variáveis, ou seja, somente essa parte de treino e validação está sendo separada aqui agora entre treino e validação."
      ],
      "metadata": {
        "id": "ae9RWQ_8gFyK"
      }
    },
    {
      "cell_type": "code",
      "source": [
        "x_treino, x_val, y_treino, y_val = train_test_split(x, y, stratify = y, random_state = 5)"
      ],
      "metadata": {
        "id": "hdhESYMkgJgY"
      },
      "execution_count": 74,
      "outputs": []
    },
    {
      "cell_type": "markdown",
      "source": [
        "Vamos abrir essa célula e passar o parâmetro stratify igual a y e o random_state igual a 5, isso para manter a proporção dos dados e garantir que o resultado que estamos construindo aqui seja o mesmo que você obterá nas vezes em que executar esse código."
      ],
      "metadata": {
        "id": "KYD20PWPgNpT"
      }
    },
    {
      "cell_type": "code",
      "source": [
        "x, x_teste, y, y_teste = train_test_split(x, y, test_size = 0.15, stratify = y, random_state = 5)\n",
        "x_treino, x_val, y_treino, y_val = train_test_split(x, y, stratify = y, random_state = 5)"
      ],
      "metadata": {
        "id": "8I6hxEymd2Hv"
      },
      "execution_count": 75,
      "outputs": []
    },
    {
      "cell_type": "markdown",
      "source": [
        "Vamos executar essa célula e fazer a divisão dos dados.\n",
        "\n",
        "Feita a divisão dos dados, vamos criar novamente o modelo. Desta vez, nós não avaliaremos o modelo nos mesmos dados que usamos para o treinamento. Vamos treinar e ajustar nosso modelo com os dados de treino e avaliar o resultado nos dados de validação. Os dados de teste (as variáveis x_test e y_teste) ficarão separados e não serão utilizados agora, guardaremos para um momento posterior do curso.\n",
        "\n",
        "Vamos iniciar nosso modelo escrevendo: modelo = DecisionTreeClassifier. Em seguida, ajustaremos nosso modelo escrevendo: modelo.fit, passando como parâmetros x_treino e y_treino. Dessa maneira, o modelo será ajustado, compreendendo o padrão dos dados apenas com base na sessão de treinamento."
      ],
      "metadata": {
        "id": "ZTbZJY3EgU2T"
      }
    },
    {
      "cell_type": "code",
      "source": [
        "modelo = DecisionTreeClassifier()\n",
        "modelo.fit(x_treino, y_treino)"
      ],
      "metadata": {
        "colab": {
          "base_uri": "https://localhost:8080/",
          "height": 80
        },
        "id": "jXJ2ed9SgZ_t",
        "outputId": "6dc357e3-af94-4bc2-f3dc-634f977c11f5"
      },
      "execution_count": 76,
      "outputs": [
        {
          "output_type": "execute_result",
          "data": {
            "text/plain": [
              "DecisionTreeClassifier()"
            ],
            "text/html": [
              "<style>#sk-container-id-2 {\n",
              "  /* Definition of color scheme common for light and dark mode */\n",
              "  --sklearn-color-text: #000;\n",
              "  --sklearn-color-text-muted: #666;\n",
              "  --sklearn-color-line: gray;\n",
              "  /* Definition of color scheme for unfitted estimators */\n",
              "  --sklearn-color-unfitted-level-0: #fff5e6;\n",
              "  --sklearn-color-unfitted-level-1: #f6e4d2;\n",
              "  --sklearn-color-unfitted-level-2: #ffe0b3;\n",
              "  --sklearn-color-unfitted-level-3: chocolate;\n",
              "  /* Definition of color scheme for fitted estimators */\n",
              "  --sklearn-color-fitted-level-0: #f0f8ff;\n",
              "  --sklearn-color-fitted-level-1: #d4ebff;\n",
              "  --sklearn-color-fitted-level-2: #b3dbfd;\n",
              "  --sklearn-color-fitted-level-3: cornflowerblue;\n",
              "\n",
              "  /* Specific color for light theme */\n",
              "  --sklearn-color-text-on-default-background: var(--sg-text-color, var(--theme-code-foreground, var(--jp-content-font-color1, black)));\n",
              "  --sklearn-color-background: var(--sg-background-color, var(--theme-background, var(--jp-layout-color0, white)));\n",
              "  --sklearn-color-border-box: var(--sg-text-color, var(--theme-code-foreground, var(--jp-content-font-color1, black)));\n",
              "  --sklearn-color-icon: #696969;\n",
              "\n",
              "  @media (prefers-color-scheme: dark) {\n",
              "    /* Redefinition of color scheme for dark theme */\n",
              "    --sklearn-color-text-on-default-background: var(--sg-text-color, var(--theme-code-foreground, var(--jp-content-font-color1, white)));\n",
              "    --sklearn-color-background: var(--sg-background-color, var(--theme-background, var(--jp-layout-color0, #111)));\n",
              "    --sklearn-color-border-box: var(--sg-text-color, var(--theme-code-foreground, var(--jp-content-font-color1, white)));\n",
              "    --sklearn-color-icon: #878787;\n",
              "  }\n",
              "}\n",
              "\n",
              "#sk-container-id-2 {\n",
              "  color: var(--sklearn-color-text);\n",
              "}\n",
              "\n",
              "#sk-container-id-2 pre {\n",
              "  padding: 0;\n",
              "}\n",
              "\n",
              "#sk-container-id-2 input.sk-hidden--visually {\n",
              "  border: 0;\n",
              "  clip: rect(1px 1px 1px 1px);\n",
              "  clip: rect(1px, 1px, 1px, 1px);\n",
              "  height: 1px;\n",
              "  margin: -1px;\n",
              "  overflow: hidden;\n",
              "  padding: 0;\n",
              "  position: absolute;\n",
              "  width: 1px;\n",
              "}\n",
              "\n",
              "#sk-container-id-2 div.sk-dashed-wrapped {\n",
              "  border: 1px dashed var(--sklearn-color-line);\n",
              "  margin: 0 0.4em 0.5em 0.4em;\n",
              "  box-sizing: border-box;\n",
              "  padding-bottom: 0.4em;\n",
              "  background-color: var(--sklearn-color-background);\n",
              "}\n",
              "\n",
              "#sk-container-id-2 div.sk-container {\n",
              "  /* jupyter's `normalize.less` sets `[hidden] { display: none; }`\n",
              "     but bootstrap.min.css set `[hidden] { display: none !important; }`\n",
              "     so we also need the `!important` here to be able to override the\n",
              "     default hidden behavior on the sphinx rendered scikit-learn.org.\n",
              "     See: https://github.com/scikit-learn/scikit-learn/issues/21755 */\n",
              "  display: inline-block !important;\n",
              "  position: relative;\n",
              "}\n",
              "\n",
              "#sk-container-id-2 div.sk-text-repr-fallback {\n",
              "  display: none;\n",
              "}\n",
              "\n",
              "div.sk-parallel-item,\n",
              "div.sk-serial,\n",
              "div.sk-item {\n",
              "  /* draw centered vertical line to link estimators */\n",
              "  background-image: linear-gradient(var(--sklearn-color-text-on-default-background), var(--sklearn-color-text-on-default-background));\n",
              "  background-size: 2px 100%;\n",
              "  background-repeat: no-repeat;\n",
              "  background-position: center center;\n",
              "}\n",
              "\n",
              "/* Parallel-specific style estimator block */\n",
              "\n",
              "#sk-container-id-2 div.sk-parallel-item::after {\n",
              "  content: \"\";\n",
              "  width: 100%;\n",
              "  border-bottom: 2px solid var(--sklearn-color-text-on-default-background);\n",
              "  flex-grow: 1;\n",
              "}\n",
              "\n",
              "#sk-container-id-2 div.sk-parallel {\n",
              "  display: flex;\n",
              "  align-items: stretch;\n",
              "  justify-content: center;\n",
              "  background-color: var(--sklearn-color-background);\n",
              "  position: relative;\n",
              "}\n",
              "\n",
              "#sk-container-id-2 div.sk-parallel-item {\n",
              "  display: flex;\n",
              "  flex-direction: column;\n",
              "}\n",
              "\n",
              "#sk-container-id-2 div.sk-parallel-item:first-child::after {\n",
              "  align-self: flex-end;\n",
              "  width: 50%;\n",
              "}\n",
              "\n",
              "#sk-container-id-2 div.sk-parallel-item:last-child::after {\n",
              "  align-self: flex-start;\n",
              "  width: 50%;\n",
              "}\n",
              "\n",
              "#sk-container-id-2 div.sk-parallel-item:only-child::after {\n",
              "  width: 0;\n",
              "}\n",
              "\n",
              "/* Serial-specific style estimator block */\n",
              "\n",
              "#sk-container-id-2 div.sk-serial {\n",
              "  display: flex;\n",
              "  flex-direction: column;\n",
              "  align-items: center;\n",
              "  background-color: var(--sklearn-color-background);\n",
              "  padding-right: 1em;\n",
              "  padding-left: 1em;\n",
              "}\n",
              "\n",
              "\n",
              "/* Toggleable style: style used for estimator/Pipeline/ColumnTransformer box that is\n",
              "clickable and can be expanded/collapsed.\n",
              "- Pipeline and ColumnTransformer use this feature and define the default style\n",
              "- Estimators will overwrite some part of the style using the `sk-estimator` class\n",
              "*/\n",
              "\n",
              "/* Pipeline and ColumnTransformer style (default) */\n",
              "\n",
              "#sk-container-id-2 div.sk-toggleable {\n",
              "  /* Default theme specific background. It is overwritten whether we have a\n",
              "  specific estimator or a Pipeline/ColumnTransformer */\n",
              "  background-color: var(--sklearn-color-background);\n",
              "}\n",
              "\n",
              "/* Toggleable label */\n",
              "#sk-container-id-2 label.sk-toggleable__label {\n",
              "  cursor: pointer;\n",
              "  display: flex;\n",
              "  width: 100%;\n",
              "  margin-bottom: 0;\n",
              "  padding: 0.5em;\n",
              "  box-sizing: border-box;\n",
              "  text-align: center;\n",
              "  align-items: start;\n",
              "  justify-content: space-between;\n",
              "  gap: 0.5em;\n",
              "}\n",
              "\n",
              "#sk-container-id-2 label.sk-toggleable__label .caption {\n",
              "  font-size: 0.6rem;\n",
              "  font-weight: lighter;\n",
              "  color: var(--sklearn-color-text-muted);\n",
              "}\n",
              "\n",
              "#sk-container-id-2 label.sk-toggleable__label-arrow:before {\n",
              "  /* Arrow on the left of the label */\n",
              "  content: \"▸\";\n",
              "  float: left;\n",
              "  margin-right: 0.25em;\n",
              "  color: var(--sklearn-color-icon);\n",
              "}\n",
              "\n",
              "#sk-container-id-2 label.sk-toggleable__label-arrow:hover:before {\n",
              "  color: var(--sklearn-color-text);\n",
              "}\n",
              "\n",
              "/* Toggleable content - dropdown */\n",
              "\n",
              "#sk-container-id-2 div.sk-toggleable__content {\n",
              "  max-height: 0;\n",
              "  max-width: 0;\n",
              "  overflow: hidden;\n",
              "  text-align: left;\n",
              "  /* unfitted */\n",
              "  background-color: var(--sklearn-color-unfitted-level-0);\n",
              "}\n",
              "\n",
              "#sk-container-id-2 div.sk-toggleable__content.fitted {\n",
              "  /* fitted */\n",
              "  background-color: var(--sklearn-color-fitted-level-0);\n",
              "}\n",
              "\n",
              "#sk-container-id-2 div.sk-toggleable__content pre {\n",
              "  margin: 0.2em;\n",
              "  border-radius: 0.25em;\n",
              "  color: var(--sklearn-color-text);\n",
              "  /* unfitted */\n",
              "  background-color: var(--sklearn-color-unfitted-level-0);\n",
              "}\n",
              "\n",
              "#sk-container-id-2 div.sk-toggleable__content.fitted pre {\n",
              "  /* unfitted */\n",
              "  background-color: var(--sklearn-color-fitted-level-0);\n",
              "}\n",
              "\n",
              "#sk-container-id-2 input.sk-toggleable__control:checked~div.sk-toggleable__content {\n",
              "  /* Expand drop-down */\n",
              "  max-height: 200px;\n",
              "  max-width: 100%;\n",
              "  overflow: auto;\n",
              "}\n",
              "\n",
              "#sk-container-id-2 input.sk-toggleable__control:checked~label.sk-toggleable__label-arrow:before {\n",
              "  content: \"▾\";\n",
              "}\n",
              "\n",
              "/* Pipeline/ColumnTransformer-specific style */\n",
              "\n",
              "#sk-container-id-2 div.sk-label input.sk-toggleable__control:checked~label.sk-toggleable__label {\n",
              "  color: var(--sklearn-color-text);\n",
              "  background-color: var(--sklearn-color-unfitted-level-2);\n",
              "}\n",
              "\n",
              "#sk-container-id-2 div.sk-label.fitted input.sk-toggleable__control:checked~label.sk-toggleable__label {\n",
              "  background-color: var(--sklearn-color-fitted-level-2);\n",
              "}\n",
              "\n",
              "/* Estimator-specific style */\n",
              "\n",
              "/* Colorize estimator box */\n",
              "#sk-container-id-2 div.sk-estimator input.sk-toggleable__control:checked~label.sk-toggleable__label {\n",
              "  /* unfitted */\n",
              "  background-color: var(--sklearn-color-unfitted-level-2);\n",
              "}\n",
              "\n",
              "#sk-container-id-2 div.sk-estimator.fitted input.sk-toggleable__control:checked~label.sk-toggleable__label {\n",
              "  /* fitted */\n",
              "  background-color: var(--sklearn-color-fitted-level-2);\n",
              "}\n",
              "\n",
              "#sk-container-id-2 div.sk-label label.sk-toggleable__label,\n",
              "#sk-container-id-2 div.sk-label label {\n",
              "  /* The background is the default theme color */\n",
              "  color: var(--sklearn-color-text-on-default-background);\n",
              "}\n",
              "\n",
              "/* On hover, darken the color of the background */\n",
              "#sk-container-id-2 div.sk-label:hover label.sk-toggleable__label {\n",
              "  color: var(--sklearn-color-text);\n",
              "  background-color: var(--sklearn-color-unfitted-level-2);\n",
              "}\n",
              "\n",
              "/* Label box, darken color on hover, fitted */\n",
              "#sk-container-id-2 div.sk-label.fitted:hover label.sk-toggleable__label.fitted {\n",
              "  color: var(--sklearn-color-text);\n",
              "  background-color: var(--sklearn-color-fitted-level-2);\n",
              "}\n",
              "\n",
              "/* Estimator label */\n",
              "\n",
              "#sk-container-id-2 div.sk-label label {\n",
              "  font-family: monospace;\n",
              "  font-weight: bold;\n",
              "  display: inline-block;\n",
              "  line-height: 1.2em;\n",
              "}\n",
              "\n",
              "#sk-container-id-2 div.sk-label-container {\n",
              "  text-align: center;\n",
              "}\n",
              "\n",
              "/* Estimator-specific */\n",
              "#sk-container-id-2 div.sk-estimator {\n",
              "  font-family: monospace;\n",
              "  border: 1px dotted var(--sklearn-color-border-box);\n",
              "  border-radius: 0.25em;\n",
              "  box-sizing: border-box;\n",
              "  margin-bottom: 0.5em;\n",
              "  /* unfitted */\n",
              "  background-color: var(--sklearn-color-unfitted-level-0);\n",
              "}\n",
              "\n",
              "#sk-container-id-2 div.sk-estimator.fitted {\n",
              "  /* fitted */\n",
              "  background-color: var(--sklearn-color-fitted-level-0);\n",
              "}\n",
              "\n",
              "/* on hover */\n",
              "#sk-container-id-2 div.sk-estimator:hover {\n",
              "  /* unfitted */\n",
              "  background-color: var(--sklearn-color-unfitted-level-2);\n",
              "}\n",
              "\n",
              "#sk-container-id-2 div.sk-estimator.fitted:hover {\n",
              "  /* fitted */\n",
              "  background-color: var(--sklearn-color-fitted-level-2);\n",
              "}\n",
              "\n",
              "/* Specification for estimator info (e.g. \"i\" and \"?\") */\n",
              "\n",
              "/* Common style for \"i\" and \"?\" */\n",
              "\n",
              ".sk-estimator-doc-link,\n",
              "a:link.sk-estimator-doc-link,\n",
              "a:visited.sk-estimator-doc-link {\n",
              "  float: right;\n",
              "  font-size: smaller;\n",
              "  line-height: 1em;\n",
              "  font-family: monospace;\n",
              "  background-color: var(--sklearn-color-background);\n",
              "  border-radius: 1em;\n",
              "  height: 1em;\n",
              "  width: 1em;\n",
              "  text-decoration: none !important;\n",
              "  margin-left: 0.5em;\n",
              "  text-align: center;\n",
              "  /* unfitted */\n",
              "  border: var(--sklearn-color-unfitted-level-1) 1pt solid;\n",
              "  color: var(--sklearn-color-unfitted-level-1);\n",
              "}\n",
              "\n",
              ".sk-estimator-doc-link.fitted,\n",
              "a:link.sk-estimator-doc-link.fitted,\n",
              "a:visited.sk-estimator-doc-link.fitted {\n",
              "  /* fitted */\n",
              "  border: var(--sklearn-color-fitted-level-1) 1pt solid;\n",
              "  color: var(--sklearn-color-fitted-level-1);\n",
              "}\n",
              "\n",
              "/* On hover */\n",
              "div.sk-estimator:hover .sk-estimator-doc-link:hover,\n",
              ".sk-estimator-doc-link:hover,\n",
              "div.sk-label-container:hover .sk-estimator-doc-link:hover,\n",
              ".sk-estimator-doc-link:hover {\n",
              "  /* unfitted */\n",
              "  background-color: var(--sklearn-color-unfitted-level-3);\n",
              "  color: var(--sklearn-color-background);\n",
              "  text-decoration: none;\n",
              "}\n",
              "\n",
              "div.sk-estimator.fitted:hover .sk-estimator-doc-link.fitted:hover,\n",
              ".sk-estimator-doc-link.fitted:hover,\n",
              "div.sk-label-container:hover .sk-estimator-doc-link.fitted:hover,\n",
              ".sk-estimator-doc-link.fitted:hover {\n",
              "  /* fitted */\n",
              "  background-color: var(--sklearn-color-fitted-level-3);\n",
              "  color: var(--sklearn-color-background);\n",
              "  text-decoration: none;\n",
              "}\n",
              "\n",
              "/* Span, style for the box shown on hovering the info icon */\n",
              ".sk-estimator-doc-link span {\n",
              "  display: none;\n",
              "  z-index: 9999;\n",
              "  position: relative;\n",
              "  font-weight: normal;\n",
              "  right: .2ex;\n",
              "  padding: .5ex;\n",
              "  margin: .5ex;\n",
              "  width: min-content;\n",
              "  min-width: 20ex;\n",
              "  max-width: 50ex;\n",
              "  color: var(--sklearn-color-text);\n",
              "  box-shadow: 2pt 2pt 4pt #999;\n",
              "  /* unfitted */\n",
              "  background: var(--sklearn-color-unfitted-level-0);\n",
              "  border: .5pt solid var(--sklearn-color-unfitted-level-3);\n",
              "}\n",
              "\n",
              ".sk-estimator-doc-link.fitted span {\n",
              "  /* fitted */\n",
              "  background: var(--sklearn-color-fitted-level-0);\n",
              "  border: var(--sklearn-color-fitted-level-3);\n",
              "}\n",
              "\n",
              ".sk-estimator-doc-link:hover span {\n",
              "  display: block;\n",
              "}\n",
              "\n",
              "/* \"?\"-specific style due to the `<a>` HTML tag */\n",
              "\n",
              "#sk-container-id-2 a.estimator_doc_link {\n",
              "  float: right;\n",
              "  font-size: 1rem;\n",
              "  line-height: 1em;\n",
              "  font-family: monospace;\n",
              "  background-color: var(--sklearn-color-background);\n",
              "  border-radius: 1rem;\n",
              "  height: 1rem;\n",
              "  width: 1rem;\n",
              "  text-decoration: none;\n",
              "  /* unfitted */\n",
              "  color: var(--sklearn-color-unfitted-level-1);\n",
              "  border: var(--sklearn-color-unfitted-level-1) 1pt solid;\n",
              "}\n",
              "\n",
              "#sk-container-id-2 a.estimator_doc_link.fitted {\n",
              "  /* fitted */\n",
              "  border: var(--sklearn-color-fitted-level-1) 1pt solid;\n",
              "  color: var(--sklearn-color-fitted-level-1);\n",
              "}\n",
              "\n",
              "/* On hover */\n",
              "#sk-container-id-2 a.estimator_doc_link:hover {\n",
              "  /* unfitted */\n",
              "  background-color: var(--sklearn-color-unfitted-level-3);\n",
              "  color: var(--sklearn-color-background);\n",
              "  text-decoration: none;\n",
              "}\n",
              "\n",
              "#sk-container-id-2 a.estimator_doc_link.fitted:hover {\n",
              "  /* fitted */\n",
              "  background-color: var(--sklearn-color-fitted-level-3);\n",
              "}\n",
              "</style><div id=\"sk-container-id-2\" class=\"sk-top-container\"><div class=\"sk-text-repr-fallback\"><pre>DecisionTreeClassifier()</pre><b>In a Jupyter environment, please rerun this cell to show the HTML representation or trust the notebook. <br />On GitHub, the HTML representation is unable to render, please try loading this page with nbviewer.org.</b></div><div class=\"sk-container\" hidden><div class=\"sk-item\"><div class=\"sk-estimator fitted sk-toggleable\"><input class=\"sk-toggleable__control sk-hidden--visually\" id=\"sk-estimator-id-2\" type=\"checkbox\" checked><label for=\"sk-estimator-id-2\" class=\"sk-toggleable__label fitted sk-toggleable__label-arrow\"><div><div>DecisionTreeClassifier</div></div><div><a class=\"sk-estimator-doc-link fitted\" rel=\"noreferrer\" target=\"_blank\" href=\"https://scikit-learn.org/1.6/modules/generated/sklearn.tree.DecisionTreeClassifier.html\">?<span>Documentation for DecisionTreeClassifier</span></a><span class=\"sk-estimator-doc-link fitted\">i<span>Fitted</span></span></div></label><div class=\"sk-toggleable__content fitted\"><pre>DecisionTreeClassifier()</pre></div> </div></div></div></div>"
            ]
          },
          "metadata": {},
          "execution_count": 76
        }
      ]
    },
    {
      "cell_type": "markdown",
      "source": [
        "Agora, utilizaremos a acurácia. Faremos duas acurácias diferentes, uma para o treinamento e outra para o teste, para conseguirmos comparar como o modelo performa utilizando os mesmos dados de treinamento e como se sai para dados novos."
      ],
      "metadata": {
        "id": "rlr14Y6XggUt"
      }
    },
    {
      "cell_type": "code",
      "source": [
        "modelo = DecisionTreeClassifier()\n",
        "modelo.fit(x_treino, y_treino)\n",
        "print(f'Acurácia de treino: {modelo.score(x_treino, y_treino)}')\n",
        "print(f'Acurácia de validação: {modelo.score(x_val, y_val)}')"
      ],
      "metadata": {
        "colab": {
          "base_uri": "https://localhost:8080/"
        },
        "id": "eciWP6xWgjfB",
        "outputId": "a0effd45-9bd9-43b2-c338-ce18c222f72a"
      },
      "execution_count": 77,
      "outputs": [
        {
          "output_type": "stream",
          "name": "stdout",
          "text": [
            "Acurácia de treino: 1.0\n",
            "Acurácia de validação: 0.8518138962902234\n"
          ]
        }
      ]
    },
    {
      "cell_type": "markdown",
      "source": [
        "Executando essa célula, obtivemos um resultado de acurácia de treino de 1.0 e um de validação de 0.84. Nos dados de treinamento, nosso modelo não errou.\n",
        "\n",
        "Porém, nos dados de validação, que são dados novos, ele obteve uma taxa de acerto de 84%. Isso indica que ele perdeu bastante desempenho ao tentar classificar dados que ele não viu durante o treinamento.\n",
        "\n",
        "Aconteceu algo muito ruim. A performance desse modelo caiu drasticamente. Ele teve uma performance de 100% nos dados de treinamento, ou seja, não errou, mas nos dados de validação que ele nunca viu, ele teve uma performance de 84%.\n",
        "\n",
        "O que pode estar acontecendo? Nosso modelo pode estar compreendendo muito bem os dados de treino ou pode estar decorando aquele padrão e tentando replicar o mesmo padrão para os dados de teste.\n",
        "\n",
        "### Parâmetro max_depth\n",
        "\n",
        "Para resolver essa situação, podemos passar um parâmetro para esse algoritmo de árvore de decisão, que será o parâmetro max_depth. Este parâmetro controla a profundidade máxima da árvore de decisão. Sem a passagem de nenhum parâmetro, o algoritmo tentará capturar todos os traços dos dados que foram utilizados no treinamento para fazer a classificação, levando a um sobreajuste desses dados.\n",
        "\n",
        "Ele vai entender completamente como os dados funcionam e tentará aplicar isso em dados que nunca viu.\n",
        "\n",
        "Vamos copiar esse código, colar na célula abaixo e modificar esse parâmetro da árvore de decisão para max_depth igual a 10. Assim, estabeleceremos uma profundidade máxima de 10."
      ],
      "metadata": {
        "id": "6KzcKkhIgvoQ"
      }
    },
    {
      "cell_type": "code",
      "source": [
        "modelo = DecisionTreeClassifier(max_depth = 10)\n",
        "modelo.fit(x_treino, y_treino)\n",
        "print(f'Acurácia de treino: {modelo.score(x_treino, y_treino)}')\n",
        "print(f'Acurácia de validação: {modelo.score(x_val, y_val)}')"
      ],
      "metadata": {
        "colab": {
          "base_uri": "https://localhost:8080/"
        },
        "id": "GF0FQV0Jgw85",
        "outputId": "161391ff-0e97-429f-c85c-2a0d929f074d"
      },
      "execution_count": 78,
      "outputs": [
        {
          "output_type": "stream",
          "name": "stdout",
          "text": [
            "Acurácia de treino: 0.9223201475712236\n",
            "Acurácia de validação: 0.9069481451117032\n"
          ]
        }
      ]
    },
    {
      "cell_type": "markdown",
      "source": [
        "Agora, obtivemos um resultado de acurácia de treino de 0.92. Ou seja, agora, o nosso modelo está errando mesmo para os dados de treinamento. Efetivamente, eu passei os mesmos dados para ele e ele não está tendo um acerto de 100%. Ele está acertando em 92%.\n",
        "\n",
        "Entretanto, veja que interessante, nos dados de validação, ele obteve uma acurácia de 0.90. Não foi a mesma dos dados de treinamento, mas melhorou em relação ao modelo anterior que era de 0.84. Isso indica que agora o nosso modelo está conseguindo entender melhor o padrão que existe nos dados e não apenas memorizando o resultado.\n",
        "\n",
        "### Conclusão\n",
        "\n",
        "Mas, até agora, avaliamos o nosso modelo utilizando apenas a acurácia, que reflete uma taxa de acerto geral do nosso modelo, isto é, se ele está acertando ou não de uma forma geral.\n",
        "\n",
        "Como podemos saber se o nosso modelo está acertando bem apenas para as pessoas inadimplentes ou apenas para as pessoas adimplentes? A acurácia não nos fornece essa informação e é exatamente isso que vamos explorar no próximo vídeo.\n",
        "\n",
        "Vamos ver uma maneira de avaliar o nosso modelo de forma mais específica para cada uma das classes."
      ],
      "metadata": {
        "id": "p33MYHLSgz67"
      }
    },
    {
      "cell_type": "markdown",
      "source": [
        "## Para saber mais: método holdout"
      ],
      "metadata": {
        "id": "4c0ggRO9hlGa"
      }
    },
    {
      "cell_type": "markdown",
      "source": [
        "No momento de validar modelos de classificação, precisamos checar se o modelo está de fato generalizando, ou seja, se está compreendendo o padrão dos dados e classificando corretamente dados novos. A estratégia mais simples para avaliar essa generalização, conhecida como holdout, consiste em dividir os dados em duas partes: um conjunto de dados de treinamento e outro de teste. O conjunto de treinamento é utilizado para treinar o modelo, enquanto o conjunto de teste é usado para avaliar o desempenho do modelo em dados não vistos anteriormente.\n",
        "\n",
        "Com o auxílio da imagem abaixo, analise a exemplificação do método holdout em funcionamento:\n",
        "\n",
        "<img src='https://raw.githubusercontent.com/rafaelreisramos/oracle-one/refs/heads/main/classificacao-validacao-modelos-metricas-avaliacao/assets/Aula1-img1.png' alt='diagrama indicando a divisão de dados em duas partes: uma de treinamento e outra de teste, com uma seta direcionada de “Dados” para “Treino”. A imagem oferece insight sobre como os conjuntos de treinamento e teste são empregados no método holdout.'/>\n",
        "\n",
        "Em alguns casos, especialmente quando se realiza ajustes finos nos parâmetros do modelo, é útil ter um conjunto de validação adicional. Nesse caso, a divisão é feita em três partes: conjunto de treino, conjunto de validação e conjunto de teste. O conjunto de validação é usado na comparação de diferentes modelos, na seleção do modelo mais adequado e no ajuste dos hiperparâmetros. Enquanto isso, o conjunto de teste continua sendo utilizado para avaliar o desempenho final do modelo escolhido, após todo o processo de ajuste.\n",
        "\n",
        "Por isso, quanto mais se utiliza os mesmos dados para tomar decisões sobre configurações de melhorias no modelo ou escolha de hiperparâmetros, mais comprometida se torna a confiabilidade desses resultados ao serem generalizados para dados novos e não vistos. Isso ocorre pois as melhorias são feitas a partir desses dados de validação.\n",
        "\n",
        "É possível perceber que as melhorias aplicadas desempenham um papel fundamental para resolver o problema. Entretanto, para assegurar que o desempenho do modelo permaneça consistente em relação aos dados do mundo real, que não foram vistos no treinamento ou no aprimoramento dos modelos, a estratégia da divisão entre 3 conjuntos de dados, como se pode analisar na imagem a seguir, oferece um bom direcionamento final, já que indica se o modelo escolhido está viesado ou não em relação aos dados de validação.\n",
        "\n",
        "<img src='https://raw.githubusercontent.com/rafaelreisramos/oracle-one/refs/heads/main/classificacao-validacao-modelos-metricas-avaliacao/assets/Aula1-img2.png' alt='diagrama indicando a divisão de dados em três partes: treinamento, validação e teste. Uma seta é direcionada de “Dados” para “Treino”, que conecta-se a “Validação”, que está em destaque.'/>\n"
      ],
      "metadata": {
        "id": "7gIuA89_h215"
      }
    },
    {
      "cell_type": "markdown",
      "source": [
        "## Avaliando o modelo"
      ],
      "metadata": {
        "id": "ajjgRqQOiiex"
      }
    },
    {
      "cell_type": "markdown",
      "source": [
        "Até o momento, criamos um modelo inicial para classificar clientes inadimplentes de uma empresa de empréstimo de automóveis e obtivemos uma acurácia de validação de cerca de 90%.\n",
        "\n",
        "No entanto, essa porcentagem de acertos não nos informa quantos clientes estão sendo identificados corretamente como inadimplentes. Afinal, o foco do projeto é identificar corretamente essas pessoas para evitar prejuízos para a empresa. Para fazer uma avaliação mais específica e estimar a quantidade de clientes que estão sendo corretamente identificados como inadimplentes, precisaremos utilizar um método diferente da acurácia, a matriz de confusão.\n",
        "\n",
        "A matriz de confusão nos informa a quantidade de acertos e erros para cada uma das categorias da variável alvo, ou seja, a quantidade de clientes que o modelo classificou como adimplentes e a quantidade de clientes que o modelo identificou como inadimplentes.\n",
        "\n",
        "Começaremos importando a função necessária para construir essa matriz de confusão. Na primeira célula, escreva:"
      ],
      "metadata": {
        "id": "9LfOAjquixFP"
      }
    },
    {
      "cell_type": "code",
      "source": [
        "from sklearn.metrics import confusion_matrix"
      ],
      "metadata": {
        "id": "7Dj3YTrUkRMX"
      },
      "execution_count": 79,
      "outputs": []
    },
    {
      "cell_type": "markdown",
      "source": [
        "Executaremos essa célula e, em seguida, vamos construir a matriz de confusão.\n",
        "\n",
        "A matriz de confusão compara o resultado de classificação do modelo com o resultado real. Primeiro, vamos armazenar as previsões do modelo utilizando o método predict() que, a partir das variáveis explicativas, determina qual é a classificação. Na primeira célula, armazene as previsões com y_previsto e depois compare essas previsões com o resultado real. Escreva:"
      ],
      "metadata": {
        "id": "k6jHnkyGkTJz"
      }
    },
    {
      "cell_type": "code",
      "source": [
        "y_previsto = modelo.predict(x_val)\n",
        "matriz_confusao = confusion_matrix(y_val, y_previsto)\n",
        "print(matriz_confusao)"
      ],
      "metadata": {
        "colab": {
          "base_uri": "https://localhost:8080/"
        },
        "id": "QsnhxidGkW1Y",
        "outputId": "6c0509f7-f9fc-4964-a529-0e5a00577d0c"
      },
      "execution_count": 80,
      "outputs": [
        {
          "output_type": "stream",
          "name": "stdout",
          "text": [
            "[[8819   87]\n",
            " [ 821   31]]\n"
          ]
        }
      ]
    },
    {
      "cell_type": "markdown",
      "source": [
        "Ao executar o código, o resultado será uma matriz de números, mas ela não está muito explicativa com apenas quatro valores. Para uma melhor visualização e entendimento, vamos utilizar uma função que melhore o aspecto visual e identifique o que cada linha e coluna representam.\n",
        "\n",
        "A biblioteca Scikit-learn possui uma função para melhorar a visualização da matriz de confusão. Na próxima célula, importe essa função escrevendo:"
      ],
      "metadata": {
        "id": "uNWd35AvkZmE"
      }
    },
    {
      "cell_type": "code",
      "source": [
        "from sklearn.metrics import ConfusionMatrixDisplay"
      ],
      "metadata": {
        "id": "pS2uvsWskcxw"
      },
      "execution_count": 81,
      "outputs": []
    },
    {
      "cell_type": "markdown",
      "source": [
        "Vamos executar essa célula. Agora, vamos construir essa visualização utilizando a matriz de confusão que já foi construída anteriormente.\n",
        "\n",
        "O parâmetro confusion_matrix é onde armazenamos anteriormente a matriz de confusão.\n",
        "\n",
        "Na mesma célula, escreveremos visualização.plot(), finalizando com um ponto e vírgula. Esse ponto e vírgula evita a exibição de uma informação textual que surge acima da visualização de dados. Utilizaremos essa funcionalidade em várias ocasiões ao fazer uso das visualizações da biblioteca matplotlib.\n",
        "\n",
        "Escreva na próxima célula:"
      ],
      "metadata": {
        "id": "SFj-li42kgP6"
      }
    },
    {
      "cell_type": "code",
      "source": [
        "visualizacao = ConfusionMatrixDisplay(confusion_matrix = matriz_confusao)\n",
        "visualizacao.plot();"
      ],
      "metadata": {
        "colab": {
          "base_uri": "https://localhost:8080/",
          "height": 449
        },
        "id": "qiwh79ZbknAF",
        "outputId": "e6496d40-f683-481a-d813-620499762b2f"
      },
      "execution_count": 82,
      "outputs": [
        {
          "output_type": "display_data",
          "data": {
            "text/plain": [
              "<Figure size 640x480 with 2 Axes>"
            ],
            "image/png": "[encoded data removed]"
          },
          "metadata": {}
        }
      ]
    },
    {
      "cell_type": "markdown",
      "source": [
        "As linhas trazem a informação \"true label\", que indica os valores reais da nossa base de dados, ou seja, são os valores y_val. Nas colunas, encontramos a informação \"predict label\", que representa a quantidade de valores previstos pelo modelo. Nesse sentido, o modelo utilizou as variáveis explicativas para realizar uma classificação, identificando a classe com base no conhecimento do modelo, e armazenou as informações na matriz de confusão, nas colunas.\n",
        "\n",
        "Além disso, encontramos o valor 0 na primeira linha e o valor 1 na segunda coluna. O valor 0 indica os clientes adimplentes, isto é, os que pagam em dia. Já o valor 1 representa os clientes inadimplentes, que não estão quitando o empréstimo.\n",
        "\n",
        "Esses são os valores reais, correspondendo à quantidade de pessoas realmente adimplentes ou inadimplentes.\n",
        "\n",
        "Nas colunas, temos a quantidade, na primeira coluna, de clientes adimplentes baseados na classificação do modelo. Assim, se somarmos essa primeira coluna, obteremos a quantidade de classificações pelo modelo que foram identificadas como adimplentes. Na segunda coluna, encontramos a quantidade de clientes inadimplentes identificados pelo modelo. Ao cruzar esses resultados, poderemos verificar quantos acertos e erros o modelo obteve.\n",
        "\n",
        "Para melhorar a visualização, alteraremos o nome do 0 e do 1 para \"adimplente\" e \"inadimplente\", respectivamente, facilitando a identificação de acertos e erros.\n",
        "\n",
        "Para isso, copiaremos o código dessa célula, colaremos na célula abaixo e adicionaremos um parâmetro adicional no Confusion Matrix Display. Logo após confusion_matrix, incluiremos display_labels = ['Adimplente', 'Inadimplente']. Execute essa célula para ver o resultado."
      ],
      "metadata": {
        "id": "sXV29Z28lCGz"
      }
    },
    {
      "cell_type": "code",
      "source": [
        "visualizacao = ConfusionMatrixDisplay(confusion_matrix = matriz_confusao, display_labels=['Adimplente', 'Inadimplente'])\n",
        "visualizacao.plot();"
      ],
      "metadata": {
        "colab": {
          "base_uri": "https://localhost:8080/",
          "height": 449
        },
        "id": "_mivack8lFA9",
        "outputId": "c89d42cc-e12c-47ec-ada5-24325920b6d1"
      },
      "execution_count": 83,
      "outputs": [
        {
          "output_type": "display_data",
          "data": {
            "text/plain": [
              "<Figure size 640x480 with 2 Axes>"
            ],
            "image/png": "[encoded data removed]"
          },
          "metadata": {}
        }
      ]
    },
    {
      "cell_type": "markdown",
      "source": [
        "Agora, está mais fácil identificar os valores dessa matriz de confusão. Consegue-se perceber, por exemplo, que o primeiro valor onde está escrito \"1e+04\" indica uma notação científica. Então esse valor é \"10^4\", que seria 10.000. Dessa forma, temos 10.000 clientes que são adimplentes, de acordo com a linha de valores reais, e que o modelo também classificou como adimplentes. O modelo acertou nesses 10.000 clientes.\n",
        "\n",
        "Já o valor de 958, que está na segunda linha e na primeira coluna, representa as pessoas verdadeiramente inadimplentes que foram classificadas como adimplentes pelo modelo. Ou seja, o modelo errou ao classificá-las como adimplentes, isto é, que elas pagariam o empréstimo, quando, na realidade, não pagariam.\n",
        "\n",
        "Algo semelhante ocorre com o valor 121, no canto superior direito. Esse é o número de clientes que o modelo classificou como inadimplentes, mas que eram adimplentes. Eles pagariam, mas o modelo sugeriu que eles não pagariam. Portanto, o modelo errou novamente, porém de maneira diferente.\n",
        "\n",
        "Por fim, temos o valor \"44\", no canto inferior direito. Esse valor corresponde aos clientes que são realmente inadimplentes e que o modelo também classificou como inadimplentes. Portanto, o modelo acertou nesse caso.\n",
        "\n",
        "Podemos ver que nosso modelo não está apresentando resultados tão bons quanto esperávamos. Embora a acurácia tenha obtido uma taxa de acerto de 90%, ao identificarmos os clientes inadimplentes, notamos que ele identificou apenas 44 deles.\n",
        "\n",
        "Se somássemos o número real de pessoas inadimplentes, teríamos mais de mil. Portanto, nosso modelo não está sendo capaz de resolver o problema que pretendemos solucionar, que é identificar corretamente as pessoas inadimplentes que não estão pagando o empréstimo do veículo.\n",
        "\n",
        "A matriz de confusão se provou muito útil para identificarmos que a acurácia não é uma métrica que sempre precisamos utilizar. Ela não é a mais importante, pois não vai nos ajudar a entender todas as nuances do nosso modelo. Além disso, a matriz de confusão também foi importante para identificar que o modelo não está classificando bem as pessoas inadimplentes.\n",
        "\n",
        "A pergunta que fica é: será que conseguimos extrair métricas a partir dos valores na matriz de confusão, assim como fizemos com a acurácia, que possam nos ajudar melhor com o nosso problema? Vamos explorar isso em nossa próxima aula."
      ],
      "metadata": {
        "id": "e_yCQW6ClK1s"
      }
    },
    {
      "cell_type": "markdown",
      "source": [
        "### Para saber mais: entendendo a matriz de confusão"
      ],
      "metadata": {
        "id": "2Z_fmOXclbzg"
      }
    },
    {
      "cell_type": "markdown",
      "source": [
        "Para obter uma avaliação mais completa do desempenho de modelos de classificação, podemos utilizar uma ferramenta conhecida como matriz de confusão. Essa matriz oferece vantagens à pessoa cientista de dados, pelo fato de permitir entender qual a quantidade de erros e acertos das previsões de um modelo. Ao invés de uma taxa de acerto geral, a matriz é capaz de fornecer informações em uma visualização para cada uma das categorias da variável alvo.\n",
        "\n",
        "Pense em um sistema de segurança de um prédio que utiliza câmeras para identificar pessoas entrando. A \"matriz de confusão\" se torna valiosa, pois possibilita verificar quantas vezes o sistema acertou ao identificar corretamente as pessoas autorizadas, quantas vezes acusou erroneamente pessoas e quantas vezes deixou passar pessoas não autorizadas. Com esses números, é possível ajustar o sistema para minimizar falsos positivos e negativos, melhorando sua precisão na detecção de visitantes.\n",
        "\n",
        "Na representação geral de uma matriz de confusão, para mais detalhes analise a imagem a seguir, as linhas da matriz correspondem aos valores reais da base de dados, enquanto as colunas correspondem aos valores previstos pelo modelo de classificação. As categorias da variável alvo são representadas pelo valor 0 (ausência do atributo), também chamado de negativo, e pelo valor 1 (presença do atributo), também chamado de positivo.\n",
        "\n",
        "<img src='https://raw.githubusercontent.com/rafaelreisramos/oracle-one/refs/heads/main/classificacao-validacao-modelos-metricas-avaliacao/assets/Aula1-img3.webp' alt='Imagem de uma matriz de duas linhas e duas colunas. As linhas representam os valores reais e as colunas representam os valores previstos. A primeira linha e primeira coluna, da esquerda para a direita, está em verde. São os “verdadeiros negativos”, onde o valor real e previsto é 0. A primeira linha e segunda coluna, em vermelho, são os “falsos positivos”, onde o valor real é 0 e valor previsto é 1. A segunda linha e primeira coluna, em vermelho, são os “falsos negativos”, onde o valor real é 1 e valor previsto é 0. A segunda linha e segunda coluna, em verde, são os “verdadeiros positivos”, onde o valor real é 1 e valor previsto é 1.' />\n",
        "\n",
        "Cada elemento da matriz é identificado por um nome de acordo com o cruzamento entre a previsão e o valor real. A diagonal principal da matriz, que está destacada pela cor verde, representa os elementos que tem a previsão igual ao valor real, portanto são os acertos do modelo. Já a diagonal secundária, que está destacada pela cor vermelha, representa os elementos com previsões diferentes do valor real, portanto são os erros do modelo. A descrição de cada um dos elementos é a seguinte:\n",
        "\n",
        "Verdadeiros Negativos (VN): Quando o valor real for 0 e a predição também for 0. Indica que o modelo classificou corretamente os valores da classe negativa.\n",
        "Falsos Positivos (FP): Quando o valor real for 0 e a predição for 1. Indica que o modelo classificou erroneamente um elemento da classe negativa como se fosse da classe positiva.\n",
        "Falsos Negativos (FN): Quando o valor real for 1 e a predição for 0. Indica que o modelo classificou erroneamente um elemento da classe positiva como se fosse da classe negativa.\n",
        "Verdadeiros Positivos (VP): Quando o valor real for 1 e a predição também for 1. Indica que o modelo classificou corretamente os valores da classe positiva.\n",
        "Esses valores são muito úteis para uma análise mais aprofundada do modelo de classificação. Isso permite identificar as capacidades e limitações da predição, se há um equilíbrio entre os acertos e erros ou se o resultado está tendencioso para uma classe em detrimento da outra. Com isso, é nítido que a matriz de confusão é uma ferramenta muito mais completa do que a métrica de acurácia, que representa apenas a porcentagem de acerto do modelo, sem considerar as classes de maneira isolada."
      ],
      "metadata": {
        "id": "o1LDNZwtlhhs"
      }
    },
    {
      "cell_type": "markdown",
      "source": [],
      "metadata": {
        "id": "vg4IpDoxrslg"
      }
    },
    {
      "cell_type": "markdown",
      "source": [
        "## <font color='dark'>Métricas de avaliação</h1>"
      ],
      "metadata": {
        "id": "vKv5rjaKnjfD"
      }
    },
    {
      "cell_type": "markdown",
      "source": [
        "Percebemos, a partir da matriz de confusão, que o modelo não está atingindo o desempenho esperado. Anteriormente, tínhamos alcançado uma taxa de acerto de aproximadamente 90%.\n",
        "\n",
        "No entanto, ao analisar a matriz de confusão, notamos que o modelo não está sendo capaz de identificar os clientes inadimplentes de forma adequada, que é justamente o foco do projeto.\n",
        "\n",
        "O modelo está detectando apenas 44 clientes inadimplentes, enquanto há mais de mil deles no conjunto de dados de validação."
      ],
      "metadata": {
        "id": "o-WuzIcerzGc"
      }
    },
    {
      "cell_type": "markdown",
      "source": [
        "### Acurácia, precisão e recall"
      ],
      "metadata": {
        "id": "3pdVxkQiro6K"
      }
    },
    {
      "cell_type": "markdown",
      "source": [
        "Agora, vamos explorar algumas métricas, que são valores entre 0 e 1, a fim de mensurar o quão eficiente o modelo está sendo. Já estamos familiarizados com uma delas, que é a acurácia, mas podemos calcular outras métricas com base na matriz de confusão."
      ],
      "metadata": {
        "id": "AU-83EGzru02"
      }
    },
    {
      "cell_type": "markdown",
      "source": [
        "#### Matriz de confusão\n",
        "\n",
        "Para extrair essas métricas, iremos analisar uma representação da matriz de confusão.\n",
        "\n",
        "<img src='https://raw.githubusercontent.com/rafaelreisramos/oracle-one/refs/heads/main/classificacao-validacao-modelos-metricas-avaliacao/assets/Aula2-img1.webp' alt='inserir imagem 2 aqui'>\n",
        "\n",
        "Matriz de confusão. Quadrado dividido em quatro quadrados menores, um em cada canto. Na superior e lateral esquerda, há o número 0, enquanto na parte inferior, o número é 1. No lado esquerdo, encontra-se o texto \"Valores reais\", representado pelas linhas. Na parte inferior do quadrado, os dois quadrados à esquerda têm o valor 0, e os dois quadrados à direita têm o valor 1. Abaixo desses quadrados, está o texto \"Valores previstos\", representado pelas colunas.\n",
        "\n",
        "Nas linhas, temos os valores reais do conjunto de dados, enquanto nas colunas, temos os valores previstos pelo modelo.\n",
        "\n",
        "Vamos identificar a classe 0 e a classe 1 da variável alvo, com o 0 representando a ausência de uma determinada característica, e o 1 representando a presença da característica.\n",
        "\n",
        "No caso, que está relacionado à inadimplência, o 1 representa a presença de inadimplência (clientes inadimplentes) e o 0 representa a ausência dessa característica (pessoas adimplentes que pagam em dia).\n",
        "\n",
        "0: adimplência\n",
        "1: inadimplência\n",
        "\n",
        "Além disso, cada um dos valores da matriz de confusão pode ser interpretado com uma nomenclatura, a partir desse cruzamento de valores.\n",
        "\n",
        "Descrição da Matriz de confusão feita anteriormente. No canto superior esquerdo, encontra-se o texto \"Verdadeiro Negativo (VN)\". No canto superior direito, está o texto \"Falso Positivo (FP)\". No canto inferior esquerdo, encontra-se o texto \"Falso Negativo (FN)\", e no canto inferior direito, encontra-se o texto \"Verdadeiro Positivo (VP)\".\n",
        "\n",
        "<img src='https://raw.githubusercontent.com/rafaelreisramos/oracle-one/refs/heads/main/classificacao-validacao-modelos-metricas-avaliacao/assets/Aula2-img2.webp' alt='inserir imagem 2 aqui'>\n",
        "\n",
        "Por exemplo, o primeiro valor na primeira linha e primeira coluna corresponde aos \"verdadeiros negativos\", onde tanto os valores reais quanto os valores previstos pelo modelo indicam a ausência da característica.\n",
        "\n",
        "Na primeira linha e segunda coluna, encontram-se os \"falsos positivos\", onde os valores reais indicam a ausência da característica, enquanto os valores previstos indicam a presença. Na segunda linha e primeira coluna, temos os \"falsos negativos\", em que os valores reais representam a presença da característica, e os valores previstos indicam a ausência.\n",
        "\n",
        "Por fim, na segunda linha e segunda coluna, estão os \"verdadeiros positivos\", em que tanto os valores reais quanto os previstos pelo modelo indicam a presença da característica.\n",
        "\n"
      ],
      "metadata": {
        "id": "xfo6JQtIsBVL"
      }
    },
    {
      "cell_type": "markdown",
      "source": [
        "#### Extraindo a acurácia\n",
        "\n",
        "Para extrair a acurácia, que é a métrica que já conhecemos da taxa de acerto geral. Vamos avaliar os acertos do modelo dividido por todas as previsões realizadas pelo modelo.\n",
        "\n",
        "Portanto, somamos os verdadeiros negativos e verdadeiros positivos e dividimos pela soma de todas as previsões, ou seja, os verdadeiros positivos, verdadeiros negativos, falsos positivos e falsos negativos.\n",
        "\n",
        "Importando a biblioteca\n",
        "No entanto, no nosso código, não calcularemos isso manualmente. Existe uma função da biblioteca scikit-learn que consegue realizar esse cálculo para nós. Em uma célula no Colab, importamos essa função para fazer o cálculo da acurácia:"
      ],
      "metadata": {
        "id": "2hf7gPKjs-SR"
      }
    },
    {
      "cell_type": "code",
      "source": [
        "from sklearn.metrics import accuracy_score"
      ],
      "metadata": {
        "id": "vMNnMQU6qVrG"
      },
      "execution_count": 84,
      "outputs": []
    },
    {
      "cell_type": "markdown",
      "source": [
        "Com a função importada, vamos executar o cálculo da acurácia.\n",
        "\n",
        "Neste código, passamos os valores reais (y_val) e os valores previstos (y_previsto) para a função accuracy_score comparar e obter o resultado de acurácia. Sendo o y_previsto o resultado que obtivemos para construir a matriz de confusão.\n",
        "\n",
        "Na próxima célula, escrevemos:"
      ],
      "metadata": {
        "id": "4WeNiyQJtEwJ"
      }
    },
    {
      "cell_type": "code",
      "source": [
        "print(f'Acurácia: {accuracy_score(y_val, y_previsto)}')"
      ],
      "metadata": {
        "colab": {
          "base_uri": "https://localhost:8080/"
        },
        "id": "BEbDsxhYtKLt",
        "outputId": "61d4ff4c-cc75-41fe-d76c-32f24aead7b9"
      },
      "execution_count": 85,
      "outputs": [
        {
          "output_type": "stream",
          "name": "stdout",
          "text": [
            "Acurácia: 0.9069481451117032\n"
          ]
        }
      ]
    },
    {
      "cell_type": "markdown",
      "source": [
        "Executando esse código, obteremos 0.90, que é justamente a acurácia que já tínhamos obtido no resultado anterior.\n",
        "\n",
        "Agora, vamos explorar outras métricas que são extraídas da matriz de confusão.\n",
        "\n",
        "Percebemos que a acurácia não é uma métrica muito adequada para o nosso problema, pois identificamos que nosso modelo não está identificando bem as pessoas em situação de inadimplência.\n",
        "\n",
        "Portanto, as métricas que vamos explorar agora serão especificamente aquelas voltadas para abordar esses \"verdadeiros positivos\", que são o valor mais importante para o nosso problema."
      ],
      "metadata": {
        "id": "Nx8eOJvPtbJJ"
      }
    },
    {
      "cell_type": "markdown",
      "source": [
        "#### Métricas de Precisão e Recall\n",
        "\n",
        "A primeira métrica que podemos extrair é a precisão, que considera somente os valores previstos pelo modelo que representam a presença da característica.\n",
        "\n",
        "Portanto, vamos avaliar a segunda coluna da nossa matriz. Para calcular a precisão, pegamos os verdadeiros positivos e dividimos pela soma da segunda coluna, que são os falsos positivos e verdadeiros positivos.\n",
        "\n",
        "Dessa maneira, obtemos a precisão, que é um valor entre 0 e 1. Quanto mais próximo de 1, melhor será o resultado dessa métrica.\n",
        "\n",
        "A outra métrica que vamos extrair será o recall (revocação), que considera apenas os valores reais em que a característica está presente.\n",
        "\n",
        "Desta forma, iremos avaliar exclusivamente a segunda linha da matriz de confusão. Para calcular o recall, pegamos os verdadeiros positivos e dividimos pela soma da segunda linha, que consistirá nos falsos negativos mais os verdadeiros positivos.\n",
        "\n",
        "Não vamos calcular essas métricas manualmente. Importaremos duas funções capazes de executar esses cálculos. Assim, no nosso código, faremos primeiro a importação das funções para realizar esses cálculos.\n",
        "\n",
        "Na próxima célula, importamos a função precision_score para realizar o cálculo da precisão e a função recall_score para a realização do cálculo do recall."
      ],
      "metadata": {
        "id": "VO98dF28tht3"
      }
    },
    {
      "cell_type": "code",
      "source": [
        "from sklearn.metrics import precision_score, recall_score"
      ],
      "metadata": {
        "id": "w4DJH0AiLm1l"
      },
      "execution_count": 86,
      "outputs": []
    },
    {
      "cell_type": "markdown",
      "source": [
        "Em seguida, calculamos cada uma delas e imprimimos os resultados. Passamos os valores reais e previstos pelo modelo para fazer essa comparação e realizar o cálculo:"
      ],
      "metadata": {
        "id": "gZOB49g7t_sc"
      }
    },
    {
      "cell_type": "code",
      "source": [
        "print(f'Precisão: {precision_score(y_val, y_previsto)}')\n",
        "print(f'Recall: {recall_score(y_val, y_previsto)}')"
      ],
      "metadata": {
        "colab": {
          "base_uri": "https://localhost:8080/"
        },
        "id": "RuS1LR7wL6_9",
        "outputId": "851289ca-3ee4-4925-cd1f-b060787adabb"
      },
      "execution_count": 87,
      "outputs": [
        {
          "output_type": "stream",
          "name": "stdout",
          "text": [
            "Precisão: 0.2627118644067797\n",
            "Recall: 0.036384976525821594\n"
          ]
        }
      ]
    },
    {
      "cell_type": "markdown",
      "source": [
        "Ao executar esses comandos, notamos que a precisão do nosso modelo é de 0.26 e o recall é de 0.04. Esses valores estão muito próximos de zero. Portanto, temos um indicativo de que o nosso modelo não está performando bem. Encontramos uma precisão de 0.26 e um recall de 0.04, indicando que a performance do nosso modelo está aquém do esperado.\n",
        "\n",
        "Agora, podemos identificar qual é a métrica mais relevante para o nosso problema: será a precisão ou o recall? Para entender isso, precisamos questionar.\n",
        "\n",
        "O que é mais prejudicial para a empresa: incorrer em prejuízo financeiro ou deixar de vender para um cliente? Muito provavelmente é incorrer em prejuízo financeiro.\n",
        "\n",
        "Portanto, a métrica que avaliará se a empresa não vai incorrer em tanto prejuízo financeiro é a taxa de recall, já que ela avalia os valores reais de pessoas inadimplentes.\n",
        "\n",
        "Quanto maior a quantidade de falsos negativos, mais clientes a empresa irá considerar como bons pagadores, sendo que, na verdade, esses clientes são inadimplentes. No caso da precisão, quanto melhor for seu valor, menos clientes serão perdidos.\n",
        "\n",
        "Mas, no nosso caso, o mais prejudicial será ter um recall.\n",
        "\n",
        "Com isso, entendemos que o recall será a métrica mais relevante para avaliar o desempenho do nosso modelo."
      ],
      "metadata": {
        "id": "kymMmjZ3L9aX"
      }
    },
    {
      "cell_type": "markdown",
      "source": [
        "### Métrica F1 Score\n",
        "\n",
        "Além disso, podemos extrair ainda outra métrica, conhecida como F1 Score (pontuação F1). Essa métrica representa um equilíbrio entre a precisão e o recall. É calculada como duas vezes a precisão vezes o recall, dividido pela soma entre precisão e recall.\n",
        "\n",
        "Essa métrica é utilizada quando desejamos equilibrar a não perda de clientes com a inexistência de prejuízos. Isso se aplica ao nosso projeto específico, mas em outros projetos de classificação, o entendimento será diferente, sendo o F1 Score o equilíbrio entre essas duas métricas.\n",
        "\n",
        "Importando a biblioteca scikit-learn\n",
        "Para realizar esse cálculo, também existe uma função na biblioteca scikit-learn que podemos usar. Portanto, vamos fazer a importação da função agora. Na próxima célula, escrevemos from sklearn.metrics import f1_score e executamos a célula com \"Ctrl + Enter\"."
      ],
      "metadata": {
        "id": "sFOsbStBMEfH"
      }
    },
    {
      "cell_type": "code",
      "source": [
        "from sklearn.metrics import f1_score"
      ],
      "metadata": {
        "id": "_FQaU-Z1MOtz"
      },
      "execution_count": 88,
      "outputs": []
    },
    {
      "cell_type": "markdown",
      "source": [
        "Na célula seguinte, vamos calcular o F1 Score. Novamente, passamos os valores reais (y_val) e os valores previstos pelo modelo (y_pred):"
      ],
      "metadata": {
        "id": "O5J5tuh6MQdI"
      }
    },
    {
      "cell_type": "code",
      "source": [
        "print(f'F1-score: {f1_score(y_val, y_previsto)}')"
      ],
      "metadata": {
        "colab": {
          "base_uri": "https://localhost:8080/"
        },
        "id": "sJtm1KNmMVgH",
        "outputId": "e3b1843e-ee57-4eaf-dff6-5acd952ddf1b"
      },
      "execution_count": 89,
      "outputs": [
        {
          "output_type": "stream",
          "name": "stdout",
          "text": [
            "F1-score: 0.06391752577319587\n"
          ]
        }
      ]
    },
    {
      "cell_type": "markdown",
      "source": [
        "O resultado obtido foi de 0,07 para o F1 Score, valor esse que é considerado baixo, justamente porque as nossas métricas de precisão e recall estão muito baixas."
      ],
      "metadata": {
        "id": "p0I8ISQnMa-U"
      }
    },
    {
      "cell_type": "markdown",
      "source": [
        "### Conclusão\n",
        "\n",
        "Agora que conseguimos extrair as principais métricas de classificação da matriz de confusão, vamos explorar outras métricas que se concentram especificamente no recall, ou seja, na métrica mais relevante para o nosso projeto.\n",
        "\n",
        "Dessa forma, vamos explorar gráficos que utilizam o recall para a construção, permitindo-nos avaliar o desempenho do modelo de outra maneira."
      ],
      "metadata": {
        "id": "Pi2eeNjHMdLw"
      }
    },
    {
      "cell_type": "markdown",
      "source": [
        "### Para saber mais: quando usar cada métrica\n",
        "\n",
        "Avaliar de forma adequada o desempenho de um modelo de machine learning é essencial para assegurar que o modelo está solucionando o problema de negócio que precisa ser resolvido. Existem diversas métricas que podem ser utilizadas para avaliar o desempenho dos modelos de classificação, cada uma delas possui vantagens e limitações. Essas métricas são calculadas a partir da comparação entre as classificações feitas pelo modelo e os valores reais da base de dados. Portanto, podem ser extraídas a partir de uma matriz de confusão. As principais métricas de classificação são:\n",
        "\n",
        "Acurácia\n",
        "\n",
        "É a métrica mais comum e básica em problemas de classificação. É utilizada para medir a proporção de dados previstos corretamente pelo modelo em relação ao total dos dados. Essa métrica é útil quando as classes da variável alvo estão balanceadas, ou seja, quando existe uma quantidade equilibrada de dados para cada classe e uma importância equivalente de classificação entre as categorias. Como exemplo de utilização, temos o reconhecimento de dígitos manuscritos. Podemos utilizar imagens de caracteres de letras e números para treinar um modelo de classificação para identificar corretamente a escrita. Como cada letra ou número não tem uma importância maior do que as demais, a acurácia se torna uma boa métrica para medir a capacidade do modelo em classificar corretamente os dígitos.\n",
        "\n",
        "Abaixo, podemos analisar o cálculo da acurácia a partir da matriz de confusão. Ela é calculada somando os acertos do modelo (VN + VP) e dividindo por todos os acertos e erros (VP+VN+FP+FN).\n",
        "\n",
        "<img src='https://raw.githubusercontent.com/rafaelreisramos/oracle-one/refs/heads/main/classificacao-validacao-modelos-metricas-avaliacao/assets/Aula2-img3.png' alt='Imagem com uma fórmula matemática no topo e uma representação da matriz de confusão logo abaixo. A fórmula é a acurácia igual a divisão de dois termos. O numerador é a soma de verdadeiros negativos e verdadeiros positivos. O denominador é a soma de verdadeiros negativos, falsos positivos, falsos negativos e verdadeiros positivos. A matriz de confusão possui 2 linhas e 2 colunas, com valores reais nas linhas e valores previstos nas colunas. No topo superior esquerdo, em verde, estão os verdadeiros negativos. No topo superior direito, em vermelho, estão os falsos positivos. No canto inferior direito estão os falsos negativos. No canto inferior direito estão os verdadeiros positivos.' />\n",
        "\n",
        "Revocação (recall)\n",
        "\n",
        "Mede a proporção de dados positivos que foram corretamente identificados pelo modelo, ou seja, revela a capacidade do modelo em evitar a classificação incorreta de dados positivos como negativos. É usada quando o risco ou custo de classificar falsos negativos é alto. Por exemplo, em casos de diagnóstico de doenças graves, em que é fundamental detectar corretamente a presença da doença.\n",
        "\n",
        "Abaixo podemos constatar o cálculo do recall a partir da matriz de confusão. O recall só leva em consideração os valores positivos reais, ou seja, os valores da segunda linha da matriz. Ele é calculado a partir da divisão entre Verdadeiros Positivos (VP) pela soma de todos os positivos reais (VP + FN):\n",
        "\n",
        "<img src='https://raw.githubusercontent.com/rafaelreisramos/oracle-one/refs/heads/main/classificacao-validacao-modelos-metricas-avaliacao/assets/Aula2-img4.png' alt='Imagem com uma fórmula matemática no topo e uma representação da matriz de confusão logo abaixo. A fórmula é o recall igual a divisão de dois termos. O numerador contém os verdadeiros positivos. O denominador é a soma de falsos negativos e verdadeiros positivos. A matriz de confusão está com a segunda linha destacada, que representa os valores reais da classe 1. A linha em destaque possui os falsos negativos em vermelho e verdadeiros positivos em verde.' />\n",
        "\n",
        "Precisão\n",
        "\n",
        "Mede a proporção de dados classificados como positivos que são realmente positivos, ou seja, revela a capacidade do modelo em evitar a classificação incorreta de dados negativos como positivos. É usada quando o risco ou custo de classificar falsos positivos é alto, por exemplo em casos de seleção de ações no mercado financeiro, onde o importante é selecionar ações que tenham grande probabilidade de retorno, abaixando a quantidade de ações ruins (falsos positivos) mesmo que outras boas ações não tenham sido detectadas pelo modelo (falso negativo). A precisão também é importante no exemplo de detecção de doenças, onde queremos evitar que pacientes saudáveis sejam erroneamente classificados como doentes.\n",
        "\n",
        "Abaixo podemos analisar o cálculo da precisão a partir da matriz de confusão. A precisão só leva em consideração os valores positivos previstos pelo modelo, ou seja, os valores da segunda coluna da matriz. Ela é calculada a partir da divisão entre Verdadeiros Positivos (VP) pela soma de todos os positivos previstos (VP + FP):\n",
        "\n",
        "<img src='https://raw.githubusercontent.com/rafaelreisramos/oracle-one/refs/heads/main/classificacao-validacao-modelos-metricas-avaliacao/assets/Aula2-img5.webp' alt='Imagem com uma fórmula matemática no topo e uma representação da matriz de confusão logo abaixo. A fórmula é a precisão igual a divisão de dois termos. O numerador contém os verdadeiros positivos. O denominador é a soma de falsos positivos e verdadeiros positivos. A matriz de confusão está com a segunda coluna destacada, que representa os valores previstos da classe 1. A coluna em destaque possui os falsos positivos em vermelho e verdadeiros positivos em verde.' />\n",
        "\n",
        "F1-Score\n",
        "\n",
        "Fornece um equilíbrio entre o recall e a precisão, sendo útil quando as classes da variável alvo estão desbalanceadas, ou seja, quando há uma quantidade de dados muito diferente para cada classe. Além disso, é aplicável quando o risco ou custo de falsos positivos e de falsos negativos é alto simultaneamente. Em casos de detecção de tumores em pacientes, é preciso ter um equilíbrio entre evitar erros na detecção de tumores quando a pessoa realmente os possui e evitar erros ao informar que uma pessoa possui um tumor quando na realidade ela não possui.\n",
        "\n",
        "O cálculo do F1-Score é feito a partir da média harmônica entre a precisão e o recall. Portanto, equivale a 2 vezes a precisão pelo recall, dividido pela soma entre a precisão e o recall:\n",
        "\n",
        "<img src='https://raw.githubusercontent.com/rafaelreisramos/oracle-one/refs/heads/main/classificacao-validacao-modelos-metricas-avaliacao/assets/Aula2-img6.webp' alt='Fórmula matemática: F1 é igual a 2 vezes a uma fração de duas expressões. O numerador é a multiplicação entre precisão e recall. O denominador é a soma entre precisão e recall.' />\n",
        "\n",
        "A escolha da métrica de classificação adequada depende do problema que está sendo resolvido e de cada cenário. Nos casos em que as classes estão balanceadas e possuem importância semelhante, a acurácia pode ser uma boa métrica inicial. Porém, quando as classes estão desequilibradas ou os erros têm custos diferentes, métricas como precisão, recall e f1-score são mais indicadas.\n",
        "\n",
        "Caso deseje saber mais sobre as métricas de classificação, veja o Alura+ abaixo:\n",
        "\n",
        "[Alura+: Métricas de avaliação para classificação](https://cursos.alura.com.br/extra/alura-mais/metricas-de-avaliacao-para-classificacao-c1440)"
      ],
      "metadata": {
        "id": "0YNHqaWkOKkw"
      }
    },
    {
      "cell_type": "markdown",
      "source": [
        "### Curva ROC\n",
        "\n",
        "Identificamos que o recall é a métrica mais relevante para nosso problema, uma vez que ajuda a minimizar o prejuízo financeiro para a empresa.\n",
        "\n",
        "Quanto melhor for o recall, menos pessoas que estão inadimplentes serão classificadas como adimplentes. Ou seja, menos pessoas que não pagariam serão identificadas como pagadoras e teriam o serviço oferecido a elas, gerando prejuízo.\n",
        "\n",
        "Utilizamos o recall para obter mais métricas, especificamente gráficos construídos a partir de recall para entender a eficiência do nosso modelo.\n",
        "\n",
        "O primeiro desses gráficos será a curva ROC, usada para avaliar se nosso modelo consegue fazer uma distinção eficaz entre as classes, isto é, entre pessoas clientes que estão em dia com seus pagamentos e pessoas clientes que estão inadimplentes.\n",
        "\n",
        "Essa curva ROC é construída usando a métrica recall e outra métrica derivada da matriz de confusão. Se voltarmos um pouco ao nosso projeto, a outra métrica usada para a construção da curva ROC é a taxa de falsos positivos.\n",
        "\n",
        "Ela é calculada pela quantidade de falsos positivos, dividido pela soma de verdadeiros negativos e falsos positivos. Assim, vamos usar esta métrica e recall para a construção desse gráfico e a avaliação do nosso modelo será feita a partir dessas duas métricas.\n",
        "\n",
        "Não faremos isso manualmente, pois já existe uma função no scikit-learn que constrói essa curva automaticamente, requerendo apenas os valores reais e previstos como input. Contudo, será deixada uma atividade após este vídeo demonstrando como a curva ROC é construída, para facilitar o entendimento de como ela funciona.\n",
        "\n",
        "Na primeira célula, vamos importar a função capaz de construir essa curva ROC:"
      ],
      "metadata": {
        "id": "TJUQW4_JQyhh"
      }
    },
    {
      "cell_type": "code",
      "source": [
        "from sklearn.metrics import RocCurveDisplay"
      ],
      "metadata": {
        "id": "p67LSBAuSMZc"
      },
      "execution_count": 90,
      "outputs": []
    },
    {
      "cell_type": "markdown",
      "source": [
        "Na próxima célula, vamos criar essa visualização. Escrevemos RocCurveDisplay.from_predictions() passando os valores y_val e y_previsto; e também, name = 'Árvore de Decisão'.\n",
        "\n",
        "Neste código, o ROCCurveDisplay.from_predictions recebe os valores reais (yval), os valores previstos (y_previsto) e o nome do nosso modelo ('árvore de decisão').\n",
        "\n",
        "O from_predictions() é porque essa função pode ser construída de várias formas, mas iremos construir o gráfico a partir das previsões feitas pelo modelo. Portanto, vamos comparar os resultados reais dos previstos."
      ],
      "metadata": {
        "id": "MQl4uhQJSPty"
      }
    },
    {
      "cell_type": "code",
      "source": [
        "RocCurveDisplay.from_predictions(y_val, y_previsto, name = 'Árvore de Decisão');"
      ],
      "metadata": {
        "colab": {
          "base_uri": "https://localhost:8080/",
          "height": 451
        },
        "id": "8YL_6zb-STP_",
        "outputId": "e1deff11-e265-488f-f396-07e487ed287d"
      },
      "execution_count": 91,
      "outputs": [
        {
          "output_type": "display_data",
          "data": {
            "text/plain": [
              "<Figure size 640x480 with 1 Axes>"
            ],
            "image/png": "[encoded data removed]"
          },
          "metadata": {}
        }
      ]
    },
    {
      "cell_type": "markdown",
      "source": [
        "A visualização resultante é a curva ROC que mostra a taxa de verdadeiros positivos (também conhecida como recall) no eixo Y e a taxa de falsos positivos no eixo X.\n",
        "\n",
        "Para avaliar a eficiência do nosso modelo em diferenciar entre classes, precisamos analisar a curva ROC.\n",
        "\n",
        "Se a curva estiver o mais próxima possível do canto superior esquerdo do gráfico (ou seja, do ponto 0 no eixo X e 1 no eixo Y), significa que o modelo é eficiente em diferenciar uma classe da outra.\n",
        "\n",
        "Quando a curva se aproxima de uma linha diagonal traçada no gráfico, indica que o modelo é ineficiente, classificando os dados de maneira aleatória.\n",
        "\n",
        "Podemos perceber que o nosso modelo está performando mal porque ele está se aproximando de uma linha diagonal e está longe do ponto 0,1."
      ],
      "metadata": {
        "id": "T9msoArVScK3"
      }
    },
    {
      "cell_type": "markdown",
      "source": [
        "#### AUC Area Under the Curve (Área Sob a Curva)\n",
        "\n",
        "Além disso, podemos calcular uma métrica a partir dessa curva ROC, conhecida como AUC. Quanto mais próximo de 1 for o valor do AUC, melhor será o desempenho do modelo, enquanto valores mais próximos de 0,5 indicam um desempenho pior, pois a curva estará mais próxima da linha diagonal.\n",
        "\n",
        "Podemos analisar esse gráfico de duas formas, tanto o gráfico em si, quanto a métrica que é extraída a partir desse gráfico. E essa métrica é calculada pela área abaixo do gráfico. Então, esse AUC quer dizer Area Under the Curve (Área Sob a Curva).\n",
        "\n",
        "Também podemos extrair essa métrica de forma isolada da curva ROC. Se quisermos, podemos calcular utilizando também o Scikit Learn.\n",
        "\n",
        "Importando o roc_auc_score\n",
        "Na próxima célula, importaremos a função para calcular essa métrica e a calcularemos na célula abaixo. Então, escrevemos:"
      ],
      "metadata": {
        "id": "qNVnuGblS-DY"
      }
    },
    {
      "cell_type": "code",
      "source": [
        "from sklearn.metrics import roc_auc_score"
      ],
      "metadata": {
        "id": "JF6UWDw5TAXe"
      },
      "execution_count": 92,
      "outputs": []
    },
    {
      "cell_type": "markdown",
      "source": [
        "Na próxima célula, faremos o mesmo processo que fizemos para as outras métricas.\n",
        "\n",
        "Iremos passar o y_val e y_previsto, ou seja, os valores reais e os valores previstos para que seja feita essa comparação dos resultados do modelo com os valores reais e visualizarmos essa taxa de acerto, no caso, agora do AUC."
      ],
      "metadata": {
        "id": "LfOLpg4tTDjI"
      }
    },
    {
      "cell_type": "code",
      "source": [
        "print(f'AUC: {roc_auc_score(y_val, y_previsto)}')"
      ],
      "metadata": {
        "colab": {
          "base_uri": "https://localhost:8080/"
        },
        "id": "CDG4y-VATGvd",
        "outputId": "9b5adc32-df0f-4587-a3a8-51b49433acad"
      },
      "execution_count": 93,
      "outputs": [
        {
          "output_type": "stream",
          "name": "stdout",
          "text": [
            "AUC: 0.5133081406321001\n"
          ]
        }
      ]
    },
    {
      "cell_type": "markdown",
      "source": [
        "#### Conclusão\n",
        "\n",
        "Agora, nós aprendemos como avaliar o nosso modelo usando a curva ROC e a métrica AUC e notamos que o nosso modelo não está se saindo tão bem na diferenciação entre as classes.\n",
        "\n",
        "No próximo vídeo, vamos explorar outra curva que analisa tanto a precisão quanto o recall. Vamos buscar um equilíbrio entre essas duas métricas, mas nossa ênfase principal será no recall, que é a métrica mais relevante."
      ],
      "metadata": {
        "id": "u2LXaZ0hTU5L"
      }
    },
    {
      "cell_type": "markdown",
      "source": [
        "#### Entendendo a curva ROC\n",
        "\n",
        "Nesse [vídeo](https://video2.alura.com.br/alura/725417186-hd.mp4?token=5GG2fGkbef_vvKfyLKXC2hI5Nmg-rZ930rxTXzyLJBI&expires=1754499598), João Miranda fala sobre um gráfico utilizado para avaliar modelos de classificação binária, a curva ROC. O foco é mostrar como a curva é construída e como realizar a interpretação do gráfico, o que facilita no entendimento do desempenho dos modelos de classificação.\n",
        "\n",
        "Conteúdos complementares:\n",
        "\n",
        "Para compreender os conceitos das métricas extraídas da matriz de confusão:\n",
        "\n",
        "[Alura+ 1440 - Métricas de avaliação para classificação](https://cursos.alura.com.br/extra/alura-mais/metricas-de-avaliacao-para-classificacao-c1440)\n",
        "\n",
        "Para se aprofundar nos conceitos de curvas de avaliação de modelos:\n",
        "\n",
        "[Para saber mais: Precision Recall x ROC](https://cursos.alura.com.br/course/machine-learning-oracle-ads-criacao-modelos/task/104260)"
      ],
      "metadata": {
        "id": "-XXmUqgzTmfv"
      }
    },
    {
      "cell_type": "markdown",
      "source": [
        "### Curva de precisão x Recall\n",
        "\n",
        "Acabamos de analisar nosso modelo por meio de um gráfico denominado curva ROC, que avalia se estamos conseguindo distinguir adequadamente uma classe da outra. Em outras palavras, estamos avaliando nossa capacidade de diferenciar clientes adimplentes de clientes inadimplentes no contexto do nosso projeto.\n",
        "\n",
        "Compreendemos, então, que nosso modelo não está apresentando um desempenho satisfatório nessa tarefa, conforme evidenciado tanto pela forma da curva ROC, que estava próxima de uma linha diagonal, quanto pela métrica derivada desta curva, a AUC.\n",
        "\n",
        "Essa métrica estava próxima de um valor de 0,52, e quanto mais perto de 0,5, pior será o resultado do modelo.\n",
        "\n",
        "Agora vamos analisar outro gráfico chamado curva de precisão por recall. Este gráfico, como o próprio nome sugere, avalia a métrica recall com a métrica de precisão.\n",
        "\n",
        "Portanto, se observarmos a nossa matriz de confusão, podemos perceber que este gráfico é construído utilizando os verdadeiros positivos, falsos negativos (no caso do recall), e também verdadeiros positivos com falsos positivos.\n",
        "\n",
        "Observamos que esse gráfico não utiliza em nenhuma instância os verdadeiros negativos.\n",
        "\n",
        "Tendo em vista que os verdadeiros negativos estão em maior quantidade no nosso conjunto de dados e que nossos dados estão desequilibrados, essa curva é mais indicada que a curva ROC para verificar o desempenho do nosso modelo em conjuntos de dados onde os dados estão muito desequilibrados, como é o caso do nosso projeto.\n",
        "\n",
        "Assim, vamos conseguir explorar um equilíbrio entre não perder clientes (que no nosso caso é a precisão) e evitar vender ou emprestar nosso veículo para pessoas que não vão pagar (que é o caso do recall).\n",
        "\n",
        "Portanto, esse gráfico vai nos mostrar um equilíbrio entre essas duas coisas, em quão bem o modelo está classificando nossos clientes para não perdermos clientes e não tomarmos prejuízo vendendo para pessoas que não vão pagar o empréstimo.\n",
        "\n",
        "Agora, vamos ao nosso código para criarmos nosso gráfico, da mesma forma que criamos a curva ROC. Primeiro, vamos importar a função da biblioteca Scikit Learn, construir o gráfico e depois analisar como o nosso modelo está se saindo.\n",
        "\n",
        "Importando a biblioteca:"
      ],
      "metadata": {
        "id": "0jQJWUypVppy"
      }
    },
    {
      "cell_type": "code",
      "source": [
        "from sklearn.metrics import PrecisionRecallDisplay"
      ],
      "metadata": {
        "id": "hMrN8RUyWq6C"
      },
      "execution_count": 94,
      "outputs": []
    },
    {
      "cell_type": "markdown",
      "source": [
        "Na próxima, vamos fazer o mesmo procedimento que fizemos com a curva ROC. O from_predictions() é porque iremos construir a curva a partir das previsões que fizemos para gerar a matriz de confusão. Estamos construindo essa curva a partir das previsões que já fizemos previamente para gerar a matriz de confusão. Primeiro, passamos os valores reais (y_val), e os valores previstos (y_previsto).\n",
        "\n",
        "Também podemos dar um nome para aquela curva, que será Decision Tree, que é o algoritmo que estamos utilizando para a construção do modelo."
      ],
      "metadata": {
        "id": "jqDF6TG7Wxpl"
      }
    },
    {
      "cell_type": "code",
      "source": [
        "PrecisionRecallDisplay.from_predictions(y_val, y_previsto, name = 'Árvore de decisão');"
      ],
      "metadata": {
        "colab": {
          "base_uri": "https://localhost:8080/",
          "height": 451
        },
        "id": "WQ5RkfEFWzfV",
        "outputId": "f73064c4-257a-46ee-fd40-203f3b30cefa"
      },
      "execution_count": 95,
      "outputs": [
        {
          "output_type": "display_data",
          "data": {
            "text/plain": [
              "<Figure size 640x480 with 1 Axes>"
            ],
            "image/png": "[encoded data removed]"
          },
          "metadata": {}
        }
      ]
    },
    {
      "cell_type": "markdown",
      "source": [
        "Obtemos um gráfico um pouco diferente do gráfico da curva ROC. No eixo x temos o recall, que é a taxa de verdadeiros positivos. No eixo y temos a precisão, que é a taxa que vamos identificar para não perder tantos clientes que iriam pagar.\n",
        "\n",
        "Para analisar esse gráfico, ele é diferente da curva ROC. Em vez de quanto mais próximo do ponto 0,1, melhor (ou seja, do canto superior esquerdo), teremos que o modelo vai ser melhor nesse equilíbrio entre essas duas métricas, quanto mais próximo do ponto 1,1 (ou seja, do canto superior direito).\n",
        "\n",
        "E quanto mais próximo do ponto 0,0, do canto inferior esquerdo, pior será o modelo. No nosso caso, vemos que a curva está muito próxima do ponto 0,0.\n",
        "\n",
        "No nosso caso, o modelo não está conseguindo equilibrar bem as duas tarefas, detectar eficientemente os clientes inadimplentes, tanto para não perder clientes quanto para evitar vendas para clientes que não pagarão."
      ],
      "metadata": {
        "id": "xk069Mr1W2MC"
      }
    },
    {
      "cell_type": "markdown",
      "source": [
        "#### Métrica Average Precision (AP, precisão média)\n",
        "\n",
        "A partir do gráfico também, podemos extrair uma métrica, conhecida como AP (Average Precision) ou precisão média. Obtivemos um valor de 0,09. Quanto mais próximo de 0 for essa métrica, pior será o desempenho do modelo. E quanto mais próximo de 1, melhor será o desempenho do modelo.\n",
        "\n",
        "Portanto, além da curva que analisamos, podemos perceber que na métrica nosso modelo também não está se saindo bem. E podemos extrair essa métrica de forma isolada, sem ser a partir do gráfico.\n",
        "\n",
        "Vamos fazer isso da mesma forma como fizemos com o AUC. Primeiro vamos importar a função capaz de extrair essa métrica, depois vamos calculá-la na célula abaixo.\n",
        "\n",
        "Vamos escrever from sklearn.metrics import average_precision_score."
      ],
      "metadata": {
        "id": "OYsJbJ1sXBFF"
      }
    },
    {
      "cell_type": "code",
      "source": [
        "from sklearn.metrics import average_precision_score"
      ],
      "metadata": {
        "id": "B7qzic6FXFhd"
      },
      "execution_count": 96,
      "outputs": []
    },
    {
      "cell_type": "markdown",
      "source": [
        "Como é bem parecido a forma de obter essa métrica, vamos copiar o código onde calculamos o roc_auc_score, e vamos colar esse código na célula abaixo.\n",
        "\n",
        "Então, ao invés de ser AUC, será AP, de average precision. E na função, ao invés de ser roc_auc_score, colocamos average_precision_score."
      ],
      "metadata": {
        "id": "lhsbEijtXHsT"
      }
    },
    {
      "cell_type": "code",
      "source": [
        "print(f'AP: {average_precision_score(y_val, y_previsto)}')"
      ],
      "metadata": {
        "colab": {
          "base_uri": "https://localhost:8080/"
        },
        "id": "BNobbRz2XLHi",
        "outputId": "0d3cc7a1-165e-48b6-9beb-c5f6daf84df2"
      },
      "execution_count": 97,
      "outputs": [
        {
          "output_type": "stream",
          "name": "stdout",
          "text": [
            "AP: 0.09369485848127046\n"
          ]
        }
      ]
    },
    {
      "cell_type": "markdown",
      "source": [
        "Obtivemos exatamente aquele valor que apareceu no gráfico de 0.09."
      ],
      "metadata": {
        "id": "aoVWHkt2XRty"
      }
    },
    {
      "cell_type": "markdown",
      "source": [
        "#### Conclusão\n",
        "\n",
        "Agora, exploramos diversas métricas e gráficos que nos permitem analisar o desempenho do modelo. É o momento de resumir todas essas métricas para avaliar o desempenho do modelo de forma mais abrangente.\n",
        "\n",
        "Até agora, temos calculado as métricas de forma individual, mas elas ainda não estão próximas o suficiente para uma visualização eficaz.\n",
        "\n",
        "Vamos fazer isso a seguir!"
      ],
      "metadata": {
        "id": "sCTmTMxKXVPS"
      }
    },
    {
      "cell_type": "markdown",
      "source": [
        "### Relatório das métricas\n",
        "\n",
        "Exploramos as principais métricas para modelos de classificação e identificamos a mais relevante para o projeto, que foi o recall (recuperação), visando evitar ao máximo possíveis prejuízos para a empresa de empréstimo de automóveis.\n",
        "\n",
        "Seria útil se tivéssemos um resumo de todas essas métricas em um único lugar, pois até então estamos calculando as métricas de forma isolada. Tivemos que importar uma função para calcular a acurácia (accuracy) e outra para o recall, por exemplo.\n",
        "\n",
        "Seria muito conveniente se tivéssemos uma tabela com todas as métricas para avaliar o desempenho do modelo de forma mais simples."
      ],
      "metadata": {
        "id": "fP-cmNJcXu5g"
      }
    },
    {
      "cell_type": "markdown",
      "source": [
        "#### Classification-report\n",
        "\n",
        "Existe uma função dentro da biblioteca Scikit-Learn para isso, chamada classification_report. Essa função é capaz de gerar um relatório com as principais métricas de classificação.\n",
        "\n",
        "Primeiramente, vamos importar essa função da seguinte maneira:"
      ],
      "metadata": {
        "id": "1UDmVG18Ypwr"
      }
    },
    {
      "cell_type": "code",
      "source": [
        "from sklearn.metrics import classification_report"
      ],
      "metadata": {
        "id": "Z8JiO_YwYv0t"
      },
      "execution_count": 98,
      "outputs": []
    },
    {
      "cell_type": "markdown",
      "source": [
        "Em seguida, vamos utilizar essa função para gerar a tabela. Como fizemos com as outras métricas, passaremos os valores reais da base de dados de validação e os valores previstos pelo nosso modelo para a função:"
      ],
      "metadata": {
        "id": "XXUxqkRBYyQ6"
      }
    },
    {
      "cell_type": "code",
      "source": [
        "print(classification_report(y_val, y_previsto))"
      ],
      "metadata": {
        "colab": {
          "base_uri": "https://localhost:8080/"
        },
        "id": "HAU-i35EY0nR",
        "outputId": "74b968b8-0b0d-4b28-8299-a179a2d3bb28"
      },
      "execution_count": 99,
      "outputs": [
        {
          "output_type": "stream",
          "name": "stdout",
          "text": [
            "              precision    recall  f1-score   support\n",
            "\n",
            "           0       0.91      0.99      0.95      8906\n",
            "           1       0.26      0.04      0.06       852\n",
            "\n",
            "    accuracy                           0.91      9758\n",
            "   macro avg       0.59      0.51      0.51      9758\n",
            "weighted avg       0.86      0.91      0.87      9758\n",
            "\n"
          ]
        }
      ]
    },
    {
      "cell_type": "markdown",
      "source": [
        "O relatório nos fornece uma tabela, cujo resultado e cada coluna e linha vamos agora analisar.\n",
        "\n",
        "Na primeira coluna temos a precision (precisão). Para as duas primeiras linhas com valor 0 e 1, a precisão e outras métricas são calculadas para cada uma das classes separadamente.\n",
        "\n",
        "A precision, recall e f1-score que calculamos foi para a classe 1 de clientes inadimplentes, e não adimplentes, que geralmente é o foco dos problemas de classificação.\n",
        "\n",
        "Por conta disso, ao utilizar as funções de precision, recall e f1-score, obtivemos os valores que estão aparecendo na tabela na segunda linha: 0.25 para precision, 0.04 para recall e 0.07 para f1-score.\n",
        "\n",
        "Ao contrário, os valores de precision para a classe 0 são maiores, resultando em 0.92 de precision, 0.99 de recall e um f1-score de 0.95. Esse resultado é devido ao desequilíbrio dos dados.\n",
        "\n",
        "Percebemos que na última coluna da tabela, a coluna chamada \"support\", existe a quantidade de valores para cada uma das classes. Existem 10.479 clientes adimplentes da classe 0 e 1.002 clientes inadimplentes da classe 1.\n",
        "\n",
        "Esse desequilíbrio trouxe melhores resultados para a classe 0 porque o modelo talvez tenha conseguido entender o padrão dos dados ou simplesmente pelo fato de ter mais dados desse tipo, ele priorizou acertar esses dados, pois isso resultaria em uma maior taxa de acerto, ou seja, a acurácia (accuracy), que está na terceira linha da tabela.\n",
        "\n",
        "Apesar de estar na mesma coluna que o f1-score, o 0.91 representa a acurácia do nosso modelo. Como \"support\" na última coluna, temos na terceira linha 11.481, que é a soma dos clientes adimplentes e inadimplentes.\n",
        "\n",
        "Nas duas últimas linhas ainda temos duas médias, uma média geral de cada uma das métricas e na última linha temos uma média ponderada para cada uma das métricas em relação à quantidade de elementos que tem na base de dados da cada classe. Por exemplo, no \"macro avg\", temos a média da precision, recall e f1-score das duas classes.\n",
        "\n",
        "Se pegarmos como exemplo o recall, obtemos 0.99 de recall da classe 0 mais 0.04 de recall da classe 1. Se somarmos esses valores e dividirmos por 2, obteremos 0.51, que é a média geral dessas duas métricas.\n",
        "\n",
        "Por fim, temos a média ponderada, que está escrita como \"Weighted AVG\". Nessa média ponderada, ele leva em consideração não somente a métrica de cada uma das classes, mas também a quantidade de valores de cada uma das classes.\n",
        "\n",
        "Por exemplo, a precisão da classe 0 é de 0.92. Como essa classe tem uma maior quantidade de clientes, 10.479, essa precisão ficou um pouco mais próxima de 0.92 do que 0.25.\n",
        "\n",
        "A conta foi realizada da seguinte forma: 0.92 vezes o suporte, que é 10.479, mais 0.25 vezes 1.002, que é o suporte da classe 1, dividido pela soma total de clientes, sendo 11.481.\n",
        "\n",
        "Assim, ao realizar esse cálculo, obtemos uma média ponderada e ela está em uma posição superior devido ao fato de a precisão, recall e F1 score da classe 0 estarem maiores.\n",
        "\n",
        "A partir dessa tabela, já temos um resumo com as principais métricas que podemos avaliar. Nosso modelo não teve um bom desempenho para a classe 1.\n",
        "\n",
        "Ele teve uma precisão de 0.25, principalmente o recall, que é a métrica que queremos aprimorar em nosso modelo, teve um resultado de 0.04, bastante baixo. Já o F1 score, que é um equilíbrio entre essas duas métricas, foi de 0.07."
      ],
      "metadata": {
        "id": "AhzMdCmiY6s6"
      }
    },
    {
      "cell_type": "markdown",
      "source": [
        "#### Conclusão\n",
        "\n",
        "Esse resumo foi bastante importante para avaliarmos nosso modelo de forma bastante direta, sem precisar calcular cada uma das métricas separadamente.\n",
        "\n",
        "Mas até o momento, estamos validando nosso modelo utilizando um conjunto de dados de treinamento e de validação. Existem outros tipos de validação que podemos utilizar para avaliar o desempenho do nosso modelo, que são ainda mais consistentes e são mais utilizados em projetos de Machine Learning.\n",
        "\n",
        "Na próxima aula, vamos analisar esses outros tipos de validação que podemos aplicar em nossos projetos.\n",
        "\n",
        "Até mais!"
      ],
      "metadata": {
        "id": "gg2DYVcEY-GS"
      }
    },
    {
      "cell_type": "markdown",
      "source": [
        "## <font color='dark'>Validação cruzada</h1>"
      ],
      "metadata": {
        "id": "m4-o5jNDaG_f"
      }
    },
    {
      "cell_type": "markdown",
      "source": [
        "### Usando o KFold\n",
        "\n",
        "Criamos um modelo de classificação e, ao avaliar seu desempenho com a métrica de recall, a mais relevante para o nosso problema, encontramos um resultado insatisfatório de 0.04. Contudo, no processo de validação desse modelo, fizemos uma separação de dados entre treinamento e validação.\n",
        "\n",
        "O potencial problema aqui é que, durante esse processo, ao ser realizada uma separação estratificada - mantendo a mesma proporção de dados de clientes inadimplentes e adimplentes em ambos os conjuntos de dados - pode ter ocorrido uma distribuição que gerou um padrão de dados no conjunto de treinamento e um padrão diferente no conjunto de validação.\n",
        "\n",
        "Caso esses dois conjuntos apresentem padrões de dados muito distintos, no momento do treinamento do modelo, ele vai aprender um tipo de padrão e, ao avaliar o desempenho desse modelo nos dados de validação, não conseguirá ter um bom desempenho, porque os dados funcionam de uma maneira diferente, ou seja, têm um padrão diferente.\n",
        "\n",
        "Para evitar esse tipo de problema, podemos utilizar uma estratégia mais confiável e segura: a validação cruzada. Em vez de utilizar um conjunto de dados para treinamento e outro para validação, dividiremos nosso conjunto de dados em mais partes.\n",
        "\n",
        "Já fizemos uma separação do conjunto de dados de teste, então essa divisão não precisa ser realizada novamente. Vamos focar em utilizar aqueles dados XY, que é o conjunto das partes de validação e treinamento, e dividir esses dados em cinco partes.\n",
        "\n",
        "Quantas partes podemos utilizar? Quanto mais partes utilizarmos, melhor será a mitigação do problema levantado. Porém, mais processamento será necessário, pois será gerado um modelo para cada uma das separações utilizadas.\n",
        "\n",
        "A compreensão geral é que a partir de dez divisões não é tão necessário assim, porque com dez divisões já é suficiente para mitigar esse problema e não ter um processamento tão grande, logo é um valor de equilíbrio. No nosso caso, vamos utilizar uma divisão de dados em cinco partes, o que também é benéfico. É uma estratégia melhor do que fazer uma divisão entre treinamento e validação, pois vai evitar o problema mencionado.\n",
        "\n",
        "Mas como funciona esse processo de validação cruzada? Dividimos os dados em cinco partes, uma das partes será usada como validação e as outras como treinamento. Então, será gerado um modelo a partir desses dados de treinamento e validação, no entanto, esse conjunto de dados de validação vai mudar da primeira para a segunda parte, gerando um novo modelo.\n",
        "\n",
        "Esse modelo, então, vai usar a segunda parte como validação e todas as outras como treinamento. Este processo se repetirá até que cada parte da divisão seja utilizada pelo menos uma única vez para validação.\n",
        "\n",
        "Este processo, no caso, irá gerar cinco modelos, porque fizemos a divisão em cinco partes e o desempenho do modelo será a média da métrica escolhida como resultado geral. Dessa forma, vamos amenizar um pouco o problema de dividir nossos dados de forma aleatória em duas partes.\n",
        "\n",
        "Agora, vamos utilizar a validação cruzada com cinco partes, e um de seus métodos, conhecido como KFold. Existem diferentes estratégias dentro da validação cruzada, mas a mais simples é feita sem nenhum critério específico. Nós dividiremos simplesmente os dados em cinco partes, utilizando uma parte para validação e as demais para treinamento, de forma aleatória. O método KFold opera dessa maneira.\n",
        "\n",
        "Na primeira célula, importaremos o método capaz de executar a validação cruzada, bem como o tipo de validação cruzada que será o KFold:"
      ],
      "metadata": {
        "id": "IRlpjADNaMkU"
      }
    },
    {
      "cell_type": "code",
      "source": [
        "from sklearn.model_selection import cross_validate, KFold"
      ],
      "metadata": {
        "id": "aTz3mz8vdO8G"
      },
      "execution_count": 100,
      "outputs": []
    },
    {
      "cell_type": "markdown",
      "source": [
        "om este comando, estamos importando duas funções: uma capaz de realizar o processo de validação cruzada e o KFold, que é um dos métodos de validação cruzada.\n",
        "\n",
        "Vamos executar essa célula.\n",
        "\n",
        "Feito isso, na célula seguinte, inicializaremos o modelo e o tipo de validação cruzada que será usada:"
      ],
      "metadata": {
        "id": "d9DRjjUXdRnQ"
      }
    },
    {
      "cell_type": "markdown",
      "source": [
        "max_depth corresponde à profundidade máxima e n_splits à quantidade de divisões que serão feitas no nosso conjunto de dados, no caso, cinco partes. O parâmetro shuffle=True embaralha o nosso conjunto de dados antes de dividir em cinco partes. Isso é relevante porque o KFold, por padrão, divide nossos dados na ordem em que eles aparecem na base de dados, o que pode levar a um viés se existir um padrão nessa ordem. Portanto, para evitar o padrão e tornar nosso processo de validação mais robusto, embaralharemos os dados.\n",
        "\n",
        "Para podermos obter os mesmos resultados nesta divisão, usaremos random_state=5. Se você usar este valor, obterá a mesma divisão e os mesmos resultados do modelo.\n",
        "\n",
        "Em seguida, armazenaremos os resultados. Como mencionado, o KFold e a validação cruzada gerarão mais de um modelo. Para armazenar os resultados, usaremos a função cross_validate(). Para essa função, passamos os dados que serão divididos. Anteriormente, armazenamos todo o conjunto de treinamento e validação nas variáveis x e y, por isso devemos passá-las. Além disso, passamos cv=kf, que é o método de validação cruzada que usaremos."
      ],
      "metadata": {
        "id": "UQiTWVICdaFU"
      }
    },
    {
      "cell_type": "code",
      "source": [
        "modelo = DecisionTreeClassifier(max_depth = 10)\n",
        "kf = KFold(n_splits = 5, shuffle = True, random_state = 5)\n",
        "cv_resultados = cross_validate(modelo, x, y, cv = kf)\n",
        "cv_resultados"
      ],
      "metadata": {
        "colab": {
          "base_uri": "https://localhost:8080/"
        },
        "id": "J3hkZbIWdXc1",
        "outputId": "aad404da-d80f-4aa0-ccbf-a2a2f49a5997"
      },
      "execution_count": 101,
      "outputs": [
        {
          "output_type": "execute_result",
          "data": {
            "text/plain": [
              "{'fit_time': array([0.20462584, 0.21603751, 0.28813481, 0.26934791, 0.2705555 ]),\n",
              " 'score_time': array([0.00394964, 0.00519919, 0.00625563, 0.00440645, 0.00449038]),\n",
              " 'test_score': array([0.90239529, 0.9087998 , 0.90507302, 0.9066103 , 0.91096592])}"
            ]
          },
          "metadata": {},
          "execution_count": 101
        }
      ]
    },
    {
      "cell_type": "markdown",
      "source": [
        "Note que nos é retornado um dicionário com várias informações. A primeira chave do dicionário é fit_time, que é o tempo demorado para ajustar cada um dos modelos. Isso é retornado como um array com cinco resultados, ou seja, o tempo para cada um dos modelos, já que separamos em cinco partes.\n",
        "\n",
        "O segundo valor do dicionário, score time, representa o tempo levado para calcular cada uma das métricas do nosso modelo. Já test_score é o desempenho de cada um dos modelos criados. Como estamos mais interessados no test_score, que é o resultado do modelo, vamos optar por usá-lo ao invés de usarmos todo o dicionário.\n",
        "\n",
        "Ao invés de analisarmos todos esses valores, vamos tirar uma média e um intervalo de confiança. O intervalo de confiança nos dirá que, provavelmente, o resultado do nosso modelo ficará entre um valor mínimo e um valor máximo. Portanto, é realmente uma medida de confiança, garantindo que alcançaremos um resultado dentro desse intervalo.\n",
        "\n",
        "Para construir isso, primeiro vamos pegar cv_resultados, e adicioná-lo na próxima célula. Se acessarmos os colchetes, e passarmos 'test_score', percebemos que, executando essa célula, obteremos apenas o array com as métricas de desempenho. Então, é isso que usaremos para calcular uma média desses resultados e um desvio padrão para definir o intervalo do desempenho."
      ],
      "metadata": {
        "id": "6jwq1itCdoDI"
      }
    },
    {
      "cell_type": "code",
      "source": [
        "cv_resultados['test_score']"
      ],
      "metadata": {
        "colab": {
          "base_uri": "https://localhost:8080/"
        },
        "id": "CjY89M6bdso2",
        "outputId": "fb9fb110-d391-40d8-fbcb-01b0a94a3297"
      },
      "execution_count": 102,
      "outputs": [
        {
          "output_type": "execute_result",
          "data": {
            "text/plain": [
              "array([0.90239529, 0.9087998 , 0.90507302, 0.9066103 , 0.91096592])"
            ]
          },
          "metadata": {},
          "execution_count": 102
        }
      ]
    },
    {
      "cell_type": "markdown",
      "source": [
        "Na célula seguinte, vamos extrair a média, o desvio padrão e criar o intervalo de confiança. Esse intervalo de confiança vai de um ponto mínimo a um ponto máximo. O ponto mínimo é a média menos 2 vezes o desvio padrão; enquanto o ponto máximo é a média mais 2 vezes o desvio padrão. Como nossas métricas têm o valor máximo de 1, colocaremos que o ponto máximo deste intervalo de confiança não deve passar de 1:"
      ],
      "metadata": {
        "id": "Sbo5RYCzdx2_"
      }
    },
    {
      "cell_type": "code",
      "source": [
        "media = cv_resultados['test_score'].mean()\n",
        "desvio_padrao = cv_resultados['test_score'].std()\n",
        "print(f'Intervalo de confiança: [{media - 2*desvio_padrao}, {min(media + 2*desvio_padrao, 1)}]')"
      ],
      "metadata": {
        "colab": {
          "base_uri": "https://localhost:8080/"
        },
        "id": "xqb9ji7ldxgD",
        "outputId": "99c56878-c0f4-4ff1-f7a9-2419114f1a13"
      },
      "execution_count": 103,
      "outputs": [
        {
          "output_type": "stream",
          "name": "stdout",
          "text": [
            "Intervalo de confiança: [0.9008514873285098, 0.9126862428748548]\n"
          ]
        }
      ]
    },
    {
      "cell_type": "markdown",
      "source": [
        "Ao executar esta célula podemos perceber que, ao utilizar a validação cruzada com KFold, obtivemos um intervalo de confiança de 0.89 até 0.91. Portanto, é mais seguro dizer que o nosso modelo terá um desempenho entre 0.89 e 0.91. Ou seja, está na média de 0.90.\n",
        "\n",
        "Acontece que essa é a acurácia e estamos interessados, na verdade, no recall. Será que nós podemos utilizar essa validação cruzada para obter também o recall? Veremos a seguir."
      ],
      "metadata": {
        "id": "9xPRRJMGd4kw"
      }
    },
    {
      "cell_type": "markdown",
      "source": [
        "### Validação cruzada com Recall\n",
        "\n",
        "Estamos usando o processo de validação cruzada para avaliar o desempenho do nosso modelo de classificação e obtivemos um intervalo de confiança de 0.89 a 0.91. Esse resultado é bem próximo da acurácia obtida pelo processo de validação simples, realizado na divisão entre os dados de treinamento e validação. Entretanto, apesar de serem resultados semelhantes, não significa que isso ocorrerá na maioria das vezes.\n",
        "\n",
        "O processo de validação cruzada é importante para obter um resultado mais confiável, indicando que o nosso modelo terá um desempenho adequado quando aplicado a dados reais. No entanto, obtivemos um intervalo de confiança para a acurácia, quando a métrica que queremos avaliar é o recall. Essa métrica é mais importante para identificar se a empresa terá prejuízo ou não, isto é, se está conseguindo classificar adequadamente os clientes.\n",
        "\n",
        "Vamos, então, aplicar o processo de validação cruzada utilizando o recall como métrica de desempenho. Primeiramente, no nosso código, vamos copiar o trecho que cria o intervalo de confiança e criar uma função para facilitar a extração desse intervalo.\n",
        "\n",
        "Copiamos esse código e colamos na primeira célula vazia do nosso projeto. Feito isso, definiremos uma função chamada intervalo_conf() na primeira linha deste código:"
      ],
      "metadata": {
        "id": "PycPxcfsayiK"
      }
    },
    {
      "cell_type": "code",
      "source": [
        "def intervalo_conf():\n",
        "    media = cv_resultados['test_score'].mean()\n",
        "    desvio_padrao = cv_resultados['test_score'].std()\n",
        "    print(f'Intervalo de confiança: [{media - 2*desvio_padrao}, {min(media + 2*desvio_padrao, 1)}]')"
      ],
      "metadata": {
        "id": "rKGkDyf6e0_B"
      },
      "execution_count": 104,
      "outputs": []
    },
    {
      "cell_type": "markdown",
      "source": [
        "Como parâmetro desta função, passamos os resultados da validação cruzada. Além disso, colocamos o resto do código para dentro da função em questão. Como passamos resultados como parâmetro, vamos alterar o nome de cv_resultados para resultados:"
      ],
      "metadata": {
        "id": "kXCEVtRKe3Jm"
      }
    },
    {
      "cell_type": "code",
      "source": [
        "def intervalo_conf(resultados):\n",
        "    media = resultados['test_score'].mean()\n",
        "    desvio_padrao = resultados['test_score'].std()\n",
        "    print(f'Intervalo de confiança: [{media - 2*desvio_padrao}, {min(media + 2*desvio_padrao, 1)}]')"
      ],
      "metadata": {
        "id": "Kw5M12e9e7sj"
      },
      "execution_count": 105,
      "outputs": []
    },
    {
      "cell_type": "markdown",
      "source": [
        "Agora, vamos aplicar a validação cruzada utilizando o recall como métrica de desempenho. O processo de usar a validação cruzada com outra métrica é muito semelhante ao anterior. Sendo assim, podemos copiar o trecho de criação da validação cruzada e acrescentar a métrica de desempenho que vamos avaliar: o recall. Faremos isso dentro da função cross_validate(), depois de cv=KF, incluindo scoring = 'recall'."
      ],
      "metadata": {
        "id": "ez7DsJr4fAVU"
      }
    },
    {
      "cell_type": "code",
      "source": [
        "modelo = DecisionTreeClassifier(max_depth = 10)\n",
        "kf = KFold(n_splits = 5, shuffle = True, random_state = 5)\n",
        "cv_resultados = cross_validate(modelo, x, y, cv = kf, scoring = 'recall')\n",
        "cv_resultados"
      ],
      "metadata": {
        "colab": {
          "base_uri": "https://localhost:8080/"
        },
        "id": "OBdaoc4qfB0a",
        "outputId": "cb067ce1-8436-4860-9734-955548dae338"
      },
      "execution_count": 106,
      "outputs": [
        {
          "output_type": "execute_result",
          "data": {
            "text/plain": [
              "{'fit_time': array([0.27856183, 0.28157997, 0.27264667, 0.29251957, 0.30156755]),\n",
              " 'score_time': array([0.00986552, 0.00818801, 0.00772476, 0.00802088, 0.00844312]),\n",
              " 'test_score': array([0.02542373, 0.03742515, 0.03025937, 0.03030303, 0.0124031 ])}"
            ]
          },
          "metadata": {},
          "execution_count": 106
        }
      ]
    },
    {
      "cell_type": "markdown",
      "source": [
        "Ao executar esta célula, obtemos um resultado diferente do anterior. No test_score, por exemplo, temos valores como 0.02 e 0.01, que indicam o recall do nosso modelo.\n",
        "\n",
        "Para extrair o intervalo de confiança, podemos utilizar a função que foi criada. Para isso, na célula seguinte, vamos escrever intervalo_conf e passar cv_resultados como parâmetro."
      ],
      "metadata": {
        "id": "kl7xDhXQfGxk"
      }
    },
    {
      "cell_type": "code",
      "source": [
        "intervalo_conf(cv_resultados)"
      ],
      "metadata": {
        "colab": {
          "base_uri": "https://localhost:8080/"
        },
        "id": "t4FToSZlfKIj",
        "outputId": "908ed67b-b6a8-4291-9c7f-a1aaf328e093"
      },
      "execution_count": 107,
      "outputs": [
        {
          "output_type": "stream",
          "name": "stdout",
          "text": [
            "Intervalo de confiança: [0.010534256931553715, 0.043791493303093704]\n"
          ]
        }
      ]
    },
    {
      "cell_type": "markdown",
      "source": [
        "O recall que havíamos obtido anteriormente era de aproximadamente 0.04. Logo, esse intervalo de confiança nos indica que é mais seguro afirmar que o nosso recall está dentro desses valores.\n",
        "\n",
        "Conseguimos entender como usar a validação cruzada com outra métrica, o recall. Porém, ainda estamos utilizando o método KFold, que divide os conjuntos de dados de validação e treinamento em cinco partes, de forma aleatória.\n",
        "\n",
        "Será que existe uma forma mais adequada para aplicarmos esse processo de validação cruzada em nosso tipo de dado? Veremos isso no próximo vídeo."
      ],
      "metadata": {
        "id": "-dUQhHKifNCp"
      }
    },
    {
      "cell_type": "markdown",
      "source": [
        "### Estratificando os dados\n",
        "\n",
        "Estamos utilizando um processo muito mais confiável para avaliar o desempenho do nosso modelo de classificação: a validação cruzada. No entanto, estamos usando o método KFold, um tipo de procedimento de validação cruzada que não se baseia em qualquer critério específico. Este método se limita a embaralhar e dividir os dados de forma aleatória.\n",
        "\n",
        "Se lembrarmos, em nosso conjunto de dados existe um desequilíbrio entre os dados de clientes adimplentes e inadimplentes. Primeiro, vamos verificar essa proporção e, em seguida, explorar como podemos realizar a separação de maneira mais eficaz durante a validação cruzada.\n",
        "\n",
        "Então, na célula seguinte, vamos escrever a coluna dados['inadimplente']. Em seguida, podemos fazer uma contagem dos valores usando value_counts(), com o argumento normalize = True. Dessa forma, o resultado será apresentado em porcentagem, permitindo-nos ver a proporção."
      ],
      "metadata": {
        "id": "PSF4GcLWbB75"
      }
    },
    {
      "cell_type": "code",
      "source": [
        "dados['inadimplente'].value_counts(normalize = True)"
      ],
      "metadata": {
        "colab": {
          "base_uri": "https://localhost:8080/",
          "height": 178
        },
        "id": "Glgidlb_gPVE",
        "outputId": "fa6b229a-d0b7-4841-dde8-e0b701252c47"
      },
      "execution_count": 108,
      "outputs": [
        {
          "output_type": "execute_result",
          "data": {
            "text/plain": [
              "inadimplente\n",
              "0    0.912707\n",
              "1    0.087293\n",
              "Name: proportion, dtype: float64"
            ],
            "text/html": [
              "<div>\n",
              "<style scoped>\n",
              "    .dataframe tbody tr th:only-of-type {\n",
              "        vertical-align: middle;\n",
              "    }\n",
              "\n",
              "    .dataframe tbody tr th {\n",
              "        vertical-align: top;\n",
              "    }\n",
              "\n",
              "    .dataframe thead th {\n",
              "        text-align: right;\n",
              "    }\n",
              "</style>\n",
              "<table border=\"1\" class=\"dataframe\">\n",
              "  <thead>\n",
              "    <tr style=\"text-align: right;\">\n",
              "      <th></th>\n",
              "      <th>proportion</th>\n",
              "    </tr>\n",
              "    <tr>\n",
              "      <th>inadimplente</th>\n",
              "      <th></th>\n",
              "    </tr>\n",
              "  </thead>\n",
              "  <tbody>\n",
              "    <tr>\n",
              "      <th>0</th>\n",
              "      <td>0.912707</td>\n",
              "    </tr>\n",
              "    <tr>\n",
              "      <th>1</th>\n",
              "      <td>0.087293</td>\n",
              "    </tr>\n",
              "  </tbody>\n",
              "</table>\n",
              "</div><br><label><b>dtype:</b> float64</label>"
            ]
          },
          "metadata": {},
          "execution_count": 108
        }
      ]
    },
    {
      "cell_type": "markdown",
      "source": [
        "Ao executar o código, vemos que nosso conjunto tem cerca de 91% de dados de clientes adimplentes e 8% de dados de clientes inadimplentes.\n",
        "\n",
        "No processo do KFold, é improvável que esta proporção seja mantida em cada uma das divisões do conjunto de dados. Portanto, precisamos usar uma estratégia para estratificar esses dados, assim como fizemos no processo de divisão simples de treinamento e validação.\n",
        "\n",
        "Para isso, vamos usar uma função do sklearn, o StratifiedKFold. Em vez de simplesmente utilizar o KFold, ele realiza o KFold de maneira estratificada, levando em conta a proporção de dados de clientes adimplentes e inadimplentes. Na próxima célula, vamos executar o seguinte comando:"
      ],
      "metadata": {
        "id": "vMIwvyBEgT2j"
      }
    },
    {
      "cell_type": "code",
      "source": [
        "from sklearn.model_selection import StratifiedKFold"
      ],
      "metadata": {
        "id": "-ig_cvM4gYCj"
      },
      "execution_count": 109,
      "outputs": []
    },
    {
      "cell_type": "markdown",
      "source": [
        "Agora que importamos este método, vamos proceder com o processo de validação de forma similar ao KFold, mas usando o StratifiedKFold.\n",
        "\n",
        "Na próxima célula, vamos inicializar o modelo com modelo = DecisionTreeClassifier(max_depth = 10). Em seguida, ainda na mesma célula, escolheremos o método de validação cruzada. Vamos definir skf = StratifiedKFold(n_splits = 5, shuffle = True, random_state = 5) para realizar a divisão em 5 partes, fazer o embaralhamento dos dados antes da separação e definir o estado aleatório como 5.\n",
        "\n",
        "Na mesma célula, vamos armazenar os resultados da validação cruzada em cv_resultados passando cross_validate(modelo, X, y, cv=skf, scoring='recall'). Desta forma, podemos avaliar o recall por meio da validação cruzada."
      ],
      "metadata": {
        "id": "Ac14-luPgdi2"
      }
    },
    {
      "cell_type": "code",
      "source": [
        "modelo = DecisionTreeClassifier(max_depth = 10)\n",
        "skf = StratifiedKFold(n_splits = 5, shuffle = True, random_state = 5)\n",
        "cv_resultados = cross_validate(modelo, x, y, cv = skf, scoring='recall')"
      ],
      "metadata": {
        "id": "tEE-iqR-gauA"
      },
      "execution_count": 110,
      "outputs": []
    },
    {
      "cell_type": "markdown",
      "source": [
        "Lembre-se que 'x' representa as variáveis explicativas e 'y' a variável alvo.\n",
        "\n",
        "Na próxima célula, vamos utilizar a função do intervalo de confiança para obter o intervalo de confiança do recall. Portanto, escreveremos intervalo_conf(), passamos cv_resultados e executamos a célula:"
      ],
      "metadata": {
        "id": "PQKMyBQnghpZ"
      }
    },
    {
      "cell_type": "code",
      "source": [
        "intervalo_conf(cv_resultados)"
      ],
      "metadata": {
        "colab": {
          "base_uri": "https://localhost:8080/"
        },
        "id": "drHgUa9Kgp6T",
        "outputId": "064b253c-9f88-4d5d-e69b-74a1c58d1d0d"
      },
      "execution_count": 111,
      "outputs": [
        {
          "output_type": "stream",
          "name": "stdout",
          "text": [
            "Intervalo de confiança: [0.006879613981265242, 0.05064403805709476]\n"
          ]
        }
      ]
    },
    {
      "cell_type": "markdown",
      "source": [
        "Como resultado, obtemos o intervalo de confiança de 0.02 até 0.03.\n",
        "\n",
        "Se observarmos o intervalo anterior, ele era de 0.01 até 0.03 - muito similar, mas agora vemos que existe uma maior consistência.\n",
        "\n",
        "Portanto, o resultado obtido é mais conciso, variando de 0.02 a 0.03, ao invés de 0.01 a 0.03, devido à divisão estratificada dos conjuntos de dados. Isso nos proporciona um resultado mais confiável, considerando a forma como nosso conjunto de dados funciona, devido ao desequilíbrio entre os dados de clientes inadimplentes e adimplentes.\n",
        "\n",
        "Tendo compreendido que o nosso modelo não está apresentando desempenho satisfatório, temos uma maior confiança de que o resultado obtido é verdadeiro. A seguir, vamos avaliar estratégias que podem ser adotadas para identificar melhor os clientes inadimplentes, de forma que a empresa não sofra tantas perdas financeiras."
      ],
      "metadata": {
        "id": "ju6be3xLgvId"
      }
    },
    {
      "cell_type": "markdown",
      "source": [
        "### Para saber mais: outros métodos de validação\n",
        "\n",
        "Além da validação cruzada com KFold tradicional e estratificada, existem outros tipos de validação que podem ser utilizados em projetos de machine learning. A escolha da utilização dependerá das características dos dados do projeto. Vamos explorar mais adiante três novas abordagens de separação dos dados usados para simular o processo de aprendizagem em dados futuros.\n",
        "\n",
        "#### GroupKFold\n",
        "\n",
        "O método GroupKFold é uma variação da validação cruzada KFold tradicional e é utilizado quando os dados possuem alguma estrutura de grupo ou dependência que não deve ser quebrada, geralmente uma característica em uma das colunas da base de dados.\n",
        "\n",
        "Essa abordagem utiliza uma estratégia de separação dos dados para que os registros pertencentes a um grupo específico sejam mantidas juntas durante as divisões do KFold, garantindo que não sejam separadas entre os conjuntos de treinamento e validação. Isso é útil para evitar possíveis vieses e garantir que o modelo generalize para grupos desconhecidos, ou seja. Mesmo que não tenha um dado do grupo no conjunto de treinamento, o modelo precisará ter um bom desempenho ao prever o resultado para os dados daquele grupo.\n",
        "\n",
        "#### Leave-p-out\n",
        "\n",
        "O método Leave-p-out funciona de maneira diferente do método KFold. Ao invés de dividir o conjunto de dados em uma quantidade fixada de conjuntos, será escolhida uma quantidade 'p' de elementos para serem deixados de fora do treinamento. Os dados serão treinados em todo o restante e validados apenas nos 'p' elementos. Esse processo é repetido até que todos os dados sejam utilizados como dados de validação. O resultado final pode ser considerado a média dos resultados obtidos nos modelos, assim como é feito na validação cruzada tradicional.\n",
        "\n",
        "Isso proporciona uma validação bem mais completa, já que considera todas as combinações possíveis de dados de treino e validação. Porém, é muito mais custosa computacionalmente, já que serão criados muitos modelos e isso aumenta a quantidade conforme o conjunto de dados seja muito grande e o valor escolhido para 'p' seja pequeno.\n",
        "\n",
        "#### Leave-one-out\n",
        "\n",
        "O método Leave-one-out é uma forma especial do Leave-p-out, onde é escolhido o valor de p=1. Dessa maneira, apenas uma amostra é reservada para validação e todos os outros dados são escolhidos para treinamento. Esse processo é repetido para todas as amostras da base de dados. Isso significa que, se houver 1000 linhas na base de dados, serão treinados 1000 modelos distintos.\n",
        "\n",
        "É de se esperar que esse método demanda muito computacionalmente, pela criação de um modelo para cada linha da base de dados. Portanto, ele é indicado somente nos casos em que a base de dados é muito pequena. Nessas situações, é interessante utilizar a maior quantidade de dados possível para treinamento, para que o modelo consiga entender o padrão dos dados. Outra estratégia de validação cruzada removeria muitos dados que seriam úteis no treino.\n",
        "\n",
        "Caso deseje saber mais sobre outros métodos de validação disponíveis na biblioteca Scikit-Learn, você pode consultar a documentação [Validação cruzada: avaliando o desempenho do estimador.](https://scikit-learn.org/stable/modules/cross_validation.html)\n",
        "\n",
        "Caso queira criar uma visualização para ter um melhor entendimento de como foi realizada a divisão dos dados em algum projeto, seja com o KFold, StratifiedKFold ou GroupKFold, você pode explorar a documentação [Visualizando o comportamento de validação cruzada no scikit-learn.](https://scikit-learn.org/stable/auto_examples/model_selection/plot_cv_indices.html)"
      ],
      "metadata": {
        "id": "tE8wiWrdg4FO"
      }
    },
    {
      "cell_type": "markdown",
      "source": [
        "## <font color='dark'>Balanceamento de dados</h1>"
      ],
      "metadata": {
        "id": "B3-YQPuah98R"
      }
    },
    {
      "cell_type": "markdown",
      "source": [
        "### Oversampling\n",
        "\n",
        "A quantidade de clientes inadimplentes e adimplentes no nosso conjunto de dados está muito desbalanceada e já estamos utilizando o melhor método para validar o nosso modelo, que é a validação cruzada estratificada.\n",
        "\n",
        "Isso nos dá uma maior segurança ao afirmar que o desempenho do nosso modelo está correto, dentro do intervalo de confiança estabelecido. Entretanto, isso não contribui para o desempenho em si do modelo, apenas avalia da melhor maneira possível.\n",
        "\n",
        "Agora vamos utilizar estratégias para tentar melhorar esse desempenho, porque com dados desbalanceados, o que pode estar acontecendo é que o nosso modelo não está entendendo tão bem o padrão dos dados que tem menor quantidade, simplesmente por esse fato.\n",
        "\n",
        "A estratégia que adotaremos é tentar equilibrar esta quantidade de dados, para que as duas classes tenham a mesma quantidade. Assim, notaremos se o modelo que iremos construir conseguirá diferenciar bem esses dados, já que terá a mesma quantidade de informação para as duas classes.\n",
        "\n",
        "**SMOTE**\n",
        "\n",
        "A primeira estratégia será a oversampling (sobreamostragem). Nesta estratégia, vamos aumentar a quantidade de dados da classe que tem menor quantidade, que no caso são a quantidade de clientes inadimplentes. O oversampling normal, que seria o aleatório, duplica a quantidade de elementos da classe de menor quantidade de forma aleatória.\n",
        "\n",
        "Porém, vamos utilizar um método conhecido como SMOTE (Synthetic Minority Over-sampling Technique ou técnica de sobreamostragem minoritária sintética). É um algoritmo que, ao invés de simplesmente duplicar os elementos da classe de menor quantidade, cria novos dados sintéticos com padrão semelhante aos dados que já existem.\n",
        "\n",
        "Dessa maneira, o modelo pode entender um pouco mais como funciona aquele padrão de dados e vai conseguir diferenciar melhor as duas classes.\n",
        "\n",
        "Vamos fazer o oversampling utilizando o método SMOTE, disponível na biblioteca imblearn, que já vem instalada no Google Colab. Vamos importar o método e depois aplicar nos nossos dados."
      ],
      "metadata": {
        "id": "Xt1xeo4ZiMH9"
      }
    },
    {
      "cell_type": "code",
      "source": [
        "from imblearn.over_sampling import SMOTE"
      ],
      "metadata": {
        "id": "Q70QgHU1jv7z"
      },
      "execution_count": 112,
      "outputs": []
    },
    {
      "cell_type": "markdown",
      "source": [
        "Após executar essa célula, na célula seguinte, vamos realizar o balanceamento dos nossos dados. Já temos os dados armazenados em x e y e vamos balancear esses dados utilizando o SMOTE. Ele vai criar novos registros tanto nas variáveis explicativas quanto na variável alvo.\n",
        "\n",
        "Primeiro, precisamos iniciar esse algoritmo. Ele é um algoritmo que, assim como os de inteligência artificial, precisa ser inicializado antes de usarmos para fazer o balanceamento dos dados.\n",
        "\n",
        "Vamos escrever oversample igual à SMOTE() na primeira linha. Na segunda linha, vamos colocar x_balanceado, y_balanceado igual à variável oversample.fit_resample().\n",
        "\n",
        "Dessa maneira, ele vai entender o padrão dos dados e gerar novos dados com padrões semelhantes. Desta forma, ele terá a mesma quantidade de dados tanto de clientes adimplentes quanto inadimplentes.\n",
        "\n",
        "Vamos passar como parâmetros do fit_resample() o x e o y, que são os nossos dados originais."
      ],
      "metadata": {
        "id": "Tcj18OJHjzKA"
      }
    },
    {
      "cell_type": "code",
      "source": [
        "oversample = SMOTE()\n",
        "x_balanceado, y_balanceado = oversample.fit_resample(x, y)"
      ],
      "metadata": {
        "id": "RgEkxYADjywu"
      },
      "execution_count": 113,
      "outputs": []
    },
    {
      "cell_type": "markdown",
      "source": [
        "Ao executar essa célula, ele já terá feito o balanceamento dos dados e podemos verificar se foi feito corretamente.\n",
        "\n",
        "Vamos colocar a variável alvo com a quantidade de clientes adimplentes e inadimplentes y_balanceado.value_counts(), passando normalize igual à True."
      ],
      "metadata": {
        "id": "WK5UIeOcj6Jx"
      }
    },
    {
      "cell_type": "code",
      "source": [
        "y_balanceado.value_counts(normalize = True)"
      ],
      "metadata": {
        "id": "LfF47hTHj9uF",
        "outputId": "5b5a4049-5a02-4591-bad9-02377d9dec9e",
        "colab": {
          "base_uri": "https://localhost:8080/",
          "height": 178
        }
      },
      "execution_count": 114,
      "outputs": [
        {
          "output_type": "execute_result",
          "data": {
            "text/plain": [
              "inadimplente\n",
              "0    0.5\n",
              "1    0.5\n",
              "Name: proportion, dtype: float64"
            ],
            "text/html": [
              "<div>\n",
              "<style scoped>\n",
              "    .dataframe tbody tr th:only-of-type {\n",
              "        vertical-align: middle;\n",
              "    }\n",
              "\n",
              "    .dataframe tbody tr th {\n",
              "        vertical-align: top;\n",
              "    }\n",
              "\n",
              "    .dataframe thead th {\n",
              "        text-align: right;\n",
              "    }\n",
              "</style>\n",
              "<table border=\"1\" class=\"dataframe\">\n",
              "  <thead>\n",
              "    <tr style=\"text-align: right;\">\n",
              "      <th></th>\n",
              "      <th>proportion</th>\n",
              "    </tr>\n",
              "    <tr>\n",
              "      <th>inadimplente</th>\n",
              "      <th></th>\n",
              "    </tr>\n",
              "  </thead>\n",
              "  <tbody>\n",
              "    <tr>\n",
              "      <th>0</th>\n",
              "      <td>0.5</td>\n",
              "    </tr>\n",
              "    <tr>\n",
              "      <th>1</th>\n",
              "      <td>0.5</td>\n",
              "    </tr>\n",
              "  </tbody>\n",
              "</table>\n",
              "</div><br><label><b>dtype:</b> float64</label>"
            ]
          },
          "metadata": {},
          "execution_count": 114
        }
      ]
    },
    {
      "cell_type": "markdown",
      "source": [
        "Assim, podemos verificar que agora existe 50% de dados da classe 0 de clientes adimplentes e 50% de dados de clientes inadimplentes. Desta forma, ele fez um balanceamento dos dados.\n",
        "\n",
        "Agora, vamos treinar o modelo usando esses dados. Assim, o modelo pode entender melhor como está o padrão de cada um desses clientes.\n",
        "\n",
        "Na próxima célula, vamos criar o modelo, escrevendo modelo igual à DecisionTreeClassifier(), passando max_depth igual à 10.\n",
        "\n",
        "Na próxima linha, vamos escolher o método de validação cruzada, que será skf igual à StratifiedKFold(). Mesmo com o balanceamento dos dados, usaremos o StratifiedKFold() para manter essa proporção em cada conjunto de dados. Afinal, é a melhor maneira de garantir esta mesma proporção.\n",
        "\n",
        "Entre os parênteses, passaremos os seguintes parâmetros: n_splits igual à 5, shuffle igual à True e random_state igual à 5.\n",
        "\n",
        "Na próxima linha, escreveremos cv_resultados igual à cross_validate(), passando como primeiro parâmetro o modelo e como segundo parâmetro, ao invés de passarmos x, passaremos o x_balanceado.\n",
        "\n",
        "Como terceiro parâmetro passaremos y_balancado e também o cv igual à skf. Finalmente, colocaremos como último parâmetro o scoringigual à recall entre aspas, que é a métrica que queremos avaliar."
      ],
      "metadata": {
        "id": "KLwf-YeKkAFl"
      }
    },
    {
      "cell_type": "code",
      "source": [
        "modelo = DecisionTreeClassifier(max_depth = 10)\n",
        "skf = StratifiedKFold(n_splits=5, shuffle = True, random_state = 5)\n",
        "cv_resultados = cross_validate(modelo, x_balanceado, y_balanceado, cv=skf, scoring = 'recall')"
      ],
      "metadata": {
        "id": "IJhfAvuYkD-Z"
      },
      "execution_count": 115,
      "outputs": []
    },
    {
      "cell_type": "markdown",
      "source": [
        "Depois desta instrução, podemos obter um intervalo de confiança. Então, executaremos essa célula e, na próxima, obteremos o intervalo de confiança do recall através da instrução intervalo_conf(), passando cv_resultados como parâmetro, que foi a função que criamos para obter o intervalo de confiança."
      ],
      "metadata": {
        "id": "_aK2HoHlkG-a"
      }
    },
    {
      "cell_type": "code",
      "source": [
        "intervalo_conf(cv_resultados)"
      ],
      "metadata": {
        "id": "zmwLXubVkKOa",
        "outputId": "12108fbd-683e-40ef-91ed-4526cabf2e91",
        "colab": {
          "base_uri": "https://localhost:8080/"
        }
      },
      "execution_count": 116,
      "outputs": [
        {
          "output_type": "stream",
          "name": "stdout",
          "text": [
            "Intervalo de confiança: [0.6892021904243331, 0.7572934546400405]\n"
          ]
        }
      ]
    },
    {
      "cell_type": "markdown",
      "source": [
        "Confira que interessante: o intervalo de confiança para o recall, que antes apresentava um resultado entre 0.02 e 0.03, agora obtivemos um resultado entre 0.69 e 0.78. O modelo, de fato, melhorou muito com essa estratégia.\n",
        "\n",
        "No entanto, questionamos se aplicamos a estratégia corretamente. Balanceamos os dados e depois fizemos a separação deles usando o cross_validate(). Porém, no momento de avaliar o desempenho deste modelo, avaliamos em dados balanceados.\n",
        "\n",
        "Na vida real, os dados não estarão balanceados. O que fizemos aqui não é completamente correto, porque balanceamos todos os nossos dados e no momento da avaliação, avaliamos esses dados já balanceados. O objetivo de nossa estratégia é somente para o modelo aprender o padrão dos dados balanceados, para que ele consiga diferenciá-los. Contudo, na hora da avaliação, temos que utilizar dados desbalanceados, pois é assim que eles se apresentam no mundo real.\n",
        "\n",
        "Nosso resultado aqui foi bem alto, mas otimista demais, porque estamos avaliando em dados que não representam a realidade. Mais adiante, iremos explorar a forma correta de aplicar o oversampling utilizando a validação cruzada. Pois, apesar de ter melhorado o resultado do nosso modelo, este resultado não é o real."
      ],
      "metadata": {
        "id": "UxkrxHfbkOym"
      }
    },
    {
      "cell_type": "markdown",
      "source": [
        "### Para saber mais: balanceamento de dados\n",
        "\n",
        "Em problemas de classificação, podemos nos deparar com bases de dados em que a variável alvo contenha classes muito desbalanceadas, ou seja, contendo categorias com frequências muito diferentes. Ao treinar um modelo com a variável desbalanceada, pode ser que o padrão dos dados para a classe dominante se sobressaia em relação aos da classe com menor frequência, gerando um modelo com desempenho muito baixo para classificar a classe de menor frequência.\n",
        "\n",
        "Para contornar esses problemas gerados pela base de dados desbalanceada, podemos recorrer a duas soluções que consistem em equilibrar os dados da variável alvo: undersampling e oversampling. Essas estratégias são úteis para que o modelo consiga compreender melhor o padrão dos dados, mas é importante destacar que elas também possuem desvantagens e ressalvas que precisamos analisar antes de utilizá-las.\n",
        "\n",
        "#### Oversampling\n",
        "\n",
        "A estratégia de oversampling consiste em aumentar a quantidade de dados da classe que possui menor frequência até que tenha a mesma quantidade da classe de maior frequência. Dessa maneira, o modelo se atentará mais para o padrão dos dados da classe que tinha menor frequência a princípio e poderá diferenciar melhor as duas classes.\n",
        "\n",
        "Para aumentar a quantidade de dados precisamos gerar novos registros na base de dados. É possível utilizar um oversampling aleatório para duplicar registros de maneira randômica ou usar uma técnica como o SMOTE para gerar dados sintéticos com um padrão próximo dos dados existentes. A desvantagem dessa estratégia é a possibilidade de overfitting do modelo, principalmente ao ser utilizado o oversampling aleatório. Nesse caso, o modelo pode se especializar demais no padrão dos dados que são muito parecidos ou idênticos, já que são copiados ou gerados sinteticamente.\n",
        "\n",
        "#### Undersampling\n",
        "\n",
        "A estratégia de undersampling é contrária ao oversampling, e consiste em reduzir a quantidade de dados da classe que possui maior frequência até que tenha a mesma quantidade da classe de menor frequência. Dessa forma, o modelo não dará atenção somente aos dados de maior quantidade e poderá diferenciar melhor as duas classes.\n",
        "\n",
        "Para reduzir a quantidade de dados, precisamos remover ou deletar registros existentes. É possível utilizar um undersampling aleatório para selecionar os registros que serão mantidos ou usar técnicas que selecionam ou removem dados a partir de um padrão estabelecido. A principal desvantagem da estratégia de undersampling é a de remover dados que podem ser muito importantes para o entendimento do problema, principalmente quando essa remoção é feita sem nenhum critério, como é o caso do undersampling aleatório.\n",
        "\n",
        "Ambas as estratégias são válidas para a tentativa de melhorar o desempenho de um modelo de classificação, mas devemos ficar atentos ao utilizá-las devido aos pontos negativos que são inerentes a cada um dos métodos. Em qualquer projeto que seja utilizado alguma dessas ferramentas, deve ser feita uma análise para identificar se de fato elas ajudaram ou atrapalharam o desempenho do modelo de classificação."
      ],
      "metadata": {
        "id": "yZ0dAKopkZUw"
      }
    },
    {
      "cell_type": "markdown",
      "source": [
        "### Para saber mais: biblioteca imblearn\n",
        "\n",
        "A classificação de dados desbalanceados pode se tornar uma tarefa bem desafiadora, já que a abordagem tradicional de treinar um modelo usando esses dados leva frequentemente a resultados muito insatisfatórios, em que o modelo tende a favorecer a classe com maior quantidade de dados em detrimento da outra.\n",
        "\n",
        "Para lidar com esse tipo de situação, a biblioteca imbalanced-learn, abreviada como imblearn, oferece diversas técnicas e ferramentas com intuito de equilibrar a distribuição das categorias da variável alvo e melhorar o desempenho de modelos de machine learning. As técnicas consistem em algoritmos de reamostragem de oversampling, undersampling e algoritmos que combinam as duas estratégias simultaneamente.\n",
        "\n",
        "Alguns dos algoritmos de oversampling da biblioteca:\n",
        "\n",
        "- [RandomOversampler](https://imbalanced-learn.org/stable/references/generated/imblearn.over_sampling.RandomOverSampler.html)\n",
        "- [SMOTE](https://imbalanced-learn.org/stable/references/generated/imblearn.over_sampling.SMOTE.html)\n",
        "- [ADASYN](https://imbalanced-learn.org/stable/references/generated/imblearn.over_sampling.ADASYN.html)\n",
        "- [KMeansSMOTE](https://imbalanced-learn.org/stable/references/generated/imblearn.over_sampling.KMeansSMOTE.html)\n",
        "\n",
        "Alguns dos algoritmos de undersampling da biblioteca:\n",
        "\n",
        "- [RandomUnderSampler](https://imbalanced-learn.org/stable/references/generated/imblearn.under_sampling.RandomUnderSampler.html)\n",
        "- [NearMiss](https://imbalanced-learn.org/stable/references/generated/imblearn.under_sampling.NearMiss.html)\n",
        "- [ClusterCentroids](https://imbalanced-learn.org/stable/references/generated/imblearn.under_sampling.ClusterCentroids.html)\n",
        "- [TomekLinks](https://imbalanced-learn.org/stable/references/generated/imblearn.under_sampling.TomekLinks.html)\n",
        "\n",
        "Algoritmos que combinam as duas técnicas de oversampling e undersampling:\n",
        "\n",
        "- [SMOTEENN](https://imbalanced-learn.org/stable/references/generated/imblearn.combine.SMOTEENN.html)\n",
        "- [SMOTETomek](https://imbalanced-learn.org/stable/references/generated/imblearn.combine.SMOTETomek.html)\n",
        "\n",
        "Além das técnicas de balanceamento de dados, a biblioteca fornece ferramentas para construção de [pipelines de dados](https://imbalanced-learn.org/stable/references/pipeline.html), [algoritmos de machine learning](https://imbalanced-learn.org/stable/references/ensemble.html) para dados desbalanceados e cálculos de [métricas de desempenho de modelos](https://imbalanced-learn.org/stable/references/metrics.html)."
      ],
      "metadata": {
        "id": "PGEVFpOxk3X2"
      }
    },
    {
      "cell_type": "markdown",
      "source": [
        "### Pipeline para validação\n",
        "\n",
        "Nós utilizamos uma estratégia para balancear nossos dados com base na variável alvo de clientes inadimplentes. Contudo, o processo de validação cruzada está sendo realizado em dados balanceados. Isso representa um problema, já que os dados do mundo real não são balanceados.\n",
        "\n",
        "Essa estratégia deve ser aplicada somente para o modelo aprender o padrão dos dados. No momento de avaliar esse modelo, para verificar se está ou não acertando, precisamos avaliar em dados desbalanceados.\n",
        "\n",
        "Então, como podemos implementar o processo de balanceamento de dados em conjunto com a validação cruzada?\n",
        "\n",
        "Vamos precisar utilizar um pipeline de dados. Um pipeline é uma sequência de transformações, operações que realizamos nos dados.\n",
        "\n",
        "Queremos colocar o processo de transformação do oversampling em conjunto ao modelo. Dessa forma, quando passarmos esse pipeline para validação cruzada, primeiramente será feita a separação dos dados e, em cada conjunto de dados que foi separado para validação e treinamento, o equilíbrio dos dados será feito somente com base nos respectivos dados.\n",
        "\n",
        "A partir disso, no momento de validar os dados, os dados de validação não estarão balanceados. Eles vão estar na forma como são encontrados no mundo real. Assim, teremos uma validação correta, avaliando o desempenho dos dados que funcionam como o mundo real.\n",
        "\n",
        "Como construímos esse pipeline? A própria biblioteca imblearn possui uma função para aplicar esse pipeline. Vamos utilizá-la, pois estamos aplicando o processo de oversampling dessa biblioteca.\n",
        "\n",
        "A scikit-learn também tem um método de pipeline, mas não vai funcionar aqui porque os procedimentos de transformação do scikit-learn funcionam de forma um pouco diferente do oversampling da biblioteca imblearn. Logo, vamos utilizar o pipeline dessa biblioteca por conta disso.\n",
        "\n",
        "Na primeira célula, escrevemos from imblearn.pipeline para importar o método Pipeline com a letra \"P\" em maiúscula com o apelido imbpipeline.\n",
        "\n",
        "Com esse apelido, identificamos que utilizaremos o pipeline do imblearn e evitamos confusões em outros projetos que venham a utilizar outros pipelines distintos."
      ],
      "metadata": {
        "id": "TLw4rY-OiRVR"
      }
    },
    {
      "cell_type": "code",
      "source": [
        "from imblearn.pipeline import Pipeline as imbpipeline"
      ],
      "metadata": {
        "id": "atMCYqgRnQvg"
      },
      "execution_count": 117,
      "outputs": []
    },
    {
      "cell_type": "markdown",
      "source": [
        "Após executar essa célula, vamos iniciar o modelo e passar ao pipeline tanto o oversampling com SMOTE quanto o modelo.\n",
        "\n",
        "Primeiro, escrevemos modelo igual à DecisionTreeClassifier(), passando max_depth = 10.\n",
        "\n",
        "Na próxima linha da mesma célula, vamos criar esse pipeline e passar as etapas que serão utilizadas durante esse processo. A primeira etapa será o oversampling e, em seguida, o modelo.\n",
        "\n",
        "Cada uma dessas etapas precisa ser nomeada, portanto, atribuímos nomes para facilitar a identificação posterior de cada uma delas.\n",
        "\n",
        "Primeiramente, digitaremos pipeline igual à imbpipeline(), passando uma lista de etapas do pipeline entre colchetes.\n",
        "\n",
        "O primeiro elemento dessa lista será uma tupla, porque vamos passar o SMOTE e também o nome dessa etapa. Por isso, abrimos parênteses, e escrevemos oversample entre aspas e, como segundo elemento da tupla, o método SMOTE() em maiúsculo.\n",
        "\n",
        "Em seguida, abriremos uma nova tupla para o indicar o modelo. Entre parênteses, vamos passar arvore entre aspas para identificar que será utilizado o modelo de árvore de decisão. Após adicionar uma vírgula, vamos passar o modelo que inicializamos."
      ],
      "metadata": {
        "id": "KcBSpADvnTp3"
      }
    },
    {
      "cell_type": "code",
      "source": [
        "modelo = DecisionTreeClassifier(max_depth = 10)\n",
        "pipeline = imbpipeline([('oversample', SMOTE()), ('arvore', modelo)])"
      ],
      "metadata": {
        "id": "d9-iV-S3nYbb"
      },
      "execution_count": 118,
      "outputs": []
    },
    {
      "cell_type": "markdown",
      "source": [
        "Ao executar essa célula já criamos o pipeline. Esse pipeline aplica primeiro o SMOTE nos dados e, em seguida, aplica o modelo.\n",
        "\n",
        "Agora, vamos utilizar o processo de validação cruzada, da mesma forma que já conhecemos, mas, ao invés de passar o modelo, vamos passar o pipeline.\n",
        "\n",
        "Para isso, podemos copiar o trecho de código que utilizamos para inicializar o StratifiedKFold() e o cv_resultados. Em uma célula vazia, vamos colar e fazer uma alteração.\n",
        "\n",
        "Ao invés de colocar o modelo dentro do cross_validate(), passamos o pipeline. E como não estamos utilizando diretamente os dados de x_balanceado e y_balanceado, passamos somente x e y."
      ],
      "metadata": {
        "id": "gA7ea46BnbLY"
      }
    },
    {
      "cell_type": "code",
      "source": [
        "skf = StratifiedKFold(n_splits=5, shuffle = True, random_state = 5)\n",
        "cv_resultados = cross_validate(pipeline, x, y, cv=skf, scoring = 'recall')"
      ],
      "metadata": {
        "id": "ntF3sxrWnfFd"
      },
      "execution_count": 119,
      "outputs": []
    },
    {
      "cell_type": "markdown",
      "source": [
        "Dessa maneira, o pipeline executará primeiro o SMOTE em x e y para cada uma das partições que foi feita no StratifiedKFold. Só depois disso, aplicará o modelo em cada uma dessas partes que estão balanceadas.\n",
        "\n",
        "No processo de validação, será validado em dados não balanceados, ou seja, teremos um resultado mais justo, mais consistente e não tão otimista.\n",
        "\n",
        "Vamos executar essa célula e, na próxima, vamos calcular o intervalo de confiança. Isto é, intervalo_conf(), passando cv_resultados."
      ],
      "metadata": {
        "id": "Sp4Yg6cpnj1g"
      }
    },
    {
      "cell_type": "code",
      "source": [
        "intervalo_conf(cv_resultados)"
      ],
      "metadata": {
        "id": "CcKrei1xnsGH",
        "outputId": "74e4a503-3276-440f-8b6a-16fb6daa72e0",
        "colab": {
          "base_uri": "https://localhost:8080/"
        }
      },
      "execution_count": 120,
      "outputs": [
        {
          "output_type": "stream",
          "name": "stdout",
          "text": [
            "Intervalo de confiança: [0.18962923870783932, 0.2763174241693337]\n"
          ]
        }
      ]
    },
    {
      "cell_type": "markdown",
      "source": [
        "Vamos executar a célula para conferir o resultado. Obtivemos um intervalo de confiança de 0.24 a 0.31. Anteriormente, tínhamos um resultado de 0.69 a 0.78, então o resultado caiu bastante apenas por adotarmos um processo mais correto.\n",
        "\n",
        "Ainda que o resultado anterior tenha sido melhor, ele não era correto. Logo, não devemos usar um método só porque ele gera um resultado melhor, mas sim, usar o método que está correto.\n",
        "\n",
        "Aplicando o procedimento de forma correta, obtemos um resultado de recall entre 0.24 e 0.31. Este resultado, comparado ao recall anterior que era de 0.02, representou uma melhora significativa.\n",
        "\n",
        "Essa estratégia trouxe um resultado melhor para o nosso recall, no entanto, podemos explorar ainda outra estratégia que balanceará nossos dados por meio do processo de undersampling, que, ao contrário do oversampling, envolve a remoção ou seleção de dados da classe que tem maior frequência para equilibrar a quantidade de dados das classes.\n",
        "\n",
        "Isso falaremos no próximo vídeo."
      ],
      "metadata": {
        "id": "ZCKtUTe4nvG_"
      }
    },
    {
      "cell_type": "markdown",
      "source": [
        "### Undersampling\n",
        "\n",
        "Nós utilizamos o pipeline para aplicar o processo de oversampling nos nossos dados em conjunto com o processo de validação cruzada. Utilizamos essa estratégia para balancear os dados e obtivemos uma melhora no desempenho de recall do nosso modelo.\n",
        "\n",
        "Agora, vamos aplicar outra técnica de balanceamento de dados conhecida como undersampling (subamostragem). Ao invés de aumentar a quantidade de dados da classe que tem menor quantidade, vamos fazer o contrário. Reduziremos a quantidade de dados da classe que tem maior quantidade, até que ela tenha a mesma quantidade de dados que a classe com a menor quantidade.\n",
        "\n",
        "Existe um processo de undersampling aleatório que não utiliza nenhum critério para a remoção dos dados. Ele simplesmente remove dados aleatoriamente da base de dados da classe que tem maior quantidade. Porém, esse processo não é tão recomendado porque pode ser que, durante esse processo, dados importantes para o modelo compreender o padrão dos dados sejam perdidos.\n",
        "\n",
        "Ao invés do undersampling aleatório, vamos aplicar outra técnica de undersampling que se chama NearMiss. Nessa estratégia, há um critério de escolher os elementos que vão continuar na base de dados que tenham um padrão bem parecido com os elementos que já existem na outra classe.\n",
        "\n",
        "Dessa maneira, o modelo tentará identificar, nas nuances dos dados, qual é a diferença de uma classe para a outra. Esse método de undersampling é melhor do que a utilização do undersampling aleatório porque ele utiliza um critério para a seleção dos dados que vão ser mantidos.\n",
        "\n",
        "Esse método NearMiss também está presente na biblioteca imblearn. Portanto, faremos a importação desse método para dentro do nosso código."
      ],
      "metadata": {
        "id": "RsM-Yex2iWq1"
      }
    },
    {
      "cell_type": "code",
      "source": [
        "from imblearn.under_sampling import NearMiss"
      ],
      "metadata": {
        "id": "eX-7-T5Yo6dF"
      },
      "execution_count": 121,
      "outputs": []
    },
    {
      "cell_type": "markdown",
      "source": [
        "Agora que já sabemos que precisamos aplicar o pipeline junto do processo de validação cruzada, não faremos o balanceamento dos dados antes de aplicar o processo de validação cruzada. Vamos colocar isso em um pipeline.\n",
        "\n",
        "Primeiramente, vamos criar o modelo, que é aquele mesmo que já conhecemos. Por isso, vamos copiar o código daquela etapa de criação do modelo e do pipeline. Vamos colar na próxima célula vazia.\n",
        "\n",
        "Vamos utilizar o mesmo modelo, mas dentro do pipeline, ao invés de oversample, escreveremos undersample.\n",
        "\n",
        "E no método SMOTE(), vamos substituir pelo método NearMiss(). Dentro dos parênteses desse método, vamos escolher uma das versões do NearMiss. Vamos escolher a version igual à 3.\n",
        "\n",
        "Essa versão é utilizada para a escolha dos elementos que vão ser mantidos na base de dados. Existem as versões 1, 2 e 3. E se quiser saber mais sobre cada uma das versões, será disponibilizada uma atividade, logo após esse vídeo, para entender como funciona o processo de escolha dos elementos com base na versão."
      ],
      "metadata": {
        "id": "RUkef-AMo9Es"
      }
    },
    {
      "cell_type": "code",
      "source": [
        "modelo = DecisionTreeClassifier(max_depth = 10)\n",
        "pipeline = imbpipeline([('undersample', NearMiss(version=3)), ('arvore', modelo)])"
      ],
      "metadata": {
        "id": "E3hWVnFUpBLF"
      },
      "execution_count": 122,
      "outputs": []
    },
    {
      "cell_type": "markdown",
      "source": [
        "Nessa mesma célula, depois de escrever o pipeline, vamos copiar o código de escolha do StratifiedKFold() e do cross_validate(). Então, vamos copiar e colar na linha abaixo.\n",
        "\n",
        "Vamos verificar se o processo está sendo feito da forma correta para esse pipeline. Primeiro é utilizado o StratifiedKFold(), separado em cinco partes. E no cross_validate() é utilizado o pipeline, que está sendo construído agora, utilizando o NearMiss e os dados x e y."
      ],
      "metadata": {
        "id": "RPcrzwZGpEYN"
      }
    },
    {
      "cell_type": "code",
      "source": [
        "modelo = DecisionTreeClassifier(max_depth = 10)\n",
        "pipeline = imbpipeline([('undersample', NearMiss(version=3)), ('arvore', modelo)])\n",
        "skf = StratifiedKFold(n_splits=5, shuffle = True, random_state = 5)\n",
        "cv_resultados = cross_validate(pipeline, x, y, cv=skf, scoring = 'recall')"
      ],
      "metadata": {
        "id": "i0F-fIhhpH9r"
      },
      "execution_count": 123,
      "outputs": []
    },
    {
      "cell_type": "markdown",
      "source": [
        "Na célula abaixo, vamos utilizar o intervalo de confiança. Então, vamos escrever intervalo_conf(), passando cv_resultados."
      ],
      "metadata": {
        "id": "BIquGK1ypKiF"
      }
    },
    {
      "cell_type": "code",
      "source": [
        "intervalo_conf(cv_resultados)"
      ],
      "metadata": {
        "id": "V97OtRJYpPEA",
        "outputId": "6086c069-ca34-4e57-c824-7504cb3230b0",
        "colab": {
          "base_uri": "https://localhost:8080/"
        }
      },
      "execution_count": 124,
      "outputs": [
        {
          "output_type": "stream",
          "name": "stdout",
          "text": [
            "Intervalo de confiança: [0.6010944590946523, 0.7328443319707552]\n"
          ]
        }
      ]
    },
    {
      "cell_type": "markdown",
      "source": [
        "Após executar a célula, obtivemos um intervalo de confiança para o recall de 0.61 até 0.69. Com essa estratégia do undersampling usando o NearMiss, obtivemos um resultado de recall bem melhor tanto do oversampling quanto do modelo inicial que tínhamos.\n",
        "\n",
        "Esse será o modelo que selecionaremos para aplicar em nossos dados.\n",
        "\n",
        "Agora, o que faremos? Vamos equilibrar todo o nosso conjunto de dados e construir o modelo usando o NearMiss, validando nos dados de teste que separamos desde o início do nosso projeto para avaliar se o desempenho deste modelo, utilizando undersampling, funciona para dados que não foram utilizados no processo de validação."
      ],
      "metadata": {
        "id": "BGYdgtvepR_9"
      }
    },
    {
      "cell_type": "markdown",
      "source": [
        "### Para saber mais: versões do NearMiss\n",
        "\n",
        "O desequilíbrio de classes é um problema comum em tarefas de classificação em machine learning, como diagnósticos médicos, detecção de fraudes e detecção de anomalias, onde a frequência da ocorrência de um evento é muito baixa em relação ao todo. Uma das estratégias para lidar com esse problema de dados desequilibrados é o undersampling, que visa reduzir o número de amostras da classe com maior frequência.\n",
        "\n",
        "Dentre os algoritmos de undersampling, podemos citar o NearMiss, que consiste em selecionar amostras da categoria em maior quantidade que possuem um padrão próximo da categoria com menor quantidade, no intuito de preservar informações importantes para a modelagem do problema. Por utilizar um critério de seleção das amostras, esse método é bem mais recomendado que a utilização de um undersampling puramente aleatório, que pode eliminar informações relevantes dos dados.\n",
        "\n",
        "Para selecionar as amostras, esse algoritmo utiliza um método conhecido como vizinho mais próximo. Esse método é aplicado em 3 passos:\n",
        "\n",
        "1º passo: são calculadas distâncias entre todas as amostras da classe com maior frequência e da classe com menor frequência.\n",
        "\n",
        "2º passo: em seguida, para cada amostra da classe de menor frequência, são selecionadas n amostras da classe de maior frequência; por padrão esse número é 3 e vem daí o nome de vizinhos mais próximos. São selecionados 3 vizinhos mais próximos para cada amostra da classe de menor frequência.\n",
        "\n",
        "3º passo: a partir dos elementos que foram selecionados, ocorre um novo processo de seleção para que fique com a mesma quantidade de elementos da classe de menor frequência. Essa seleção final possui 3 diferentes versões:\n",
        "\n",
        "NearMiss versão 1: é calculada uma média entre as distâncias dos 3 vizinhos mais próximos de cada amostra da classe de maior frequência e são escolhidos aqueles que possuírem a menor média de distância.\n",
        "\n",
        "NearMiss versão 2: é calculada uma média entre as distâncias dos 3 vizinhos mais distantes de cada amostra da classe de maior frequência e são escolhidos aqueles que possuírem a menor média de distância.\n",
        "\n",
        "NearMiss versão 3: é dividido em duas etapas. Primeiramente, para cada elemento da classe de menor frequência, M vizinhos mais próximos são escolhidos e armazenados, por padrão o M também é de 3 vizinhos. Depois é calculada a média das distâncias entre os elementos armazenados e os elementos da classe de menor frequência e são escolhidos aqueles que possuírem maior média de distância.\n",
        "\n",
        "Caso queira saber mais sobre as versões do NearMiss, consulte a documentação do imbalanced-learn:\n",
        "\n",
        "[Formulação matemática do NearMiss](https://imbalanced-learn.org/dev/under_sampling.html#mathematical-formulation)"
      ],
      "metadata": {
        "id": "8dyVos3IqU0p"
      }
    },
    {
      "cell_type": "markdown",
      "source": [
        "### Testando o modelo\n",
        "\n",
        "Chegamos na última etapa do nosso projeto para criar um modelo de classificação com o objetivo de identificar clientes inadimplentes em uma empresa de empréstimo de automóveis.\n",
        "\n",
        "Selecionamos o modelo que apresentou o melhor desempenho utilizando a estratégia de undersampling com o algoritmo NearMiss na versão 3. Este algoritmo irá balancear nossos dados e, a partir deles, vamos treinar o modelo com base nos dados para identificar o padrão de cada uma das classes.\n",
        "\n",
        "Após isso, fizemos uma separação do conjunto de dados de teste. Este conjunto é o que vamos utilizar para fazer essa avaliação final. Porque não temos certeza de que nosso modelo está se saindo bem apenas com os dados de validação que utilizamos para fazer a comparação entre os modelos ou se ele também irá performar bem nos dados do mundo real.\n",
        "\n",
        "Por isso, fizemos essa separação justamente para ter essa validação final, essa certeza maior de que ele vai se comportar bem nos dados do mundo real.\n",
        "\n",
        "Vamos construir as etapas para gerar o modelo nos dados que estão balanceados, e avaliar esse modelo em dados do conjunto de teste, que estão desbalanceados, como são os dados do mundo real.\n",
        "\n",
        "Na primeira célula, vamos inicializar o método do NearMiss(), e depois, fazer o balanceamento da base de dados.\n",
        "\n",
        "Vamos escrever undersample igual à NearMiss(), passando a version igual à 3. Na próxima linha, vamos colocar x_balanceado e y_balanceado igual à undersample.fit_resample(), passando x e y."
      ],
      "metadata": {
        "id": "nyRf0gatie-f"
      }
    },
    {
      "cell_type": "code",
      "source": [
        "undersample = NearMiss(version=3)\n",
        "x_balanceado, y_balanceado = undersample.fit_resample(x, y)"
      ],
      "metadata": {
        "id": "2x69c7w9rYF8"
      },
      "execution_count": 125,
      "outputs": []
    },
    {
      "cell_type": "markdown",
      "source": [
        "Estamos utilizando a base de dados toda de x e y, porque temos uma base de dados separada, que é x_teste e y_teste, que separamos anteriormente. Podemos aplicar o undersampling em todos os dados, pois quanto mais dados, melhor para o entendimento do algoritmo no padrão dos dados.\n",
        "\n",
        "Após aplicar esse balanceamento, podemos iniciar o modelo. Na mesma célula, vamos escrever modelo igual à DecisionTreeClassifier(max_depth = 10). Agora, vamos escrever modelo.fit(), colocando o x_balanceado e o y_balanceado.\n",
        "\n",
        "Na próxima linha, vamos armazenar a previsão do modelo. Para isso, escrevemos y_previsto igual à modelo.predict(x_teste). Assim, o modelo que fez ajuste nos dados balanceados fará uma previsão agora focada nos dados de teste que deixamos separados.\n",
        "\n",
        "Ele vai prever usando as variáveis explicativas do x_teste e vai armazenar no y_previsto."
      ],
      "metadata": {
        "id": "G4yYKwNrrau4"
      }
    },
    {
      "cell_type": "code",
      "source": [
        "modelo = DecisionTreeClassifier(max_depth = 10)\n",
        "modelo.fit(x_balanceado, y_balanceado)\n",
        "y_previsto = modelo.predict(x_teste)"
      ],
      "metadata": {
        "id": "iqZ5dCXRreHM"
      },
      "execution_count": 126,
      "outputs": []
    },
    {
      "cell_type": "markdown",
      "source": [
        "Logo abaixo, podemos colocar um relatório de métricas e também uma matriz de confusão para entender como está o desempenho do nosso modelo.\n",
        "\n",
        "Vamos escrever print() passando classification_report(), avaliando com os dados reais de y_teste e y_previsto. Antes utilizávamos aqueles dados de validação e agora estamos utilizando os dados de teste."
      ],
      "metadata": {
        "id": "hi2Ee_dGri5T"
      }
    },
    {
      "cell_type": "code",
      "source": [
        "print(classification_report(y_teste, y_previsto))"
      ],
      "metadata": {
        "id": "iHTrkwEhrmAw",
        "outputId": "4bd2fc4b-7c7e-4d3b-8404-80aa41e94eb1",
        "colab": {
          "base_uri": "https://localhost:8080/"
        }
      },
      "execution_count": 127,
      "outputs": [
        {
          "output_type": "stream",
          "name": "stdout",
          "text": [
            "              precision    recall  f1-score   support\n",
            "\n",
            "           0       0.94      0.45      0.61      6288\n",
            "           1       0.11      0.68      0.18       601\n",
            "\n",
            "    accuracy                           0.47      6889\n",
            "   macro avg       0.52      0.56      0.40      6889\n",
            "weighted avg       0.86      0.47      0.57      6889\n",
            "\n"
          ]
        }
      ]
    },
    {
      "cell_type": "markdown",
      "source": [
        "Todo o processo de validação que realizamos com a validação cruzada para entender se o modelo está saindo bem ou não, serve para compararmos os modelos e ir melhorando o desempenho do modelo, mas neste momento final, avaliamos o modelo que escolhemos nos dados de teste que se comportam como o mundo real. Podemos utilizar toda a base de dados x e y para fazer esse treinamento.\n",
        "\n",
        "E, por fim, depois do classification_report(), também vamos mostrar uma matriz de confusão.\n",
        "\n",
        "Ainda na mesma célula, escrevemos ConfusionMatrixDisplay.from_predictions(), passando y_teste e y_previsto. Ao final, acrescentamos ponto e vírgula."
      ],
      "metadata": {
        "id": "EEC2eRaDrq-u"
      }
    },
    {
      "cell_type": "code",
      "source": [
        "ConfusionMatrixDisplay.from_predictions(y_teste, y_previsto);"
      ],
      "metadata": {
        "id": "odulyAnartxn",
        "outputId": "a7b42035-f9b4-488c-ce6a-bf459ec57a56",
        "colab": {
          "base_uri": "https://localhost:8080/",
          "height": 449
        }
      },
      "execution_count": 128,
      "outputs": [
        {
          "output_type": "display_data",
          "data": {
            "text/plain": [
              "<Figure size 640x480 with 2 Axes>"
            ],
            "image/png": "[encoded data removed]"
          },
          "metadata": {}
        }
      ]
    },
    {
      "cell_type": "markdown",
      "source": [
        "Com isso, temos um relatório das métricas. Note que, nos dados que representam situações semelhantes ao mundo real, que são desbalanceados e não foram utilizados na etapa de aprimoramento e comparação dos modelos, nós obtivemos um recall de 0.70. Agora, conseguimos identificar 494 clientes inadimplentes.\n",
        "\n",
        "Essa etapa final de avaliação é crucial para compreender como nosso modelo se comportará com dados do mundo real. Por isso, foi importante separar os dados de teste desde o início do nosso projeto.\n",
        "\n",
        "Utilizamos a estratégia de undersampling para aprimorar o resultado do nosso modelo, porém existem outras estratégias que podemos aplicar para melhorar seu desempenho.\n",
        "\n",
        "Além disso, a empresa pode avaliar se o modelo construído será colocado em produção para identificar os clientes inadimplentes e evitar um prejuízo considerável."
      ],
      "metadata": {
        "id": "emEBm-TPijEP"
      }
    }
  ]
}