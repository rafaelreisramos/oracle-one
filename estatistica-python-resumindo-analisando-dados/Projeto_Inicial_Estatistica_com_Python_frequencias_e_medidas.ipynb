{
  "nbformat": 4,
  "nbformat_minor": 0,
  "metadata": {
    "colab": {
      "provenance": [],
      "collapsed_sections": [
        "aXvD2rsPDicS",
        "UNZZiHpAnSS-",
        "lmFhWRkinnP0",
        "eUBRumYDo7Hu",
        "PjCs3WacJ8xh",
        "lz_rMlOtDtso",
        "zHp0nFexFz6t",
        "GMfPrLjdF8jM",
        "pL3InDboGD42",
        "PG13hWS7L-k_",
        "GNOLac1oMBot",
        "V6iS-yqwDwQm",
        "Y3nmdRYXPJgZ",
        "g3zvC6ITMMWw",
        "tWyxUtqq7UYq",
        "338fE8qL7WGa",
        "I_hLmh_dMarM",
        "vaK7ctdMMjSn",
        "-Nl4kK-MMk2T",
        "5_Ue_sy38o-Y",
        "AsBGdfK0DzLt",
        "aV0q3H8GPXwc",
        "OgPd_yXlEP6r",
        "FwZr9mioEwug",
        "dRX8627hNI49",
        "64g_fCdINK8E",
        "Q7vNVvtaHKm-",
        "UhWvsw8GHOBv",
        "aspdJ0sWHRN4",
        "K_OSOG2nHU28",
        "kmqN1SR1NMmh",
        "hh7iH1O6NRdK",
        "AvHVpbyxNPyf"
      ]
    },
    "kernelspec": {
      "name": "python3",
      "display_name": "Python 3"
    },
    "language_info": {
      "name": "python"
    }
  },
  "cells": [
    {
      "cell_type": "markdown",
      "source": [
        "# <font size=6>**Estatística com Python: resumindo e analisando dados**</font>"
      ],
      "metadata": {
        "id": "aXvD2rsPDicS"
      }
    },
    {
      "cell_type": "markdown",
      "source": [
        "Estamos prestando consultoria como **cientistas de dados** em uma grande rede de varejo que atende em todo Brasil.\n",
        "\n",
        "Aqui, precisaremos utilizar uma série de conceitos da estatística para investigar e auxiliar nos problemas e demandas que essa empresa está enfrentando, baseando suas decisões na análise dos dados recebidos.\n",
        "\n",
        "Neste projeto, vamos ter acesso a duas bases de dados passando por dois contextos distintos dentro da empresa:\n",
        "1. Análise do público e vendas, traçando o perfil da nossa clientela e gerando insights com esses dados respondendo a perguntas levantadas pelo setor de marketing e vendas\n",
        "2. Análise da remuneração dos colaboradores, passando pelos salários, desempenho atual e analisando criticamente a equidade salarial entre cargos e gênero, por exemplo. Isto, respondendo a perguntas do setor do RH e financeiro da empresa.\n",
        "\n",
        "**Base de dados**\n",
        "\n",
        "Vamos importar duas bases de dados:\n",
        "\n",
        "> Dados das vendas do e-commerce, separados pelo código identificador da compra.\n",
        "\n",
        "> Dados da remuneração dos colaboradores da empresa, separados pelo código identificador do(a) colaborador(a).\n",
        "\n",
        "Esses dados serão lidos a partir do repositório compartilhado pelo GitHub.\n",
        "\n",
        "**Desafio**\n",
        "\n",
        "Nosso desafio é aplicar os conceitos de **distribuições de frequência, medidas de tendência central, medidas separatizes e de dispersão e visualização de dados** para cada caso trazido por essa empresa para que possa agregar valor aos times e ajudar nos processos de decisão. Para isso, serão repassados alguns questionamentos ao longo do nosso projeto para que possamos contribuir na execução dessa demanda.\n",
        "\n",
        "Vamos utilizar a **linguagem Python** para responder todos os questionamentos levantados."
      ],
      "metadata": {
        "id": "VtyprZfbDlwW"
      }
    },
    {
      "cell_type": "markdown",
      "source": [
        "# **1. Entendendo os dados**\n",
        "\n",
        "---\n"
      ],
      "metadata": {
        "id": "UNZZiHpAnSS-"
      }
    },
    {
      "cell_type": "markdown",
      "source": [
        "## **1.1  Importando os pacotes e lendo os dados**"
      ],
      "metadata": {
        "id": "AxaRaI7hnZsA"
      }
    },
    {
      "cell_type": "markdown",
      "source": [
        "Como vamos explorar os dados das bases, gerar visualizações e responder a perguntas, vamos trazer um pacote extremamente importante e bastante utilizado por pessoas cientistas e pesquisadoras que é o `pandas`.\n",
        "\n",
        "https://pandas.pydata.org/"
      ],
      "metadata": {
        "id": "SQWrAZuzHh2i"
      }
    },
    {
      "cell_type": "code",
      "source": [
        "import pandas as pd"
      ],
      "metadata": {
        "id": "O6BY_gF0ihGR"
      },
      "execution_count": 1,
      "outputs": []
    },
    {
      "cell_type": "markdown",
      "source": [
        "Vamos ler a nossa primeira base de dados para as análises do perfil da nossa clientela de acordo com as compras que realizaram.\n",
        "\n",
        "Vamos também salvar os dados em uma variável, para que possamos manipulá-los"
      ],
      "metadata": {
        "id": "2uF5RbNzIGeo"
      }
    },
    {
      "cell_type": "code",
      "source": [
        "url = 'https://raw.githubusercontent.com/rafaelreisramos/oracle-one/refs/heads/main/estatistica-python-resumindo-analisando-dados/dados/vendas_ecommerce.csv'\n",
        "df = pd.read_csv(url)"
      ],
      "metadata": {
        "id": "FSAhtmGJijsk"
      },
      "execution_count": 2,
      "outputs": []
    },
    {
      "cell_type": "markdown",
      "source": [
        "Retornar a quantidade de linhas e colunas do dataset"
      ],
      "metadata": {
        "id": "sTHXHYDHpMJD"
      }
    },
    {
      "cell_type": "code",
      "source": [
        "df.shape"
      ],
      "metadata": {
        "id": "x3UnzGIOilr0",
        "colab": {
          "base_uri": "https://localhost:8080/"
        },
        "outputId": "3df1da2e-9303-4833-c8d0-0945c4143b79"
      },
      "execution_count": 3,
      "outputs": [
        {
          "output_type": "execute_result",
          "data": {
            "text/plain": [
              "(200000, 10)"
            ]
          },
          "metadata": {},
          "execution_count": 3
        }
      ]
    },
    {
      "cell_type": "markdown",
      "source": [
        "Verificar o nome de cada coluna, a quantidade de dados não nulos existente na coluna em questão e o tipo de dado.\n"
      ],
      "metadata": {
        "id": "qudYCFeSpQwt"
      }
    },
    {
      "cell_type": "code",
      "source": [
        "df.info()"
      ],
      "metadata": {
        "id": "O0nK_TMgio0g",
        "colab": {
          "base_uri": "https://localhost:8080/"
        },
        "outputId": "0e70864d-407d-4f52-a0bd-aa0058c7d166"
      },
      "execution_count": 4,
      "outputs": [
        {
          "output_type": "stream",
          "name": "stdout",
          "text": [
            "<class 'pandas.core.frame.DataFrame'>\n",
            "RangeIndex: 200000 entries, 0 to 199999\n",
            "Data columns (total 10 columns):\n",
            " #   Column             Non-Null Count   Dtype  \n",
            "---  ------             --------------   -----  \n",
            " 0   id_compra          200000 non-null  object \n",
            " 1   sexo_biologico     200000 non-null  object \n",
            " 2   idade_cliente      200000 non-null  int64  \n",
            " 3   regiao_cliente     200000 non-null  object \n",
            " 4   categoria_produto  200000 non-null  object \n",
            " 5   preco_unitario     200000 non-null  float64\n",
            " 6   quantidade         200000 non-null  int64  \n",
            " 7   total_compra       200000 non-null  float64\n",
            " 8   tempo_entrega      200000 non-null  int64  \n",
            " 9   avaliacao          200000 non-null  int64  \n",
            "dtypes: float64(2), int64(4), object(4)\n",
            "memory usage: 15.3+ MB\n"
          ]
        }
      ]
    },
    {
      "cell_type": "markdown",
      "source": [
        "Conseguimos observar aqui os dados das vendas da empresa com algumas colunas interessantes.\n",
        "\n",
        "Podemos realizar talvez uma análise de vendas por região, por gênero, podemos explorar os tipos de produtos, o tempo de entrega e avaliação. Ou seja, bastante coisa!\n",
        "\n",
        "Para todas essas análises que podemos traçar, temos 2 pontos extremamente importantes:\n",
        "\n",
        "1. Qual o tipo de dado que tenho?\n",
        "2. O que desejo investigar com este dado?\n",
        "\n",
        "A estatística, é muito importante aqui, pois a depender do tipo do dado e como ele se comporta temos diferentes formas de analisá-lo para responder a necessidade do nosso cliente. Tudo isso focado no tripé da ciência de dados: **estatística**, **programação** e **conhecimento do negócio**\n",
        "\n",
        "Vamos aplicar as 3 aqui apontando o seu potencial na análise de dados e extração de insights utilizando a linguagem Python.\n",
        "\n",
        "Vamos nessa?"
      ],
      "metadata": {
        "id": "s_SxEZvdIZ-U"
      }
    },
    {
      "cell_type": "markdown",
      "source": [
        "## **1.2 Investigando os tipos dos dados**"
      ],
      "metadata": {
        "id": "lmFhWRkinnP0"
      }
    },
    {
      "cell_type": "markdown",
      "source": [
        "Observando rapidamente os dados, podemos notar dados em formato de textos, números inteiros, números com casas decimais. A depender da análise que queremos fazer, cada um tem uma forma de ser trabalhado e adequado para a extração de informação dos dados"
      ],
      "metadata": {
        "id": "AnVZHaxMJIyE"
      }
    },
    {
      "cell_type": "code",
      "source": [
        "df.head()"
      ],
      "metadata": {
        "id": "8mnPTNAzir4M",
        "colab": {
          "base_uri": "https://localhost:8080/",
          "height": 206
        },
        "outputId": "3a195ea7-892c-49ef-ba1e-a2f095e4d3db"
      },
      "execution_count": 5,
      "outputs": [
        {
          "output_type": "execute_result",
          "data": {
            "text/plain": [
              "                              id_compra sexo_biologico  idade_cliente  \\\n",
              "0  9f86e969-221a-4b1a-9b48-9aba719b61cf      Masculino             33   \n",
              "1  659f9b07-be10-4849-b2ab-dd542498a1e8       Feminino             33   \n",
              "2  d317d7df-1126-42e5-bf4b-0e178bd4e14e       Feminino             36   \n",
              "3  bb99bcf6-b333-493e-9ec2-c39f8695503c       Feminino             21   \n",
              "4  898e4624-84e9-4c41-b181-66d3b7ccfef7      Masculino             31   \n",
              "\n",
              "  regiao_cliente         categoria_produto  preco_unitario  quantidade  \\\n",
              "0            Sul  Ferramentas e Construção           96.80           2   \n",
              "1       Nordeste       Alimentos e Bebidas          247.68           1   \n",
              "2        Sudeste               Eletrônicos          627.46           2   \n",
              "3            Sul               Eletrônicos         2025.07           8   \n",
              "4   Centro-Oeste    Papelaria e Escritório           99.24           5   \n",
              "\n",
              "   total_compra  tempo_entrega  avaliacao  \n",
              "0        193.60             18          1  \n",
              "1        247.68              6          4  \n",
              "2       1254.92              8          5  \n",
              "3      16200.56              6          5  \n",
              "4        496.20             13          5  "
            ],
            "text/html": [
              "\n",
              "  <div id=\"df-648a231e-2fe1-4bcc-af05-2cf7a4745387\" class=\"colab-df-container\">\n",
              "    <div>\n",
              "<style scoped>\n",
              "    .dataframe tbody tr th:only-of-type {\n",
              "        vertical-align: middle;\n",
              "    }\n",
              "\n",
              "    .dataframe tbody tr th {\n",
              "        vertical-align: top;\n",
              "    }\n",
              "\n",
              "    .dataframe thead th {\n",
              "        text-align: right;\n",
              "    }\n",
              "</style>\n",
              "<table border=\"1\" class=\"dataframe\">\n",
              "  <thead>\n",
              "    <tr style=\"text-align: right;\">\n",
              "      <th></th>\n",
              "      <th>id_compra</th>\n",
              "      <th>sexo_biologico</th>\n",
              "      <th>idade_cliente</th>\n",
              "      <th>regiao_cliente</th>\n",
              "      <th>categoria_produto</th>\n",
              "      <th>preco_unitario</th>\n",
              "      <th>quantidade</th>\n",
              "      <th>total_compra</th>\n",
              "      <th>tempo_entrega</th>\n",
              "      <th>avaliacao</th>\n",
              "    </tr>\n",
              "  </thead>\n",
              "  <tbody>\n",
              "    <tr>\n",
              "      <th>0</th>\n",
              "      <td>9f86e969-221a-4b1a-9b48-9aba719b61cf</td>\n",
              "      <td>Masculino</td>\n",
              "      <td>33</td>\n",
              "      <td>Sul</td>\n",
              "      <td>Ferramentas e Construção</td>\n",
              "      <td>96.80</td>\n",
              "      <td>2</td>\n",
              "      <td>193.60</td>\n",
              "      <td>18</td>\n",
              "      <td>1</td>\n",
              "    </tr>\n",
              "    <tr>\n",
              "      <th>1</th>\n",
              "      <td>659f9b07-be10-4849-b2ab-dd542498a1e8</td>\n",
              "      <td>Feminino</td>\n",
              "      <td>33</td>\n",
              "      <td>Nordeste</td>\n",
              "      <td>Alimentos e Bebidas</td>\n",
              "      <td>247.68</td>\n",
              "      <td>1</td>\n",
              "      <td>247.68</td>\n",
              "      <td>6</td>\n",
              "      <td>4</td>\n",
              "    </tr>\n",
              "    <tr>\n",
              "      <th>2</th>\n",
              "      <td>d317d7df-1126-42e5-bf4b-0e178bd4e14e</td>\n",
              "      <td>Feminino</td>\n",
              "      <td>36</td>\n",
              "      <td>Sudeste</td>\n",
              "      <td>Eletrônicos</td>\n",
              "      <td>627.46</td>\n",
              "      <td>2</td>\n",
              "      <td>1254.92</td>\n",
              "      <td>8</td>\n",
              "      <td>5</td>\n",
              "    </tr>\n",
              "    <tr>\n",
              "      <th>3</th>\n",
              "      <td>bb99bcf6-b333-493e-9ec2-c39f8695503c</td>\n",
              "      <td>Feminino</td>\n",
              "      <td>21</td>\n",
              "      <td>Sul</td>\n",
              "      <td>Eletrônicos</td>\n",
              "      <td>2025.07</td>\n",
              "      <td>8</td>\n",
              "      <td>16200.56</td>\n",
              "      <td>6</td>\n",
              "      <td>5</td>\n",
              "    </tr>\n",
              "    <tr>\n",
              "      <th>4</th>\n",
              "      <td>898e4624-84e9-4c41-b181-66d3b7ccfef7</td>\n",
              "      <td>Masculino</td>\n",
              "      <td>31</td>\n",
              "      <td>Centro-Oeste</td>\n",
              "      <td>Papelaria e Escritório</td>\n",
              "      <td>99.24</td>\n",
              "      <td>5</td>\n",
              "      <td>496.20</td>\n",
              "      <td>13</td>\n",
              "      <td>5</td>\n",
              "    </tr>\n",
              "  </tbody>\n",
              "</table>\n",
              "</div>\n",
              "    <div class=\"colab-df-buttons\">\n",
              "\n",
              "  <div class=\"colab-df-container\">\n",
              "    <button class=\"colab-df-convert\" onclick=\"convertToInteractive('df-648a231e-2fe1-4bcc-af05-2cf7a4745387')\"\n",
              "            title=\"Convert this dataframe to an interactive table.\"\n",
              "            style=\"display:none;\">\n",
              "\n",
              "  <svg xmlns=\"http://www.w3.org/2000/svg\" height=\"24px\" viewBox=\"0 -960 960 960\">\n",
              "    <path d=\"M120-120v-720h720v720H120Zm60-500h600v-160H180v160Zm220 220h160v-160H400v160Zm0 220h160v-160H400v160ZM180-400h160v-160H180v160Zm440 0h160v-160H620v160ZM180-180h160v-160H180v160Zm440 0h160v-160H620v160Z\"/>\n",
              "  </svg>\n",
              "    </button>\n",
              "\n",
              "  <style>\n",
              "    .colab-df-container {\n",
              "      display:flex;\n",
              "      gap: 12px;\n",
              "    }\n",
              "\n",
              "    .colab-df-convert {\n",
              "      background-color: #E8F0FE;\n",
              "      border: none;\n",
              "      border-radius: 50%;\n",
              "      cursor: pointer;\n",
              "      display: none;\n",
              "      fill: #1967D2;\n",
              "      height: 32px;\n",
              "      padding: 0 0 0 0;\n",
              "      width: 32px;\n",
              "    }\n",
              "\n",
              "    .colab-df-convert:hover {\n",
              "      background-color: #E2EBFA;\n",
              "      box-shadow: 0px 1px 2px rgba(60, 64, 67, 0.3), 0px 1px 3px 1px rgba(60, 64, 67, 0.15);\n",
              "      fill: #174EA6;\n",
              "    }\n",
              "\n",
              "    .colab-df-buttons div {\n",
              "      margin-bottom: 4px;\n",
              "    }\n",
              "\n",
              "    [theme=dark] .colab-df-convert {\n",
              "      background-color: #3B4455;\n",
              "      fill: #D2E3FC;\n",
              "    }\n",
              "\n",
              "    [theme=dark] .colab-df-convert:hover {\n",
              "      background-color: #434B5C;\n",
              "      box-shadow: 0px 1px 3px 1px rgba(0, 0, 0, 0.15);\n",
              "      filter: drop-shadow(0px 1px 2px rgba(0, 0, 0, 0.3));\n",
              "      fill: #FFFFFF;\n",
              "    }\n",
              "  </style>\n",
              "\n",
              "    <script>\n",
              "      const buttonEl =\n",
              "        document.querySelector('#df-648a231e-2fe1-4bcc-af05-2cf7a4745387 button.colab-df-convert');\n",
              "      buttonEl.style.display =\n",
              "        google.colab.kernel.accessAllowed ? 'block' : 'none';\n",
              "\n",
              "      async function convertToInteractive(key) {\n",
              "        const element = document.querySelector('#df-648a231e-2fe1-4bcc-af05-2cf7a4745387');\n",
              "        const dataTable =\n",
              "          await google.colab.kernel.invokeFunction('convertToInteractive',\n",
              "                                                    [key], {});\n",
              "        if (!dataTable) return;\n",
              "\n",
              "        const docLinkHtml = 'Like what you see? Visit the ' +\n",
              "          '<a target=\"_blank\" href=https://colab.research.google.com/notebooks/data_table.ipynb>data table notebook</a>'\n",
              "          + ' to learn more about interactive tables.';\n",
              "        element.innerHTML = '';\n",
              "        dataTable['output_type'] = 'display_data';\n",
              "        await google.colab.output.renderOutput(dataTable, element);\n",
              "        const docLink = document.createElement('div');\n",
              "        docLink.innerHTML = docLinkHtml;\n",
              "        element.appendChild(docLink);\n",
              "      }\n",
              "    </script>\n",
              "  </div>\n",
              "\n",
              "\n",
              "    <div id=\"df-2c75f843-e708-4442-9c6b-327db5515732\">\n",
              "      <button class=\"colab-df-quickchart\" onclick=\"quickchart('df-2c75f843-e708-4442-9c6b-327db5515732')\"\n",
              "                title=\"Suggest charts\"\n",
              "                style=\"display:none;\">\n",
              "\n",
              "<svg xmlns=\"http://www.w3.org/2000/svg\" height=\"24px\"viewBox=\"0 0 24 24\"\n",
              "     width=\"24px\">\n",
              "    <g>\n",
              "        <path d=\"M19 3H5c-1.1 0-2 .9-2 2v14c0 1.1.9 2 2 2h14c1.1 0 2-.9 2-2V5c0-1.1-.9-2-2-2zM9 17H7v-7h2v7zm4 0h-2V7h2v10zm4 0h-2v-4h2v4z\"/>\n",
              "    </g>\n",
              "</svg>\n",
              "      </button>\n",
              "\n",
              "<style>\n",
              "  .colab-df-quickchart {\n",
              "      --bg-color: #E8F0FE;\n",
              "      --fill-color: #1967D2;\n",
              "      --hover-bg-color: #E2EBFA;\n",
              "      --hover-fill-color: #174EA6;\n",
              "      --disabled-fill-color: #AAA;\n",
              "      --disabled-bg-color: #DDD;\n",
              "  }\n",
              "\n",
              "  [theme=dark] .colab-df-quickchart {\n",
              "      --bg-color: #3B4455;\n",
              "      --fill-color: #D2E3FC;\n",
              "      --hover-bg-color: #434B5C;\n",
              "      --hover-fill-color: #FFFFFF;\n",
              "      --disabled-bg-color: #3B4455;\n",
              "      --disabled-fill-color: #666;\n",
              "  }\n",
              "\n",
              "  .colab-df-quickchart {\n",
              "    background-color: var(--bg-color);\n",
              "    border: none;\n",
              "    border-radius: 50%;\n",
              "    cursor: pointer;\n",
              "    display: none;\n",
              "    fill: var(--fill-color);\n",
              "    height: 32px;\n",
              "    padding: 0;\n",
              "    width: 32px;\n",
              "  }\n",
              "\n",
              "  .colab-df-quickchart:hover {\n",
              "    background-color: var(--hover-bg-color);\n",
              "    box-shadow: 0 1px 2px rgba(60, 64, 67, 0.3), 0 1px 3px 1px rgba(60, 64, 67, 0.15);\n",
              "    fill: var(--button-hover-fill-color);\n",
              "  }\n",
              "\n",
              "  .colab-df-quickchart-complete:disabled,\n",
              "  .colab-df-quickchart-complete:disabled:hover {\n",
              "    background-color: var(--disabled-bg-color);\n",
              "    fill: var(--disabled-fill-color);\n",
              "    box-shadow: none;\n",
              "  }\n",
              "\n",
              "  .colab-df-spinner {\n",
              "    border: 2px solid var(--fill-color);\n",
              "    border-color: transparent;\n",
              "    border-bottom-color: var(--fill-color);\n",
              "    animation:\n",
              "      spin 1s steps(1) infinite;\n",
              "  }\n",
              "\n",
              "  @keyframes spin {\n",
              "    0% {\n",
              "      border-color: transparent;\n",
              "      border-bottom-color: var(--fill-color);\n",
              "      border-left-color: var(--fill-color);\n",
              "    }\n",
              "    20% {\n",
              "      border-color: transparent;\n",
              "      border-left-color: var(--fill-color);\n",
              "      border-top-color: var(--fill-color);\n",
              "    }\n",
              "    30% {\n",
              "      border-color: transparent;\n",
              "      border-left-color: var(--fill-color);\n",
              "      border-top-color: var(--fill-color);\n",
              "      border-right-color: var(--fill-color);\n",
              "    }\n",
              "    40% {\n",
              "      border-color: transparent;\n",
              "      border-right-color: var(--fill-color);\n",
              "      border-top-color: var(--fill-color);\n",
              "    }\n",
              "    60% {\n",
              "      border-color: transparent;\n",
              "      border-right-color: var(--fill-color);\n",
              "    }\n",
              "    80% {\n",
              "      border-color: transparent;\n",
              "      border-right-color: var(--fill-color);\n",
              "      border-bottom-color: var(--fill-color);\n",
              "    }\n",
              "    90% {\n",
              "      border-color: transparent;\n",
              "      border-bottom-color: var(--fill-color);\n",
              "    }\n",
              "  }\n",
              "</style>\n",
              "\n",
              "      <script>\n",
              "        async function quickchart(key) {\n",
              "          const quickchartButtonEl =\n",
              "            document.querySelector('#' + key + ' button');\n",
              "          quickchartButtonEl.disabled = true;  // To prevent multiple clicks.\n",
              "          quickchartButtonEl.classList.add('colab-df-spinner');\n",
              "          try {\n",
              "            const charts = await google.colab.kernel.invokeFunction(\n",
              "                'suggestCharts', [key], {});\n",
              "          } catch (error) {\n",
              "            console.error('Error during call to suggestCharts:', error);\n",
              "          }\n",
              "          quickchartButtonEl.classList.remove('colab-df-spinner');\n",
              "          quickchartButtonEl.classList.add('colab-df-quickchart-complete');\n",
              "        }\n",
              "        (() => {\n",
              "          let quickchartButtonEl =\n",
              "            document.querySelector('#df-2c75f843-e708-4442-9c6b-327db5515732 button');\n",
              "          quickchartButtonEl.style.display =\n",
              "            google.colab.kernel.accessAllowed ? 'block' : 'none';\n",
              "        })();\n",
              "      </script>\n",
              "    </div>\n",
              "\n",
              "    </div>\n",
              "  </div>\n"
            ],
            "application/vnd.google.colaboratory.intrinsic+json": {
              "type": "dataframe",
              "variable_name": "df"
            }
          },
          "metadata": {},
          "execution_count": 5
        }
      ]
    },
    {
      "cell_type": "markdown",
      "source": [
        "Ou seja, temos aqui dados categóricos (qualitativos) e numéricos (quantitativos)."
      ],
      "metadata": {
        "id": "3u7VM4iMJXCW"
      }
    },
    {
      "cell_type": "markdown",
      "source": [
        "### Tipos de Variáveis:\n",
        "\n",
        "![texto do link](https://github.com/afonsosr2/estatistica-r-frequencias-medidas/blob/main/imagens/outros/tipos_variaveis.png?raw=true)\n",
        "\n",
        "- **Qualitativas (Categóricas):** São variáveis que representam características ou categorias. Geralmente, são usadas para classificar ou categorizar dados. Por exemplo: sexo biólogico e região\n",
        "  - **Nominais:** quando não possuem uma ordem natural. (Ex.: tipo de produto).  \n",
        "  - **Ordinais:** Possuem uma ordem ou hierarquia. (Ex.: Níveis de escolaridade).\n",
        "\n",
        "- **Quantitativas (Numéricas):** São variáveis que representam números e podem ser mensuradas. Estas variáveis têm significado matemático e podem ser usadas para cálculos. Por exemplo: idade e total de compra\n",
        "  - **Discretas:** Valores inteiros e contáveis (Ex.: quantidade de produtos).  \n",
        "  - **Contínuas:** Qualquer valor em um intervalo (Ex.: Altura de pessoas)."
      ],
      "metadata": {
        "id": "_7SMi1PuJQKW"
      }
    },
    {
      "cell_type": "markdown",
      "source": [
        "Podemos então realizar uma análise simples aqui, investigando uma **variável qualitativa nominal** como, por exemplo, a quantidade de vendas por categoria:"
      ],
      "metadata": {
        "id": "2ifPBhSUJkO0"
      }
    },
    {
      "cell_type": "code",
      "source": [
        "df['categoria_produto']"
      ],
      "metadata": {
        "id": "55tKpewIiuzD",
        "colab": {
          "base_uri": "https://localhost:8080/",
          "height": 458
        },
        "outputId": "3514b449-1008-4263-aae8-f733f3a72cb0"
      },
      "execution_count": 6,
      "outputs": [
        {
          "output_type": "execute_result",
          "data": {
            "text/plain": [
              "0              Ferramentas e Construção\n",
              "1                   Alimentos e Bebidas\n",
              "2                           Eletrônicos\n",
              "3                           Eletrônicos\n",
              "4                Papelaria e Escritório\n",
              "                      ...              \n",
              "199995                      Eletrônicos\n",
              "199996                      Eletrônicos\n",
              "199997    Roupas, Calçados e Acessórios\n",
              "199998              Alimentos e Bebidas\n",
              "199999       Beleza e Cuidados Pessoais\n",
              "Name: categoria_produto, Length: 200000, dtype: object"
            ],
            "text/html": [
              "<div>\n",
              "<style scoped>\n",
              "    .dataframe tbody tr th:only-of-type {\n",
              "        vertical-align: middle;\n",
              "    }\n",
              "\n",
              "    .dataframe tbody tr th {\n",
              "        vertical-align: top;\n",
              "    }\n",
              "\n",
              "    .dataframe thead th {\n",
              "        text-align: right;\n",
              "    }\n",
              "</style>\n",
              "<table border=\"1\" class=\"dataframe\">\n",
              "  <thead>\n",
              "    <tr style=\"text-align: right;\">\n",
              "      <th></th>\n",
              "      <th>categoria_produto</th>\n",
              "    </tr>\n",
              "  </thead>\n",
              "  <tbody>\n",
              "    <tr>\n",
              "      <th>0</th>\n",
              "      <td>Ferramentas e Construção</td>\n",
              "    </tr>\n",
              "    <tr>\n",
              "      <th>1</th>\n",
              "      <td>Alimentos e Bebidas</td>\n",
              "    </tr>\n",
              "    <tr>\n",
              "      <th>2</th>\n",
              "      <td>Eletrônicos</td>\n",
              "    </tr>\n",
              "    <tr>\n",
              "      <th>3</th>\n",
              "      <td>Eletrônicos</td>\n",
              "    </tr>\n",
              "    <tr>\n",
              "      <th>4</th>\n",
              "      <td>Papelaria e Escritório</td>\n",
              "    </tr>\n",
              "    <tr>\n",
              "      <th>...</th>\n",
              "      <td>...</td>\n",
              "    </tr>\n",
              "    <tr>\n",
              "      <th>199995</th>\n",
              "      <td>Eletrônicos</td>\n",
              "    </tr>\n",
              "    <tr>\n",
              "      <th>199996</th>\n",
              "      <td>Eletrônicos</td>\n",
              "    </tr>\n",
              "    <tr>\n",
              "      <th>199997</th>\n",
              "      <td>Roupas, Calçados e Acessórios</td>\n",
              "    </tr>\n",
              "    <tr>\n",
              "      <th>199998</th>\n",
              "      <td>Alimentos e Bebidas</td>\n",
              "    </tr>\n",
              "    <tr>\n",
              "      <th>199999</th>\n",
              "      <td>Beleza e Cuidados Pessoais</td>\n",
              "    </tr>\n",
              "  </tbody>\n",
              "</table>\n",
              "<p>200000 rows × 1 columns</p>\n",
              "</div><br><label><b>dtype:</b> object</label>"
            ]
          },
          "metadata": {},
          "execution_count": 6
        }
      ]
    },
    {
      "cell_type": "code",
      "source": [
        "df['categoria_produto'].unique()"
      ],
      "metadata": {
        "id": "mRvVjeIXiurJ",
        "colab": {
          "base_uri": "https://localhost:8080/"
        },
        "outputId": "3e7d9068-e49f-4a38-e3a3-39df7c11a934"
      },
      "execution_count": 7,
      "outputs": [
        {
          "output_type": "execute_result",
          "data": {
            "text/plain": [
              "array(['Ferramentas e Construção', 'Alimentos e Bebidas', 'Eletrônicos',\n",
              "       'Papelaria e Escritório', 'Beleza e Cuidados Pessoais',\n",
              "       'Casa e Mobílias', 'Roupas, Calçados e Acessórios', 'Livros',\n",
              "       'Brinquedos', 'Esporte e Lazer'], dtype=object)"
            ]
          },
          "metadata": {},
          "execution_count": 7
        }
      ]
    },
    {
      "cell_type": "code",
      "source": [
        "produtos = df['categoria_produto'].value_counts().reset_index()\n",
        "produtos"
      ],
      "metadata": {
        "id": "j4xzQ4h-iuj-",
        "colab": {
          "base_uri": "https://localhost:8080/",
          "height": 363
        },
        "outputId": "db894351-8dfe-4832-ffd8-a04cc6b00f62"
      },
      "execution_count": 11,
      "outputs": [
        {
          "output_type": "execute_result",
          "data": {
            "text/plain": [
              "               categoria_produto  count\n",
              "0                    Eletrônicos  36060\n",
              "1  Roupas, Calçados e Acessórios  27917\n",
              "2                Casa e Mobílias  26015\n",
              "3     Beleza e Cuidados Pessoais  22026\n",
              "4                Esporte e Lazer  19939\n",
              "5            Alimentos e Bebidas  18022\n",
              "6         Papelaria e Escritório  13936\n",
              "7                         Livros  13790\n",
              "8       Ferramentas e Construção  12063\n",
              "9                     Brinquedos  10232"
            ],
            "text/html": [
              "\n",
              "  <div id=\"df-d45603bf-306d-4099-b5cb-4370955072b1\" class=\"colab-df-container\">\n",
              "    <div>\n",
              "<style scoped>\n",
              "    .dataframe tbody tr th:only-of-type {\n",
              "        vertical-align: middle;\n",
              "    }\n",
              "\n",
              "    .dataframe tbody tr th {\n",
              "        vertical-align: top;\n",
              "    }\n",
              "\n",
              "    .dataframe thead th {\n",
              "        text-align: right;\n",
              "    }\n",
              "</style>\n",
              "<table border=\"1\" class=\"dataframe\">\n",
              "  <thead>\n",
              "    <tr style=\"text-align: right;\">\n",
              "      <th></th>\n",
              "      <th>categoria_produto</th>\n",
              "      <th>count</th>\n",
              "    </tr>\n",
              "  </thead>\n",
              "  <tbody>\n",
              "    <tr>\n",
              "      <th>0</th>\n",
              "      <td>Eletrônicos</td>\n",
              "      <td>36060</td>\n",
              "    </tr>\n",
              "    <tr>\n",
              "      <th>1</th>\n",
              "      <td>Roupas, Calçados e Acessórios</td>\n",
              "      <td>27917</td>\n",
              "    </tr>\n",
              "    <tr>\n",
              "      <th>2</th>\n",
              "      <td>Casa e Mobílias</td>\n",
              "      <td>26015</td>\n",
              "    </tr>\n",
              "    <tr>\n",
              "      <th>3</th>\n",
              "      <td>Beleza e Cuidados Pessoais</td>\n",
              "      <td>22026</td>\n",
              "    </tr>\n",
              "    <tr>\n",
              "      <th>4</th>\n",
              "      <td>Esporte e Lazer</td>\n",
              "      <td>19939</td>\n",
              "    </tr>\n",
              "    <tr>\n",
              "      <th>5</th>\n",
              "      <td>Alimentos e Bebidas</td>\n",
              "      <td>18022</td>\n",
              "    </tr>\n",
              "    <tr>\n",
              "      <th>6</th>\n",
              "      <td>Papelaria e Escritório</td>\n",
              "      <td>13936</td>\n",
              "    </tr>\n",
              "    <tr>\n",
              "      <th>7</th>\n",
              "      <td>Livros</td>\n",
              "      <td>13790</td>\n",
              "    </tr>\n",
              "    <tr>\n",
              "      <th>8</th>\n",
              "      <td>Ferramentas e Construção</td>\n",
              "      <td>12063</td>\n",
              "    </tr>\n",
              "    <tr>\n",
              "      <th>9</th>\n",
              "      <td>Brinquedos</td>\n",
              "      <td>10232</td>\n",
              "    </tr>\n",
              "  </tbody>\n",
              "</table>\n",
              "</div>\n",
              "    <div class=\"colab-df-buttons\">\n",
              "\n",
              "  <div class=\"colab-df-container\">\n",
              "    <button class=\"colab-df-convert\" onclick=\"convertToInteractive('df-d45603bf-306d-4099-b5cb-4370955072b1')\"\n",
              "            title=\"Convert this dataframe to an interactive table.\"\n",
              "            style=\"display:none;\">\n",
              "\n",
              "  <svg xmlns=\"http://www.w3.org/2000/svg\" height=\"24px\" viewBox=\"0 -960 960 960\">\n",
              "    <path d=\"M120-120v-720h720v720H120Zm60-500h600v-160H180v160Zm220 220h160v-160H400v160Zm0 220h160v-160H400v160ZM180-400h160v-160H180v160Zm440 0h160v-160H620v160ZM180-180h160v-160H180v160Zm440 0h160v-160H620v160Z\"/>\n",
              "  </svg>\n",
              "    </button>\n",
              "\n",
              "  <style>\n",
              "    .colab-df-container {\n",
              "      display:flex;\n",
              "      gap: 12px;\n",
              "    }\n",
              "\n",
              "    .colab-df-convert {\n",
              "      background-color: #E8F0FE;\n",
              "      border: none;\n",
              "      border-radius: 50%;\n",
              "      cursor: pointer;\n",
              "      display: none;\n",
              "      fill: #1967D2;\n",
              "      height: 32px;\n",
              "      padding: 0 0 0 0;\n",
              "      width: 32px;\n",
              "    }\n",
              "\n",
              "    .colab-df-convert:hover {\n",
              "      background-color: #E2EBFA;\n",
              "      box-shadow: 0px 1px 2px rgba(60, 64, 67, 0.3), 0px 1px 3px 1px rgba(60, 64, 67, 0.15);\n",
              "      fill: #174EA6;\n",
              "    }\n",
              "\n",
              "    .colab-df-buttons div {\n",
              "      margin-bottom: 4px;\n",
              "    }\n",
              "\n",
              "    [theme=dark] .colab-df-convert {\n",
              "      background-color: #3B4455;\n",
              "      fill: #D2E3FC;\n",
              "    }\n",
              "\n",
              "    [theme=dark] .colab-df-convert:hover {\n",
              "      background-color: #434B5C;\n",
              "      box-shadow: 0px 1px 3px 1px rgba(0, 0, 0, 0.15);\n",
              "      filter: drop-shadow(0px 1px 2px rgba(0, 0, 0, 0.3));\n",
              "      fill: #FFFFFF;\n",
              "    }\n",
              "  </style>\n",
              "\n",
              "    <script>\n",
              "      const buttonEl =\n",
              "        document.querySelector('#df-d45603bf-306d-4099-b5cb-4370955072b1 button.colab-df-convert');\n",
              "      buttonEl.style.display =\n",
              "        google.colab.kernel.accessAllowed ? 'block' : 'none';\n",
              "\n",
              "      async function convertToInteractive(key) {\n",
              "        const element = document.querySelector('#df-d45603bf-306d-4099-b5cb-4370955072b1');\n",
              "        const dataTable =\n",
              "          await google.colab.kernel.invokeFunction('convertToInteractive',\n",
              "                                                    [key], {});\n",
              "        if (!dataTable) return;\n",
              "\n",
              "        const docLinkHtml = 'Like what you see? Visit the ' +\n",
              "          '<a target=\"_blank\" href=https://colab.research.google.com/notebooks/data_table.ipynb>data table notebook</a>'\n",
              "          + ' to learn more about interactive tables.';\n",
              "        element.innerHTML = '';\n",
              "        dataTable['output_type'] = 'display_data';\n",
              "        await google.colab.output.renderOutput(dataTable, element);\n",
              "        const docLink = document.createElement('div');\n",
              "        docLink.innerHTML = docLinkHtml;\n",
              "        element.appendChild(docLink);\n",
              "      }\n",
              "    </script>\n",
              "  </div>\n",
              "\n",
              "\n",
              "    <div id=\"df-ef849843-01fa-4447-96ad-08cade0859ff\">\n",
              "      <button class=\"colab-df-quickchart\" onclick=\"quickchart('df-ef849843-01fa-4447-96ad-08cade0859ff')\"\n",
              "                title=\"Suggest charts\"\n",
              "                style=\"display:none;\">\n",
              "\n",
              "<svg xmlns=\"http://www.w3.org/2000/svg\" height=\"24px\"viewBox=\"0 0 24 24\"\n",
              "     width=\"24px\">\n",
              "    <g>\n",
              "        <path d=\"M19 3H5c-1.1 0-2 .9-2 2v14c0 1.1.9 2 2 2h14c1.1 0 2-.9 2-2V5c0-1.1-.9-2-2-2zM9 17H7v-7h2v7zm4 0h-2V7h2v10zm4 0h-2v-4h2v4z\"/>\n",
              "    </g>\n",
              "</svg>\n",
              "      </button>\n",
              "\n",
              "<style>\n",
              "  .colab-df-quickchart {\n",
              "      --bg-color: #E8F0FE;\n",
              "      --fill-color: #1967D2;\n",
              "      --hover-bg-color: #E2EBFA;\n",
              "      --hover-fill-color: #174EA6;\n",
              "      --disabled-fill-color: #AAA;\n",
              "      --disabled-bg-color: #DDD;\n",
              "  }\n",
              "\n",
              "  [theme=dark] .colab-df-quickchart {\n",
              "      --bg-color: #3B4455;\n",
              "      --fill-color: #D2E3FC;\n",
              "      --hover-bg-color: #434B5C;\n",
              "      --hover-fill-color: #FFFFFF;\n",
              "      --disabled-bg-color: #3B4455;\n",
              "      --disabled-fill-color: #666;\n",
              "  }\n",
              "\n",
              "  .colab-df-quickchart {\n",
              "    background-color: var(--bg-color);\n",
              "    border: none;\n",
              "    border-radius: 50%;\n",
              "    cursor: pointer;\n",
              "    display: none;\n",
              "    fill: var(--fill-color);\n",
              "    height: 32px;\n",
              "    padding: 0;\n",
              "    width: 32px;\n",
              "  }\n",
              "\n",
              "  .colab-df-quickchart:hover {\n",
              "    background-color: var(--hover-bg-color);\n",
              "    box-shadow: 0 1px 2px rgba(60, 64, 67, 0.3), 0 1px 3px 1px rgba(60, 64, 67, 0.15);\n",
              "    fill: var(--button-hover-fill-color);\n",
              "  }\n",
              "\n",
              "  .colab-df-quickchart-complete:disabled,\n",
              "  .colab-df-quickchart-complete:disabled:hover {\n",
              "    background-color: var(--disabled-bg-color);\n",
              "    fill: var(--disabled-fill-color);\n",
              "    box-shadow: none;\n",
              "  }\n",
              "\n",
              "  .colab-df-spinner {\n",
              "    border: 2px solid var(--fill-color);\n",
              "    border-color: transparent;\n",
              "    border-bottom-color: var(--fill-color);\n",
              "    animation:\n",
              "      spin 1s steps(1) infinite;\n",
              "  }\n",
              "\n",
              "  @keyframes spin {\n",
              "    0% {\n",
              "      border-color: transparent;\n",
              "      border-bottom-color: var(--fill-color);\n",
              "      border-left-color: var(--fill-color);\n",
              "    }\n",
              "    20% {\n",
              "      border-color: transparent;\n",
              "      border-left-color: var(--fill-color);\n",
              "      border-top-color: var(--fill-color);\n",
              "    }\n",
              "    30% {\n",
              "      border-color: transparent;\n",
              "      border-left-color: var(--fill-color);\n",
              "      border-top-color: var(--fill-color);\n",
              "      border-right-color: var(--fill-color);\n",
              "    }\n",
              "    40% {\n",
              "      border-color: transparent;\n",
              "      border-right-color: var(--fill-color);\n",
              "      border-top-color: var(--fill-color);\n",
              "    }\n",
              "    60% {\n",
              "      border-color: transparent;\n",
              "      border-right-color: var(--fill-color);\n",
              "    }\n",
              "    80% {\n",
              "      border-color: transparent;\n",
              "      border-right-color: var(--fill-color);\n",
              "      border-bottom-color: var(--fill-color);\n",
              "    }\n",
              "    90% {\n",
              "      border-color: transparent;\n",
              "      border-bottom-color: var(--fill-color);\n",
              "    }\n",
              "  }\n",
              "</style>\n",
              "\n",
              "      <script>\n",
              "        async function quickchart(key) {\n",
              "          const quickchartButtonEl =\n",
              "            document.querySelector('#' + key + ' button');\n",
              "          quickchartButtonEl.disabled = true;  // To prevent multiple clicks.\n",
              "          quickchartButtonEl.classList.add('colab-df-spinner');\n",
              "          try {\n",
              "            const charts = await google.colab.kernel.invokeFunction(\n",
              "                'suggestCharts', [key], {});\n",
              "          } catch (error) {\n",
              "            console.error('Error during call to suggestCharts:', error);\n",
              "          }\n",
              "          quickchartButtonEl.classList.remove('colab-df-spinner');\n",
              "          quickchartButtonEl.classList.add('colab-df-quickchart-complete');\n",
              "        }\n",
              "        (() => {\n",
              "          let quickchartButtonEl =\n",
              "            document.querySelector('#df-ef849843-01fa-4447-96ad-08cade0859ff button');\n",
              "          quickchartButtonEl.style.display =\n",
              "            google.colab.kernel.accessAllowed ? 'block' : 'none';\n",
              "        })();\n",
              "      </script>\n",
              "    </div>\n",
              "\n",
              "  <div id=\"id_5698aa3b-c705-421c-a4b0-dfbee868e3e6\">\n",
              "    <style>\n",
              "      .colab-df-generate {\n",
              "        background-color: #E8F0FE;\n",
              "        border: none;\n",
              "        border-radius: 50%;\n",
              "        cursor: pointer;\n",
              "        display: none;\n",
              "        fill: #1967D2;\n",
              "        height: 32px;\n",
              "        padding: 0 0 0 0;\n",
              "        width: 32px;\n",
              "      }\n",
              "\n",
              "      .colab-df-generate:hover {\n",
              "        background-color: #E2EBFA;\n",
              "        box-shadow: 0px 1px 2px rgba(60, 64, 67, 0.3), 0px 1px 3px 1px rgba(60, 64, 67, 0.15);\n",
              "        fill: #174EA6;\n",
              "      }\n",
              "\n",
              "      [theme=dark] .colab-df-generate {\n",
              "        background-color: #3B4455;\n",
              "        fill: #D2E3FC;\n",
              "      }\n",
              "\n",
              "      [theme=dark] .colab-df-generate:hover {\n",
              "        background-color: #434B5C;\n",
              "        box-shadow: 0px 1px 3px 1px rgba(0, 0, 0, 0.15);\n",
              "        filter: drop-shadow(0px 1px 2px rgba(0, 0, 0, 0.3));\n",
              "        fill: #FFFFFF;\n",
              "      }\n",
              "    </style>\n",
              "    <button class=\"colab-df-generate\" onclick=\"generateWithVariable('produtos')\"\n",
              "            title=\"Generate code using this dataframe.\"\n",
              "            style=\"display:none;\">\n",
              "\n",
              "  <svg xmlns=\"http://www.w3.org/2000/svg\" height=\"24px\"viewBox=\"0 0 24 24\"\n",
              "       width=\"24px\">\n",
              "    <path d=\"M7,19H8.4L18.45,9,17,7.55,7,17.6ZM5,21V16.75L18.45,3.32a2,2,0,0,1,2.83,0l1.4,1.43a1.91,1.91,0,0,1,.58,1.4,1.91,1.91,0,0,1-.58,1.4L9.25,21ZM18.45,9,17,7.55Zm-12,3A5.31,5.31,0,0,0,4.9,8.1,5.31,5.31,0,0,0,1,6.5,5.31,5.31,0,0,0,4.9,4.9,5.31,5.31,0,0,0,6.5,1,5.31,5.31,0,0,0,8.1,4.9,5.31,5.31,0,0,0,12,6.5,5.46,5.46,0,0,0,6.5,12Z\"/>\n",
              "  </svg>\n",
              "    </button>\n",
              "    <script>\n",
              "      (() => {\n",
              "      const buttonEl =\n",
              "        document.querySelector('#id_5698aa3b-c705-421c-a4b0-dfbee868e3e6 button.colab-df-generate');\n",
              "      buttonEl.style.display =\n",
              "        google.colab.kernel.accessAllowed ? 'block' : 'none';\n",
              "\n",
              "      buttonEl.onclick = () => {\n",
              "        google.colab.notebook.generateWithVariable('produtos');\n",
              "      }\n",
              "      })();\n",
              "    </script>\n",
              "  </div>\n",
              "\n",
              "    </div>\n",
              "  </div>\n"
            ],
            "application/vnd.google.colaboratory.intrinsic+json": {
              "type": "dataframe",
              "variable_name": "produtos",
              "summary": "{\n  \"name\": \"produtos\",\n  \"rows\": 10,\n  \"fields\": [\n    {\n      \"column\": \"categoria_produto\",\n      \"properties\": {\n        \"dtype\": \"string\",\n        \"num_unique_values\": 10,\n        \"samples\": [\n          \"Ferramentas e Constru\\u00e7\\u00e3o\",\n          \"Roupas, Cal\\u00e7ados e Acess\\u00f3rios\",\n          \"Alimentos e Bebidas\"\n        ],\n        \"semantic_type\": \"\",\n        \"description\": \"\"\n      }\n    },\n    {\n      \"column\": \"count\",\n      \"properties\": {\n        \"dtype\": \"number\",\n        \"std\": 8155,\n        \"min\": 10232,\n        \"max\": 36060,\n        \"num_unique_values\": 10,\n        \"samples\": [\n          12063,\n          27917,\n          18022\n        ],\n        \"semantic_type\": \"\",\n        \"description\": \"\"\n      }\n    }\n  ]\n}"
            }
          },
          "metadata": {},
          "execution_count": 11
        }
      ]
    },
    {
      "cell_type": "code",
      "source": [
        "import matplotlib.pyplot as plt\n",
        "\n",
        "plt.barh(produtos['categoria_produto'], produtos['count'])\n",
        "plt.show()"
      ],
      "metadata": {
        "id": "BvkcjXKxiueq",
        "colab": {
          "base_uri": "https://localhost:8080/",
          "height": 430
        },
        "outputId": "dc4e0e8d-ad0a-47a0-844f-afedf9c46cc2"
      },
      "execution_count": 12,
      "outputs": [
        {
          "output_type": "display_data",
          "data": {
            "text/plain": [
              "<Figure size 640x480 with 1 Axes>"
            ],
            "image/png": "[encoded data removed]"
          },
          "metadata": {}
        }
      ]
    },
    {
      "cell_type": "markdown",
      "source": [
        "Olha só! Apenas analisando uma única coluna já podemos extrair uma informação bem relevante sobre os registros de venda por categoria.\n",
        "\n",
        "Vamos na sequência analisar e aprender como utilizar uma **variável qualitativa ordinal** deixando-a preparada em nossa base."
      ],
      "metadata": {
        "id": "Esn8ePB_abtg"
      }
    },
    {
      "cell_type": "markdown",
      "source": [
        "## **1.3 Manipulando dados qualitativos ordinais**\n",
        "\n",
        "---"
      ],
      "metadata": {
        "id": "eUBRumYDo7Hu"
      }
    },
    {
      "cell_type": "markdown",
      "source": [
        "A gente já observou anteriormente os diferentes tipos de variáveis e começamos a entender como analisar os dados categóricos de uma base.\n",
        "\n",
        "Uma variável bem interessante em nossa base é a `avaliacao` do produto. Mesmo com dados numéricos, pode ser interpretada como uma variável qualitativa, pois as notas representam uma ordem relacionada a satisfação do cliente. Partindo do Péssimo (nota 1) ao Ótimo (nota 5)."
      ],
      "metadata": {
        "id": "pWte-bp4Jysp"
      }
    },
    {
      "cell_type": "code",
      "source": [
        "df['avaliacao'].unique()"
      ],
      "metadata": {
        "id": "glNB-vHtjj0z",
        "colab": {
          "base_uri": "https://localhost:8080/"
        },
        "outputId": "fb7135d5-f73a-490e-d1b2-bbc27b81b5bc"
      },
      "execution_count": 18,
      "outputs": [
        {
          "output_type": "execute_result",
          "data": {
            "text/plain": [
              "array([1, 4, 5, 3, 2])"
            ]
          },
          "metadata": {},
          "execution_count": 18
        }
      ]
    },
    {
      "cell_type": "code",
      "source": [
        "sorted(df['avaliacao'].unique())"
      ],
      "metadata": {
        "id": "BvU1nTZzjhZF",
        "colab": {
          "base_uri": "https://localhost:8080/"
        },
        "outputId": "d64e67a4-a323-49cc-f9f5-83da144971a7"
      },
      "execution_count": 19,
      "outputs": [
        {
          "output_type": "execute_result",
          "data": {
            "text/plain": [
              "[np.int64(1), np.int64(2), np.int64(3), np.int64(4), np.int64(5)]"
            ]
          },
          "metadata": {},
          "execution_count": 19
        }
      ]
    },
    {
      "cell_type": "code",
      "source": [
        "df['avaliacao indicador'] = pd.Categorical(\n",
        "    df['avaliacao'],\n",
        "    categories=[1, 2, 3, 4, 5],\n",
        "    ordered=True\n",
        "  )"
      ],
      "metadata": {
        "id": "QN7LFlcIjhSJ"
      },
      "execution_count": 20,
      "outputs": []
    },
    {
      "cell_type": "code",
      "source": [
        "avaliacao_labels = {1: 'Péssimo', 2: 'Ruim', 3: 'Regular', 4: 'Bom', 5: 'Ótimo'}\n",
        "df['avaliacao indicador'] = df['avaliacao indicador'].map(avaliacao_labels)"
      ],
      "metadata": {
        "id": "--a0wfacjhNr"
      },
      "execution_count": 21,
      "outputs": []
    },
    {
      "cell_type": "code",
      "source": [
        "df.head()"
      ],
      "metadata": {
        "id": "M9Bm5T5PkcXh",
        "colab": {
          "base_uri": "https://localhost:8080/",
          "height": 206
        },
        "outputId": "e7700256-9db8-46ba-fcfd-c47c8bf280ad"
      },
      "execution_count": 22,
      "outputs": [
        {
          "output_type": "execute_result",
          "data": {
            "text/plain": [
              "                              id_compra sexo_biologico  idade_cliente  \\\n",
              "0  9f86e969-221a-4b1a-9b48-9aba719b61cf      Masculino             33   \n",
              "1  659f9b07-be10-4849-b2ab-dd542498a1e8       Feminino             33   \n",
              "2  d317d7df-1126-42e5-bf4b-0e178bd4e14e       Feminino             36   \n",
              "3  bb99bcf6-b333-493e-9ec2-c39f8695503c       Feminino             21   \n",
              "4  898e4624-84e9-4c41-b181-66d3b7ccfef7      Masculino             31   \n",
              "\n",
              "  regiao_cliente         categoria_produto  preco_unitario  quantidade  \\\n",
              "0            Sul  Ferramentas e Construção           96.80           2   \n",
              "1       Nordeste       Alimentos e Bebidas          247.68           1   \n",
              "2        Sudeste               Eletrônicos          627.46           2   \n",
              "3            Sul               Eletrônicos         2025.07           8   \n",
              "4   Centro-Oeste    Papelaria e Escritório           99.24           5   \n",
              "\n",
              "   total_compra  tempo_entrega  avaliacao avaliacao indicador  \n",
              "0        193.60             18          1             Péssimo  \n",
              "1        247.68              6          4                 Bom  \n",
              "2       1254.92              8          5               Ótimo  \n",
              "3      16200.56              6          5               Ótimo  \n",
              "4        496.20             13          5               Ótimo  "
            ],
            "text/html": [
              "\n",
              "  <div id=\"df-de85b36f-f00a-4687-b808-837d032fd3ab\" class=\"colab-df-container\">\n",
              "    <div>\n",
              "<style scoped>\n",
              "    .dataframe tbody tr th:only-of-type {\n",
              "        vertical-align: middle;\n",
              "    }\n",
              "\n",
              "    .dataframe tbody tr th {\n",
              "        vertical-align: top;\n",
              "    }\n",
              "\n",
              "    .dataframe thead th {\n",
              "        text-align: right;\n",
              "    }\n",
              "</style>\n",
              "<table border=\"1\" class=\"dataframe\">\n",
              "  <thead>\n",
              "    <tr style=\"text-align: right;\">\n",
              "      <th></th>\n",
              "      <th>id_compra</th>\n",
              "      <th>sexo_biologico</th>\n",
              "      <th>idade_cliente</th>\n",
              "      <th>regiao_cliente</th>\n",
              "      <th>categoria_produto</th>\n",
              "      <th>preco_unitario</th>\n",
              "      <th>quantidade</th>\n",
              "      <th>total_compra</th>\n",
              "      <th>tempo_entrega</th>\n",
              "      <th>avaliacao</th>\n",
              "      <th>avaliacao indicador</th>\n",
              "    </tr>\n",
              "  </thead>\n",
              "  <tbody>\n",
              "    <tr>\n",
              "      <th>0</th>\n",
              "      <td>9f86e969-221a-4b1a-9b48-9aba719b61cf</td>\n",
              "      <td>Masculino</td>\n",
              "      <td>33</td>\n",
              "      <td>Sul</td>\n",
              "      <td>Ferramentas e Construção</td>\n",
              "      <td>96.80</td>\n",
              "      <td>2</td>\n",
              "      <td>193.60</td>\n",
              "      <td>18</td>\n",
              "      <td>1</td>\n",
              "      <td>Péssimo</td>\n",
              "    </tr>\n",
              "    <tr>\n",
              "      <th>1</th>\n",
              "      <td>659f9b07-be10-4849-b2ab-dd542498a1e8</td>\n",
              "      <td>Feminino</td>\n",
              "      <td>33</td>\n",
              "      <td>Nordeste</td>\n",
              "      <td>Alimentos e Bebidas</td>\n",
              "      <td>247.68</td>\n",
              "      <td>1</td>\n",
              "      <td>247.68</td>\n",
              "      <td>6</td>\n",
              "      <td>4</td>\n",
              "      <td>Bom</td>\n",
              "    </tr>\n",
              "    <tr>\n",
              "      <th>2</th>\n",
              "      <td>d317d7df-1126-42e5-bf4b-0e178bd4e14e</td>\n",
              "      <td>Feminino</td>\n",
              "      <td>36</td>\n",
              "      <td>Sudeste</td>\n",
              "      <td>Eletrônicos</td>\n",
              "      <td>627.46</td>\n",
              "      <td>2</td>\n",
              "      <td>1254.92</td>\n",
              "      <td>8</td>\n",
              "      <td>5</td>\n",
              "      <td>Ótimo</td>\n",
              "    </tr>\n",
              "    <tr>\n",
              "      <th>3</th>\n",
              "      <td>bb99bcf6-b333-493e-9ec2-c39f8695503c</td>\n",
              "      <td>Feminino</td>\n",
              "      <td>21</td>\n",
              "      <td>Sul</td>\n",
              "      <td>Eletrônicos</td>\n",
              "      <td>2025.07</td>\n",
              "      <td>8</td>\n",
              "      <td>16200.56</td>\n",
              "      <td>6</td>\n",
              "      <td>5</td>\n",
              "      <td>Ótimo</td>\n",
              "    </tr>\n",
              "    <tr>\n",
              "      <th>4</th>\n",
              "      <td>898e4624-84e9-4c41-b181-66d3b7ccfef7</td>\n",
              "      <td>Masculino</td>\n",
              "      <td>31</td>\n",
              "      <td>Centro-Oeste</td>\n",
              "      <td>Papelaria e Escritório</td>\n",
              "      <td>99.24</td>\n",
              "      <td>5</td>\n",
              "      <td>496.20</td>\n",
              "      <td>13</td>\n",
              "      <td>5</td>\n",
              "      <td>Ótimo</td>\n",
              "    </tr>\n",
              "  </tbody>\n",
              "</table>\n",
              "</div>\n",
              "    <div class=\"colab-df-buttons\">\n",
              "\n",
              "  <div class=\"colab-df-container\">\n",
              "    <button class=\"colab-df-convert\" onclick=\"convertToInteractive('df-de85b36f-f00a-4687-b808-837d032fd3ab')\"\n",
              "            title=\"Convert this dataframe to an interactive table.\"\n",
              "            style=\"display:none;\">\n",
              "\n",
              "  <svg xmlns=\"http://www.w3.org/2000/svg\" height=\"24px\" viewBox=\"0 -960 960 960\">\n",
              "    <path d=\"M120-120v-720h720v720H120Zm60-500h600v-160H180v160Zm220 220h160v-160H400v160Zm0 220h160v-160H400v160ZM180-400h160v-160H180v160Zm440 0h160v-160H620v160ZM180-180h160v-160H180v160Zm440 0h160v-160H620v160Z\"/>\n",
              "  </svg>\n",
              "    </button>\n",
              "\n",
              "  <style>\n",
              "    .colab-df-container {\n",
              "      display:flex;\n",
              "      gap: 12px;\n",
              "    }\n",
              "\n",
              "    .colab-df-convert {\n",
              "      background-color: #E8F0FE;\n",
              "      border: none;\n",
              "      border-radius: 50%;\n",
              "      cursor: pointer;\n",
              "      display: none;\n",
              "      fill: #1967D2;\n",
              "      height: 32px;\n",
              "      padding: 0 0 0 0;\n",
              "      width: 32px;\n",
              "    }\n",
              "\n",
              "    .colab-df-convert:hover {\n",
              "      background-color: #E2EBFA;\n",
              "      box-shadow: 0px 1px 2px rgba(60, 64, 67, 0.3), 0px 1px 3px 1px rgba(60, 64, 67, 0.15);\n",
              "      fill: #174EA6;\n",
              "    }\n",
              "\n",
              "    .colab-df-buttons div {\n",
              "      margin-bottom: 4px;\n",
              "    }\n",
              "\n",
              "    [theme=dark] .colab-df-convert {\n",
              "      background-color: #3B4455;\n",
              "      fill: #D2E3FC;\n",
              "    }\n",
              "\n",
              "    [theme=dark] .colab-df-convert:hover {\n",
              "      background-color: #434B5C;\n",
              "      box-shadow: 0px 1px 3px 1px rgba(0, 0, 0, 0.15);\n",
              "      filter: drop-shadow(0px 1px 2px rgba(0, 0, 0, 0.3));\n",
              "      fill: #FFFFFF;\n",
              "    }\n",
              "  </style>\n",
              "\n",
              "    <script>\n",
              "      const buttonEl =\n",
              "        document.querySelector('#df-de85b36f-f00a-4687-b808-837d032fd3ab button.colab-df-convert');\n",
              "      buttonEl.style.display =\n",
              "        google.colab.kernel.accessAllowed ? 'block' : 'none';\n",
              "\n",
              "      async function convertToInteractive(key) {\n",
              "        const element = document.querySelector('#df-de85b36f-f00a-4687-b808-837d032fd3ab');\n",
              "        const dataTable =\n",
              "          await google.colab.kernel.invokeFunction('convertToInteractive',\n",
              "                                                    [key], {});\n",
              "        if (!dataTable) return;\n",
              "\n",
              "        const docLinkHtml = 'Like what you see? Visit the ' +\n",
              "          '<a target=\"_blank\" href=https://colab.research.google.com/notebooks/data_table.ipynb>data table notebook</a>'\n",
              "          + ' to learn more about interactive tables.';\n",
              "        element.innerHTML = '';\n",
              "        dataTable['output_type'] = 'display_data';\n",
              "        await google.colab.output.renderOutput(dataTable, element);\n",
              "        const docLink = document.createElement('div');\n",
              "        docLink.innerHTML = docLinkHtml;\n",
              "        element.appendChild(docLink);\n",
              "      }\n",
              "    </script>\n",
              "  </div>\n",
              "\n",
              "\n",
              "    <div id=\"df-c1970508-aeb1-4c15-a983-85af4fd0faa4\">\n",
              "      <button class=\"colab-df-quickchart\" onclick=\"quickchart('df-c1970508-aeb1-4c15-a983-85af4fd0faa4')\"\n",
              "                title=\"Suggest charts\"\n",
              "                style=\"display:none;\">\n",
              "\n",
              "<svg xmlns=\"http://www.w3.org/2000/svg\" height=\"24px\"viewBox=\"0 0 24 24\"\n",
              "     width=\"24px\">\n",
              "    <g>\n",
              "        <path d=\"M19 3H5c-1.1 0-2 .9-2 2v14c0 1.1.9 2 2 2h14c1.1 0 2-.9 2-2V5c0-1.1-.9-2-2-2zM9 17H7v-7h2v7zm4 0h-2V7h2v10zm4 0h-2v-4h2v4z\"/>\n",
              "    </g>\n",
              "</svg>\n",
              "      </button>\n",
              "\n",
              "<style>\n",
              "  .colab-df-quickchart {\n",
              "      --bg-color: #E8F0FE;\n",
              "      --fill-color: #1967D2;\n",
              "      --hover-bg-color: #E2EBFA;\n",
              "      --hover-fill-color: #174EA6;\n",
              "      --disabled-fill-color: #AAA;\n",
              "      --disabled-bg-color: #DDD;\n",
              "  }\n",
              "\n",
              "  [theme=dark] .colab-df-quickchart {\n",
              "      --bg-color: #3B4455;\n",
              "      --fill-color: #D2E3FC;\n",
              "      --hover-bg-color: #434B5C;\n",
              "      --hover-fill-color: #FFFFFF;\n",
              "      --disabled-bg-color: #3B4455;\n",
              "      --disabled-fill-color: #666;\n",
              "  }\n",
              "\n",
              "  .colab-df-quickchart {\n",
              "    background-color: var(--bg-color);\n",
              "    border: none;\n",
              "    border-radius: 50%;\n",
              "    cursor: pointer;\n",
              "    display: none;\n",
              "    fill: var(--fill-color);\n",
              "    height: 32px;\n",
              "    padding: 0;\n",
              "    width: 32px;\n",
              "  }\n",
              "\n",
              "  .colab-df-quickchart:hover {\n",
              "    background-color: var(--hover-bg-color);\n",
              "    box-shadow: 0 1px 2px rgba(60, 64, 67, 0.3), 0 1px 3px 1px rgba(60, 64, 67, 0.15);\n",
              "    fill: var(--button-hover-fill-color);\n",
              "  }\n",
              "\n",
              "  .colab-df-quickchart-complete:disabled,\n",
              "  .colab-df-quickchart-complete:disabled:hover {\n",
              "    background-color: var(--disabled-bg-color);\n",
              "    fill: var(--disabled-fill-color);\n",
              "    box-shadow: none;\n",
              "  }\n",
              "\n",
              "  .colab-df-spinner {\n",
              "    border: 2px solid var(--fill-color);\n",
              "    border-color: transparent;\n",
              "    border-bottom-color: var(--fill-color);\n",
              "    animation:\n",
              "      spin 1s steps(1) infinite;\n",
              "  }\n",
              "\n",
              "  @keyframes spin {\n",
              "    0% {\n",
              "      border-color: transparent;\n",
              "      border-bottom-color: var(--fill-color);\n",
              "      border-left-color: var(--fill-color);\n",
              "    }\n",
              "    20% {\n",
              "      border-color: transparent;\n",
              "      border-left-color: var(--fill-color);\n",
              "      border-top-color: var(--fill-color);\n",
              "    }\n",
              "    30% {\n",
              "      border-color: transparent;\n",
              "      border-left-color: var(--fill-color);\n",
              "      border-top-color: var(--fill-color);\n",
              "      border-right-color: var(--fill-color);\n",
              "    }\n",
              "    40% {\n",
              "      border-color: transparent;\n",
              "      border-right-color: var(--fill-color);\n",
              "      border-top-color: var(--fill-color);\n",
              "    }\n",
              "    60% {\n",
              "      border-color: transparent;\n",
              "      border-right-color: var(--fill-color);\n",
              "    }\n",
              "    80% {\n",
              "      border-color: transparent;\n",
              "      border-right-color: var(--fill-color);\n",
              "      border-bottom-color: var(--fill-color);\n",
              "    }\n",
              "    90% {\n",
              "      border-color: transparent;\n",
              "      border-bottom-color: var(--fill-color);\n",
              "    }\n",
              "  }\n",
              "</style>\n",
              "\n",
              "      <script>\n",
              "        async function quickchart(key) {\n",
              "          const quickchartButtonEl =\n",
              "            document.querySelector('#' + key + ' button');\n",
              "          quickchartButtonEl.disabled = true;  // To prevent multiple clicks.\n",
              "          quickchartButtonEl.classList.add('colab-df-spinner');\n",
              "          try {\n",
              "            const charts = await google.colab.kernel.invokeFunction(\n",
              "                'suggestCharts', [key], {});\n",
              "          } catch (error) {\n",
              "            console.error('Error during call to suggestCharts:', error);\n",
              "          }\n",
              "          quickchartButtonEl.classList.remove('colab-df-spinner');\n",
              "          quickchartButtonEl.classList.add('colab-df-quickchart-complete');\n",
              "        }\n",
              "        (() => {\n",
              "          let quickchartButtonEl =\n",
              "            document.querySelector('#df-c1970508-aeb1-4c15-a983-85af4fd0faa4 button');\n",
              "          quickchartButtonEl.style.display =\n",
              "            google.colab.kernel.accessAllowed ? 'block' : 'none';\n",
              "        })();\n",
              "      </script>\n",
              "    </div>\n",
              "\n",
              "    </div>\n",
              "  </div>\n"
            ],
            "application/vnd.google.colaboratory.intrinsic+json": {
              "type": "dataframe",
              "variable_name": "df"
            }
          },
          "metadata": {},
          "execution_count": 22
        }
      ]
    },
    {
      "cell_type": "code",
      "source": [
        "df_unico = df[['avaliacao', 'avaliacao indicador']].drop_duplicates()\n",
        "df_unico"
      ],
      "metadata": {
        "id": "F6dzuzZwlPfE",
        "colab": {
          "base_uri": "https://localhost:8080/",
          "height": 206
        },
        "outputId": "85b13349-e2b7-40bc-f095-bd1ce8a9c566"
      },
      "execution_count": 23,
      "outputs": [
        {
          "output_type": "execute_result",
          "data": {
            "text/plain": [
              "    avaliacao avaliacao indicador\n",
              "0           1             Péssimo\n",
              "1           4                 Bom\n",
              "2           5               Ótimo\n",
              "8           3             Regular\n",
              "14          2                Ruim"
            ],
            "text/html": [
              "\n",
              "  <div id=\"df-410d82fe-b78d-479f-adc4-229a02c07927\" class=\"colab-df-container\">\n",
              "    <div>\n",
              "<style scoped>\n",
              "    .dataframe tbody tr th:only-of-type {\n",
              "        vertical-align: middle;\n",
              "    }\n",
              "\n",
              "    .dataframe tbody tr th {\n",
              "        vertical-align: top;\n",
              "    }\n",
              "\n",
              "    .dataframe thead th {\n",
              "        text-align: right;\n",
              "    }\n",
              "</style>\n",
              "<table border=\"1\" class=\"dataframe\">\n",
              "  <thead>\n",
              "    <tr style=\"text-align: right;\">\n",
              "      <th></th>\n",
              "      <th>avaliacao</th>\n",
              "      <th>avaliacao indicador</th>\n",
              "    </tr>\n",
              "  </thead>\n",
              "  <tbody>\n",
              "    <tr>\n",
              "      <th>0</th>\n",
              "      <td>1</td>\n",
              "      <td>Péssimo</td>\n",
              "    </tr>\n",
              "    <tr>\n",
              "      <th>1</th>\n",
              "      <td>4</td>\n",
              "      <td>Bom</td>\n",
              "    </tr>\n",
              "    <tr>\n",
              "      <th>2</th>\n",
              "      <td>5</td>\n",
              "      <td>Ótimo</td>\n",
              "    </tr>\n",
              "    <tr>\n",
              "      <th>8</th>\n",
              "      <td>3</td>\n",
              "      <td>Regular</td>\n",
              "    </tr>\n",
              "    <tr>\n",
              "      <th>14</th>\n",
              "      <td>2</td>\n",
              "      <td>Ruim</td>\n",
              "    </tr>\n",
              "  </tbody>\n",
              "</table>\n",
              "</div>\n",
              "    <div class=\"colab-df-buttons\">\n",
              "\n",
              "  <div class=\"colab-df-container\">\n",
              "    <button class=\"colab-df-convert\" onclick=\"convertToInteractive('df-410d82fe-b78d-479f-adc4-229a02c07927')\"\n",
              "            title=\"Convert this dataframe to an interactive table.\"\n",
              "            style=\"display:none;\">\n",
              "\n",
              "  <svg xmlns=\"http://www.w3.org/2000/svg\" height=\"24px\" viewBox=\"0 -960 960 960\">\n",
              "    <path d=\"M120-120v-720h720v720H120Zm60-500h600v-160H180v160Zm220 220h160v-160H400v160Zm0 220h160v-160H400v160ZM180-400h160v-160H180v160Zm440 0h160v-160H620v160ZM180-180h160v-160H180v160Zm440 0h160v-160H620v160Z\"/>\n",
              "  </svg>\n",
              "    </button>\n",
              "\n",
              "  <style>\n",
              "    .colab-df-container {\n",
              "      display:flex;\n",
              "      gap: 12px;\n",
              "    }\n",
              "\n",
              "    .colab-df-convert {\n",
              "      background-color: #E8F0FE;\n",
              "      border: none;\n",
              "      border-radius: 50%;\n",
              "      cursor: pointer;\n",
              "      display: none;\n",
              "      fill: #1967D2;\n",
              "      height: 32px;\n",
              "      padding: 0 0 0 0;\n",
              "      width: 32px;\n",
              "    }\n",
              "\n",
              "    .colab-df-convert:hover {\n",
              "      background-color: #E2EBFA;\n",
              "      box-shadow: 0px 1px 2px rgba(60, 64, 67, 0.3), 0px 1px 3px 1px rgba(60, 64, 67, 0.15);\n",
              "      fill: #174EA6;\n",
              "    }\n",
              "\n",
              "    .colab-df-buttons div {\n",
              "      margin-bottom: 4px;\n",
              "    }\n",
              "\n",
              "    [theme=dark] .colab-df-convert {\n",
              "      background-color: #3B4455;\n",
              "      fill: #D2E3FC;\n",
              "    }\n",
              "\n",
              "    [theme=dark] .colab-df-convert:hover {\n",
              "      background-color: #434B5C;\n",
              "      box-shadow: 0px 1px 3px 1px rgba(0, 0, 0, 0.15);\n",
              "      filter: drop-shadow(0px 1px 2px rgba(0, 0, 0, 0.3));\n",
              "      fill: #FFFFFF;\n",
              "    }\n",
              "  </style>\n",
              "\n",
              "    <script>\n",
              "      const buttonEl =\n",
              "        document.querySelector('#df-410d82fe-b78d-479f-adc4-229a02c07927 button.colab-df-convert');\n",
              "      buttonEl.style.display =\n",
              "        google.colab.kernel.accessAllowed ? 'block' : 'none';\n",
              "\n",
              "      async function convertToInteractive(key) {\n",
              "        const element = document.querySelector('#df-410d82fe-b78d-479f-adc4-229a02c07927');\n",
              "        const dataTable =\n",
              "          await google.colab.kernel.invokeFunction('convertToInteractive',\n",
              "                                                    [key], {});\n",
              "        if (!dataTable) return;\n",
              "\n",
              "        const docLinkHtml = 'Like what you see? Visit the ' +\n",
              "          '<a target=\"_blank\" href=https://colab.research.google.com/notebooks/data_table.ipynb>data table notebook</a>'\n",
              "          + ' to learn more about interactive tables.';\n",
              "        element.innerHTML = '';\n",
              "        dataTable['output_type'] = 'display_data';\n",
              "        await google.colab.output.renderOutput(dataTable, element);\n",
              "        const docLink = document.createElement('div');\n",
              "        docLink.innerHTML = docLinkHtml;\n",
              "        element.appendChild(docLink);\n",
              "      }\n",
              "    </script>\n",
              "  </div>\n",
              "\n",
              "\n",
              "    <div id=\"df-bd3f76dd-f145-4a80-a078-b28623e30c8b\">\n",
              "      <button class=\"colab-df-quickchart\" onclick=\"quickchart('df-bd3f76dd-f145-4a80-a078-b28623e30c8b')\"\n",
              "                title=\"Suggest charts\"\n",
              "                style=\"display:none;\">\n",
              "\n",
              "<svg xmlns=\"http://www.w3.org/2000/svg\" height=\"24px\"viewBox=\"0 0 24 24\"\n",
              "     width=\"24px\">\n",
              "    <g>\n",
              "        <path d=\"M19 3H5c-1.1 0-2 .9-2 2v14c0 1.1.9 2 2 2h14c1.1 0 2-.9 2-2V5c0-1.1-.9-2-2-2zM9 17H7v-7h2v7zm4 0h-2V7h2v10zm4 0h-2v-4h2v4z\"/>\n",
              "    </g>\n",
              "</svg>\n",
              "      </button>\n",
              "\n",
              "<style>\n",
              "  .colab-df-quickchart {\n",
              "      --bg-color: #E8F0FE;\n",
              "      --fill-color: #1967D2;\n",
              "      --hover-bg-color: #E2EBFA;\n",
              "      --hover-fill-color: #174EA6;\n",
              "      --disabled-fill-color: #AAA;\n",
              "      --disabled-bg-color: #DDD;\n",
              "  }\n",
              "\n",
              "  [theme=dark] .colab-df-quickchart {\n",
              "      --bg-color: #3B4455;\n",
              "      --fill-color: #D2E3FC;\n",
              "      --hover-bg-color: #434B5C;\n",
              "      --hover-fill-color: #FFFFFF;\n",
              "      --disabled-bg-color: #3B4455;\n",
              "      --disabled-fill-color: #666;\n",
              "  }\n",
              "\n",
              "  .colab-df-quickchart {\n",
              "    background-color: var(--bg-color);\n",
              "    border: none;\n",
              "    border-radius: 50%;\n",
              "    cursor: pointer;\n",
              "    display: none;\n",
              "    fill: var(--fill-color);\n",
              "    height: 32px;\n",
              "    padding: 0;\n",
              "    width: 32px;\n",
              "  }\n",
              "\n",
              "  .colab-df-quickchart:hover {\n",
              "    background-color: var(--hover-bg-color);\n",
              "    box-shadow: 0 1px 2px rgba(60, 64, 67, 0.3), 0 1px 3px 1px rgba(60, 64, 67, 0.15);\n",
              "    fill: var(--button-hover-fill-color);\n",
              "  }\n",
              "\n",
              "  .colab-df-quickchart-complete:disabled,\n",
              "  .colab-df-quickchart-complete:disabled:hover {\n",
              "    background-color: var(--disabled-bg-color);\n",
              "    fill: var(--disabled-fill-color);\n",
              "    box-shadow: none;\n",
              "  }\n",
              "\n",
              "  .colab-df-spinner {\n",
              "    border: 2px solid var(--fill-color);\n",
              "    border-color: transparent;\n",
              "    border-bottom-color: var(--fill-color);\n",
              "    animation:\n",
              "      spin 1s steps(1) infinite;\n",
              "  }\n",
              "\n",
              "  @keyframes spin {\n",
              "    0% {\n",
              "      border-color: transparent;\n",
              "      border-bottom-color: var(--fill-color);\n",
              "      border-left-color: var(--fill-color);\n",
              "    }\n",
              "    20% {\n",
              "      border-color: transparent;\n",
              "      border-left-color: var(--fill-color);\n",
              "      border-top-color: var(--fill-color);\n",
              "    }\n",
              "    30% {\n",
              "      border-color: transparent;\n",
              "      border-left-color: var(--fill-color);\n",
              "      border-top-color: var(--fill-color);\n",
              "      border-right-color: var(--fill-color);\n",
              "    }\n",
              "    40% {\n",
              "      border-color: transparent;\n",
              "      border-right-color: var(--fill-color);\n",
              "      border-top-color: var(--fill-color);\n",
              "    }\n",
              "    60% {\n",
              "      border-color: transparent;\n",
              "      border-right-color: var(--fill-color);\n",
              "    }\n",
              "    80% {\n",
              "      border-color: transparent;\n",
              "      border-right-color: var(--fill-color);\n",
              "      border-bottom-color: var(--fill-color);\n",
              "    }\n",
              "    90% {\n",
              "      border-color: transparent;\n",
              "      border-bottom-color: var(--fill-color);\n",
              "    }\n",
              "  }\n",
              "</style>\n",
              "\n",
              "      <script>\n",
              "        async function quickchart(key) {\n",
              "          const quickchartButtonEl =\n",
              "            document.querySelector('#' + key + ' button');\n",
              "          quickchartButtonEl.disabled = true;  // To prevent multiple clicks.\n",
              "          quickchartButtonEl.classList.add('colab-df-spinner');\n",
              "          try {\n",
              "            const charts = await google.colab.kernel.invokeFunction(\n",
              "                'suggestCharts', [key], {});\n",
              "          } catch (error) {\n",
              "            console.error('Error during call to suggestCharts:', error);\n",
              "          }\n",
              "          quickchartButtonEl.classList.remove('colab-df-spinner');\n",
              "          quickchartButtonEl.classList.add('colab-df-quickchart-complete');\n",
              "        }\n",
              "        (() => {\n",
              "          let quickchartButtonEl =\n",
              "            document.querySelector('#df-bd3f76dd-f145-4a80-a078-b28623e30c8b button');\n",
              "          quickchartButtonEl.style.display =\n",
              "            google.colab.kernel.accessAllowed ? 'block' : 'none';\n",
              "        })();\n",
              "      </script>\n",
              "    </div>\n",
              "\n",
              "  <div id=\"id_b0ed4792-2e2c-400e-bd4d-cae0b8a6a321\">\n",
              "    <style>\n",
              "      .colab-df-generate {\n",
              "        background-color: #E8F0FE;\n",
              "        border: none;\n",
              "        border-radius: 50%;\n",
              "        cursor: pointer;\n",
              "        display: none;\n",
              "        fill: #1967D2;\n",
              "        height: 32px;\n",
              "        padding: 0 0 0 0;\n",
              "        width: 32px;\n",
              "      }\n",
              "\n",
              "      .colab-df-generate:hover {\n",
              "        background-color: #E2EBFA;\n",
              "        box-shadow: 0px 1px 2px rgba(60, 64, 67, 0.3), 0px 1px 3px 1px rgba(60, 64, 67, 0.15);\n",
              "        fill: #174EA6;\n",
              "      }\n",
              "\n",
              "      [theme=dark] .colab-df-generate {\n",
              "        background-color: #3B4455;\n",
              "        fill: #D2E3FC;\n",
              "      }\n",
              "\n",
              "      [theme=dark] .colab-df-generate:hover {\n",
              "        background-color: #434B5C;\n",
              "        box-shadow: 0px 1px 3px 1px rgba(0, 0, 0, 0.15);\n",
              "        filter: drop-shadow(0px 1px 2px rgba(0, 0, 0, 0.3));\n",
              "        fill: #FFFFFF;\n",
              "      }\n",
              "    </style>\n",
              "    <button class=\"colab-df-generate\" onclick=\"generateWithVariable('df_unico')\"\n",
              "            title=\"Generate code using this dataframe.\"\n",
              "            style=\"display:none;\">\n",
              "\n",
              "  <svg xmlns=\"http://www.w3.org/2000/svg\" height=\"24px\"viewBox=\"0 0 24 24\"\n",
              "       width=\"24px\">\n",
              "    <path d=\"M7,19H8.4L18.45,9,17,7.55,7,17.6ZM5,21V16.75L18.45,3.32a2,2,0,0,1,2.83,0l1.4,1.43a1.91,1.91,0,0,1,.58,1.4,1.91,1.91,0,0,1-.58,1.4L9.25,21ZM18.45,9,17,7.55Zm-12,3A5.31,5.31,0,0,0,4.9,8.1,5.31,5.31,0,0,0,1,6.5,5.31,5.31,0,0,0,4.9,4.9,5.31,5.31,0,0,0,6.5,1,5.31,5.31,0,0,0,8.1,4.9,5.31,5.31,0,0,0,12,6.5,5.46,5.46,0,0,0,6.5,12Z\"/>\n",
              "  </svg>\n",
              "    </button>\n",
              "    <script>\n",
              "      (() => {\n",
              "      const buttonEl =\n",
              "        document.querySelector('#id_b0ed4792-2e2c-400e-bd4d-cae0b8a6a321 button.colab-df-generate');\n",
              "      buttonEl.style.display =\n",
              "        google.colab.kernel.accessAllowed ? 'block' : 'none';\n",
              "\n",
              "      buttonEl.onclick = () => {\n",
              "        google.colab.notebook.generateWithVariable('df_unico');\n",
              "      }\n",
              "      })();\n",
              "    </script>\n",
              "  </div>\n",
              "\n",
              "    </div>\n",
              "  </div>\n"
            ],
            "application/vnd.google.colaboratory.intrinsic+json": {
              "type": "dataframe",
              "variable_name": "df_unico",
              "summary": "{\n  \"name\": \"df_unico\",\n  \"rows\": 5,\n  \"fields\": [\n    {\n      \"column\": \"avaliacao\",\n      \"properties\": {\n        \"dtype\": \"number\",\n        \"std\": 1,\n        \"min\": 1,\n        \"max\": 5,\n        \"num_unique_values\": 5,\n        \"samples\": [\n          4,\n          2,\n          5\n        ],\n        \"semantic_type\": \"\",\n        \"description\": \"\"\n      }\n    },\n    {\n      \"column\": \"avaliacao indicador\",\n      \"properties\": {\n        \"dtype\": \"category\",\n        \"num_unique_values\": 5,\n        \"samples\": [\n          \"Bom\",\n          \"Ruim\",\n          \"\\u00d3timo\"\n        ],\n        \"semantic_type\": \"\",\n        \"description\": \"\"\n      }\n    }\n  ]\n}"
            }
          },
          "metadata": {},
          "execution_count": 23
        }
      ]
    },
    {
      "cell_type": "markdown",
      "source": [
        "Passando por alguns exemplos de variáveis qualitativas em nosso dado. Mas que tal analisarmos também os diferentes dados numéricos?"
      ],
      "metadata": {
        "id": "t9YXItFpJ6R6"
      }
    },
    {
      "cell_type": "markdown",
      "source": [
        "## **1.4 Diferenciando dados discretos de contínuos**\n",
        "\n",
        "---"
      ],
      "metadata": {
        "id": "PjCs3WacJ8xh"
      }
    },
    {
      "cell_type": "markdown",
      "source": [
        "Temos alguns dados numéricos em nossa base de dados. Mas cada variável  tem a sua forma de ser analisada. Algumas delas até com possibilidades de serem encaixadas em 2 ou mais subdivisões."
      ],
      "metadata": {
        "id": "0J7x2jptJ-va"
      }
    },
    {
      "cell_type": "code",
      "source": [
        "df['quantidade'].unique()"
      ],
      "metadata": {
        "id": "gk_La5MGjcS9",
        "colab": {
          "base_uri": "https://localhost:8080/"
        },
        "outputId": "5993941f-97c7-4b3e-ce5f-af9e613706fb"
      },
      "execution_count": 24,
      "outputs": [
        {
          "output_type": "execute_result",
          "data": {
            "text/plain": [
              "array([ 2,  1,  8,  5,  3,  7,  6,  4, 10,  9])"
            ]
          },
          "metadata": {},
          "execution_count": 24
        }
      ]
    },
    {
      "cell_type": "code",
      "source": [
        "print(f\"Vendemos de {min(df['quantidade'])} até {max(df['quantidade'])} unidades de produto por registro\")"
      ],
      "metadata": {
        "id": "_i1Q4Oaojb_3",
        "colab": {
          "base_uri": "https://localhost:8080/"
        },
        "outputId": "5346d4b1-5835-4f6d-bf9b-4acd394e73c1"
      },
      "execution_count": 25,
      "outputs": [
        {
          "output_type": "stream",
          "name": "stdout",
          "text": [
            "Vendemos de 1 até 10 unidades de produto por registro\n"
          ]
        }
      ]
    },
    {
      "cell_type": "code",
      "source": [
        "df['total_compra'].unique()"
      ],
      "metadata": {
        "id": "ZApQiQUujb7D",
        "colab": {
          "base_uri": "https://localhost:8080/"
        },
        "outputId": "2d4ae403-8377-4eb0-fd0e-ed2bdfb1f4d1"
      },
      "execution_count": 26,
      "outputs": [
        {
          "output_type": "execute_result",
          "data": {
            "text/plain": [
              "array([  193.6 ,   247.68,  1254.92, ..., 13183.8 ,  1666.33,  1193.03])"
            ]
          },
          "metadata": {},
          "execution_count": 26
        }
      ]
    },
    {
      "cell_type": "code",
      "source": [
        "print(f\"Tivemos vendas a partir de R$ {min(df['total_compra']):,.2f} até R$ {max(df['total_compra']):,.2f}\")"
      ],
      "metadata": {
        "id": "I-zXWVt0jb2Q",
        "colab": {
          "base_uri": "https://localhost:8080/"
        },
        "outputId": "ca6b8d4f-e822-46fa-9eb6-06beb7dca7ab"
      },
      "execution_count": 27,
      "outputs": [
        {
          "output_type": "stream",
          "name": "stdout",
          "text": [
            "Tivemos vendas a partir de R$ 5.05 até R$ 20,744.70\n"
          ]
        }
      ]
    },
    {
      "cell_type": "code",
      "source": [
        "df.sort_values(by='total_compra')"
      ],
      "metadata": {
        "id": "IAGw2SkQjeY2",
        "colab": {
          "base_uri": "https://localhost:8080/",
          "height": 424
        },
        "outputId": "068f45b3-b457-463e-9291-f1efdb10f57b"
      },
      "execution_count": 28,
      "outputs": [
        {
          "output_type": "execute_result",
          "data": {
            "text/plain": [
              "                                   id_compra sexo_biologico  idade_cliente  \\\n",
              "157075  b866504d-9fe1-4c75-8956-decf7f25dd75      Masculino             35   \n",
              "4562    5a66b58a-2ab0-49c3-b597-f45846130ded       Feminino             37   \n",
              "6279    c67e996c-403c-4f58-81c5-996c1ab676a5      Masculino             34   \n",
              "50155   e7ad75b4-6a0e-4609-801c-ef12adeb837a      Masculino             55   \n",
              "85703   ed88c6a2-2fdd-4278-bfa8-fd54f7e2f357       Feminino             42   \n",
              "...                                      ...            ...            ...   \n",
              "88073   5f125e88-f01c-4499-9a25-c4910bc76dee      Masculino             39   \n",
              "134287  2c3853dc-b9dc-400a-bd70-ff2521fe4d8a       Feminino             35   \n",
              "17790   dbf2429a-3252-42df-ad4e-a11339afceb8       Feminino             33   \n",
              "114561  dc3c4162-5772-480e-b7fa-0ccc41d78a40       Feminino             29   \n",
              "108742  8c971cc6-964e-468d-86f8-1e6955887bd1       Feminino             28   \n",
              "\n",
              "       regiao_cliente       categoria_produto  preco_unitario  quantidade  \\\n",
              "157075        Sudeste  Papelaria e Escritório            5.05           1   \n",
              "4562            Norte  Papelaria e Escritório            5.14           1   \n",
              "6279              Sul  Papelaria e Escritório            5.28           1   \n",
              "50155         Sudeste  Papelaria e Escritório            5.35           1   \n",
              "85703    Centro-Oeste  Papelaria e Escritório            5.78           1   \n",
              "...               ...                     ...             ...         ...   \n",
              "88073        Nordeste             Eletrônicos         2037.44          10   \n",
              "134287            Sul             Eletrônicos         2057.76          10   \n",
              "17790         Sudeste             Eletrônicos         2058.18          10   \n",
              "114561        Sudeste             Eletrônicos         2058.77          10   \n",
              "108742        Sudeste             Eletrônicos         2074.47          10   \n",
              "\n",
              "        total_compra  tempo_entrega  avaliacao avaliacao indicador  \n",
              "157075          5.05             13          4                 Bom  \n",
              "4562            5.14             11          2                Ruim  \n",
              "6279            5.28              7          3             Regular  \n",
              "50155           5.35             11          5               Ótimo  \n",
              "85703           5.78             16          4                 Bom  \n",
              "...              ...            ...        ...                 ...  \n",
              "88073       20374.40              7          2                Ruim  \n",
              "134287      20577.60              6          2                Ruim  \n",
              "17790       20581.80              4          5               Ótimo  \n",
              "114561      20587.70              6          5               Ótimo  \n",
              "108742      20744.70             11          1             Péssimo  \n",
              "\n",
              "[200000 rows x 11 columns]"
            ],
            "text/html": [
              "\n",
              "  <div id=\"df-49ddaf78-90cd-48d4-bfa8-43c9c86423d3\" class=\"colab-df-container\">\n",
              "    <div>\n",
              "<style scoped>\n",
              "    .dataframe tbody tr th:only-of-type {\n",
              "        vertical-align: middle;\n",
              "    }\n",
              "\n",
              "    .dataframe tbody tr th {\n",
              "        vertical-align: top;\n",
              "    }\n",
              "\n",
              "    .dataframe thead th {\n",
              "        text-align: right;\n",
              "    }\n",
              "</style>\n",
              "<table border=\"1\" class=\"dataframe\">\n",
              "  <thead>\n",
              "    <tr style=\"text-align: right;\">\n",
              "      <th></th>\n",
              "      <th>id_compra</th>\n",
              "      <th>sexo_biologico</th>\n",
              "      <th>idade_cliente</th>\n",
              "      <th>regiao_cliente</th>\n",
              "      <th>categoria_produto</th>\n",
              "      <th>preco_unitario</th>\n",
              "      <th>quantidade</th>\n",
              "      <th>total_compra</th>\n",
              "      <th>tempo_entrega</th>\n",
              "      <th>avaliacao</th>\n",
              "      <th>avaliacao indicador</th>\n",
              "    </tr>\n",
              "  </thead>\n",
              "  <tbody>\n",
              "    <tr>\n",
              "      <th>157075</th>\n",
              "      <td>b866504d-9fe1-4c75-8956-decf7f25dd75</td>\n",
              "      <td>Masculino</td>\n",
              "      <td>35</td>\n",
              "      <td>Sudeste</td>\n",
              "      <td>Papelaria e Escritório</td>\n",
              "      <td>5.05</td>\n",
              "      <td>1</td>\n",
              "      <td>5.05</td>\n",
              "      <td>13</td>\n",
              "      <td>4</td>\n",
              "      <td>Bom</td>\n",
              "    </tr>\n",
              "    <tr>\n",
              "      <th>4562</th>\n",
              "      <td>5a66b58a-2ab0-49c3-b597-f45846130ded</td>\n",
              "      <td>Feminino</td>\n",
              "      <td>37</td>\n",
              "      <td>Norte</td>\n",
              "      <td>Papelaria e Escritório</td>\n",
              "      <td>5.14</td>\n",
              "      <td>1</td>\n",
              "      <td>5.14</td>\n",
              "      <td>11</td>\n",
              "      <td>2</td>\n",
              "      <td>Ruim</td>\n",
              "    </tr>\n",
              "    <tr>\n",
              "      <th>6279</th>\n",
              "      <td>c67e996c-403c-4f58-81c5-996c1ab676a5</td>\n",
              "      <td>Masculino</td>\n",
              "      <td>34</td>\n",
              "      <td>Sul</td>\n",
              "      <td>Papelaria e Escritório</td>\n",
              "      <td>5.28</td>\n",
              "      <td>1</td>\n",
              "      <td>5.28</td>\n",
              "      <td>7</td>\n",
              "      <td>3</td>\n",
              "      <td>Regular</td>\n",
              "    </tr>\n",
              "    <tr>\n",
              "      <th>50155</th>\n",
              "      <td>e7ad75b4-6a0e-4609-801c-ef12adeb837a</td>\n",
              "      <td>Masculino</td>\n",
              "      <td>55</td>\n",
              "      <td>Sudeste</td>\n",
              "      <td>Papelaria e Escritório</td>\n",
              "      <td>5.35</td>\n",
              "      <td>1</td>\n",
              "      <td>5.35</td>\n",
              "      <td>11</td>\n",
              "      <td>5</td>\n",
              "      <td>Ótimo</td>\n",
              "    </tr>\n",
              "    <tr>\n",
              "      <th>85703</th>\n",
              "      <td>ed88c6a2-2fdd-4278-bfa8-fd54f7e2f357</td>\n",
              "      <td>Feminino</td>\n",
              "      <td>42</td>\n",
              "      <td>Centro-Oeste</td>\n",
              "      <td>Papelaria e Escritório</td>\n",
              "      <td>5.78</td>\n",
              "      <td>1</td>\n",
              "      <td>5.78</td>\n",
              "      <td>16</td>\n",
              "      <td>4</td>\n",
              "      <td>Bom</td>\n",
              "    </tr>\n",
              "    <tr>\n",
              "      <th>...</th>\n",
              "      <td>...</td>\n",
              "      <td>...</td>\n",
              "      <td>...</td>\n",
              "      <td>...</td>\n",
              "      <td>...</td>\n",
              "      <td>...</td>\n",
              "      <td>...</td>\n",
              "      <td>...</td>\n",
              "      <td>...</td>\n",
              "      <td>...</td>\n",
              "      <td>...</td>\n",
              "    </tr>\n",
              "    <tr>\n",
              "      <th>88073</th>\n",
              "      <td>5f125e88-f01c-4499-9a25-c4910bc76dee</td>\n",
              "      <td>Masculino</td>\n",
              "      <td>39</td>\n",
              "      <td>Nordeste</td>\n",
              "      <td>Eletrônicos</td>\n",
              "      <td>2037.44</td>\n",
              "      <td>10</td>\n",
              "      <td>20374.40</td>\n",
              "      <td>7</td>\n",
              "      <td>2</td>\n",
              "      <td>Ruim</td>\n",
              "    </tr>\n",
              "    <tr>\n",
              "      <th>134287</th>\n",
              "      <td>2c3853dc-b9dc-400a-bd70-ff2521fe4d8a</td>\n",
              "      <td>Feminino</td>\n",
              "      <td>35</td>\n",
              "      <td>Sul</td>\n",
              "      <td>Eletrônicos</td>\n",
              "      <td>2057.76</td>\n",
              "      <td>10</td>\n",
              "      <td>20577.60</td>\n",
              "      <td>6</td>\n",
              "      <td>2</td>\n",
              "      <td>Ruim</td>\n",
              "    </tr>\n",
              "    <tr>\n",
              "      <th>17790</th>\n",
              "      <td>dbf2429a-3252-42df-ad4e-a11339afceb8</td>\n",
              "      <td>Feminino</td>\n",
              "      <td>33</td>\n",
              "      <td>Sudeste</td>\n",
              "      <td>Eletrônicos</td>\n",
              "      <td>2058.18</td>\n",
              "      <td>10</td>\n",
              "      <td>20581.80</td>\n",
              "      <td>4</td>\n",
              "      <td>5</td>\n",
              "      <td>Ótimo</td>\n",
              "    </tr>\n",
              "    <tr>\n",
              "      <th>114561</th>\n",
              "      <td>dc3c4162-5772-480e-b7fa-0ccc41d78a40</td>\n",
              "      <td>Feminino</td>\n",
              "      <td>29</td>\n",
              "      <td>Sudeste</td>\n",
              "      <td>Eletrônicos</td>\n",
              "      <td>2058.77</td>\n",
              "      <td>10</td>\n",
              "      <td>20587.70</td>\n",
              "      <td>6</td>\n",
              "      <td>5</td>\n",
              "      <td>Ótimo</td>\n",
              "    </tr>\n",
              "    <tr>\n",
              "      <th>108742</th>\n",
              "      <td>8c971cc6-964e-468d-86f8-1e6955887bd1</td>\n",
              "      <td>Feminino</td>\n",
              "      <td>28</td>\n",
              "      <td>Sudeste</td>\n",
              "      <td>Eletrônicos</td>\n",
              "      <td>2074.47</td>\n",
              "      <td>10</td>\n",
              "      <td>20744.70</td>\n",
              "      <td>11</td>\n",
              "      <td>1</td>\n",
              "      <td>Péssimo</td>\n",
              "    </tr>\n",
              "  </tbody>\n",
              "</table>\n",
              "<p>200000 rows × 11 columns</p>\n",
              "</div>\n",
              "    <div class=\"colab-df-buttons\">\n",
              "\n",
              "  <div class=\"colab-df-container\">\n",
              "    <button class=\"colab-df-convert\" onclick=\"convertToInteractive('df-49ddaf78-90cd-48d4-bfa8-43c9c86423d3')\"\n",
              "            title=\"Convert this dataframe to an interactive table.\"\n",
              "            style=\"display:none;\">\n",
              "\n",
              "  <svg xmlns=\"http://www.w3.org/2000/svg\" height=\"24px\" viewBox=\"0 -960 960 960\">\n",
              "    <path d=\"M120-120v-720h720v720H120Zm60-500h600v-160H180v160Zm220 220h160v-160H400v160Zm0 220h160v-160H400v160ZM180-400h160v-160H180v160Zm440 0h160v-160H620v160ZM180-180h160v-160H180v160Zm440 0h160v-160H620v160Z\"/>\n",
              "  </svg>\n",
              "    </button>\n",
              "\n",
              "  <style>\n",
              "    .colab-df-container {\n",
              "      display:flex;\n",
              "      gap: 12px;\n",
              "    }\n",
              "\n",
              "    .colab-df-convert {\n",
              "      background-color: #E8F0FE;\n",
              "      border: none;\n",
              "      border-radius: 50%;\n",
              "      cursor: pointer;\n",
              "      display: none;\n",
              "      fill: #1967D2;\n",
              "      height: 32px;\n",
              "      padding: 0 0 0 0;\n",
              "      width: 32px;\n",
              "    }\n",
              "\n",
              "    .colab-df-convert:hover {\n",
              "      background-color: #E2EBFA;\n",
              "      box-shadow: 0px 1px 2px rgba(60, 64, 67, 0.3), 0px 1px 3px 1px rgba(60, 64, 67, 0.15);\n",
              "      fill: #174EA6;\n",
              "    }\n",
              "\n",
              "    .colab-df-buttons div {\n",
              "      margin-bottom: 4px;\n",
              "    }\n",
              "\n",
              "    [theme=dark] .colab-df-convert {\n",
              "      background-color: #3B4455;\n",
              "      fill: #D2E3FC;\n",
              "    }\n",
              "\n",
              "    [theme=dark] .colab-df-convert:hover {\n",
              "      background-color: #434B5C;\n",
              "      box-shadow: 0px 1px 3px 1px rgba(0, 0, 0, 0.15);\n",
              "      filter: drop-shadow(0px 1px 2px rgba(0, 0, 0, 0.3));\n",
              "      fill: #FFFFFF;\n",
              "    }\n",
              "  </style>\n",
              "\n",
              "    <script>\n",
              "      const buttonEl =\n",
              "        document.querySelector('#df-49ddaf78-90cd-48d4-bfa8-43c9c86423d3 button.colab-df-convert');\n",
              "      buttonEl.style.display =\n",
              "        google.colab.kernel.accessAllowed ? 'block' : 'none';\n",
              "\n",
              "      async function convertToInteractive(key) {\n",
              "        const element = document.querySelector('#df-49ddaf78-90cd-48d4-bfa8-43c9c86423d3');\n",
              "        const dataTable =\n",
              "          await google.colab.kernel.invokeFunction('convertToInteractive',\n",
              "                                                    [key], {});\n",
              "        if (!dataTable) return;\n",
              "\n",
              "        const docLinkHtml = 'Like what you see? Visit the ' +\n",
              "          '<a target=\"_blank\" href=https://colab.research.google.com/notebooks/data_table.ipynb>data table notebook</a>'\n",
              "          + ' to learn more about interactive tables.';\n",
              "        element.innerHTML = '';\n",
              "        dataTable['output_type'] = 'display_data';\n",
              "        await google.colab.output.renderOutput(dataTable, element);\n",
              "        const docLink = document.createElement('div');\n",
              "        docLink.innerHTML = docLinkHtml;\n",
              "        element.appendChild(docLink);\n",
              "      }\n",
              "    </script>\n",
              "  </div>\n",
              "\n",
              "\n",
              "    <div id=\"df-f5bc7dcd-d53e-40c5-a482-7d9a8879adab\">\n",
              "      <button class=\"colab-df-quickchart\" onclick=\"quickchart('df-f5bc7dcd-d53e-40c5-a482-7d9a8879adab')\"\n",
              "                title=\"Suggest charts\"\n",
              "                style=\"display:none;\">\n",
              "\n",
              "<svg xmlns=\"http://www.w3.org/2000/svg\" height=\"24px\"viewBox=\"0 0 24 24\"\n",
              "     width=\"24px\">\n",
              "    <g>\n",
              "        <path d=\"M19 3H5c-1.1 0-2 .9-2 2v14c0 1.1.9 2 2 2h14c1.1 0 2-.9 2-2V5c0-1.1-.9-2-2-2zM9 17H7v-7h2v7zm4 0h-2V7h2v10zm4 0h-2v-4h2v4z\"/>\n",
              "    </g>\n",
              "</svg>\n",
              "      </button>\n",
              "\n",
              "<style>\n",
              "  .colab-df-quickchart {\n",
              "      --bg-color: #E8F0FE;\n",
              "      --fill-color: #1967D2;\n",
              "      --hover-bg-color: #E2EBFA;\n",
              "      --hover-fill-color: #174EA6;\n",
              "      --disabled-fill-color: #AAA;\n",
              "      --disabled-bg-color: #DDD;\n",
              "  }\n",
              "\n",
              "  [theme=dark] .colab-df-quickchart {\n",
              "      --bg-color: #3B4455;\n",
              "      --fill-color: #D2E3FC;\n",
              "      --hover-bg-color: #434B5C;\n",
              "      --hover-fill-color: #FFFFFF;\n",
              "      --disabled-bg-color: #3B4455;\n",
              "      --disabled-fill-color: #666;\n",
              "  }\n",
              "\n",
              "  .colab-df-quickchart {\n",
              "    background-color: var(--bg-color);\n",
              "    border: none;\n",
              "    border-radius: 50%;\n",
              "    cursor: pointer;\n",
              "    display: none;\n",
              "    fill: var(--fill-color);\n",
              "    height: 32px;\n",
              "    padding: 0;\n",
              "    width: 32px;\n",
              "  }\n",
              "\n",
              "  .colab-df-quickchart:hover {\n",
              "    background-color: var(--hover-bg-color);\n",
              "    box-shadow: 0 1px 2px rgba(60, 64, 67, 0.3), 0 1px 3px 1px rgba(60, 64, 67, 0.15);\n",
              "    fill: var(--button-hover-fill-color);\n",
              "  }\n",
              "\n",
              "  .colab-df-quickchart-complete:disabled,\n",
              "  .colab-df-quickchart-complete:disabled:hover {\n",
              "    background-color: var(--disabled-bg-color);\n",
              "    fill: var(--disabled-fill-color);\n",
              "    box-shadow: none;\n",
              "  }\n",
              "\n",
              "  .colab-df-spinner {\n",
              "    border: 2px solid var(--fill-color);\n",
              "    border-color: transparent;\n",
              "    border-bottom-color: var(--fill-color);\n",
              "    animation:\n",
              "      spin 1s steps(1) infinite;\n",
              "  }\n",
              "\n",
              "  @keyframes spin {\n",
              "    0% {\n",
              "      border-color: transparent;\n",
              "      border-bottom-color: var(--fill-color);\n",
              "      border-left-color: var(--fill-color);\n",
              "    }\n",
              "    20% {\n",
              "      border-color: transparent;\n",
              "      border-left-color: var(--fill-color);\n",
              "      border-top-color: var(--fill-color);\n",
              "    }\n",
              "    30% {\n",
              "      border-color: transparent;\n",
              "      border-left-color: var(--fill-color);\n",
              "      border-top-color: var(--fill-color);\n",
              "      border-right-color: var(--fill-color);\n",
              "    }\n",
              "    40% {\n",
              "      border-color: transparent;\n",
              "      border-right-color: var(--fill-color);\n",
              "      border-top-color: var(--fill-color);\n",
              "    }\n",
              "    60% {\n",
              "      border-color: transparent;\n",
              "      border-right-color: var(--fill-color);\n",
              "    }\n",
              "    80% {\n",
              "      border-color: transparent;\n",
              "      border-right-color: var(--fill-color);\n",
              "      border-bottom-color: var(--fill-color);\n",
              "    }\n",
              "    90% {\n",
              "      border-color: transparent;\n",
              "      border-bottom-color: var(--fill-color);\n",
              "    }\n",
              "  }\n",
              "</style>\n",
              "\n",
              "      <script>\n",
              "        async function quickchart(key) {\n",
              "          const quickchartButtonEl =\n",
              "            document.querySelector('#' + key + ' button');\n",
              "          quickchartButtonEl.disabled = true;  // To prevent multiple clicks.\n",
              "          quickchartButtonEl.classList.add('colab-df-spinner');\n",
              "          try {\n",
              "            const charts = await google.colab.kernel.invokeFunction(\n",
              "                'suggestCharts', [key], {});\n",
              "          } catch (error) {\n",
              "            console.error('Error during call to suggestCharts:', error);\n",
              "          }\n",
              "          quickchartButtonEl.classList.remove('colab-df-spinner');\n",
              "          quickchartButtonEl.classList.add('colab-df-quickchart-complete');\n",
              "        }\n",
              "        (() => {\n",
              "          let quickchartButtonEl =\n",
              "            document.querySelector('#df-f5bc7dcd-d53e-40c5-a482-7d9a8879adab button');\n",
              "          quickchartButtonEl.style.display =\n",
              "            google.colab.kernel.accessAllowed ? 'block' : 'none';\n",
              "        })();\n",
              "      </script>\n",
              "    </div>\n",
              "\n",
              "    </div>\n",
              "  </div>\n"
            ],
            "application/vnd.google.colaboratory.intrinsic+json": {
              "type": "dataframe"
            }
          },
          "metadata": {},
          "execution_count": 28
        }
      ]
    },
    {
      "cell_type": "markdown",
      "source": [
        "Agora que já entendemos a importância de como trabalhar e analisar diferentes tipos de dados, estamos prontos(as) para responder às perguntas levantadas pelas lideranças da empresa trazendo informações relevantes para o que desejam."
      ],
      "metadata": {
        "id": "Rv8nz9vMKGvn"
      }
    },
    {
      "cell_type": "markdown",
      "source": [
        "# **2. Identificando o perfil do público**\n",
        "\n",
        "---"
      ],
      "metadata": {
        "id": "lz_rMlOtDtso"
      }
    },
    {
      "cell_type": "markdown",
      "source": [
        "Agora, vamos partir para as análises acerca do perfil do público, como requisitado pelo time de marketing e vendas da empresa varejista que estamos estudando.\n",
        "\n",
        "Para isso, vamos utilizar uma ferramenta estatística muito importante, que organiza e resume dados em grupos ou classes: a distribuição de frequência. Com ela iremos analisar de maneira mais direta e eficiente as informações dos clientes com os dados qualitativos que possuímos.\n",
        "\n",
        "Mas, antes disso, vamos interpretar as perguntas que devemos responder e como este tipo de distribuição poderá nos ajudar."
      ],
      "metadata": {
        "id": "MCK8Qk47FzQz"
      }
    },
    {
      "cell_type": "markdown",
      "source": [
        "## **2.1 Distribuindo frequências de dados qualitativos - 1 variável**\n",
        "\n",
        "---"
      ],
      "metadata": {
        "id": "zHp0nFexFz6t"
      }
    },
    {
      "cell_type": "markdown",
      "source": [
        "### <font color=\"#E23155\" face=\"Verdana\">Demanda 1: Acompanhamento das avaliações dos clientes</font>"
      ],
      "metadata": {
        "id": "GMfPrLjdF8jM"
      }
    },
    {
      "cell_type": "markdown",
      "source": [
        "A empresa quer acompanhar as **avaliações dos clientes** sobre seus produtos a fim de priorizar ações, como melhorar produtos com maior proporção de feedbacks negativos, investigar causas e explorar pontos fortes apontados pelos clientes satisfeitos. Essas avaliações variam entre:\n",
        "\n",
        "1. **Péssimo**\n",
        "2. **Ruim**\n",
        "3. **Regular**\n",
        "4. **Bom**\n",
        "5. **Ótimo**\n",
        "\n",
        "Como a **equipe de marketing e vendas** poderá investigar a percepção geral dos clientes sobre os produtos e identificar possíveis comportamentos para ajustar suas estratégias de comunicação e melhoria de produtos?"
      ],
      "metadata": {
        "id": "W77K13p0F9mz"
      }
    },
    {
      "cell_type": "markdown",
      "source": [
        "### <font color=\"#E23155\" face=\"Verdana\">Solução:</font>"
      ],
      "metadata": {
        "id": "60Ji6SohGDU-"
      }
    },
    {
      "cell_type": "markdown",
      "source": [
        "### **Distribuição de frequência**\n",
        "\n",
        "A **distribuição de frequência** é uma tabela que contêm os dados de acordo com a sua **frequência** ($f_i$ = quantidade de vezes que uma determinada variável ocorre). Ela é utilizada tanto para dados **qualitativos** quanto **quantitativos**.\n",
        "\n",
        "Cada entrada na tabela contém a contagem de ocorrências de valores dentro de um grupo ou intervalo específico, resumindo a distribuição destes valores. Por exemplo, classifica a quantidade de pessoas pelo sexo biológico, a quantidade de itens de um produto vendido, a faixa de renda de pessoas, etc.\n",
        "\n",
        "#### **Frequência absoluta ($f_i$)**\n",
        "\n",
        "É o número de vezes em que uma dada observação aparece numa variável. Para cada valor possível, você tem uma dada frequência, cuja soma seria igual a frequência total absoluta, ou melhor, o número total de registros.\n",
        "\n",
        "# $$F = \\sum_{i=1}^{n}f_i = f_1 + f_2 + ... + f_n$$\n",
        "\n",
        "&nbsp;\n",
        "\n",
        "#### **Como construir:**\n",
        "\n",
        "1.  Ordenar os valores das variáveis em ordem crescente ou decrescente;\n",
        "\n",
        "2.  Determinar a frequência de cada valor;\n",
        "\n",
        "3.  Agrupar os dados em classes ou intervalos"
      ],
      "metadata": {
        "id": "pL3InDboGD42"
      }
    },
    {
      "cell_type": "markdown",
      "source": [
        "As avaliações são armazenadas em uma variável chamada `avaliacao_indicador` dentro do banco de dados da empresa."
      ],
      "metadata": {
        "id": "eYh8sWFRJP-6"
      }
    },
    {
      "cell_type": "code",
      "source": [],
      "metadata": {
        "id": "4Dteb-mWjYjK"
      },
      "execution_count": null,
      "outputs": []
    },
    {
      "cell_type": "code",
      "source": [],
      "metadata": {
        "id": "08cp-Ig_jYfD"
      },
      "execution_count": null,
      "outputs": []
    },
    {
      "cell_type": "markdown",
      "source": [
        "#### **Frequência relativa ($f_{ri}$)**\n",
        "\n",
        "Ela é dada pela razão entre a frequência absoluta de cada classe e a frequência total ou soma das frequências absolutas:\n",
        "\n",
        "# $$f_{ri} = \\frac{f_i}{F}$$\n",
        "\n",
        "Para valores percentuais, basta multiplicar cada frequência relativa por 100."
      ],
      "metadata": {
        "id": "xPQj8G88L2Ss"
      }
    },
    {
      "cell_type": "code",
      "source": [],
      "metadata": {
        "id": "8qTzyU0LjW9H"
      },
      "execution_count": null,
      "outputs": []
    },
    {
      "cell_type": "code",
      "source": [],
      "metadata": {
        "id": "ScDP5E1sjW4W"
      },
      "execution_count": null,
      "outputs": []
    },
    {
      "cell_type": "code",
      "source": [],
      "metadata": {
        "id": "6JfIP9YcCKQA"
      },
      "execution_count": null,
      "outputs": []
    },
    {
      "cell_type": "code",
      "source": [],
      "metadata": {
        "id": "2RSwUXWajVPd"
      },
      "execution_count": null,
      "outputs": []
    },
    {
      "cell_type": "markdown",
      "source": [
        "Conseguimos perceber que de modo geral possuímos mais avaliações positivas (\"Ótimo\" e \"Bom\") que negativas (\"Péssimo\" e \"Ruim\"), porém o número de avaliações \"Péssimo\" está acima das avaliações neutras.\n",
        "\n",
        "Reportar esse comportamento pode ser importante, pois a equipe de marketing poderá investigar com mais detalhes o que levou a esse nível de avaliação negativa."
      ],
      "metadata": {
        "id": "XktCzlTwtP0J"
      }
    },
    {
      "cell_type": "markdown",
      "source": [
        "## **2.2 Distribuindo frequências de dados qualitativos - 2 variáveis**\n",
        "\n",
        "---\n"
      ],
      "metadata": {
        "id": "PG13hWS7L-k_"
      }
    },
    {
      "cell_type": "markdown",
      "source": [
        "### <font color=\"#E23155\" face=\"Verdana\">Demanda 2: Avaliações dos clientes por região</font>"
      ],
      "metadata": {
        "id": "12OWccByMAGl"
      }
    },
    {
      "cell_type": "markdown",
      "source": [
        "A equipe de marketing e vendas da empresa trouxe uma nova demanda para a análise das avaliações. Além de entender o comportamento geral das avaliações (avaliacao_indicador), agora desejam saber também como essas avaliações variam de acordo com a região do país.\n",
        "\n",
        "Com isso, gostariam de identificar como as percepções dos clientes variam regionalmente, respondendo questões como:\n",
        "\n",
        "* Qual região tem mais avaliações positivas?\n",
        "* Alguma região concentra a maior parte das avaliações negativas?\n",
        "* Existe alguma diferença relevante que indique a necessidade de ações específicas para uma região?"
      ],
      "metadata": {
        "id": "I5UEG4lYwmlv"
      }
    },
    {
      "cell_type": "markdown",
      "source": [
        "### <font color=\"#E23155\" face=\"Verdana\">Solução:</font>"
      ],
      "metadata": {
        "id": "VOyJcglDwnHl"
      }
    },
    {
      "cell_type": "markdown",
      "source": [
        "### **Tabela de contingência (distribuição de frequência bivariada)**\n",
        "\n",
        "A **tabela de contingência**, também conhecida como tabela cruzada ou tabela bidirecional, tem como objetivo representar de forma resumida a relação entre diferentes variáveis categóricas. Ela é uma espécie de **distribuição de frequência entre 2 variáveis** que analisa a relação entre as variáveis qualitativas, sejam elas dependentes ou independentes.\n",
        "\n",
        "Geralmente, ela é construída com base em dados qualitativos, os quais são divididos em grupos mutuamente exclusivos. Por exemplo: quantidade de pessoas por sexo biológico e grau de instrução.\n",
        "\n",
        "Uma das principais utilizações de uma tabela de contingência é analisar a relação entre dados que não são facilmente identificáveis."
      ],
      "metadata": {
        "id": "DG17O0LEwqXq"
      }
    },
    {
      "cell_type": "code",
      "source": [],
      "metadata": {
        "id": "Mh-WWywQjQ_O"
      },
      "execution_count": null,
      "outputs": []
    },
    {
      "cell_type": "code",
      "source": [],
      "metadata": {
        "id": "qa3ln_rxwvGg"
      },
      "execution_count": null,
      "outputs": []
    },
    {
      "cell_type": "markdown",
      "source": [
        "#### **Quais as vantagens de uma tabela de contigência**\n",
        "\n",
        "1. **Visualização das informações:** Organiza dados categóricos num formato compacto e legível, que podem ser transformadas em gráficos;\n",
        "\n",
        "2. **Análises rápidas:** correlaciona variáveis de forma rápida e visual auxiliando na tomada de decisões informadas e com agilidade;\n",
        "\n",
        "3. **Testes estatísticos:** Serve como base para realizar testes estatísticos a fim de avaliar a independência entre variáveis categóricas."
      ],
      "metadata": {
        "id": "4fxcIrt5w2cf"
      }
    },
    {
      "cell_type": "code",
      "source": [],
      "metadata": {
        "id": "hTYX1DmhjNP4"
      },
      "execution_count": null,
      "outputs": []
    },
    {
      "cell_type": "markdown",
      "source": [
        "#### ***Qual região tem mais avaliações positivas?***\n",
        "\n",
        "Considerando \"Ótimo\" e \"Bom\" as Regiões Centro-Oeste e Nordeste dividem o ranking de avaliações mais positivas com mais de 55% de satisfação com as compras"
      ],
      "metadata": {
        "id": "q_L4Hc--w-aU"
      }
    },
    {
      "cell_type": "code",
      "source": [],
      "metadata": {
        "id": "bfzcuAVWjNsH"
      },
      "execution_count": null,
      "outputs": []
    },
    {
      "cell_type": "markdown",
      "source": [
        "#### ***Alguma região concentra a maior parte das avaliações negativas?***\n",
        "\n",
        "Analisando a tabela de valores absolutos conseguimos notar que a Região Sul tem a maior porcentagem de avaliações negativas (34.3%), sendo a única com quase 20% das notas no nível de satisfação \"Péssimo\"."
      ],
      "metadata": {
        "id": "2ZBErGC-xBrT"
      }
    },
    {
      "cell_type": "code",
      "source": [],
      "metadata": {
        "id": "pWoIWukojPSc"
      },
      "execution_count": null,
      "outputs": []
    },
    {
      "cell_type": "markdown",
      "source": [
        "#### ***Existe alguma diferença relevante que indique a necessidade de ações específicas para uma região?***\n",
        "\n",
        "Sim! Como vimos anteriormente é necessário investigar a baixa avaliação na Região Sul comparada às outras regiões. Outro ponto de atenção está também nas Regiões Sudeste e Norte que concentram cada uma mais de 20% de notas \"Regular\".\n",
        "\n",
        "Seriam pontos interessantes de reportar as partes interessadas!"
      ],
      "metadata": {
        "id": "xzKZE1AuxEBG"
      }
    },
    {
      "cell_type": "markdown",
      "source": [
        "## **2.3 Cruzando os dados dos clientes**\n",
        "\n",
        "---\n"
      ],
      "metadata": {
        "id": "GNOLac1oMBot"
      }
    },
    {
      "cell_type": "markdown",
      "source": [
        "### <font color=\"#E23155\" face=\"Verdana\">Demanda 3: Perfil dos clientes</font>"
      ],
      "metadata": {
        "id": "x4GnMOdAMDaa"
      }
    },
    {
      "cell_type": "markdown",
      "source": [
        "A equipe de marketing e vendas da empresa trouxe mais uma demanda, desta vez, visando traçar o **perfil dos clientes** para melhorar suas campanhas publicitárias. Ela quer entender como o **ticket médio** varia entre o **sexo biológico** e a **região** onde a clientela reside. Com base nessa análise, será possível identificar oportunidades para segmentação de mercado e personalização de campanhas.\n",
        "\n",
        "Não existe ainda uma análise cruzada dessas informações, portanto, a equipe precisa de uma tabela ou visual que resuma o **ticket médio por sexo e região** para extrair insights sobre o comportamento de consumo."
      ],
      "metadata": {
        "id": "L-3eRgUzxb9q"
      }
    },
    {
      "cell_type": "markdown",
      "source": [
        "### <font color=\"#E23155\" face=\"Verdana\">Solução:</font>"
      ],
      "metadata": {
        "id": "2md7fHcQxeTX"
      }
    },
    {
      "cell_type": "markdown",
      "source": [
        "A gente já aprendeu a criar uma distribuição de frequência cruzando duas variáveis diferentes. Para este problema precisamos adicionar a estatística descritiva de uma variável quantitativa, no caso a média, dentro dessa nova tabela."
      ],
      "metadata": {
        "id": "Eq0sYi5DxhgF"
      }
    },
    {
      "cell_type": "code",
      "source": [],
      "metadata": {
        "id": "V_XKeYyljncX"
      },
      "execution_count": null,
      "outputs": []
    },
    {
      "cell_type": "markdown",
      "source": [
        "Temos o total de cada compra dentro do nosso dataset. Precisamos então calcular o ticket médio das pessoas por sexo e região para encontrar, por exemplo, a média de compras de uma pessoa do sexo masculino da região Sudeste ou uma pessoa do sexo feminino da região Norte. Bem interessante, não é?"
      ],
      "metadata": {
        "id": "S4XYUAUvxkHr"
      }
    },
    {
      "cell_type": "code",
      "source": [],
      "metadata": {
        "id": "VOWDn8PtjoWx"
      },
      "execution_count": null,
      "outputs": []
    },
    {
      "cell_type": "markdown",
      "source": [
        "Observando a matriz, percebemos que as pessoas de sexo biológico masculino possuem um ticket médio acima do feminino nas regiões Centro-Oeste e Nordeste, com uma diferença próxima de **R\\$150,00**. Em contrapartida, as pessoas de sexo biológico feminino gastam mais do que o masculino nas regiões Sul e Sudeste, com uma diferença por volta de **R\\$300,00** reais.\n",
        "\n",
        "A análise de ticket médio aqui nos ajudou a entender o comportamento de consumo de diferentes segmentos de clientes."
      ],
      "metadata": {
        "id": "q6C0M73FxoIR"
      }
    },
    {
      "cell_type": "markdown",
      "source": [
        "# **3. Analisando a tendência dos dados**\n",
        "\n",
        "---\n"
      ],
      "metadata": {
        "id": "V6iS-yqwDwQm"
      }
    },
    {
      "cell_type": "markdown",
      "source": [
        "## **3.1 Calculando a média de uma variável**\n",
        "\n",
        "---\n"
      ],
      "metadata": {
        "id": "Y3nmdRYXPJgZ"
      }
    },
    {
      "cell_type": "markdown",
      "source": [
        "### <font color=\"#E23155\" face=\"Verdana\">Demanda 4: Tempo de entrega por tipo de produto</font>"
      ],
      "metadata": {
        "id": "eQxC56cwPLm8"
      }
    },
    {
      "cell_type": "markdown",
      "source": [
        "A equipe de marketing e vendas está buscando formas de melhorar a experiência do cliente, e percebeu que o **tempo de entrega** é um fator crítico para aumentar a satisfação.\n",
        "\n",
        "Por exemplo, produtos de categorias diferentes, como eletrônicos e roupas, podem ter tempos de entrega distintos devido a fatores como peso, localização dos fornecedores e demanda.\n",
        "\n",
        "Por isso, precisamos calcular o **tempo médio de entrega para cada categoria de produto** com base nos dados históricos, visando fornecer estimativas mais precisas no site e permitir ajustes na logística."
      ],
      "metadata": {
        "id": "YtGCCinfPMJ_"
      }
    },
    {
      "cell_type": "markdown",
      "source": [
        "### **Medidas de Tendência Central**\n",
        "\n",
        "As **medidas de tendência central** são ferramentas estatísticas que ajudam a descrever as características dos dados resumindo-os em um único valor. Essas medidas (média, mediana e moda) são utilizadas em diversas análises e técnicas visando extrair informações dos dados.\n",
        "\n",
        "### **Média aritmética ($\\mu$)**\n",
        "\n",
        "A **média aritmética**  é uma das mais conhecidas medidas de resumo. Ela é a soma de todos os valores divididos pelo número de observações. Representa um ponto central dos dados, ou seja, um ponto de equilíbrio.\n",
        "\n",
        "\n",
        "# $$\\mu = \\frac 1n\\sum_{i=1}^{n}X_i = \\frac{X_1 + X_2 + ... + X_n}{n}$$\n",
        "\n",
        "Onde:\n",
        "\n",
        "$n$ = número de observações (registros)\n",
        "\n",
        "$X_i$ = valor da i-ésima observação (registro)"
      ],
      "metadata": {
        "id": "fqVLiEFNPOLr"
      }
    },
    {
      "cell_type": "markdown",
      "source": [
        "### <font color=\"#E23155\" face=\"Verdana\">Solução:</font>"
      ],
      "metadata": {
        "id": "zUPF3EKovM-H"
      }
    },
    {
      "cell_type": "code",
      "source": [],
      "metadata": {
        "id": "usZVyOnDjspA"
      },
      "execution_count": null,
      "outputs": []
    },
    {
      "cell_type": "code",
      "source": [],
      "metadata": {
        "id": "3psl3zMmjsi5"
      },
      "execution_count": null,
      "outputs": []
    },
    {
      "cell_type": "code",
      "source": [],
      "metadata": {
        "id": "0mJkOTp_jsdw"
      },
      "execution_count": null,
      "outputs": []
    },
    {
      "cell_type": "markdown",
      "source": [
        "#### ***A média é sempre a melhor forma de resumir os dados***\n",
        "\n",
        "A resposta é **não**! Por ser um ponto de equilíbrio, em algumas análises ela pode não ser a forma mais correta de indicar a tendência central.\n",
        "\n",
        "Isto porque ela é muito influenciada pelos extremos da distribuição. Entretanto, com outras informações aliadas à média podemos tirar boas conclusões e investigar se precisamos ou não de algum tratamento e/ou transformação do dado."
      ],
      "metadata": {
        "id": "U6m4kbzAvVFR"
      }
    },
    {
      "cell_type": "code",
      "source": [],
      "metadata": {
        "id": "kXRQXvX7jvCM"
      },
      "execution_count": null,
      "outputs": []
    },
    {
      "cell_type": "code",
      "source": [],
      "metadata": {
        "id": "b3syv8W-ju9S"
      },
      "execution_count": null,
      "outputs": []
    },
    {
      "cell_type": "code",
      "source": [],
      "metadata": {
        "id": "2Gs0aZ2ejxtC"
      },
      "execution_count": null,
      "outputs": []
    },
    {
      "cell_type": "code",
      "source": [],
      "metadata": {
        "id": "3y61GdeQjwcT"
      },
      "execution_count": null,
      "outputs": []
    },
    {
      "cell_type": "markdown",
      "source": [
        "Como a empresa não possuia informações precisas sobre como os tempos de entrega variam entre as categorias de produtos, isso dificultava a definição de estimativas para os clientes, gerando frustrações quando o tempo real de entrega não corresponde ao esperado.\n",
        "\n",
        "Aqui conseguimos apontar os gargalos e quais as categorias que precisam de atenção, seja pela dificuldade de transporte ou outros problemas."
      ],
      "metadata": {
        "id": "01oDFiZtvXkn"
      }
    },
    {
      "cell_type": "markdown",
      "source": [
        "## **3.2 Aplicando a mediana na investigação dos dados**\n",
        "\n",
        "---"
      ],
      "metadata": {
        "id": "g3zvC6ITMMWw"
      }
    },
    {
      "cell_type": "markdown",
      "source": [
        "### <font color=\"#E23155\" face=\"Verdana\">Demanda 5: Vendas de eletrônicos na região Nordeste</font>"
      ],
      "metadata": {
        "id": "vx45hn83MN-K"
      }
    },
    {
      "cell_type": "markdown",
      "source": [
        "Para nossa nova demanda, a divisão da equipe de marketing e vendas que cuida das vendas no Nordeste está buscando investigar o comportamento dos consumidores nessa área, devido ao crescimento significativo nas vendas de **Eletrônicos**. A equipe deseja entender melhor a distribuição dos valores de vendas para ajustar sua estratégia de preços e campanhas.\n",
        "\n",
        "Embora a média das vendas de eletrônicos forneça uma visão geral, ela pode ser influenciada por valores extremos, como compras muito altas ou muito baixas.\n",
        "\n",
        "Para capturar um retrato mais representativo do comportamento típico dos consumidores qual medida podemos utilizar?"
      ],
      "metadata": {
        "id": "GcRbqpbN7I28"
      }
    },
    {
      "cell_type": "markdown",
      "source": [
        "### **Mediana ($M_d$)**\n",
        "\n",
        "A **mediana** representa o valor central de um conjunto de dados, passando o número que divide um conjunto de dados exatamente ao meio. Para obtermos a mediana de uma conjunto de dados devemos proceder da seguinte maneira:\n",
        "\n",
        "1. Ordenar o conjunto de dados;\n",
        "2. Identificar o número de observações (registros) do conjunto de dados ($n$);\n",
        "3. Identificar o elemento mediano:\n",
        "\n",
        "$$ Elemento_{Md} = \\left\\{\\begin{matrix}\n",
        "\\frac{n+1}2 & ,se \\ n \\ for \\ ímpar \\\\\n",
        " &  \\\\\n",
        "\\frac{n}2 & ,se \\ n \\ for \\ par \\\\\n",
        "\\end{matrix}\\right.$$\n",
        "\n",
        "&nbsp;\n",
        "\n",
        "4. Obter a mediana:\n",
        "\n",
        "$$ M_d = \\left\\{\\begin{matrix}\n",
        "X_{Elemento_{Md}} & ,se \\ n \\ for \\ ímpar \\\\\n",
        " &  \\\\\n",
        "\\frac{X_{Elemento_{Md}} + X_{Elemento_{Md}+1}}2 & ,se \\ n \\ for \\ par \\\\\n",
        "\\end{matrix}\\right.$$\n",
        "\n",
        "&nbsp;"
      ],
      "metadata": {
        "id": "Jt3utyFQ7Kn4"
      }
    },
    {
      "cell_type": "markdown",
      "source": [
        "### <font color=\"#E23155\" face=\"Verdana\">Solução:</font>"
      ],
      "metadata": {
        "id": "WVbkrC4g7Mm5"
      }
    },
    {
      "cell_type": "markdown",
      "source": [
        "##### **Usando a fórmula**"
      ],
      "metadata": {
        "id": "nX-DvrzN7OWb"
      }
    },
    {
      "cell_type": "code",
      "source": [],
      "metadata": {
        "id": "ad8GTBgQj5nn"
      },
      "execution_count": null,
      "outputs": []
    },
    {
      "cell_type": "code",
      "source": [],
      "metadata": {
        "id": "vnIzYHr5j5h5"
      },
      "execution_count": null,
      "outputs": []
    },
    {
      "cell_type": "code",
      "source": [],
      "metadata": {
        "id": "k-m1URvNj5av"
      },
      "execution_count": null,
      "outputs": []
    },
    {
      "cell_type": "code",
      "source": [],
      "metadata": {
        "id": "LhyuApCtj5UJ"
      },
      "execution_count": null,
      "outputs": []
    },
    {
      "cell_type": "code",
      "source": [],
      "metadata": {
        "id": "6JCffF2Kj5Pg"
      },
      "execution_count": null,
      "outputs": []
    },
    {
      "cell_type": "markdown",
      "source": [
        "##### **Usando a função `median()`**"
      ],
      "metadata": {
        "id": "Y8Lb4RpO7Rlx"
      }
    },
    {
      "cell_type": "code",
      "source": [],
      "metadata": {
        "id": "BI2m6lP1j0SN"
      },
      "execution_count": null,
      "outputs": []
    },
    {
      "cell_type": "code",
      "source": [],
      "metadata": {
        "id": "JUY8KyNHj0OF"
      },
      "execution_count": null,
      "outputs": []
    },
    {
      "cell_type": "markdown",
      "source": [
        "#### ***Por que usar a mediana ao invés da média neste caso?***\n",
        "\n",
        "Porque a **média** pode ser influenciada por valores extremos, enquanto a **mediana** reflete o ponto central das vendas, oferecendo uma medida de tendência central mais adequada em casos de dados assimétricos.\n",
        "\n",
        "A mediana indica aqui que metade dos clientes gasta até, aproximadamente, R\\$ 2.990,00 em eletrônicos, enquanto a média (R$ 3.970,00) sugere que há vendas bastante altas puxando o valor médio para cima.\n",
        "\n",
        "---\n",
        "\n"
      ],
      "metadata": {
        "id": "tWyxUtqq7UYq"
      }
    },
    {
      "cell_type": "markdown",
      "source": [
        "##### **Visualizando diferença graficamente**\n",
        "\n",
        "Para visualizar essa discrepância entre os dados, vamos criar um gráfico chamado **histograma**. Ele é uma espécie de gráfico de barras que demonstra uma distribuição de frequências.\n",
        "\n",
        "No histograma, a base de cada uma das barras representa uma classe e a altura representa a quantidade ou frequência absoluta com que o valor de cada classe ocorre."
      ],
      "metadata": {
        "id": "338fE8qL7WGa"
      }
    },
    {
      "cell_type": "code",
      "source": [],
      "metadata": {
        "id": "SuOptAnsj2p9"
      },
      "execution_count": null,
      "outputs": []
    },
    {
      "cell_type": "markdown",
      "source": [
        "Como os dados de vendas de eletrônicos tiveram valores muito altos, o que elevou a média para **uma diferença de quase R$1.000,00** em relação à mediana, a mediana oferece uma métrica mais confiável para entender o comportamento típico do consumidor.\n",
        "\n",
        "Neste caso, a mediana seria o ideal para reportar ao time de vendas como valor esperado de compra das pessoas clientes da empresa na Região Nordeste para produtos eletrônicos.\n",
        "\n",
        "Essa informação pode auxiliar em estratégias de vendas como, por exemplo:\n",
        "\n",
        "1. Criar promoções em produtos na faixa da mediana para atrair mais consumidores \"típicos\".\n",
        "2. Destacar os produtos de alto valor nas campanhas de marketing para atingir clientes dispostos a gastar mais."
      ],
      "metadata": {
        "id": "6qKzxqOa7ZPd"
      }
    },
    {
      "cell_type": "markdown",
      "source": [
        "Como desafio, que tal você analisar também as medianas para os diferentes sexos biológicos?"
      ],
      "metadata": {
        "id": "Xr64dC5d7bL0"
      }
    },
    {
      "cell_type": "markdown",
      "source": [
        "## **3.3 Identificando os valores mais frequentes**\n",
        "\n",
        "---\n",
        "\n"
      ],
      "metadata": {
        "id": "I_hLmh_dMarM"
      }
    },
    {
      "cell_type": "markdown",
      "source": [
        "### <font color=\"#E23155\" face=\"Verdana\">Demanda 6: Campanha promocional de livros</font>"
      ],
      "metadata": {
        "id": "rukYid-iMcTO"
      }
    },
    {
      "cell_type": "markdown",
      "source": [
        "A equipe de marketing e vendas da empresa em que estamos prestando consultoria, está planejando uma nova campanha promocional de \"Pague X e Leve Y Livros\". Para definir a quantidade de livros a ofertar no pacote, eles decidiram basear-se na quantidade de livros mais frequentemente comprada pelos clientes. Isso permite criar uma promoção direcionada ao comportamento mais comum dos consumidores.\n",
        "\n",
        "Precisamos então identificar qual ou quais quantidades de livro são mais frequentes para a campanha, maximizando a relevância e atratividade da promoção.\n"
      ],
      "metadata": {
        "id": "90VZ90o98Jbr"
      }
    },
    {
      "cell_type": "markdown",
      "source": [
        "### **Moda ($M_o$)**\n",
        "\n",
        "A **moda** representa o valor mais frequente de um conjunto de dados. Para obtermos a moda, basta observar a frequência com que os valores aparecem no conjunto de dados.\n",
        "\n",
        "Esta medida é bastante utilizada para dados qualitativos, mas também tem aplicações em dados numéricos como em nosso exemplo."
      ],
      "metadata": {
        "id": "D8xb8DsM8LWc"
      }
    },
    {
      "cell_type": "markdown",
      "source": [
        "### <font color=\"#E23155\" face=\"Verdana\">Solução:</font>"
      ],
      "metadata": {
        "id": "ZD5pcjT_8NWD"
      }
    },
    {
      "cell_type": "code",
      "source": [],
      "metadata": {
        "id": "xf0LLRmcj8fC"
      },
      "execution_count": null,
      "outputs": []
    },
    {
      "cell_type": "markdown",
      "source": [
        "Existem $n$ formas de encontrar a moda de uma variável. Em dados qualitativos, podemos contar, por exemplo, as ocorrências e pegar a que mais se repete. Já fizemos isso por meio das distribuições de frequência para uma variável."
      ],
      "metadata": {
        "id": "xZqpx8Om8PXh"
      }
    },
    {
      "cell_type": "code",
      "source": [],
      "metadata": {
        "id": "dsiCNIj9j9ud"
      },
      "execution_count": null,
      "outputs": []
    },
    {
      "cell_type": "markdown",
      "source": [
        "#### ***Quais cuidados devemos ter com a moda?***\n",
        "\n",
        "Por ser o valor mais frequente em um conjunto de dados, em dados numéricos é possível que haja repetições e, por isso, teremos mais de 1 moda (multimodalidade).\n",
        "\n",
        "É importante decidir como lidar com esses casos para atingir o comportamento desejado.\n"
      ],
      "metadata": {
        "id": "SxQqGkOI8SlR"
      }
    },
    {
      "cell_type": "markdown",
      "source": [
        "A outra forma, utilizando dados quantitativos e/ou qualitativos é por meio também da contagem para cada ocorrência, mas filtrando os máximos ao final, para verificar se a amostra possui uma única moda ou mais."
      ],
      "metadata": {
        "id": "pMouuOxs8USS"
      }
    },
    {
      "cell_type": "code",
      "source": [],
      "metadata": {
        "id": "7v_k3ekFj_yp"
      },
      "execution_count": null,
      "outputs": []
    },
    {
      "cell_type": "code",
      "source": [],
      "metadata": {
        "id": "rP5DfIyyj_tH"
      },
      "execution_count": null,
      "outputs": []
    },
    {
      "cell_type": "markdown",
      "source": [
        "Conseguimos observar aqui que temos **2 modas** na quantidade de livros vendidos (**bimodal**) e, portanto, podemos reportar esse resultado ficando a cargo da empresa qual campanha realizar.\n",
        "\n",
        "Será que vale a pena para menos livros ou para mais livros? Ou seria melhor 2 campanhas como \"Pague 2 e Leve 3\" e \"Pague 4 e leve 6\", verificando qual converte mais clientes e gera mais vendas?"
      ],
      "metadata": {
        "id": "vlZxi5ot8WN3"
      }
    },
    {
      "cell_type": "markdown",
      "source": [
        "## **3.4 Compreendendo a relação entre média, mediana e moda**\n",
        "\n",
        "---\n"
      ],
      "metadata": {
        "id": "vaK7ctdMMjSn"
      }
    },
    {
      "cell_type": "markdown",
      "source": [
        "### <font color=\"#E23155\" face=\"Verdana\">Demanda 7: Investigando as avaliações e sua relação com o tempo de entrega</font>"
      ],
      "metadata": {
        "id": "-Nl4kK-MMk2T"
      }
    },
    {
      "cell_type": "markdown",
      "source": [
        "A equipe de marketing e vendas da empresa recebeu feedbacks de clientes sobre o tempo de entrega. Eles notaram que avaliações \"Ótima\" (nota 5) podem ter certa  relação com o tempo de entrega.\n",
        "\n",
        "A hipótese é que clientes mais satisfeitos (nota 5) tendem a ter um tempo de entrega mais curto, mas isso só pode ser confirmado analisando os dados.\n",
        "Com isso, queremos explorar:\n",
        "* As distribuições do tempo de entrega e o que as medidas de tendência central podem nos informar.\n",
        "* Se o comportamento das avaliações nota 5 realmente indica que entregas mais rápidas são mais apreciadas pelos clientes.\n"
      ],
      "metadata": {
        "id": "sf4pC1Xf8jEh"
      }
    },
    {
      "cell_type": "markdown",
      "source": [
        "### <font color=\"#E23155\" face=\"Verdana\">Solução:</font>"
      ],
      "metadata": {
        "id": "cTYBcvvP8l7g"
      }
    },
    {
      "cell_type": "markdown",
      "source": [
        "Faremos uma análise em duas etapas:\n",
        "\n",
        "1. **Distribuição do tempo de entrega:** calcularemos média, mediana e moda e visualizaremos a curva de densidade.\n",
        "2. **Distribuição para avaliações nota 5:** repetiremos o processo para o caso, comparando os resultados com a distribuição geral."
      ],
      "metadata": {
        "id": "vDbGJoQg8nXK"
      }
    },
    {
      "cell_type": "markdown",
      "source": [
        "### Relação entre média, mediana e moda:\n",
        "\n",
        "Investigar a relação entre as medidas de tendência central pode ser bastante útil para identificar se uma variável é simétrica ou assimétrica, se precisa de algum tipo de transformação ou se é uma forte candidata a ter \"outliers\".\n",
        "\n",
        "Abaixo, temos 3 tipos de comportamentos e como as estatísticas se posicionam em cada uma delas:\n",
        "\n",
        "![texto do link](https://github.com/afonsosr2/estatistica-r-frequencias-medidas/blob/main/imagens/outros/relacao_media_mediana_moda.png?raw=true)\n"
      ],
      "metadata": {
        "id": "5_Ue_sy38o-Y"
      }
    },
    {
      "cell_type": "markdown",
      "source": [
        "Vamos começar com a distribuição do tempo de entrega. Vou primeiro construir um histograma com uma curva de densidade, semelhante a um dos exemplos de cima para observar o comportamento dos tempos de entrega da empresa."
      ],
      "metadata": {
        "id": "0iw9Fy0E8qn8"
      }
    },
    {
      "cell_type": "code",
      "source": [],
      "metadata": {
        "id": "dDPVmhrxkEJA"
      },
      "execution_count": null,
      "outputs": []
    },
    {
      "cell_type": "code",
      "source": [],
      "metadata": {
        "id": "Dw3FccRTkEAc"
      },
      "execution_count": null,
      "outputs": []
    },
    {
      "cell_type": "code",
      "source": [],
      "metadata": {
        "id": "hHNi8Vx_kD8H"
      },
      "execution_count": null,
      "outputs": []
    },
    {
      "cell_type": "markdown",
      "source": [
        "A análise inicial revelou que o tempo de entrega segue uma **distribuição normal simétrica**.\n",
        "\n",
        "Precisamos agora investigar se a distribuição muda para tempos de entrega com vendas com notas de satisfação 5.\n",
        "\n",
        "Nossa hipótese é que esta distribuição sera apresentada com uma **curva assimétrica à direita**. O que pode sugerir que entregas mais rápidas podem estar relacionadas a maior satisfação do cliente."
      ],
      "metadata": {
        "id": "9Mmzq0tE8tM2"
      }
    },
    {
      "cell_type": "code",
      "source": [],
      "metadata": {
        "id": "N1_aN2SCkFQZ"
      },
      "execution_count": null,
      "outputs": []
    },
    {
      "cell_type": "code",
      "source": [],
      "metadata": {
        "id": "hgGl6dyPkFMP"
      },
      "execution_count": null,
      "outputs": []
    },
    {
      "cell_type": "code",
      "source": [],
      "metadata": {
        "id": "ydSIkKLZkGdY"
      },
      "execution_count": null,
      "outputs": []
    },
    {
      "cell_type": "markdown",
      "source": [
        "Os dados confirmam que entregas mais rápidas estão associadas a avaliações nota 5, embora algumas poucas entregas mais longas ainda recebam notas altas. Esses insights destacam a importância de **manter prazos curtos de entrega para maximizar a satisfação dos clientes**.\n",
        "\n",
        "Com essa análise, a equipe de marketing e vendas aliada à logística pode usar os resultados para:\n",
        "\n",
        "1. Otimizar rotas e processos de entrega para reduzir o tempo de entrega médio.\n",
        "2. Diferenciar campanhas promocionais com base na promessa de entregas rápidas."
      ],
      "metadata": {
        "id": "CikmzaqF8waw"
      }
    },
    {
      "cell_type": "markdown",
      "source": [
        "# **4. Investigando os dados dos colaboradores**\n",
        "\n",
        "---"
      ],
      "metadata": {
        "id": "AsBGdfK0DzLt"
      }
    },
    {
      "cell_type": "markdown",
      "source": [
        "Agora, vamos partir para análises das remunerações dos colaboradores, a pedido do setor do RH e financeiro da empresa da empresa de e-commerce.\n",
        "\n",
        "Vamos prosseguir utilizando alguns conceitos da estatística para investigar os dados que trazem informações sobre a remuneração dos colaboradores, passando pelos salários, desempenho atual. Vamos trazer alguns insights analisando criticamente, por exemplo, a equidade salarial entre cargos e gênero e respondendo a perguntas do setor do RH e financeiro da empresa.\n"
      ],
      "metadata": {
        "id": "JRNVKX1YPWLq"
      }
    },
    {
      "cell_type": "markdown",
      "source": [
        "## **4.1 Criando o histograma de salários com amplitude fixa**\n",
        "\n",
        "---\n"
      ],
      "metadata": {
        "id": "aV0q3H8GPXwc"
      }
    },
    {
      "cell_type": "markdown",
      "source": [
        "### <font color=\"#E23155\" face=\"Verdana\">Demanda 8: Iniciando as análises da remuneração dos colaboradores\n",
        "\n",
        "</font>"
      ],
      "metadata": {
        "id": "idpRhGOINH5N"
      }
    },
    {
      "cell_type": "markdown",
      "source": [
        "A equipe de RH e financeiro da empresa de e-commerce que estamos prestando consultoria quer investigar a distribuição dos salários dos colaboradores para identificar possíveis faixas salariais e verificar a concentração de colaboradores em determinados intervalos. Essas informações serão usadas para ajustar benefícios, analisar disparidades salariais e planejar estratégias de retenção de talentos.\n",
        "\n",
        "Nosso objetivo, é ler a base com os dados e criar uma distribuição de frequências com base em classes de salários utilizando os conceitos da estatística tanto para visualizar os dados em um histograma quanto para identificar as faixas salariais mais representativas."
      ],
      "metadata": {
        "id": "SrgZDsI6-qnt"
      }
    },
    {
      "cell_type": "markdown",
      "source": [
        "### <font color=\"#E23155\" face=\"Verdana\">Solução:</font>"
      ],
      "metadata": {
        "id": "AxJG2Rco-sVZ"
      }
    },
    {
      "cell_type": "markdown",
      "source": [
        "Para calcular o número de classes utilizaremos a **Regra de Sturges** para em sequência segmentar os salários em faixas e calcular a frequência absoluta e relativa de cada faixa. Por fim, construiremos um histograma para visualizar os dados."
      ],
      "metadata": {
        "id": "R05TuMtE-t7-"
      }
    },
    {
      "cell_type": "markdown",
      "source": [
        "#### **Definindo o número de classes**"
      ],
      "metadata": {
        "id": "LxHzSOTc-vfT"
      }
    },
    {
      "cell_type": "markdown",
      "source": [
        "##### **Regra de Sturges**\n",
        "\n",
        "Calcula o número de classes de uma distribuição com base no tamanho da amostra:\n",
        "\n",
        "# $$k = 1 + \\frac {10}{3}\\log_{10}n$$\n",
        "\n",
        "onde,\n",
        "\n",
        "$k$ = número de classes\n",
        "\n",
        "$n$ = número de observações.\n",
        "\n"
      ],
      "metadata": {
        "id": "DoR-Vq-_-wyr"
      }
    },
    {
      "cell_type": "code",
      "source": [
        "url = 'https://raw.githubusercontent.com/alura-cursos/Estatisticas-Python-frequencias-medidas/refs/heads/main/dados/colaboradores.csv'\n",
        "colaboradores = pd.read_csv(url)"
      ],
      "metadata": {
        "id": "olLlV3WzkOWG"
      },
      "execution_count": null,
      "outputs": []
    },
    {
      "cell_type": "code",
      "source": [],
      "metadata": {
        "id": "Zz5gS7AKkORP"
      },
      "execution_count": null,
      "outputs": []
    },
    {
      "cell_type": "code",
      "source": [],
      "metadata": {
        "id": "6cHEXnGFkNpc"
      },
      "execution_count": null,
      "outputs": []
    },
    {
      "cell_type": "code",
      "source": [],
      "metadata": {
        "id": "8AvquegokPk0"
      },
      "execution_count": null,
      "outputs": []
    },
    {
      "cell_type": "code",
      "source": [],
      "metadata": {
        "id": "wzKeKYt1kPhr"
      },
      "execution_count": null,
      "outputs": []
    },
    {
      "cell_type": "markdown",
      "source": [
        "#### **Criando a tabela de frequências**"
      ],
      "metadata": {
        "id": "OgPd_yXlEP6r"
      }
    },
    {
      "cell_type": "code",
      "source": [],
      "metadata": {
        "id": "SLJCp0iIkTSH"
      },
      "execution_count": null,
      "outputs": []
    },
    {
      "cell_type": "code",
      "source": [],
      "metadata": {
        "id": "Dcm3yCMDkULy"
      },
      "execution_count": null,
      "outputs": []
    },
    {
      "cell_type": "markdown",
      "source": [
        "A tabela de frequências mostra os intervalos de salários (faixas) e a concentração de colaboradores em cada uma.\n",
        "\n",
        "* Podemos observar que mais da metade dos colaboradores (52,5%) são remunerados dentro da 1ª faixa (de R\\$ 1.890,00 até R\\$4.080,00).\n",
        "* Proporção de Colaboradores: A coluna de porcentagem fornece insights sobre a distribuição relativa dos colaboradores, útil para comparações."
      ],
      "metadata": {
        "id": "9ASbyGcoEVAq"
      }
    },
    {
      "cell_type": "markdown",
      "source": [
        "#### **Construindo o histograma**"
      ],
      "metadata": {
        "id": "FwZr9mioEwug"
      }
    },
    {
      "cell_type": "code",
      "source": [],
      "metadata": {
        "id": "62qWQRkFkVEF"
      },
      "execution_count": null,
      "outputs": []
    },
    {
      "cell_type": "code",
      "source": [],
      "metadata": {
        "id": "7kyC7KuMkWO2"
      },
      "execution_count": null,
      "outputs": []
    },
    {
      "cell_type": "markdown",
      "source": [
        "O histograma apresenta a distribuição visual da nossa tabela de frequência. Conseguimos notar um comportamento assimétrico à direita, como esperado para salários em uma empresa.\n",
        "Notamos que a distribuição de salários está com mais de 95% das remunerações até R\\$ 10.000,00."
      ],
      "metadata": {
        "id": "c046w3VREzYl"
      }
    },
    {
      "cell_type": "markdown",
      "source": [
        "## **4.2 Avaliando os salários pelas medidas separatrizes**\n",
        "\n",
        "---\n",
        "\n"
      ],
      "metadata": {
        "id": "dRX8627hNI49"
      }
    },
    {
      "cell_type": "markdown",
      "source": [
        "### <font color=\"#E23155\" face=\"Verdana\">Demanda 9: Análise de remuneração dos colaboradores</font>"
      ],
      "metadata": {
        "id": "64g_fCdINK8E"
      }
    },
    {
      "cell_type": "markdown",
      "source": [
        "Agora, a equipe de RH e financeiro da empresa quer entender melhor a distribuição dos salários dos colaboradores dentro de faixas específicas. Há um interesse em identificar faixas salariais e entender se a remuneração das pessoas coordenadoras estão dentro dos 99% maiores salários.\n",
        "\n",
        "Como calcular e interpretar esses dados para gerar insights úteis ao RH e ao financeiro? Além disso, como comunicar essas análises de forma clara para orientar decisões estratégicas?"
      ],
      "metadata": {
        "id": "RbShP8iiHDem"
      }
    },
    {
      "cell_type": "markdown",
      "source": [
        "### **Quartis, decis e percentis**\n",
        "\n",
        "São medidas de posição semelhantes à mediana, embora não sejam medidas de tendência central. Como se sabe, a mediana divide a distribuição em duas partes iguais quanto ao número de elementos de cada parte. Para essas 3 medidas temos:\n",
        "\n",
        "* **Quartis:** Dividem os dados em 4 partes iguais de acordo com o número de registros, sendo bastante importante para identificar faixas.\n",
        "\n",
        "* **Decis:** Dividem os dados em 10 partes iguais.\n",
        "\n",
        "* **Percentis:** Dividem os dados em 100 partes iguais, que ajuda em análises mais granulares, como os 5% ou 1% maiores valores.\n",
        "\n"
      ],
      "metadata": {
        "id": "ORygy6BmHIt6"
      }
    },
    {
      "cell_type": "markdown",
      "source": [
        "### <font color=\"#E23155\" face=\"Verdana\">Solução:</font>"
      ],
      "metadata": {
        "id": "Q7vNVvtaHKm-"
      }
    },
    {
      "cell_type": "markdown",
      "source": [
        "Para os salários, utilizaremos os quartis para observar as faixas salariais e o percentil acima de 99% para identificar se as pessoas coordenadoras estão entre os salários mais altos."
      ],
      "metadata": {
        "id": "CdTHJ72dHMEt"
      }
    },
    {
      "cell_type": "markdown",
      "source": [
        "#### **Calculando os quartis**"
      ],
      "metadata": {
        "id": "UhWvsw8GHOBv"
      }
    },
    {
      "cell_type": "code",
      "source": [],
      "metadata": {
        "id": "jfBvlGIYki3y"
      },
      "execution_count": null,
      "outputs": []
    },
    {
      "cell_type": "markdown",
      "source": [
        "#### **Visualizando os quartis em um Histograma**"
      ],
      "metadata": {
        "id": "aspdJ0sWHRN4"
      }
    },
    {
      "cell_type": "code",
      "source": [],
      "metadata": {
        "id": "mIrPX9shkkUs"
      },
      "execution_count": null,
      "outputs": []
    },
    {
      "cell_type": "markdown",
      "source": [
        "Com os quartis conseguimos dividir as faixas salariais em partes iguais. Aqui conseguimos observar que por conta dos altos salários dos cargos mais gerenciais da empresa, temos uma **distribuição mais assimétrica** da remuneração.\n",
        "\n",
        "O que é um comportamento esperado para salário: muitos recebem um valor base e poucos com altos salários."
      ],
      "metadata": {
        "id": "ydNDN2O1HTxe"
      }
    },
    {
      "cell_type": "markdown",
      "source": [
        "#### **Analisando os salários das pessoas coordenadoras**"
      ],
      "metadata": {
        "id": "K_OSOG2nHU28"
      }
    },
    {
      "cell_type": "markdown",
      "source": [
        "Vamos prosseguir nossa investigação verificando se as pessoas coordenadoras (3º em hierarquia na nossa base) estão entre os 1% com maiores salários."
      ],
      "metadata": {
        "id": "ge5YnXvaHW6E"
      }
    },
    {
      "cell_type": "code",
      "source": [],
      "metadata": {
        "id": "1ttK35IsknRA"
      },
      "execution_count": null,
      "outputs": []
    },
    {
      "cell_type": "code",
      "source": [],
      "metadata": {
        "id": "lARNg46_knLZ"
      },
      "execution_count": null,
      "outputs": []
    },
    {
      "cell_type": "code",
      "source": [],
      "metadata": {
        "id": "J1opdEq9knGJ"
      },
      "execution_count": null,
      "outputs": []
    },
    {
      "cell_type": "markdown",
      "source": [
        "Com isso, conseguimos comprovar que as pessoas coordenadoras estão entre os 1% que recebem maiores salários dentro da empresa. Podemos repassar essa informação para o RH e financeiro da empresa para averiguar se está dentro das políticas salariais. E, se possível, analisando mais perfis, eles poderão definir políticas de remuneração mais transparentes e alinhadas ao mercado."
      ],
      "metadata": {
        "id": "fkLSMGyWHbbi"
      }
    },
    {
      "cell_type": "markdown",
      "source": [
        "## **4.3 Classificando dados pelas medidas separatrizes**\n",
        "\n",
        "---"
      ],
      "metadata": {
        "id": "kmqN1SR1NMmh"
      }
    },
    {
      "cell_type": "markdown",
      "source": [
        "### <font color=\"#E23155\" face=\"Verdana\">Demanda 10: Pesquisa de colaboradores mais jovens</font>"
      ],
      "metadata": {
        "id": "5h5AeufUNScL"
      }
    },
    {
      "cell_type": "markdown",
      "source": [
        "Nesta nova demanda, a equipe de RH da empresa quer realizar uma pesquisa em torno das idades dos colaboradores. Isto porque a empresa deseja identificar o grupo mais jovem (**20% mais novos**) para implementar um programa de aceleração profissional com cursos e treinamentos voltados ao desenvolvimento de jovens talentos.\n",
        "\n",
        "Como calcular e interpretar esses dados para repassar ao RH?"
      ],
      "metadata": {
        "id": "1v1JMABGNI7m"
      }
    },
    {
      "cell_type": "markdown",
      "source": [
        "### <font color=\"#E23155\" face=\"Verdana\">Solução - Analisando as idades:</font>"
      ],
      "metadata": {
        "id": "us4698S6NLHE"
      }
    },
    {
      "cell_type": "markdown",
      "source": [
        "Para as idades, visualizaremos a distribuição, classificaremos as idades percentualmente, e determinaremos o ponto de corte para o grupo de 20% mais jovens, que poderão ser contemplados com o programa de aceleração profissional.\n"
      ],
      "metadata": {
        "id": "26rnBsVYNMjr"
      }
    },
    {
      "cell_type": "markdown",
      "source": [
        "#### **Visualizando a faixa etária desejada**"
      ],
      "metadata": {
        "id": "zxKGGxb3NPCu"
      }
    },
    {
      "cell_type": "code",
      "source": [],
      "metadata": {
        "id": "vwGEMwbekqEn"
      },
      "execution_count": null,
      "outputs": []
    },
    {
      "cell_type": "markdown",
      "source": [
        "#### **Classificando os colaboradores e identificando público**"
      ],
      "metadata": {
        "id": "hh7iH1O6NRdK"
      }
    },
    {
      "cell_type": "code",
      "source": [],
      "metadata": {
        "id": "1MKu8F5Akrj9"
      },
      "execution_count": null,
      "outputs": []
    },
    {
      "cell_type": "code",
      "source": [],
      "metadata": {
        "id": "uUW3osdbks56"
      },
      "execution_count": null,
      "outputs": []
    },
    {
      "cell_type": "code",
      "source": [],
      "metadata": {
        "id": "EgKoTOQfktnO"
      },
      "execution_count": null,
      "outputs": []
    },
    {
      "cell_type": "markdown",
      "source": [
        "Com base na análise, identificamos que há **2.218 pessoas** qualificadas para o programa, representando os **20% mais jovens do total de colaboradores**. Esse grupo pode ser o alvo ideal para o programa de aceleração profissional, já que engloba aqueles que estão no início de suas carreiras.\n",
        "\n",
        "Agora, podemos reportar ao RH a lista de funcionários dentro da qualificação desejada, o que ajudará no planejamento do programa para jovens talentos, fortalecendo a cultura organizacional e promovendo o desenvolvimento profissional."
      ],
      "metadata": {
        "id": "5z0cbX1LNUZF"
      }
    },
    {
      "cell_type": "markdown",
      "source": [
        "## **4.4 Construindo um boxplot para visualização das distribuições**\n",
        "\n",
        "---\n",
        "\n"
      ],
      "metadata": {
        "id": "AvHVpbyxNPyf"
      }
    },
    {
      "cell_type": "markdown",
      "source": [
        "### <font color=\"#E23155\" face=\"Verdana\">Demanda 11: Análise de remuneração dos colaboradores pelo sexo</font>"
      ],
      "metadata": {
        "id": "SFjXkMJXNVZD"
      }
    },
    {
      "cell_type": "markdown",
      "source": [
        "A equipe de RH e financeiro da empresa requisitou uma nova análise das distribuições salariais. Ela tem interesse em investigar as diferenças salariais entre os sexos biológicos masculino e feminino, buscando informações para reforçar a importância de garantir a equidade salarial.\n",
        "\n",
        "Os dados salariais não são fáceis de interpretar em tabelas ou gráficos convencionais. É necessário um visual que permita identificar algumas medidas de tendência central , faixas de salário e até possíveis outliers, além de comparar visualmente as distribuições entre diferentes grupos.\n",
        "\n",
        "Com isso, o RH também pode direcionar ações voltadas à igualdade salarial."
      ],
      "metadata": {
        "id": "Y92NzX12RY3H"
      }
    },
    {
      "cell_type": "markdown",
      "source": [
        "### **Boxplot**\n",
        "\n",
        "![texto do link](https://github.com/afonsosr2/estatistica-r-frequencias-medidas/blob/main/imagens/outros/boxplot.png?raw=true)\n",
        "\n",
        "O **boxplot** é uma representação visual que mostra a distribuição de dados quantitativos, facilitando comparações entre variáveis ou categorias.\n",
        "\n",
        "Os elementos principais de um boxplot são:\n",
        "\n",
        "* **Caixa:** Representa o intervalo\n",
        "interquartil (IIQ), que vai do primeiro quartil (Q1 - 25% dos dados) ao terceiro quartil (Q3 - 75% dos dados).\n",
        "\n",
        "* **Linha mediana:** Onde está posicionado a mediana (Q2), valor que separa 50% dos dados.\n",
        "\n",
        "* **Whiskers (\"bigodes\"):** Extensões que mostram a variabilidade fora do intervalo interquartil, geralmente até 1,5 vezes o IIQ a partir dos quartis.\n",
        "\n",
        "* **Outliers:** Pontos individuais que estão fora do alcance dos *whiskers*, indicados separadamente.\n",
        "\n",
        "Essa visualização ajuda a identificar a centralidade, dispersão e possíveis outliers em um conjunto de dados.\n",
        "\n"
      ],
      "metadata": {
        "id": "OOaRrsWiRax-"
      }
    },
    {
      "cell_type": "markdown",
      "source": [
        "### <font color=\"#E23155\" face=\"Verdana\">Solução:</font>"
      ],
      "metadata": {
        "id": "7G3SNz1eRc8_"
      }
    },
    {
      "cell_type": "markdown",
      "source": [
        "Vamos construir e interpretar boxplots para visualizar a distribuição das variáveis. Analisaremos diferenças salariais entre os sexos e discutiremos possíveis ações para promover equidade."
      ],
      "metadata": {
        "id": "l1O0RAJ4ReXV"
      }
    },
    {
      "cell_type": "code",
      "source": [],
      "metadata": {
        "id": "q-U_hTfckwn2"
      },
      "execution_count": null,
      "outputs": []
    },
    {
      "cell_type": "markdown",
      "source": [
        "Para sabermos os valores de cada elemento do boxplot, podemos utilizar as funções quando estudamos os quartis das remunerações ou chamar a função `describe()` que resume nossos dados com as principais estatísticas descritivas."
      ],
      "metadata": {
        "id": "UysvckB5RgaE"
      }
    },
    {
      "cell_type": "code",
      "source": [],
      "metadata": {
        "id": "71XhI_Uxkxj-"
      },
      "execution_count": null,
      "outputs": []
    },
    {
      "cell_type": "markdown",
      "source": [
        "Agora, vamos partir para o foco da nossa análise que é a comparação entre os sexos biológicos:"
      ],
      "metadata": {
        "id": "8kLovmQCRi3k"
      }
    },
    {
      "cell_type": "code",
      "source": [],
      "metadata": {
        "id": "Wd_fUO_Dky0M"
      },
      "execution_count": null,
      "outputs": []
    },
    {
      "cell_type": "markdown",
      "source": [
        "Aplicando a análise visual, conseguimos notar que aparentemente as pessoas do sexo masculino possuem uma distribuição salarial maior que a do sexo feminino, mas com os candidatos à outliers que temos ainda não fica tão clara essa diferença.\n",
        "\n",
        "> **Obs:** Outliers indicam indivíduos com salários significativamente maiores ou menores.\n",
        "\n",
        "Como estudamos anteriormente, mais de 95% das remunerações chegam até R$ 10.000,00. Podemos usar esse fator para filtrar os dados e observar com mais facilidade essa diferença salarial."
      ],
      "metadata": {
        "id": "04NFPVJoRlBz"
      }
    },
    {
      "cell_type": "code",
      "source": [],
      "metadata": {
        "id": "yvHPC92fk0qO"
      },
      "execution_count": null,
      "outputs": []
    },
    {
      "cell_type": "code",
      "source": [],
      "metadata": {
        "id": "LVd3GkD1k0ib"
      },
      "execution_count": null,
      "outputs": []
    },
    {
      "cell_type": "markdown",
      "source": [
        "Notamos aqui que **a mediana dos salários para pessoas do sexo feminino é menor** que a das pessoas com sexo masculino, sendo o primeiro abaixo **R$ 4.000,00** e o segundo acima desse valor.\n",
        "\n",
        "Para reforçar a análise, vamos calcular as estatísticas descritivas para cada grupo."
      ],
      "metadata": {
        "id": "1LPh0o7yRoID"
      }
    },
    {
      "cell_type": "code",
      "source": [],
      "metadata": {
        "id": "REpuXbHEk4mr"
      },
      "execution_count": null,
      "outputs": []
    },
    {
      "cell_type": "markdown",
      "source": [
        "Podemos reportar os resultados para o RH da empresa que deve investigar as causas, especialmente ao considerar cargos similares. Com isso, será possível que a equipe realize ações que busquem revisar políticas salariais para garantir igualdade e realizar análises adicionais considerando fatores como cargo, experiência e desempenho."
      ],
      "metadata": {
        "id": "P3roaiKARpNV"
      }
    },
    {
      "cell_type": "markdown",
      "source": [
        "# **5. Analisando as variações dos dados**\n",
        "\n",
        "---"
      ],
      "metadata": {
        "id": "sVgnDXWKD11k"
      }
    },
    {
      "cell_type": "markdown",
      "source": [
        "## **5.1 Calculando o desvio médio absoluto**\n",
        "\n",
        "---\n"
      ],
      "metadata": {
        "id": "MdhnhGk2M3sT"
      }
    },
    {
      "cell_type": "markdown",
      "source": [
        "### <font color=\"#E23155\" face=\"Verdana\">Demanda 12: Analisando diferenças salariais - Parte 1</font>"
      ],
      "metadata": {
        "id": "-6NYHNLaM7tl"
      }
    },
    {
      "cell_type": "markdown",
      "source": [
        "A equipe de RH e financeiro da empresa de e-commerce recebeu alguns feedbacks sobre uma possível falta de padrão entre os salários dos cargos de **Inteligência comercial** e **Consultor(a) de vendas**.\n",
        "\n",
        "Com que aprendemos até o momento, apenas as medidas de tendência central (média e mediana) não são suficientes para avaliar a uniformidade dos salários. É necessário um indicador de dispersão que mostre como os salários se distribuem em relação à média, revelando inconsistências.\n",
        "\n",
        "O objetivo é investigar as faixas salariais desses cargos.\n",
        "\n",
        "\n",
        "\n"
      ],
      "metadata": {
        "id": "c7cujIPQWKXw"
      }
    },
    {
      "cell_type": "markdown",
      "source": [
        "#### **Medidas de dispersão**\n",
        "As **medidas de dispersão** são utilizadas para indicar o grau da variação dos valores de uma variável quantitativa em relação à sua média.\n",
        "\n",
        "Embora as medidas de tendência central e de posição forneçam uma sumarização bastante importante dos dados, elas podem não ser suficientes para caracterizar conjuntos distintos, especialmente quando as observações de determinada distribuição apresentarem dados muito dispersos.\n",
        "\n",
        "#### **Desvio médio absoluto (MAD)**\n",
        "O **Desvio Médio Absoluto (MAD)** é uma medida para avaliar a dispersão dos dados que representa a média das diferenças absolutas entre cada valor e a média dos dados.\n",
        "\n",
        "# $$MAD = \\frac 1n\\sum_{i=1}^{n}|X_i-\\bar{X}|$$\n",
        "\n",
        "Onde:\n",
        "\n",
        "$n$ = número de observações\n",
        "\n",
        "$X_i$ = valores da i-ésima variável\n",
        "\n",
        "$\\bar{X}$ = a média da distribuição\n"
      ],
      "metadata": {
        "id": "S3zyeqHfWL-U"
      }
    },
    {
      "cell_type": "markdown",
      "source": [
        "### <font color=\"#E23155\" face=\"Verdana\">Solução:</font>"
      ],
      "metadata": {
        "id": "FkYIsKmtWN1B"
      }
    },
    {
      "cell_type": "markdown",
      "source": [
        "#### **Ler as estatísticas descritivas das remunerações**"
      ],
      "metadata": {
        "id": "Vwh3c12-WPdS"
      }
    },
    {
      "cell_type": "markdown",
      "source": [
        "Vamos começar lendo os valores de tendência central dos salários dos cargos de Inteligência comercial e Consultor(a) de vendas"
      ],
      "metadata": {
        "id": "9cajizo0WQp2"
      }
    },
    {
      "cell_type": "code",
      "source": [],
      "metadata": {
        "id": "s3SCV3bck-dy"
      },
      "execution_count": null,
      "outputs": []
    },
    {
      "cell_type": "code",
      "source": [],
      "metadata": {
        "id": "X8w0irBEk-ZE"
      },
      "execution_count": null,
      "outputs": []
    },
    {
      "cell_type": "markdown",
      "source": [
        "Conseguimos notar que as médias e medianas estão bem próximas, então parece tudo ok, certo?\n",
        "\n",
        "**Não!** As medidas de tendência central servem para trazer um valor que generaliza nosso dado, mas que não representa a dispersão entre eles. Neste caso precisamos utilizar as medidas de dispersão para ter uma noção."
      ],
      "metadata": {
        "id": "Ex3cXDZBWSzh"
      }
    },
    {
      "cell_type": "markdown",
      "source": [
        "#### **Observando as variações das remunerações**"
      ],
      "metadata": {
        "id": "7oTGKpJgWUml"
      }
    },
    {
      "cell_type": "code",
      "source": [],
      "metadata": {
        "id": "ZjUypqt9lANZ"
      },
      "execution_count": null,
      "outputs": []
    },
    {
      "cell_type": "code",
      "source": [],
      "metadata": {
        "id": "2D6Z76f6lAJs"
      },
      "execution_count": null,
      "outputs": []
    },
    {
      "cell_type": "code",
      "source": [],
      "metadata": {
        "id": "xyfMDdHDlAGI"
      },
      "execution_count": null,
      "outputs": []
    },
    {
      "cell_type": "code",
      "source": [],
      "metadata": {
        "id": "UeWhdQlolBsQ"
      },
      "execution_count": null,
      "outputs": []
    },
    {
      "cell_type": "markdown",
      "source": [
        "Como dito anteriormente a média e mediana estão próximas entre os dois cargos. E o desvio médio absoluto é ligeiramente maior para as pessoas consultoras,  indicando maior dispersão se comparada com as pessoas da Inteligência comercial. Podemos visualizar graficamente essa variação entre elas."
      ],
      "metadata": {
        "id": "lteF-YqbWXLG"
      }
    },
    {
      "cell_type": "markdown",
      "source": [
        "#### **Visualizando graficamente**"
      ],
      "metadata": {
        "id": "hq2AbvhmWYxz"
      }
    },
    {
      "cell_type": "code",
      "source": [],
      "metadata": {
        "id": "-kzdzYLSlB_W"
      },
      "execution_count": null,
      "outputs": []
    },
    {
      "cell_type": "markdown",
      "source": [
        "Conseguimos observar os comportamentos dos salários entre os profissionais de inteligência comercial e consultoria de vendas e percebemos que ambos têm média e mediana salariais muito próximas, com uma variação ligeiramente superior do cargo de inteligência comercial, que foi comprovado tanto pelo MAD quanto observando o intervalo interquartil (IIQ).\n",
        "\n",
        "A equipe de RH pode usar esses dados para:\n",
        "\n",
        "* Investigar os critérios de definição salarial para ambos, visto que o esperado era ter o mesmo nível salarial.\n",
        "* Estabelecer políticas salariais mais padronizadas para cargos equivalentes ou ser mais transparente na definição salarial dentro da empresa."
      ],
      "metadata": {
        "id": "H0-5GPh9WcfK"
      }
    },
    {
      "cell_type": "markdown",
      "source": [
        "## **5.2 Calculando a variância e desvio padrão**\n",
        "\n",
        "---\n"
      ],
      "metadata": {
        "id": "loZM7qj6NBmp"
      }
    },
    {
      "cell_type": "markdown",
      "source": [
        "### <font color=\"#E23155\" face=\"Verdana\">Demanda 12: Analisando diferenças salariais - Parte 2</font>"
      ],
      "metadata": {
        "id": "xOulTBD4M9qR"
      }
    },
    {
      "cell_type": "markdown",
      "source": [
        "A equipe de RH e financeiro da empresa de e-commerce também recebeu alguns feedbacks sobre uma possível falta de padrão entre os salários de dois cargos operacionais, Estoquista e Repositor(a), que representam o maior volume de funcionários da empresa.\n",
        "\n",
        "O objetivo é investigar também as faixas salariais desses cargos, determinar qual deles apresenta maior inconsistência e identificar padrões que possam sugerir desigualdades ou problemas de política salarial."
      ],
      "metadata": {
        "id": "i6pXglhGXri8"
      }
    },
    {
      "cell_type": "markdown",
      "source": [
        "#### **Variância ($\\sigma^2$ ou $S^2$)**\n",
        "A **variância** é uma medida de dispersão que mostra o quão distante cada valor de uma variável quantitativa está da média da sua distribuição.\n",
        "\n",
        "Ela é construída a partir das diferenças entre cada observação e a média dos dados, ou seja, o desvio em torno da média. No cálculo da variância, os desvios em torno da média são elevados ao quadrado.\n",
        "\n",
        "##### **Variância populacional**\n",
        "\n",
        "# $$\\sigma^2 = \\frac 1n\\sum_{i=1}^{n}(X_i-\\mu)^2$$\n",
        "\n",
        "##### **Variância amostral**\n",
        "\n",
        "# $$S^2 = \\frac 1{n-1}\\sum_{i=1}^{n}(X_i-\\bar{X})^2$$\n",
        "\n",
        "Onde:\n",
        "\n",
        "$n$ = número de observações\n",
        "\n",
        "$X_i$ = valores da i-ésima variável\n",
        "\n",
        "$\\mu$ e $\\bar{X}$ = média da população e amostra da distribuição, respectivamente\n"
      ],
      "metadata": {
        "id": "E9uQVq0qXs0k"
      }
    },
    {
      "cell_type": "markdown",
      "source": [
        "### <font color=\"#E23155\" face=\"Verdana\">Solução:</font>"
      ],
      "metadata": {
        "id": "U2EUBdPqXu5R"
      }
    },
    {
      "cell_type": "markdown",
      "source": [
        "#### **Ler as estatísticas descritivas das remunerações**"
      ],
      "metadata": {
        "id": "fHOFgkdUXvPn"
      }
    },
    {
      "cell_type": "markdown",
      "source": [
        "Vamos começar lendo os valores de tendência central dos salários dos cargos de Estoquista e Repositor(a)"
      ],
      "metadata": {
        "id": "TQZKhCdgXw80"
      }
    },
    {
      "cell_type": "code",
      "source": [],
      "metadata": {
        "id": "Ydl8ggIulD_c"
      },
      "execution_count": null,
      "outputs": []
    },
    {
      "cell_type": "code",
      "source": [],
      "metadata": {
        "id": "BShyfCPslD7b"
      },
      "execution_count": null,
      "outputs": []
    },
    {
      "cell_type": "code",
      "source": [],
      "metadata": {
        "id": "2ZrHCPIJlD3V"
      },
      "execution_count": null,
      "outputs": []
    },
    {
      "cell_type": "markdown",
      "source": [
        "Conseguimos notar que novamente as médias e medianas estão bem próximas. Precisamos utilizar as medidas de dispersão para ter uma noção se realmente temos uma diferença relevantes entre os salários dos dois cargos."
      ],
      "metadata": {
        "id": "EYfK8WYSX4MX"
      }
    },
    {
      "cell_type": "code",
      "source": [],
      "metadata": {
        "id": "jvpZlNJClGYY"
      },
      "execution_count": null,
      "outputs": []
    },
    {
      "cell_type": "markdown",
      "source": [
        "Números bem altos não é mesmo? O que isso significa?\n",
        "\n",
        "Como variância fornece os valores das medidas ao quadrado, representar o nosso resultado dessa forma dificultaria a comparação da dispersão com as variáveis que a definem.\n",
        "\n",
        "Um modo de eliminar essa dificuldade é utilizando o **desvio padrão**"
      ],
      "metadata": {
        "id": "1_QAnMIkX7sy"
      }
    },
    {
      "cell_type": "markdown",
      "source": [
        "#### **Desvio padrão ($\\sigma$ ou $S$)**\n",
        "\n",
        "O desvio padrão é uma medida de dispersão que indica o grau de dispersão de um conjunto de dados. É expresso pela raiz quadrada da variância populacional ou amostral.\n",
        "\n",
        "Além de expressar a variabilidade da população, o desvio padrão pode ser utilizado para medir a confiança (nível de acerto esperado de uma estimativa) e geralmente permite sintetizar os resultados de amostras.\n",
        "\n",
        "\n",
        "##### **Desvio padão populacional**\n",
        "\n",
        "# $$\\sigma = \\sqrt{\\frac 1n\\sum_{i=1}^{n}(X_i-\\mu)^2} \\Longrightarrow \\sigma = \\sqrt{\\sigma^2}$$\n",
        "\n",
        "##### **Desvio padrão amostral**\n",
        "\n",
        "# $$S = \\sqrt{\\frac 1{n-1}\\sum_{i=1}^{n}(X_i-\\bar{X})^2} \\Longrightarrow S = \\sqrt{S^2}$$\n",
        "\n",
        "Onde:\n",
        "\n",
        "$n$ = número de observações\n",
        "\n",
        "$X_i$ = valores da i-ésima variável\n",
        "\n",
        "$\\mu$ e $\\bar{X}$ = média da população e amostra da distribuição, respectivamente\n"
      ],
      "metadata": {
        "id": "5vXAbjBIX9Hd"
      }
    },
    {
      "cell_type": "code",
      "source": [],
      "metadata": {
        "id": "D98Pw3BYlHX5"
      },
      "execution_count": null,
      "outputs": []
    },
    {
      "cell_type": "markdown",
      "source": [
        "O que podemos constatar aqui:\n",
        "1. **Média e Mediana:** Ambos os cargos têm valores próximos, indicando simetria na centralidade.\n",
        "\n",
        "2. **Variância e Desvio Padrão:** O cargo de Estoquista tem maior variância e desvio padrão, revelando maior dispersão nos salários.\n",
        "\n",
        "3. **MAD vs. Desvio Padrão:** Em ambos os casos o MAD é menor em relação ao desvio padrão, indicando que a dispersão está sendo influenciada por valores extremos."
      ],
      "metadata": {
        "id": "OqPkblj4YUSC"
      }
    },
    {
      "cell_type": "markdown",
      "source": [
        "\n",
        "#### **Visualizando graficamente**"
      ],
      "metadata": {
        "id": "5sfLCyqyYWCI"
      }
    },
    {
      "cell_type": "code",
      "source": [],
      "metadata": {
        "id": "Cjl-HJxHlIUh"
      },
      "execution_count": null,
      "outputs": []
    },
    {
      "cell_type": "markdown",
      "source": [
        "Conseguimos observar os comportamentos dos salários entre os profissionais estoquistas e repositores e percebemos que ambos têm média e mediana salariais muito próximas, entretando notamos uma dispersão considerável entre os salários dos colaboradores, que foi comprovado tanto pelo desvio padrão e MAD quanto observando o intervalo interquartil (IIQ) no gráfico de violino.\n",
        "\n",
        "Consideração para o RH:\n",
        "\n",
        "* As métricas indicam que o cargo de Estoquista possui maior variabilidade salarial.\n",
        "* O RH deve investigar se essa inconsistência reflete discrepâncias injustas ou se há justificativas baseadas em mérito ou experiência.\n",
        "\n",
        "Como sugestão:\n",
        "* Ajuste das políticas para reduzir a inconsistência salarial, promovendo equidade.\n",
        "* Compartilhamento de mais informações para análise de outras métricas para maior robustez na análise."
      ],
      "metadata": {
        "id": "7-oIOXAlYYNk"
      }
    }
  ]
}