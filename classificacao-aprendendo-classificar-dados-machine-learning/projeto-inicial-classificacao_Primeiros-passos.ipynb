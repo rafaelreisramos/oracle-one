{
  "nbformat": 4,
  "nbformat_minor": 0,
  "metadata": {
    "colab": {
      "provenance": [],
      "toc_visible": true
    },
    "kernelspec": {
      "name": "python3",
      "display_name": "Python 3"
    },
    "language_info": {
      "name": "python"
    }
  },
  "cells": [
    {
      "cell_type": "markdown",
      "source": [
        "# Classificação: Primeiros passos"
      ],
      "metadata": {
        "id": "MJ3tSbLsBPhe"
      }
    },
    {
      "cell_type": "markdown",
      "source": [
        "Neste projeto, iremos analisar dados de uma campanha de marketing para aderência de investimentos. O intuito é usar as informações dos dados para prever se os clientes de um banco vão aplicar o dinheiro em um investimento ou não.\n",
        "\n",
        "Essa previsão será feita utilizando machine learning e este notebook vai conter os passos para se obter um modelo capaz de realizar as previsões, desde a **leitura**, **análise exploratória**, **separação** e **transformação** dos dados, até o **ajuste**, **avaliação** e **comparação** de modelos de classificação."
      ],
      "metadata": {
        "id": "CYC5vst2FcaG"
      }
    },
    {
      "cell_type": "markdown",
      "source": [
        "# Análise exploratória"
      ],
      "metadata": {
        "id": "dr9I9xCXoICN"
      }
    },
    {
      "cell_type": "markdown",
      "source": [
        "## Fazendo a leitura dos dados"
      ],
      "metadata": {
        "id": "fwuPpdZOBTUn"
      }
    },
    {
      "cell_type": "markdown",
      "source": [
        "Podemos realizar a leitura dos dados a partir da biblioteca `pandas`. Por conta disso, vamos realizar a importação da biblioteca com o comando `import pandas as pd`.\n",
        "\n",
        "Como o arquivo de dados está no formato *csv*, vamos realizar a leitura com a função [`read_csv()`](https://pandas.pydata.org/docs/reference/api/pandas.read_csv.html)."
      ],
      "metadata": {
        "id": "YzOu8ojHPemt"
      }
    },
    {
      "cell_type": "code",
      "execution_count": 1,
      "metadata": {
        "id": "nPrDJYBKZbKW"
      },
      "outputs": [],
      "source": [
        "import pandas as pd"
      ]
    },
    {
      "cell_type": "code",
      "source": [
        "dados = pd.read_csv('https://raw.githubusercontent.com/rafaelreisramos/oracle-one/refs/heads/main/classificacao-aprendendo-classificar-dados-machine-learning/dados/marketing_investimento.csv')"
      ],
      "metadata": {
        "id": "9h4YUPxyZuLf"
      },
      "execution_count": 2,
      "outputs": []
    },
    {
      "cell_type": "code",
      "source": [
        "dados"
      ],
      "metadata": {
        "id": "4uQHVCGlZxkL",
        "outputId": "c72b477f-c611-4cb0-bfd5-f61515a533e4",
        "colab": {
          "base_uri": "https://localhost:8080/",
          "height": 424
        }
      },
      "execution_count": 3,
      "outputs": [
        {
          "output_type": "execute_result",
          "data": {
            "text/plain": [
              "      idade    estado_civil escolaridade inadimplencia  saldo fez_emprestimo  \\\n",
              "0        45      casado (a)     superior           nao    242            nao   \n",
              "1        42      casado (a)        medio           nao   1289            nao   \n",
              "2        23    solteiro (a)     superior           nao    363            nao   \n",
              "3        58  divorciado (a)     superior           nao   1382            nao   \n",
              "4        50      casado (a)        medio           nao   3357            nao   \n",
              "...     ...             ...          ...           ...    ...            ...   \n",
              "1263     52    solteiro (a)     superior           nao     83            nao   \n",
              "1264     35    solteiro (a)     superior           nao   5958            nao   \n",
              "1265     30    solteiro (a)     superior           nao   -477            sim   \n",
              "1266     42      casado (a)     superior           nao   2187            nao   \n",
              "1267     29    solteiro (a)     superior           nao     19            nao   \n",
              "\n",
              "      tempo_ult_contato  numero_contatos aderencia_investimento  \n",
              "0                   587                1                    sim  \n",
              "1                   250                4                    sim  \n",
              "2                    16               18                    nao  \n",
              "3                   700                1                    sim  \n",
              "4                   239                4                    sim  \n",
              "...                 ...              ...                    ...  \n",
              "1263               1223                6                    sim  \n",
              "1264                215                1                    sim  \n",
              "1265               1532                2                    sim  \n",
              "1266                525                3                    sim  \n",
              "1267                110                2                    sim  \n",
              "\n",
              "[1268 rows x 9 columns]"
            ],
            "text/html": [
              "\n",
              "  <div id=\"df-4d917d83-9d07-4110-bd81-dca2b6dc5b63\" class=\"colab-df-container\">\n",
              "    <div>\n",
              "<style scoped>\n",
              "    .dataframe tbody tr th:only-of-type {\n",
              "        vertical-align: middle;\n",
              "    }\n",
              "\n",
              "    .dataframe tbody tr th {\n",
              "        vertical-align: top;\n",
              "    }\n",
              "\n",
              "    .dataframe thead th {\n",
              "        text-align: right;\n",
              "    }\n",
              "</style>\n",
              "<table border=\"1\" class=\"dataframe\">\n",
              "  <thead>\n",
              "    <tr style=\"text-align: right;\">\n",
              "      <th></th>\n",
              "      <th>idade</th>\n",
              "      <th>estado_civil</th>\n",
              "      <th>escolaridade</th>\n",
              "      <th>inadimplencia</th>\n",
              "      <th>saldo</th>\n",
              "      <th>fez_emprestimo</th>\n",
              "      <th>tempo_ult_contato</th>\n",
              "      <th>numero_contatos</th>\n",
              "      <th>aderencia_investimento</th>\n",
              "    </tr>\n",
              "  </thead>\n",
              "  <tbody>\n",
              "    <tr>\n",
              "      <th>0</th>\n",
              "      <td>45</td>\n",
              "      <td>casado (a)</td>\n",
              "      <td>superior</td>\n",
              "      <td>nao</td>\n",
              "      <td>242</td>\n",
              "      <td>nao</td>\n",
              "      <td>587</td>\n",
              "      <td>1</td>\n",
              "      <td>sim</td>\n",
              "    </tr>\n",
              "    <tr>\n",
              "      <th>1</th>\n",
              "      <td>42</td>\n",
              "      <td>casado (a)</td>\n",
              "      <td>medio</td>\n",
              "      <td>nao</td>\n",
              "      <td>1289</td>\n",
              "      <td>nao</td>\n",
              "      <td>250</td>\n",
              "      <td>4</td>\n",
              "      <td>sim</td>\n",
              "    </tr>\n",
              "    <tr>\n",
              "      <th>2</th>\n",
              "      <td>23</td>\n",
              "      <td>solteiro (a)</td>\n",
              "      <td>superior</td>\n",
              "      <td>nao</td>\n",
              "      <td>363</td>\n",
              "      <td>nao</td>\n",
              "      <td>16</td>\n",
              "      <td>18</td>\n",
              "      <td>nao</td>\n",
              "    </tr>\n",
              "    <tr>\n",
              "      <th>3</th>\n",
              "      <td>58</td>\n",
              "      <td>divorciado (a)</td>\n",
              "      <td>superior</td>\n",
              "      <td>nao</td>\n",
              "      <td>1382</td>\n",
              "      <td>nao</td>\n",
              "      <td>700</td>\n",
              "      <td>1</td>\n",
              "      <td>sim</td>\n",
              "    </tr>\n",
              "    <tr>\n",
              "      <th>4</th>\n",
              "      <td>50</td>\n",
              "      <td>casado (a)</td>\n",
              "      <td>medio</td>\n",
              "      <td>nao</td>\n",
              "      <td>3357</td>\n",
              "      <td>nao</td>\n",
              "      <td>239</td>\n",
              "      <td>4</td>\n",
              "      <td>sim</td>\n",
              "    </tr>\n",
              "    <tr>\n",
              "      <th>...</th>\n",
              "      <td>...</td>\n",
              "      <td>...</td>\n",
              "      <td>...</td>\n",
              "      <td>...</td>\n",
              "      <td>...</td>\n",
              "      <td>...</td>\n",
              "      <td>...</td>\n",
              "      <td>...</td>\n",
              "      <td>...</td>\n",
              "    </tr>\n",
              "    <tr>\n",
              "      <th>1263</th>\n",
              "      <td>52</td>\n",
              "      <td>solteiro (a)</td>\n",
              "      <td>superior</td>\n",
              "      <td>nao</td>\n",
              "      <td>83</td>\n",
              "      <td>nao</td>\n",
              "      <td>1223</td>\n",
              "      <td>6</td>\n",
              "      <td>sim</td>\n",
              "    </tr>\n",
              "    <tr>\n",
              "      <th>1264</th>\n",
              "      <td>35</td>\n",
              "      <td>solteiro (a)</td>\n",
              "      <td>superior</td>\n",
              "      <td>nao</td>\n",
              "      <td>5958</td>\n",
              "      <td>nao</td>\n",
              "      <td>215</td>\n",
              "      <td>1</td>\n",
              "      <td>sim</td>\n",
              "    </tr>\n",
              "    <tr>\n",
              "      <th>1265</th>\n",
              "      <td>30</td>\n",
              "      <td>solteiro (a)</td>\n",
              "      <td>superior</td>\n",
              "      <td>nao</td>\n",
              "      <td>-477</td>\n",
              "      <td>sim</td>\n",
              "      <td>1532</td>\n",
              "      <td>2</td>\n",
              "      <td>sim</td>\n",
              "    </tr>\n",
              "    <tr>\n",
              "      <th>1266</th>\n",
              "      <td>42</td>\n",
              "      <td>casado (a)</td>\n",
              "      <td>superior</td>\n",
              "      <td>nao</td>\n",
              "      <td>2187</td>\n",
              "      <td>nao</td>\n",
              "      <td>525</td>\n",
              "      <td>3</td>\n",
              "      <td>sim</td>\n",
              "    </tr>\n",
              "    <tr>\n",
              "      <th>1267</th>\n",
              "      <td>29</td>\n",
              "      <td>solteiro (a)</td>\n",
              "      <td>superior</td>\n",
              "      <td>nao</td>\n",
              "      <td>19</td>\n",
              "      <td>nao</td>\n",
              "      <td>110</td>\n",
              "      <td>2</td>\n",
              "      <td>sim</td>\n",
              "    </tr>\n",
              "  </tbody>\n",
              "</table>\n",
              "<p>1268 rows × 9 columns</p>\n",
              "</div>\n",
              "    <div class=\"colab-df-buttons\">\n",
              "\n",
              "  <div class=\"colab-df-container\">\n",
              "    <button class=\"colab-df-convert\" onclick=\"convertToInteractive('df-4d917d83-9d07-4110-bd81-dca2b6dc5b63')\"\n",
              "            title=\"Convert this dataframe to an interactive table.\"\n",
              "            style=\"display:none;\">\n",
              "\n",
              "  <svg xmlns=\"http://www.w3.org/2000/svg\" height=\"24px\" viewBox=\"0 -960 960 960\">\n",
              "    <path d=\"M120-120v-720h720v720H120Zm60-500h600v-160H180v160Zm220 220h160v-160H400v160Zm0 220h160v-160H400v160ZM180-400h160v-160H180v160Zm440 0h160v-160H620v160ZM180-180h160v-160H180v160Zm440 0h160v-160H620v160Z\"/>\n",
              "  </svg>\n",
              "    </button>\n",
              "\n",
              "  <style>\n",
              "    .colab-df-container {\n",
              "      display:flex;\n",
              "      gap: 12px;\n",
              "    }\n",
              "\n",
              "    .colab-df-convert {\n",
              "      background-color: #E8F0FE;\n",
              "      border: none;\n",
              "      border-radius: 50%;\n",
              "      cursor: pointer;\n",
              "      display: none;\n",
              "      fill: #1967D2;\n",
              "      height: 32px;\n",
              "      padding: 0 0 0 0;\n",
              "      width: 32px;\n",
              "    }\n",
              "\n",
              "    .colab-df-convert:hover {\n",
              "      background-color: #E2EBFA;\n",
              "      box-shadow: 0px 1px 2px rgba(60, 64, 67, 0.3), 0px 1px 3px 1px rgba(60, 64, 67, 0.15);\n",
              "      fill: #174EA6;\n",
              "    }\n",
              "\n",
              "    .colab-df-buttons div {\n",
              "      margin-bottom: 4px;\n",
              "    }\n",
              "\n",
              "    [theme=dark] .colab-df-convert {\n",
              "      background-color: #3B4455;\n",
              "      fill: #D2E3FC;\n",
              "    }\n",
              "\n",
              "    [theme=dark] .colab-df-convert:hover {\n",
              "      background-color: #434B5C;\n",
              "      box-shadow: 0px 1px 3px 1px rgba(0, 0, 0, 0.15);\n",
              "      filter: drop-shadow(0px 1px 2px rgba(0, 0, 0, 0.3));\n",
              "      fill: #FFFFFF;\n",
              "    }\n",
              "  </style>\n",
              "\n",
              "    <script>\n",
              "      const buttonEl =\n",
              "        document.querySelector('#df-4d917d83-9d07-4110-bd81-dca2b6dc5b63 button.colab-df-convert');\n",
              "      buttonEl.style.display =\n",
              "        google.colab.kernel.accessAllowed ? 'block' : 'none';\n",
              "\n",
              "      async function convertToInteractive(key) {\n",
              "        const element = document.querySelector('#df-4d917d83-9d07-4110-bd81-dca2b6dc5b63');\n",
              "        const dataTable =\n",
              "          await google.colab.kernel.invokeFunction('convertToInteractive',\n",
              "                                                    [key], {});\n",
              "        if (!dataTable) return;\n",
              "\n",
              "        const docLinkHtml = 'Like what you see? Visit the ' +\n",
              "          '<a target=\"_blank\" href=https://colab.research.google.com/notebooks/data_table.ipynb>data table notebook</a>'\n",
              "          + ' to learn more about interactive tables.';\n",
              "        element.innerHTML = '';\n",
              "        dataTable['output_type'] = 'display_data';\n",
              "        await google.colab.output.renderOutput(dataTable, element);\n",
              "        const docLink = document.createElement('div');\n",
              "        docLink.innerHTML = docLinkHtml;\n",
              "        element.appendChild(docLink);\n",
              "      }\n",
              "    </script>\n",
              "  </div>\n",
              "\n",
              "\n",
              "    <div id=\"df-c080894c-afd2-4bad-9c4f-5c13a6ad8758\">\n",
              "      <button class=\"colab-df-quickchart\" onclick=\"quickchart('df-c080894c-afd2-4bad-9c4f-5c13a6ad8758')\"\n",
              "                title=\"Suggest charts\"\n",
              "                style=\"display:none;\">\n",
              "\n",
              "<svg xmlns=\"http://www.w3.org/2000/svg\" height=\"24px\"viewBox=\"0 0 24 24\"\n",
              "     width=\"24px\">\n",
              "    <g>\n",
              "        <path d=\"M19 3H5c-1.1 0-2 .9-2 2v14c0 1.1.9 2 2 2h14c1.1 0 2-.9 2-2V5c0-1.1-.9-2-2-2zM9 17H7v-7h2v7zm4 0h-2V7h2v10zm4 0h-2v-4h2v4z\"/>\n",
              "    </g>\n",
              "</svg>\n",
              "      </button>\n",
              "\n",
              "<style>\n",
              "  .colab-df-quickchart {\n",
              "      --bg-color: #E8F0FE;\n",
              "      --fill-color: #1967D2;\n",
              "      --hover-bg-color: #E2EBFA;\n",
              "      --hover-fill-color: #174EA6;\n",
              "      --disabled-fill-color: #AAA;\n",
              "      --disabled-bg-color: #DDD;\n",
              "  }\n",
              "\n",
              "  [theme=dark] .colab-df-quickchart {\n",
              "      --bg-color: #3B4455;\n",
              "      --fill-color: #D2E3FC;\n",
              "      --hover-bg-color: #434B5C;\n",
              "      --hover-fill-color: #FFFFFF;\n",
              "      --disabled-bg-color: #3B4455;\n",
              "      --disabled-fill-color: #666;\n",
              "  }\n",
              "\n",
              "  .colab-df-quickchart {\n",
              "    background-color: var(--bg-color);\n",
              "    border: none;\n",
              "    border-radius: 50%;\n",
              "    cursor: pointer;\n",
              "    display: none;\n",
              "    fill: var(--fill-color);\n",
              "    height: 32px;\n",
              "    padding: 0;\n",
              "    width: 32px;\n",
              "  }\n",
              "\n",
              "  .colab-df-quickchart:hover {\n",
              "    background-color: var(--hover-bg-color);\n",
              "    box-shadow: 0 1px 2px rgba(60, 64, 67, 0.3), 0 1px 3px 1px rgba(60, 64, 67, 0.15);\n",
              "    fill: var(--button-hover-fill-color);\n",
              "  }\n",
              "\n",
              "  .colab-df-quickchart-complete:disabled,\n",
              "  .colab-df-quickchart-complete:disabled:hover {\n",
              "    background-color: var(--disabled-bg-color);\n",
              "    fill: var(--disabled-fill-color);\n",
              "    box-shadow: none;\n",
              "  }\n",
              "\n",
              "  .colab-df-spinner {\n",
              "    border: 2px solid var(--fill-color);\n",
              "    border-color: transparent;\n",
              "    border-bottom-color: var(--fill-color);\n",
              "    animation:\n",
              "      spin 1s steps(1) infinite;\n",
              "  }\n",
              "\n",
              "  @keyframes spin {\n",
              "    0% {\n",
              "      border-color: transparent;\n",
              "      border-bottom-color: var(--fill-color);\n",
              "      border-left-color: var(--fill-color);\n",
              "    }\n",
              "    20% {\n",
              "      border-color: transparent;\n",
              "      border-left-color: var(--fill-color);\n",
              "      border-top-color: var(--fill-color);\n",
              "    }\n",
              "    30% {\n",
              "      border-color: transparent;\n",
              "      border-left-color: var(--fill-color);\n",
              "      border-top-color: var(--fill-color);\n",
              "      border-right-color: var(--fill-color);\n",
              "    }\n",
              "    40% {\n",
              "      border-color: transparent;\n",
              "      border-right-color: var(--fill-color);\n",
              "      border-top-color: var(--fill-color);\n",
              "    }\n",
              "    60% {\n",
              "      border-color: transparent;\n",
              "      border-right-color: var(--fill-color);\n",
              "    }\n",
              "    80% {\n",
              "      border-color: transparent;\n",
              "      border-right-color: var(--fill-color);\n",
              "      border-bottom-color: var(--fill-color);\n",
              "    }\n",
              "    90% {\n",
              "      border-color: transparent;\n",
              "      border-bottom-color: var(--fill-color);\n",
              "    }\n",
              "  }\n",
              "</style>\n",
              "\n",
              "      <script>\n",
              "        async function quickchart(key) {\n",
              "          const quickchartButtonEl =\n",
              "            document.querySelector('#' + key + ' button');\n",
              "          quickchartButtonEl.disabled = true;  // To prevent multiple clicks.\n",
              "          quickchartButtonEl.classList.add('colab-df-spinner');\n",
              "          try {\n",
              "            const charts = await google.colab.kernel.invokeFunction(\n",
              "                'suggestCharts', [key], {});\n",
              "          } catch (error) {\n",
              "            console.error('Error during call to suggestCharts:', error);\n",
              "          }\n",
              "          quickchartButtonEl.classList.remove('colab-df-spinner');\n",
              "          quickchartButtonEl.classList.add('colab-df-quickchart-complete');\n",
              "        }\n",
              "        (() => {\n",
              "          let quickchartButtonEl =\n",
              "            document.querySelector('#df-c080894c-afd2-4bad-9c4f-5c13a6ad8758 button');\n",
              "          quickchartButtonEl.style.display =\n",
              "            google.colab.kernel.accessAllowed ? 'block' : 'none';\n",
              "        })();\n",
              "      </script>\n",
              "    </div>\n",
              "\n",
              "  <div id=\"id_94b4af01-c8f2-4011-a11e-9bf7b6cdfae8\">\n",
              "    <style>\n",
              "      .colab-df-generate {\n",
              "        background-color: #E8F0FE;\n",
              "        border: none;\n",
              "        border-radius: 50%;\n",
              "        cursor: pointer;\n",
              "        display: none;\n",
              "        fill: #1967D2;\n",
              "        height: 32px;\n",
              "        padding: 0 0 0 0;\n",
              "        width: 32px;\n",
              "      }\n",
              "\n",
              "      .colab-df-generate:hover {\n",
              "        background-color: #E2EBFA;\n",
              "        box-shadow: 0px 1px 2px rgba(60, 64, 67, 0.3), 0px 1px 3px 1px rgba(60, 64, 67, 0.15);\n",
              "        fill: #174EA6;\n",
              "      }\n",
              "\n",
              "      [theme=dark] .colab-df-generate {\n",
              "        background-color: #3B4455;\n",
              "        fill: #D2E3FC;\n",
              "      }\n",
              "\n",
              "      [theme=dark] .colab-df-generate:hover {\n",
              "        background-color: #434B5C;\n",
              "        box-shadow: 0px 1px 3px 1px rgba(0, 0, 0, 0.15);\n",
              "        filter: drop-shadow(0px 1px 2px rgba(0, 0, 0, 0.3));\n",
              "        fill: #FFFFFF;\n",
              "      }\n",
              "    </style>\n",
              "    <button class=\"colab-df-generate\" onclick=\"generateWithVariable('dados')\"\n",
              "            title=\"Generate code using this dataframe.\"\n",
              "            style=\"display:none;\">\n",
              "\n",
              "  <svg xmlns=\"http://www.w3.org/2000/svg\" height=\"24px\"viewBox=\"0 0 24 24\"\n",
              "       width=\"24px\">\n",
              "    <path d=\"M7,19H8.4L18.45,9,17,7.55,7,17.6ZM5,21V16.75L18.45,3.32a2,2,0,0,1,2.83,0l1.4,1.43a1.91,1.91,0,0,1,.58,1.4,1.91,1.91,0,0,1-.58,1.4L9.25,21ZM18.45,9,17,7.55Zm-12,3A5.31,5.31,0,0,0,4.9,8.1,5.31,5.31,0,0,0,1,6.5,5.31,5.31,0,0,0,4.9,4.9,5.31,5.31,0,0,0,6.5,1,5.31,5.31,0,0,0,8.1,4.9,5.31,5.31,0,0,0,12,6.5,5.46,5.46,0,0,0,6.5,12Z\"/>\n",
              "  </svg>\n",
              "    </button>\n",
              "    <script>\n",
              "      (() => {\n",
              "      const buttonEl =\n",
              "        document.querySelector('#id_94b4af01-c8f2-4011-a11e-9bf7b6cdfae8 button.colab-df-generate');\n",
              "      buttonEl.style.display =\n",
              "        google.colab.kernel.accessAllowed ? 'block' : 'none';\n",
              "\n",
              "      buttonEl.onclick = () => {\n",
              "        google.colab.notebook.generateWithVariable('dados');\n",
              "      }\n",
              "      })();\n",
              "    </script>\n",
              "  </div>\n",
              "\n",
              "    </div>\n",
              "  </div>\n"
            ],
            "application/vnd.google.colaboratory.intrinsic+json": {
              "type": "dataframe",
              "variable_name": "dados",
              "summary": "{\n  \"name\": \"dados\",\n  \"rows\": 1268,\n  \"fields\": [\n    {\n      \"column\": \"idade\",\n      \"properties\": {\n        \"dtype\": \"number\",\n        \"std\": 11,\n        \"min\": 19,\n        \"max\": 87,\n        \"num_unique_values\": 64,\n        \"samples\": [\n          70,\n          77,\n          45\n        ],\n        \"semantic_type\": \"\",\n        \"description\": \"\"\n      }\n    },\n    {\n      \"column\": \"estado_civil\",\n      \"properties\": {\n        \"dtype\": \"category\",\n        \"num_unique_values\": 3,\n        \"samples\": [\n          \"casado (a)\",\n          \"solteiro (a)\",\n          \"divorciado (a)\"\n        ],\n        \"semantic_type\": \"\",\n        \"description\": \"\"\n      }\n    },\n    {\n      \"column\": \"escolaridade\",\n      \"properties\": {\n        \"dtype\": \"category\",\n        \"num_unique_values\": 3,\n        \"samples\": [\n          \"superior\",\n          \"medio\",\n          \"fundamental\"\n        ],\n        \"semantic_type\": \"\",\n        \"description\": \"\"\n      }\n    },\n    {\n      \"column\": \"inadimplencia\",\n      \"properties\": {\n        \"dtype\": \"category\",\n        \"num_unique_values\": 2,\n        \"samples\": [\n          \"sim\",\n          \"nao\"\n        ],\n        \"semantic_type\": \"\",\n        \"description\": \"\"\n      }\n    },\n    {\n      \"column\": \"saldo\",\n      \"properties\": {\n        \"dtype\": \"number\",\n        \"std\": 2690,\n        \"min\": -1206,\n        \"max\": 27069,\n        \"num_unique_values\": 946,\n        \"samples\": [\n          1148,\n          -247\n        ],\n        \"semantic_type\": \"\",\n        \"description\": \"\"\n      }\n    },\n    {\n      \"column\": \"fez_emprestimo\",\n      \"properties\": {\n        \"dtype\": \"category\",\n        \"num_unique_values\": 2,\n        \"samples\": [\n          \"sim\",\n          \"nao\"\n        ],\n        \"semantic_type\": \"\",\n        \"description\": \"\"\n      }\n    },\n    {\n      \"column\": \"tempo_ult_contato\",\n      \"properties\": {\n        \"dtype\": \"number\",\n        \"std\": 347,\n        \"min\": 5,\n        \"max\": 3025,\n        \"num_unique_values\": 646,\n        \"samples\": [\n          1006,\n          1060\n        ],\n        \"semantic_type\": \"\",\n        \"description\": \"\"\n      }\n    },\n    {\n      \"column\": \"numero_contatos\",\n      \"properties\": {\n        \"dtype\": \"number\",\n        \"std\": 2,\n        \"min\": 1,\n        \"max\": 32,\n        \"num_unique_values\": 21,\n        \"samples\": [\n          1,\n          24\n        ],\n        \"semantic_type\": \"\",\n        \"description\": \"\"\n      }\n    },\n    {\n      \"column\": \"aderencia_investimento\",\n      \"properties\": {\n        \"dtype\": \"category\",\n        \"num_unique_values\": 2,\n        \"samples\": [\n          \"nao\",\n          \"sim\"\n        ],\n        \"semantic_type\": \"\",\n        \"description\": \"\"\n      }\n    }\n  ]\n}"
            }
          },
          "metadata": {},
          "execution_count": 3
        }
      ]
    },
    {
      "cell_type": "markdown",
      "source": [
        "Para criar modelos de classificação, precisamos utilizar dados de qualidade, sem inconsistências e sem dados faltantes. Vamos checar se existem dados nulos e o tipo dos dados de cada coluna na base de dados a partir do método [`info()`](https://pandas.pydata.org/docs/reference/api/pandas.DataFrame.info.html)."
      ],
      "metadata": {
        "id": "y5VuhIoQQC51"
      }
    },
    {
      "cell_type": "code",
      "source": [
        "dados.info()"
      ],
      "metadata": {
        "id": "p1ylujcUmSGW",
        "outputId": "8e0f8c40-faef-4b00-c295-e71a90d2e3f7",
        "colab": {
          "base_uri": "https://localhost:8080/"
        }
      },
      "execution_count": 4,
      "outputs": [
        {
          "output_type": "stream",
          "name": "stdout",
          "text": [
            "<class 'pandas.core.frame.DataFrame'>\n",
            "RangeIndex: 1268 entries, 0 to 1267\n",
            "Data columns (total 9 columns):\n",
            " #   Column                  Non-Null Count  Dtype \n",
            "---  ------                  --------------  ----- \n",
            " 0   idade                   1268 non-null   int64 \n",
            " 1   estado_civil            1268 non-null   object\n",
            " 2   escolaridade            1268 non-null   object\n",
            " 3   inadimplencia           1268 non-null   object\n",
            " 4   saldo                   1268 non-null   int64 \n",
            " 5   fez_emprestimo          1268 non-null   object\n",
            " 6   tempo_ult_contato       1268 non-null   int64 \n",
            " 7   numero_contatos         1268 non-null   int64 \n",
            " 8   aderencia_investimento  1268 non-null   object\n",
            "dtypes: int64(4), object(5)\n",
            "memory usage: 89.3+ KB\n"
          ]
        }
      ]
    },
    {
      "cell_type": "code",
      "source": [
        "import plotly.express as px"
      ],
      "metadata": {
        "id": "GmwZBh5TxKww"
      },
      "execution_count": 5,
      "outputs": []
    },
    {
      "cell_type": "code",
      "source": [
        "px.histogram(dados, x = 'aderencia_investimento', text_auto = True)"
      ],
      "metadata": {
        "id": "oTwoQzxUxMZN",
        "outputId": "801f7b19-51c9-4faf-eb4f-98629f2ff90b",
        "colab": {
          "base_uri": "https://localhost:8080/",
          "height": 542
        }
      },
      "execution_count": 6,
      "outputs": [
        {
          "output_type": "display_data",
          "data": {
            "text/html": [
              "<html>\n",
              "<head><meta charset=\"utf-8\" /></head>\n",
              "<body>\n",
              "    <div>            <script src=\"https://cdnjs.cloudflare.com/ajax/libs/mathjax/2.7.5/MathJax.js?config=TeX-AMS-MML_SVG\"></script><script type=\"text/javascript\">if (window.MathJax && window.MathJax.Hub && window.MathJax.Hub.Config) {window.MathJax.Hub.Config({SVG: {font: \"STIX-Web\"}});}</script>                <script type=\"text/javascript\">window.PlotlyConfig = {MathJaxConfig: 'local'};</script>\n",
              "        <script charset=\"utf-8\" src=\"https://cdn.plot.ly/plotly-2.35.2.min.js\"></script>                <div id=\"a2c86fb1-2dfb-40be-ad9e-4742730758ed\" class=\"plotly-graph-div\" style=\"height:525px; width:100%;\"></div>            <script type=\"text/javascript\">                                    window.PLOTLYENV=window.PLOTLYENV || {};                                    if (document.getElementById(\"a2c86fb1-2dfb-40be-ad9e-4742730758ed\")) {                    Plotly.newPlot(                        \"a2c86fb1-2dfb-40be-ad9e-4742730758ed\",                        [{\"alignmentgroup\":\"True\",\"bingroup\":\"x\",\"hovertemplate\":\"aderencia_investimento=%{x}\\u003cbr\\u003ecount=%{y}\\u003cextra\\u003e\\u003c\\u002fextra\\u003e\",\"legendgroup\":\"\",\"marker\":{\"color\":\"#636efa\",\"pattern\":{\"shape\":\"\"}},\"name\":\"\",\"offsetgroup\":\"\",\"orientation\":\"v\",\"showlegend\":false,\"texttemplate\":\"%{value}\",\"x\":[\"sim\",\"sim\",\"nao\",\"sim\",\"sim\",\"sim\",\"nao\",\"nao\",\"nao\",\"nao\",\"sim\",\"nao\",\"sim\",\"nao\",\"nao\",\"sim\",\"nao\",\"nao\",\"nao\",\"sim\",\"nao\",\"nao\",\"nao\",\"sim\",\"nao\",\"sim\",\"nao\",\"sim\",\"sim\",\"sim\",\"sim\",\"nao\",\"nao\",\"nao\",\"nao\",\"nao\",\"nao\",\"nao\",\"nao\",\"sim\",\"nao\",\"nao\",\"nao\",\"nao\",\"nao\",\"nao\",\"sim\",\"nao\",\"sim\",\"nao\",\"sim\",\"nao\",\"nao\",\"sim\",\"sim\",\"sim\",\"nao\",\"sim\",\"nao\",\"nao\",\"nao\",\"nao\",\"nao\",\"nao\",\"nao\",\"nao\",\"nao\",\"nao\",\"nao\",\"sim\",\"nao\",\"nao\",\"nao\",\"nao\",\"sim\",\"nao\",\"sim\",\"sim\",\"nao\",\"nao\",\"sim\",\"sim\",\"nao\",\"nao\",\"nao\",\"nao\",\"sim\",\"sim\",\"sim\",\"sim\",\"sim\",\"nao\",\"sim\",\"sim\",\"sim\",\"nao\",\"nao\",\"nao\",\"nao\",\"nao\",\"nao\",\"sim\",\"sim\",\"nao\",\"sim\",\"sim\",\"nao\",\"nao\",\"sim\",\"nao\",\"nao\",\"nao\",\"nao\",\"sim\",\"nao\",\"sim\",\"nao\",\"nao\",\"nao\",\"sim\",\"sim\",\"nao\",\"nao\",\"sim\",\"sim\",\"nao\",\"nao\",\"sim\",\"nao\",\"sim\",\"nao\",\"sim\",\"sim\",\"nao\",\"nao\",\"nao\",\"sim\",\"sim\",\"nao\",\"sim\",\"sim\",\"sim\",\"sim\",\"sim\",\"nao\",\"sim\",\"sim\",\"sim\",\"sim\",\"sim\",\"nao\",\"nao\",\"nao\",\"nao\",\"nao\",\"sim\",\"nao\",\"nao\",\"nao\",\"nao\",\"nao\",\"nao\",\"nao\",\"sim\",\"nao\",\"nao\",\"nao\",\"sim\",\"sim\",\"sim\",\"nao\",\"nao\",\"nao\",\"nao\",\"nao\",\"sim\",\"sim\",\"nao\",\"nao\",\"sim\",\"nao\",\"sim\",\"nao\",\"sim\",\"sim\",\"nao\",\"nao\",\"sim\",\"sim\",\"nao\",\"nao\",\"sim\",\"sim\",\"nao\",\"nao\",\"nao\",\"nao\",\"sim\",\"nao\",\"nao\",\"sim\",\"sim\",\"nao\",\"nao\",\"nao\",\"sim\",\"sim\",\"nao\",\"sim\",\"nao\",\"sim\",\"nao\",\"sim\",\"nao\",\"nao\",\"nao\",\"sim\",\"nao\",\"nao\",\"sim\",\"nao\",\"sim\",\"sim\",\"nao\",\"nao\",\"nao\",\"sim\",\"sim\",\"sim\",\"nao\",\"nao\",\"nao\",\"nao\",\"sim\",\"nao\",\"sim\",\"sim\",\"nao\",\"nao\",\"sim\",\"sim\",\"nao\",\"nao\",\"nao\",\"nao\",\"nao\",\"nao\",\"nao\",\"nao\",\"nao\",\"nao\",\"nao\",\"nao\",\"nao\",\"nao\",\"nao\",\"nao\",\"sim\",\"nao\",\"nao\",\"sim\",\"sim\",\"nao\",\"sim\",\"nao\",\"nao\",\"sim\",\"sim\",\"sim\",\"sim\",\"sim\",\"nao\",\"sim\",\"nao\",\"nao\",\"sim\",\"sim\",\"sim\",\"sim\",\"nao\",\"nao\",\"sim\",\"nao\",\"nao\",\"nao\",\"nao\",\"nao\",\"sim\",\"nao\",\"nao\",\"nao\",\"nao\",\"sim\",\"nao\",\"nao\",\"nao\",\"nao\",\"nao\",\"nao\",\"sim\",\"sim\",\"nao\",\"nao\",\"nao\",\"nao\",\"sim\",\"nao\",\"sim\",\"nao\",\"nao\",\"nao\",\"nao\",\"sim\",\"nao\",\"nao\",\"nao\",\"sim\",\"nao\",\"sim\",\"sim\",\"sim\",\"nao\",\"nao\",\"sim\",\"nao\",\"nao\",\"nao\",\"nao\",\"nao\",\"nao\",\"nao\",\"nao\",\"sim\",\"sim\",\"nao\",\"nao\",\"nao\",\"nao\",\"sim\",\"nao\",\"nao\",\"nao\",\"nao\",\"nao\",\"sim\",\"nao\",\"nao\",\"sim\",\"sim\",\"sim\",\"nao\",\"nao\",\"nao\",\"sim\",\"nao\",\"nao\",\"sim\",\"nao\",\"nao\",\"sim\",\"sim\",\"nao\",\"nao\",\"nao\",\"nao\",\"sim\",\"nao\",\"sim\",\"sim\",\"sim\",\"nao\",\"nao\",\"sim\",\"nao\",\"sim\",\"nao\",\"nao\",\"nao\",\"nao\",\"nao\",\"nao\",\"sim\",\"sim\",\"sim\",\"sim\",\"sim\",\"nao\",\"sim\",\"nao\",\"nao\",\"nao\",\"nao\",\"nao\",\"sim\",\"nao\",\"nao\",\"sim\",\"nao\",\"nao\",\"nao\",\"sim\",\"sim\",\"sim\",\"sim\",\"sim\",\"nao\",\"nao\",\"nao\",\"sim\",\"nao\",\"sim\",\"sim\",\"nao\",\"nao\",\"nao\",\"nao\",\"sim\",\"sim\",\"nao\",\"nao\",\"nao\",\"nao\",\"sim\",\"nao\",\"nao\",\"sim\",\"sim\",\"nao\",\"nao\",\"nao\",\"sim\",\"sim\",\"sim\",\"sim\",\"sim\",\"nao\",\"sim\",\"nao\",\"nao\",\"sim\",\"nao\",\"nao\",\"nao\",\"nao\",\"nao\",\"nao\",\"nao\",\"nao\",\"nao\",\"sim\",\"nao\",\"sim\",\"nao\",\"nao\",\"sim\",\"nao\",\"nao\",\"nao\",\"nao\",\"nao\",\"sim\",\"nao\",\"nao\",\"nao\",\"sim\",\"sim\",\"sim\",\"nao\",\"sim\",\"nao\",\"nao\",\"nao\",\"sim\",\"nao\",\"sim\",\"sim\",\"nao\",\"sim\",\"sim\",\"sim\",\"nao\",\"sim\",\"nao\",\"nao\",\"sim\",\"nao\",\"sim\",\"sim\",\"nao\",\"nao\",\"nao\",\"sim\",\"nao\",\"nao\",\"sim\",\"sim\",\"sim\",\"nao\",\"nao\",\"nao\",\"sim\",\"nao\",\"nao\",\"nao\",\"nao\",\"nao\",\"nao\",\"nao\",\"sim\",\"sim\",\"nao\",\"nao\",\"nao\",\"sim\",\"nao\",\"sim\",\"nao\",\"sim\",\"nao\",\"nao\",\"nao\",\"nao\",\"sim\",\"sim\",\"sim\",\"nao\",\"nao\",\"nao\",\"sim\",\"nao\",\"nao\",\"nao\",\"nao\",\"nao\",\"sim\",\"sim\",\"sim\",\"nao\",\"sim\",\"nao\",\"sim\",\"nao\",\"nao\",\"sim\",\"sim\",\"nao\",\"sim\",\"sim\",\"nao\",\"sim\",\"nao\",\"nao\",\"nao\",\"nao\",\"sim\",\"nao\",\"nao\",\"sim\",\"sim\",\"sim\",\"nao\",\"nao\",\"nao\",\"nao\",\"nao\",\"nao\",\"sim\",\"nao\",\"nao\",\"sim\",\"nao\",\"sim\",\"nao\",\"nao\",\"nao\",\"nao\",\"nao\",\"nao\",\"nao\",\"nao\",\"nao\",\"nao\",\"nao\",\"sim\",\"nao\",\"nao\",\"sim\",\"nao\",\"sim\",\"nao\",\"nao\",\"sim\",\"nao\",\"sim\",\"sim\",\"nao\",\"nao\",\"sim\",\"nao\",\"nao\",\"sim\",\"nao\",\"nao\",\"sim\",\"sim\",\"nao\",\"sim\",\"nao\",\"sim\",\"sim\",\"nao\",\"nao\",\"sim\",\"sim\",\"nao\",\"sim\",\"sim\",\"sim\",\"sim\",\"sim\",\"nao\",\"sim\",\"nao\",\"sim\",\"sim\",\"nao\",\"nao\",\"nao\",\"nao\",\"sim\",\"nao\",\"nao\",\"nao\",\"nao\",\"sim\",\"nao\",\"nao\",\"sim\",\"nao\",\"nao\",\"nao\",\"sim\",\"nao\",\"sim\",\"nao\",\"nao\",\"nao\",\"nao\",\"sim\",\"nao\",\"sim\",\"sim\",\"sim\",\"sim\",\"nao\",\"nao\",\"nao\",\"nao\",\"nao\",\"nao\",\"sim\",\"nao\",\"sim\",\"nao\",\"nao\",\"nao\",\"nao\",\"nao\",\"nao\",\"nao\",\"sim\",\"sim\",\"nao\",\"nao\",\"nao\",\"nao\",\"sim\",\"nao\",\"nao\",\"nao\",\"nao\",\"nao\",\"nao\",\"nao\",\"sim\",\"nao\",\"sim\",\"nao\",\"nao\",\"nao\",\"sim\",\"sim\",\"nao\",\"nao\",\"sim\",\"nao\",\"nao\",\"nao\",\"nao\",\"nao\",\"nao\",\"sim\",\"sim\",\"sim\",\"nao\",\"nao\",\"nao\",\"nao\",\"sim\",\"nao\",\"sim\",\"sim\",\"sim\",\"nao\",\"nao\",\"nao\",\"nao\",\"sim\",\"sim\",\"sim\",\"nao\",\"sim\",\"sim\",\"nao\",\"nao\",\"nao\",\"nao\",\"sim\",\"nao\",\"nao\",\"nao\",\"sim\",\"nao\",\"nao\",\"sim\",\"sim\",\"sim\",\"nao\",\"nao\",\"nao\",\"nao\",\"sim\",\"nao\",\"sim\",\"nao\",\"nao\",\"sim\",\"nao\",\"sim\",\"sim\",\"sim\",\"sim\",\"nao\",\"sim\",\"nao\",\"nao\",\"sim\",\"nao\",\"nao\",\"nao\",\"nao\",\"sim\",\"nao\",\"nao\",\"nao\",\"nao\",\"nao\",\"sim\",\"sim\",\"nao\",\"sim\",\"nao\",\"nao\",\"nao\",\"nao\",\"nao\",\"sim\",\"nao\",\"sim\",\"sim\",\"nao\",\"nao\",\"sim\",\"sim\",\"sim\",\"nao\",\"nao\",\"sim\",\"nao\",\"nao\",\"nao\",\"nao\",\"nao\",\"nao\",\"sim\",\"nao\",\"nao\",\"nao\",\"sim\",\"nao\",\"nao\",\"sim\",\"sim\",\"nao\",\"sim\",\"nao\",\"sim\",\"nao\",\"sim\",\"nao\",\"sim\",\"nao\",\"sim\",\"nao\",\"sim\",\"sim\",\"sim\",\"nao\",\"nao\",\"sim\",\"nao\",\"nao\",\"nao\",\"nao\",\"nao\",\"nao\",\"nao\",\"sim\",\"sim\",\"nao\",\"sim\",\"nao\",\"nao\",\"sim\",\"nao\",\"nao\",\"sim\",\"sim\",\"nao\",\"sim\",\"nao\",\"sim\",\"nao\",\"nao\",\"nao\",\"nao\",\"sim\",\"nao\",\"nao\",\"sim\",\"sim\",\"nao\",\"nao\",\"nao\",\"nao\",\"nao\",\"nao\",\"nao\",\"sim\",\"nao\",\"nao\",\"nao\",\"sim\",\"sim\",\"nao\",\"nao\",\"nao\",\"sim\",\"sim\",\"sim\",\"nao\",\"sim\",\"sim\",\"nao\",\"nao\",\"nao\",\"sim\",\"nao\",\"nao\",\"sim\",\"sim\",\"nao\",\"nao\",\"sim\",\"nao\",\"nao\",\"nao\",\"nao\",\"nao\",\"nao\",\"sim\",\"sim\",\"sim\",\"nao\",\"nao\",\"sim\",\"sim\",\"sim\",\"nao\",\"nao\",\"nao\",\"nao\",\"nao\",\"nao\",\"nao\",\"sim\",\"nao\",\"sim\",\"sim\",\"sim\",\"sim\",\"nao\",\"nao\",\"nao\",\"sim\",\"nao\",\"nao\",\"nao\",\"sim\",\"nao\",\"nao\",\"nao\",\"nao\",\"sim\",\"nao\",\"sim\",\"sim\",\"nao\",\"sim\",\"nao\",\"nao\",\"sim\",\"nao\",\"nao\",\"sim\",\"sim\",\"nao\",\"nao\",\"nao\",\"nao\",\"sim\",\"sim\",\"nao\",\"sim\",\"sim\",\"nao\",\"sim\",\"sim\",\"sim\",\"nao\",\"nao\",\"sim\",\"sim\",\"nao\",\"nao\",\"nao\",\"sim\",\"sim\",\"sim\",\"sim\",\"sim\",\"sim\",\"nao\",\"nao\",\"nao\",\"sim\",\"nao\",\"sim\",\"sim\",\"nao\",\"nao\",\"sim\",\"nao\",\"sim\",\"sim\",\"nao\",\"sim\",\"nao\",\"sim\",\"nao\",\"nao\",\"nao\",\"nao\",\"sim\",\"sim\",\"sim\",\"sim\",\"sim\",\"nao\",\"nao\",\"sim\",\"sim\",\"nao\",\"nao\",\"nao\",\"nao\",\"nao\",\"sim\",\"nao\",\"nao\",\"sim\",\"sim\",\"nao\",\"nao\",\"nao\",\"nao\",\"nao\",\"sim\",\"nao\",\"nao\",\"nao\",\"nao\",\"nao\",\"nao\",\"nao\",\"nao\",\"sim\",\"sim\",\"sim\",\"nao\",\"sim\",\"sim\",\"nao\",\"sim\",\"sim\",\"nao\",\"nao\",\"nao\",\"sim\",\"nao\",\"nao\",\"nao\",\"nao\",\"sim\",\"sim\",\"nao\",\"nao\",\"sim\",\"sim\",\"sim\",\"sim\",\"nao\",\"sim\",\"sim\",\"sim\",\"sim\",\"sim\",\"nao\",\"sim\",\"nao\",\"sim\",\"nao\",\"nao\",\"sim\",\"nao\",\"nao\",\"nao\",\"nao\",\"sim\",\"nao\",\"sim\",\"sim\",\"nao\",\"nao\",\"sim\",\"sim\",\"sim\",\"sim\",\"nao\",\"nao\",\"sim\",\"nao\",\"nao\",\"nao\",\"nao\",\"sim\",\"sim\",\"nao\",\"sim\",\"nao\",\"sim\",\"nao\",\"nao\",\"sim\",\"sim\",\"nao\",\"nao\",\"nao\",\"nao\",\"nao\",\"nao\",\"sim\",\"nao\",\"sim\",\"nao\",\"nao\",\"sim\",\"nao\",\"nao\",\"nao\",\"sim\",\"nao\",\"sim\",\"sim\",\"nao\",\"sim\",\"nao\",\"nao\",\"nao\",\"nao\",\"nao\",\"sim\",\"sim\",\"sim\",\"nao\",\"nao\",\"sim\",\"nao\",\"nao\",\"nao\",\"sim\",\"nao\",\"nao\",\"sim\",\"sim\",\"sim\",\"nao\",\"sim\",\"nao\",\"nao\",\"nao\",\"sim\",\"nao\",\"sim\",\"nao\",\"nao\",\"sim\",\"nao\",\"nao\",\"sim\",\"nao\",\"nao\",\"sim\",\"sim\",\"sim\",\"nao\",\"nao\",\"sim\",\"sim\",\"nao\",\"sim\",\"sim\",\"sim\",\"nao\",\"nao\",\"sim\",\"nao\",\"nao\",\"nao\",\"sim\",\"nao\",\"nao\",\"sim\",\"sim\",\"sim\",\"sim\",\"nao\",\"nao\",\"sim\",\"nao\",\"sim\",\"nao\",\"nao\",\"nao\",\"nao\",\"nao\",\"nao\",\"sim\",\"sim\",\"nao\",\"sim\",\"nao\",\"nao\",\"nao\",\"sim\",\"sim\",\"nao\",\"nao\",\"nao\",\"nao\",\"nao\",\"sim\",\"sim\",\"sim\",\"nao\",\"nao\",\"nao\",\"sim\",\"nao\",\"sim\",\"nao\",\"sim\",\"nao\",\"nao\",\"nao\",\"nao\",\"nao\",\"sim\",\"nao\",\"sim\",\"sim\",\"sim\",\"nao\",\"nao\",\"sim\",\"nao\",\"sim\",\"nao\",\"sim\",\"nao\",\"sim\",\"nao\",\"nao\",\"nao\",\"nao\",\"nao\",\"nao\",\"sim\",\"nao\",\"nao\",\"sim\",\"sim\",\"nao\",\"sim\",\"nao\",\"sim\",\"nao\",\"sim\",\"nao\",\"nao\",\"sim\",\"nao\",\"sim\",\"nao\",\"nao\",\"nao\",\"nao\",\"sim\",\"nao\",\"sim\",\"sim\",\"nao\",\"sim\",\"nao\",\"sim\",\"nao\",\"sim\",\"sim\",\"nao\",\"nao\",\"sim\",\"nao\",\"nao\",\"sim\",\"sim\",\"sim\",\"sim\",\"sim\"],\"xaxis\":\"x\",\"yaxis\":\"y\",\"type\":\"histogram\"}],                        {\"template\":{\"data\":{\"histogram2dcontour\":[{\"type\":\"histogram2dcontour\",\"colorbar\":{\"outlinewidth\":0,\"ticks\":\"\"},\"colorscale\":[[0.0,\"#0d0887\"],[0.1111111111111111,\"#46039f\"],[0.2222222222222222,\"#7201a8\"],[0.3333333333333333,\"#9c179e\"],[0.4444444444444444,\"#bd3786\"],[0.5555555555555556,\"#d8576b\"],[0.6666666666666666,\"#ed7953\"],[0.7777777777777778,\"#fb9f3a\"],[0.8888888888888888,\"#fdca26\"],[1.0,\"#f0f921\"]]}],\"choropleth\":[{\"type\":\"choropleth\",\"colorbar\":{\"outlinewidth\":0,\"ticks\":\"\"}}],\"histogram2d\":[{\"type\":\"histogram2d\",\"colorbar\":{\"outlinewidth\":0,\"ticks\":\"\"},\"colorscale\":[[0.0,\"#0d0887\"],[0.1111111111111111,\"#46039f\"],[0.2222222222222222,\"#7201a8\"],[0.3333333333333333,\"#9c179e\"],[0.4444444444444444,\"#bd3786\"],[0.5555555555555556,\"#d8576b\"],[0.6666666666666666,\"#ed7953\"],[0.7777777777777778,\"#fb9f3a\"],[0.8888888888888888,\"#fdca26\"],[1.0,\"#f0f921\"]]}],\"heatmap\":[{\"type\":\"heatmap\",\"colorbar\":{\"outlinewidth\":0,\"ticks\":\"\"},\"colorscale\":[[0.0,\"#0d0887\"],[0.1111111111111111,\"#46039f\"],[0.2222222222222222,\"#7201a8\"],[0.3333333333333333,\"#9c179e\"],[0.4444444444444444,\"#bd3786\"],[0.5555555555555556,\"#d8576b\"],[0.6666666666666666,\"#ed7953\"],[0.7777777777777778,\"#fb9f3a\"],[0.8888888888888888,\"#fdca26\"],[1.0,\"#f0f921\"]]}],\"heatmapgl\":[{\"type\":\"heatmapgl\",\"colorbar\":{\"outlinewidth\":0,\"ticks\":\"\"},\"colorscale\":[[0.0,\"#0d0887\"],[0.1111111111111111,\"#46039f\"],[0.2222222222222222,\"#7201a8\"],[0.3333333333333333,\"#9c179e\"],[0.4444444444444444,\"#bd3786\"],[0.5555555555555556,\"#d8576b\"],[0.6666666666666666,\"#ed7953\"],[0.7777777777777778,\"#fb9f3a\"],[0.8888888888888888,\"#fdca26\"],[1.0,\"#f0f921\"]]}],\"contourcarpet\":[{\"type\":\"contourcarpet\",\"colorbar\":{\"outlinewidth\":0,\"ticks\":\"\"}}],\"contour\":[{\"type\":\"contour\",\"colorbar\":{\"outlinewidth\":0,\"ticks\":\"\"},\"colorscale\":[[0.0,\"#0d0887\"],[0.1111111111111111,\"#46039f\"],[0.2222222222222222,\"#7201a8\"],[0.3333333333333333,\"#9c179e\"],[0.4444444444444444,\"#bd3786\"],[0.5555555555555556,\"#d8576b\"],[0.6666666666666666,\"#ed7953\"],[0.7777777777777778,\"#fb9f3a\"],[0.8888888888888888,\"#fdca26\"],[1.0,\"#f0f921\"]]}],\"surface\":[{\"type\":\"surface\",\"colorbar\":{\"outlinewidth\":0,\"ticks\":\"\"},\"colorscale\":[[0.0,\"#0d0887\"],[0.1111111111111111,\"#46039f\"],[0.2222222222222222,\"#7201a8\"],[0.3333333333333333,\"#9c179e\"],[0.4444444444444444,\"#bd3786\"],[0.5555555555555556,\"#d8576b\"],[0.6666666666666666,\"#ed7953\"],[0.7777777777777778,\"#fb9f3a\"],[0.8888888888888888,\"#fdca26\"],[1.0,\"#f0f921\"]]}],\"mesh3d\":[{\"type\":\"mesh3d\",\"colorbar\":{\"outlinewidth\":0,\"ticks\":\"\"}}],\"scatter\":[{\"fillpattern\":{\"fillmode\":\"overlay\",\"size\":10,\"solidity\":0.2},\"type\":\"scatter\"}],\"parcoords\":[{\"type\":\"parcoords\",\"line\":{\"colorbar\":{\"outlinewidth\":0,\"ticks\":\"\"}}}],\"scatterpolargl\":[{\"type\":\"scatterpolargl\",\"marker\":{\"colorbar\":{\"outlinewidth\":0,\"ticks\":\"\"}}}],\"bar\":[{\"error_x\":{\"color\":\"#2a3f5f\"},\"error_y\":{\"color\":\"#2a3f5f\"},\"marker\":{\"line\":{\"color\":\"#E5ECF6\",\"width\":0.5},\"pattern\":{\"fillmode\":\"overlay\",\"size\":10,\"solidity\":0.2}},\"type\":\"bar\"}],\"scattergeo\":[{\"type\":\"scattergeo\",\"marker\":{\"colorbar\":{\"outlinewidth\":0,\"ticks\":\"\"}}}],\"scatterpolar\":[{\"type\":\"scatterpolar\",\"marker\":{\"colorbar\":{\"outlinewidth\":0,\"ticks\":\"\"}}}],\"histogram\":[{\"marker\":{\"pattern\":{\"fillmode\":\"overlay\",\"size\":10,\"solidity\":0.2}},\"type\":\"histogram\"}],\"scattergl\":[{\"type\":\"scattergl\",\"marker\":{\"colorbar\":{\"outlinewidth\":0,\"ticks\":\"\"}}}],\"scatter3d\":[{\"type\":\"scatter3d\",\"line\":{\"colorbar\":{\"outlinewidth\":0,\"ticks\":\"\"}},\"marker\":{\"colorbar\":{\"outlinewidth\":0,\"ticks\":\"\"}}}],\"scattermapbox\":[{\"type\":\"scattermapbox\",\"marker\":{\"colorbar\":{\"outlinewidth\":0,\"ticks\":\"\"}}}],\"scatterternary\":[{\"type\":\"scatterternary\",\"marker\":{\"colorbar\":{\"outlinewidth\":0,\"ticks\":\"\"}}}],\"scattercarpet\":[{\"type\":\"scattercarpet\",\"marker\":{\"colorbar\":{\"outlinewidth\":0,\"ticks\":\"\"}}}],\"carpet\":[{\"aaxis\":{\"endlinecolor\":\"#2a3f5f\",\"gridcolor\":\"white\",\"linecolor\":\"white\",\"minorgridcolor\":\"white\",\"startlinecolor\":\"#2a3f5f\"},\"baxis\":{\"endlinecolor\":\"#2a3f5f\",\"gridcolor\":\"white\",\"linecolor\":\"white\",\"minorgridcolor\":\"white\",\"startlinecolor\":\"#2a3f5f\"},\"type\":\"carpet\"}],\"table\":[{\"cells\":{\"fill\":{\"color\":\"#EBF0F8\"},\"line\":{\"color\":\"white\"}},\"header\":{\"fill\":{\"color\":\"#C8D4E3\"},\"line\":{\"color\":\"white\"}},\"type\":\"table\"}],\"barpolar\":[{\"marker\":{\"line\":{\"color\":\"#E5ECF6\",\"width\":0.5},\"pattern\":{\"fillmode\":\"overlay\",\"size\":10,\"solidity\":0.2}},\"type\":\"barpolar\"}],\"pie\":[{\"automargin\":true,\"type\":\"pie\"}]},\"layout\":{\"autotypenumbers\":\"strict\",\"colorway\":[\"#636efa\",\"#EF553B\",\"#00cc96\",\"#ab63fa\",\"#FFA15A\",\"#19d3f3\",\"#FF6692\",\"#B6E880\",\"#FF97FF\",\"#FECB52\"],\"font\":{\"color\":\"#2a3f5f\"},\"hovermode\":\"closest\",\"hoverlabel\":{\"align\":\"left\"},\"paper_bgcolor\":\"white\",\"plot_bgcolor\":\"#E5ECF6\",\"polar\":{\"bgcolor\":\"#E5ECF6\",\"angularaxis\":{\"gridcolor\":\"white\",\"linecolor\":\"white\",\"ticks\":\"\"},\"radialaxis\":{\"gridcolor\":\"white\",\"linecolor\":\"white\",\"ticks\":\"\"}},\"ternary\":{\"bgcolor\":\"#E5ECF6\",\"aaxis\":{\"gridcolor\":\"white\",\"linecolor\":\"white\",\"ticks\":\"\"},\"baxis\":{\"gridcolor\":\"white\",\"linecolor\":\"white\",\"ticks\":\"\"},\"caxis\":{\"gridcolor\":\"white\",\"linecolor\":\"white\",\"ticks\":\"\"}},\"coloraxis\":{\"colorbar\":{\"outlinewidth\":0,\"ticks\":\"\"}},\"colorscale\":{\"sequential\":[[0.0,\"#0d0887\"],[0.1111111111111111,\"#46039f\"],[0.2222222222222222,\"#7201a8\"],[0.3333333333333333,\"#9c179e\"],[0.4444444444444444,\"#bd3786\"],[0.5555555555555556,\"#d8576b\"],[0.6666666666666666,\"#ed7953\"],[0.7777777777777778,\"#fb9f3a\"],[0.8888888888888888,\"#fdca26\"],[1.0,\"#f0f921\"]],\"sequentialminus\":[[0.0,\"#0d0887\"],[0.1111111111111111,\"#46039f\"],[0.2222222222222222,\"#7201a8\"],[0.3333333333333333,\"#9c179e\"],[0.4444444444444444,\"#bd3786\"],[0.5555555555555556,\"#d8576b\"],[0.6666666666666666,\"#ed7953\"],[0.7777777777777778,\"#fb9f3a\"],[0.8888888888888888,\"#fdca26\"],[1.0,\"#f0f921\"]],\"diverging\":[[0,\"#8e0152\"],[0.1,\"#c51b7d\"],[0.2,\"#de77ae\"],[0.3,\"#f1b6da\"],[0.4,\"#fde0ef\"],[0.5,\"#f7f7f7\"],[0.6,\"#e6f5d0\"],[0.7,\"#b8e186\"],[0.8,\"#7fbc41\"],[0.9,\"#4d9221\"],[1,\"#276419\"]]},\"xaxis\":{\"gridcolor\":\"white\",\"linecolor\":\"white\",\"ticks\":\"\",\"title\":{\"standoff\":15},\"zerolinecolor\":\"white\",\"automargin\":true,\"zerolinewidth\":2},\"yaxis\":{\"gridcolor\":\"white\",\"linecolor\":\"white\",\"ticks\":\"\",\"title\":{\"standoff\":15},\"zerolinecolor\":\"white\",\"automargin\":true,\"zerolinewidth\":2},\"scene\":{\"xaxis\":{\"backgroundcolor\":\"#E5ECF6\",\"gridcolor\":\"white\",\"linecolor\":\"white\",\"showbackground\":true,\"ticks\":\"\",\"zerolinecolor\":\"white\",\"gridwidth\":2},\"yaxis\":{\"backgroundcolor\":\"#E5ECF6\",\"gridcolor\":\"white\",\"linecolor\":\"white\",\"showbackground\":true,\"ticks\":\"\",\"zerolinecolor\":\"white\",\"gridwidth\":2},\"zaxis\":{\"backgroundcolor\":\"#E5ECF6\",\"gridcolor\":\"white\",\"linecolor\":\"white\",\"showbackground\":true,\"ticks\":\"\",\"zerolinecolor\":\"white\",\"gridwidth\":2}},\"shapedefaults\":{\"line\":{\"color\":\"#2a3f5f\"}},\"annotationdefaults\":{\"arrowcolor\":\"#2a3f5f\",\"arrowhead\":0,\"arrowwidth\":1},\"geo\":{\"bgcolor\":\"white\",\"landcolor\":\"#E5ECF6\",\"subunitcolor\":\"white\",\"showland\":true,\"showlakes\":true,\"lakecolor\":\"white\"},\"title\":{\"x\":0.05},\"mapbox\":{\"style\":\"light\"}}},\"xaxis\":{\"anchor\":\"y\",\"domain\":[0.0,1.0],\"title\":{\"text\":\"aderencia_investimento\"}},\"yaxis\":{\"anchor\":\"x\",\"domain\":[0.0,1.0],\"title\":{\"text\":\"count\"}},\"legend\":{\"tracegroupgap\":0},\"margin\":{\"t\":60},\"barmode\":\"relative\"},                        {\"responsive\": true}                    ).then(function(){\n",
              "                            \n",
              "var gd = document.getElementById('a2c86fb1-2dfb-40be-ad9e-4742730758ed');\n",
              "var x = new MutationObserver(function (mutations, observer) {{\n",
              "        var display = window.getComputedStyle(gd).display;\n",
              "        if (!display || display === 'none') {{\n",
              "            console.log([gd, 'removed!']);\n",
              "            Plotly.purge(gd);\n",
              "            observer.disconnect();\n",
              "        }}\n",
              "}});\n",
              "\n",
              "// Listen for the removal of the full notebook cells\n",
              "var notebookContainer = gd.closest('#notebook-container');\n",
              "if (notebookContainer) {{\n",
              "    x.observe(notebookContainer, {childList: true});\n",
              "}}\n",
              "\n",
              "// Listen for the clearing of the current output cell\n",
              "var outputEl = gd.closest('.output');\n",
              "if (outputEl) {{\n",
              "    x.observe(outputEl, {childList: true});\n",
              "}}\n",
              "\n",
              "                        })                };                            </script>        </div>\n",
              "</body>\n",
              "</html>"
            ]
          },
          "metadata": {}
        }
      ]
    },
    {
      "cell_type": "code",
      "source": [
        "px.histogram(dados, x = 'estado_civil', text_auto = True, color = 'aderencia_investimento',  barmode = 'group')"
      ],
      "metadata": {
        "id": "VZotQidfxQSh",
        "outputId": "df33a573-54b2-4923-922a-a4a6cbd2d017",
        "colab": {
          "base_uri": "https://localhost:8080/",
          "height": 542
        }
      },
      "execution_count": 7,
      "outputs": [
        {
          "output_type": "display_data",
          "data": {
            "text/html": [
              "<html>\n",
              "<head><meta charset=\"utf-8\" /></head>\n",
              "<body>\n",
              "    <div>            <script src=\"https://cdnjs.cloudflare.com/ajax/libs/mathjax/2.7.5/MathJax.js?config=TeX-AMS-MML_SVG\"></script><script type=\"text/javascript\">if (window.MathJax && window.MathJax.Hub && window.MathJax.Hub.Config) {window.MathJax.Hub.Config({SVG: {font: \"STIX-Web\"}});}</script>                <script type=\"text/javascript\">window.PlotlyConfig = {MathJaxConfig: 'local'};</script>\n",
              "        <script charset=\"utf-8\" src=\"https://cdn.plot.ly/plotly-2.35.2.min.js\"></script>                <div id=\"7f00e164-13b9-49a2-9d89-d3dd62462640\" class=\"plotly-graph-div\" style=\"height:525px; width:100%;\"></div>            <script type=\"text/javascript\">                                    window.PLOTLYENV=window.PLOTLYENV || {};                                    if (document.getElementById(\"7f00e164-13b9-49a2-9d89-d3dd62462640\")) {                    Plotly.newPlot(                        \"7f00e164-13b9-49a2-9d89-d3dd62462640\",                        [{\"alignmentgroup\":\"True\",\"bingroup\":\"x\",\"hovertemplate\":\"aderencia_investimento=sim\\u003cbr\\u003eestado_civil=%{x}\\u003cbr\\u003ecount=%{y}\\u003cextra\\u003e\\u003c\\u002fextra\\u003e\",\"legendgroup\":\"sim\",\"marker\":{\"color\":\"#636efa\",\"pattern\":{\"shape\":\"\"}},\"name\":\"sim\",\"offsetgroup\":\"sim\",\"orientation\":\"v\",\"showlegend\":true,\"texttemplate\":\"%{value}\",\"x\":[\"casado (a)\",\"casado (a)\",\"divorciado (a)\",\"casado (a)\",\"solteiro (a)\",\"solteiro (a)\",\"casado (a)\",\"divorciado (a)\",\"casado (a)\",\"divorciado (a)\",\"casado (a)\",\"solteiro (a)\",\"solteiro (a)\",\"casado (a)\",\"solteiro (a)\",\"casado (a)\",\"casado (a)\",\"casado (a)\",\"casado (a)\",\"casado (a)\",\"casado (a)\",\"casado (a)\",\"casado (a)\",\"solteiro (a)\",\"solteiro (a)\",\"divorciado (a)\",\"divorciado (a)\",\"solteiro (a)\",\"divorciado (a)\",\"solteiro (a)\",\"solteiro (a)\",\"solteiro (a)\",\"solteiro (a)\",\"solteiro (a)\",\"casado (a)\",\"casado (a)\",\"casado (a)\",\"casado (a)\",\"casado (a)\",\"solteiro (a)\",\"solteiro (a)\",\"casado (a)\",\"solteiro (a)\",\"casado (a)\",\"casado (a)\",\"casado (a)\",\"divorciado (a)\",\"casado (a)\",\"solteiro (a)\",\"solteiro (a)\",\"casado (a)\",\"casado (a)\",\"casado (a)\",\"casado (a)\",\"solteiro (a)\",\"casado (a)\",\"divorciado (a)\",\"casado (a)\",\"divorciado (a)\",\"casado (a)\",\"solteiro (a)\",\"casado (a)\",\"casado (a)\",\"divorciado (a)\",\"divorciado (a)\",\"solteiro (a)\",\"casado (a)\",\"casado (a)\",\"casado (a)\",\"solteiro (a)\",\"divorciado (a)\",\"solteiro (a)\",\"casado (a)\",\"casado (a)\",\"casado (a)\",\"divorciado (a)\",\"divorciado (a)\",\"casado (a)\",\"solteiro (a)\",\"casado (a)\",\"solteiro (a)\",\"casado (a)\",\"casado (a)\",\"casado (a)\",\"casado (a)\",\"casado (a)\",\"divorciado (a)\",\"divorciado (a)\",\"casado (a)\",\"divorciado (a)\",\"casado (a)\",\"casado (a)\",\"casado (a)\",\"solteiro (a)\",\"casado (a)\",\"casado (a)\",\"casado (a)\",\"solteiro (a)\",\"solteiro (a)\",\"solteiro (a)\",\"casado (a)\",\"casado (a)\",\"divorciado (a)\",\"casado (a)\",\"solteiro (a)\",\"casado (a)\",\"casado (a)\",\"solteiro (a)\",\"divorciado (a)\",\"solteiro (a)\",\"casado (a)\",\"solteiro (a)\",\"casado (a)\",\"solteiro (a)\",\"casado (a)\",\"solteiro (a)\",\"solteiro (a)\",\"casado (a)\",\"casado (a)\",\"casado (a)\",\"casado (a)\",\"solteiro (a)\",\"divorciado (a)\",\"solteiro (a)\",\"solteiro (a)\",\"solteiro (a)\",\"casado (a)\",\"solteiro (a)\",\"solteiro (a)\",\"solteiro (a)\",\"solteiro (a)\",\"casado (a)\",\"solteiro (a)\",\"divorciado (a)\",\"casado (a)\",\"casado (a)\",\"casado (a)\",\"divorciado (a)\",\"casado (a)\",\"solteiro (a)\",\"casado (a)\",\"casado (a)\",\"solteiro (a)\",\"casado (a)\",\"solteiro (a)\",\"casado (a)\",\"casado (a)\",\"solteiro (a)\",\"casado (a)\",\"solteiro (a)\",\"solteiro (a)\",\"casado (a)\",\"solteiro (a)\",\"casado (a)\",\"solteiro (a)\",\"divorciado (a)\",\"solteiro (a)\",\"solteiro (a)\",\"solteiro (a)\",\"casado (a)\",\"casado (a)\",\"casado (a)\",\"casado (a)\",\"solteiro (a)\",\"casado (a)\",\"casado (a)\",\"casado (a)\",\"casado (a)\",\"casado (a)\",\"solteiro (a)\",\"solteiro (a)\",\"casado (a)\",\"casado (a)\",\"casado (a)\",\"solteiro (a)\",\"casado (a)\",\"casado (a)\",\"divorciado (a)\",\"casado (a)\",\"casado (a)\",\"solteiro (a)\",\"casado (a)\",\"divorciado (a)\",\"casado (a)\",\"casado (a)\",\"solteiro (a)\",\"solteiro (a)\",\"divorciado (a)\",\"casado (a)\",\"casado (a)\",\"casado (a)\",\"casado (a)\",\"divorciado (a)\",\"divorciado (a)\",\"solteiro (a)\",\"solteiro (a)\",\"casado (a)\",\"solteiro (a)\",\"solteiro (a)\",\"casado (a)\",\"casado (a)\",\"casado (a)\",\"casado (a)\",\"casado (a)\",\"solteiro (a)\",\"solteiro (a)\",\"divorciado (a)\",\"solteiro (a)\",\"divorciado (a)\",\"casado (a)\",\"solteiro (a)\",\"casado (a)\",\"divorciado (a)\",\"solteiro (a)\",\"casado (a)\",\"casado (a)\",\"solteiro (a)\",\"casado (a)\",\"casado (a)\",\"divorciado (a)\",\"casado (a)\",\"solteiro (a)\",\"casado (a)\",\"casado (a)\",\"casado (a)\",\"divorciado (a)\",\"casado (a)\",\"solteiro (a)\",\"casado (a)\",\"casado (a)\",\"casado (a)\",\"divorciado (a)\",\"casado (a)\",\"solteiro (a)\",\"casado (a)\",\"casado (a)\",\"casado (a)\",\"casado (a)\",\"casado (a)\",\"casado (a)\",\"solteiro (a)\",\"casado (a)\",\"casado (a)\",\"casado (a)\",\"solteiro (a)\",\"casado (a)\",\"casado (a)\",\"casado (a)\",\"casado (a)\",\"divorciado (a)\",\"solteiro (a)\",\"casado (a)\",\"casado (a)\",\"casado (a)\",\"divorciado (a)\",\"casado (a)\",\"divorciado (a)\",\"solteiro (a)\",\"casado (a)\",\"solteiro (a)\",\"solteiro (a)\",\"casado (a)\",\"casado (a)\",\"casado (a)\",\"casado (a)\",\"solteiro (a)\",\"solteiro (a)\",\"casado (a)\",\"casado (a)\",\"casado (a)\",\"solteiro (a)\",\"solteiro (a)\",\"casado (a)\",\"casado (a)\",\"casado (a)\",\"solteiro (a)\",\"casado (a)\",\"casado (a)\",\"casado (a)\",\"casado (a)\",\"divorciado (a)\",\"solteiro (a)\",\"casado (a)\",\"divorciado (a)\",\"solteiro (a)\",\"solteiro (a)\",\"casado (a)\",\"casado (a)\",\"casado (a)\",\"casado (a)\",\"casado (a)\",\"solteiro (a)\",\"solteiro (a)\",\"casado (a)\",\"solteiro (a)\",\"solteiro (a)\",\"solteiro (a)\",\"divorciado (a)\",\"solteiro (a)\",\"casado (a)\",\"divorciado (a)\",\"casado (a)\",\"casado (a)\",\"casado (a)\",\"casado (a)\",\"casado (a)\",\"solteiro (a)\",\"casado (a)\",\"casado (a)\",\"casado (a)\",\"casado (a)\",\"solteiro (a)\",\"casado (a)\",\"solteiro (a)\",\"solteiro (a)\",\"divorciado (a)\",\"solteiro (a)\",\"solteiro (a)\",\"casado (a)\",\"casado (a)\",\"divorciado (a)\",\"casado (a)\",\"solteiro (a)\",\"casado (a)\",\"divorciado (a)\",\"solteiro (a)\",\"casado (a)\",\"casado (a)\",\"divorciado (a)\",\"casado (a)\",\"casado (a)\",\"casado (a)\",\"solteiro (a)\",\"casado (a)\",\"solteiro (a)\",\"solteiro (a)\",\"solteiro (a)\",\"casado (a)\",\"casado (a)\",\"solteiro (a)\",\"solteiro (a)\",\"casado (a)\",\"casado (a)\",\"solteiro (a)\",\"solteiro (a)\",\"solteiro (a)\",\"casado (a)\",\"casado (a)\",\"casado (a)\",\"casado (a)\",\"divorciado (a)\",\"solteiro (a)\",\"divorciado (a)\",\"casado (a)\",\"divorciado (a)\",\"casado (a)\",\"solteiro (a)\",\"solteiro (a)\",\"divorciado (a)\",\"casado (a)\",\"solteiro (a)\",\"solteiro (a)\",\"casado (a)\",\"casado (a)\",\"casado (a)\",\"divorciado (a)\",\"solteiro (a)\",\"solteiro (a)\",\"solteiro (a)\",\"casado (a)\",\"solteiro (a)\",\"casado (a)\",\"casado (a)\",\"casado (a)\",\"solteiro (a)\",\"casado (a)\",\"casado (a)\",\"solteiro (a)\",\"solteiro (a)\",\"divorciado (a)\",\"solteiro (a)\",\"divorciado (a)\",\"divorciado (a)\",\"casado (a)\",\"divorciado (a)\",\"casado (a)\",\"divorciado (a)\",\"divorciado (a)\",\"divorciado (a)\",\"solteiro (a)\",\"divorciado (a)\",\"divorciado (a)\",\"solteiro (a)\",\"solteiro (a)\",\"solteiro (a)\",\"casado (a)\",\"divorciado (a)\",\"solteiro (a)\",\"casado (a)\",\"divorciado (a)\",\"solteiro (a)\",\"solteiro (a)\",\"casado (a)\",\"solteiro (a)\",\"solteiro (a)\",\"solteiro (a)\",\"solteiro (a)\",\"casado (a)\",\"casado (a)\",\"solteiro (a)\",\"divorciado (a)\",\"solteiro (a)\",\"casado (a)\",\"casado (a)\",\"casado (a)\",\"casado (a)\",\"solteiro (a)\",\"divorciado (a)\",\"casado (a)\",\"casado (a)\",\"casado (a)\",\"solteiro (a)\",\"casado (a)\",\"casado (a)\",\"solteiro (a)\",\"solteiro (a)\",\"casado (a)\",\"solteiro (a)\",\"casado (a)\",\"casado (a)\",\"solteiro (a)\",\"casado (a)\",\"divorciado (a)\",\"casado (a)\",\"divorciado (a)\",\"solteiro (a)\",\"solteiro (a)\",\"casado (a)\",\"casado (a)\",\"solteiro (a)\",\"divorciado (a)\",\"casado (a)\",\"divorciado (a)\",\"casado (a)\",\"solteiro (a)\",\"casado (a)\",\"solteiro (a)\",\"divorciado (a)\",\"divorciado (a)\",\"casado (a)\",\"casado (a)\",\"solteiro (a)\",\"solteiro (a)\",\"casado (a)\",\"casado (a)\",\"casado (a)\",\"casado (a)\",\"divorciado (a)\",\"solteiro (a)\",\"casado (a)\",\"solteiro (a)\",\"casado (a)\",\"casado (a)\",\"divorciado (a)\",\"casado (a)\",\"casado (a)\",\"casado (a)\",\"solteiro (a)\",\"casado (a)\",\"solteiro (a)\",\"casado (a)\",\"casado (a)\",\"casado (a)\",\"solteiro (a)\",\"divorciado (a)\",\"casado (a)\",\"casado (a)\",\"casado (a)\",\"casado (a)\",\"casado (a)\",\"casado (a)\",\"solteiro (a)\",\"solteiro (a)\",\"casado (a)\",\"casado (a)\",\"casado (a)\",\"solteiro (a)\",\"casado (a)\",\"casado (a)\",\"casado (a)\",\"divorciado (a)\",\"casado (a)\",\"solteiro (a)\",\"casado (a)\",\"casado (a)\",\"divorciado (a)\",\"casado (a)\",\"solteiro (a)\",\"solteiro (a)\",\"solteiro (a)\",\"casado (a)\",\"solteiro (a)\"],\"xaxis\":\"x\",\"yaxis\":\"y\",\"type\":\"histogram\"},{\"alignmentgroup\":\"True\",\"bingroup\":\"x\",\"hovertemplate\":\"aderencia_investimento=nao\\u003cbr\\u003eestado_civil=%{x}\\u003cbr\\u003ecount=%{y}\\u003cextra\\u003e\\u003c\\u002fextra\\u003e\",\"legendgroup\":\"nao\",\"marker\":{\"color\":\"#EF553B\",\"pattern\":{\"shape\":\"\"}},\"name\":\"nao\",\"offsetgroup\":\"nao\",\"orientation\":\"v\",\"showlegend\":true,\"texttemplate\":\"%{value}\",\"x\":[\"solteiro (a)\",\"casado (a)\",\"casado (a)\",\"casado (a)\",\"divorciado (a)\",\"casado (a)\",\"casado (a)\",\"solteiro (a)\",\"casado (a)\",\"casado (a)\",\"casado (a)\",\"divorciado (a)\",\"solteiro (a)\",\"casado (a)\",\"casado (a)\",\"casado (a)\",\"casado (a)\",\"solteiro (a)\",\"casado (a)\",\"casado (a)\",\"casado (a)\",\"casado (a)\",\"divorciado (a)\",\"divorciado (a)\",\"casado (a)\",\"casado (a)\",\"casado (a)\",\"casado (a)\",\"casado (a)\",\"divorciado (a)\",\"casado (a)\",\"casado (a)\",\"casado (a)\",\"solteiro (a)\",\"casado (a)\",\"solteiro (a)\",\"divorciado (a)\",\"solteiro (a)\",\"casado (a)\",\"casado (a)\",\"casado (a)\",\"casado (a)\",\"divorciado (a)\",\"casado (a)\",\"casado (a)\",\"casado (a)\",\"casado (a)\",\"casado (a)\",\"casado (a)\",\"casado (a)\",\"solteiro (a)\",\"casado (a)\",\"casado (a)\",\"casado (a)\",\"solteiro (a)\",\"casado (a)\",\"casado (a)\",\"casado (a)\",\"divorciado (a)\",\"solteiro (a)\",\"casado (a)\",\"casado (a)\",\"solteiro (a)\",\"casado (a)\",\"casado (a)\",\"casado (a)\",\"solteiro (a)\",\"casado (a)\",\"solteiro (a)\",\"casado (a)\",\"casado (a)\",\"casado (a)\",\"solteiro (a)\",\"casado (a)\",\"casado (a)\",\"solteiro (a)\",\"casado (a)\",\"solteiro (a)\",\"casado (a)\",\"casado (a)\",\"casado (a)\",\"casado (a)\",\"casado (a)\",\"casado (a)\",\"casado (a)\",\"casado (a)\",\"casado (a)\",\"casado (a)\",\"casado (a)\",\"divorciado (a)\",\"casado (a)\",\"casado (a)\",\"casado (a)\",\"casado (a)\",\"solteiro (a)\",\"casado (a)\",\"casado (a)\",\"casado (a)\",\"casado (a)\",\"casado (a)\",\"casado (a)\",\"casado (a)\",\"casado (a)\",\"casado (a)\",\"casado (a)\",\"casado (a)\",\"casado (a)\",\"solteiro (a)\",\"solteiro (a)\",\"solteiro (a)\",\"solteiro (a)\",\"solteiro (a)\",\"casado (a)\",\"casado (a)\",\"casado (a)\",\"casado (a)\",\"casado (a)\",\"casado (a)\",\"casado (a)\",\"casado (a)\",\"casado (a)\",\"divorciado (a)\",\"casado (a)\",\"casado (a)\",\"casado (a)\",\"casado (a)\",\"casado (a)\",\"solteiro (a)\",\"casado (a)\",\"solteiro (a)\",\"casado (a)\",\"casado (a)\",\"casado (a)\",\"casado (a)\",\"casado (a)\",\"casado (a)\",\"solteiro (a)\",\"casado (a)\",\"casado (a)\",\"casado (a)\",\"solteiro (a)\",\"divorciado (a)\",\"casado (a)\",\"solteiro (a)\",\"divorciado (a)\",\"casado (a)\",\"solteiro (a)\",\"casado (a)\",\"solteiro (a)\",\"solteiro (a)\",\"casado (a)\",\"solteiro (a)\",\"divorciado (a)\",\"divorciado (a)\",\"casado (a)\",\"solteiro (a)\",\"casado (a)\",\"solteiro (a)\",\"solteiro (a)\",\"casado (a)\",\"casado (a)\",\"casado (a)\",\"solteiro (a)\",\"casado (a)\",\"solteiro (a)\",\"casado (a)\",\"casado (a)\",\"casado (a)\",\"casado (a)\",\"divorciado (a)\",\"solteiro (a)\",\"solteiro (a)\",\"casado (a)\",\"casado (a)\",\"divorciado (a)\",\"casado (a)\",\"solteiro (a)\",\"casado (a)\",\"solteiro (a)\",\"divorciado (a)\",\"casado (a)\",\"solteiro (a)\",\"solteiro (a)\",\"casado (a)\",\"casado (a)\",\"casado (a)\",\"solteiro (a)\",\"casado (a)\",\"solteiro (a)\",\"divorciado (a)\",\"divorciado (a)\",\"casado (a)\",\"casado (a)\",\"solteiro (a)\",\"casado (a)\",\"casado (a)\",\"casado (a)\",\"solteiro (a)\",\"divorciado (a)\",\"divorciado (a)\",\"casado (a)\",\"solteiro (a)\",\"casado (a)\",\"casado (a)\",\"solteiro (a)\",\"casado (a)\",\"divorciado (a)\",\"solteiro (a)\",\"casado (a)\",\"casado (a)\",\"casado (a)\",\"casado (a)\",\"casado (a)\",\"casado (a)\",\"casado (a)\",\"casado (a)\",\"solteiro (a)\",\"solteiro (a)\",\"solteiro (a)\",\"solteiro (a)\",\"solteiro (a)\",\"divorciado (a)\",\"solteiro (a)\",\"casado (a)\",\"divorciado (a)\",\"casado (a)\",\"casado (a)\",\"casado (a)\",\"solteiro (a)\",\"casado (a)\",\"solteiro (a)\",\"solteiro (a)\",\"casado (a)\",\"divorciado (a)\",\"solteiro (a)\",\"casado (a)\",\"casado (a)\",\"casado (a)\",\"solteiro (a)\",\"solteiro (a)\",\"casado (a)\",\"divorciado (a)\",\"divorciado (a)\",\"casado (a)\",\"casado (a)\",\"casado (a)\",\"casado (a)\",\"casado (a)\",\"casado (a)\",\"casado (a)\",\"solteiro (a)\",\"solteiro (a)\",\"casado (a)\",\"casado (a)\",\"casado (a)\",\"casado (a)\",\"casado (a)\",\"casado (a)\",\"divorciado (a)\",\"casado (a)\",\"casado (a)\",\"divorciado (a)\",\"solteiro (a)\",\"solteiro (a)\",\"casado (a)\",\"casado (a)\",\"solteiro (a)\",\"solteiro (a)\",\"casado (a)\",\"casado (a)\",\"casado (a)\",\"casado (a)\",\"solteiro (a)\",\"casado (a)\",\"solteiro (a)\",\"divorciado (a)\",\"solteiro (a)\",\"casado (a)\",\"casado (a)\",\"casado (a)\",\"divorciado (a)\",\"casado (a)\",\"casado (a)\",\"casado (a)\",\"solteiro (a)\",\"solteiro (a)\",\"divorciado (a)\",\"casado (a)\",\"casado (a)\",\"solteiro (a)\",\"casado (a)\",\"solteiro (a)\",\"solteiro (a)\",\"solteiro (a)\",\"casado (a)\",\"casado (a)\",\"casado (a)\",\"solteiro (a)\",\"solteiro (a)\",\"casado (a)\",\"casado (a)\",\"solteiro (a)\",\"divorciado (a)\",\"casado (a)\",\"casado (a)\",\"divorciado (a)\",\"solteiro (a)\",\"solteiro (a)\",\"solteiro (a)\",\"casado (a)\",\"casado (a)\",\"casado (a)\",\"casado (a)\",\"casado (a)\",\"solteiro (a)\",\"solteiro (a)\",\"solteiro (a)\",\"casado (a)\",\"solteiro (a)\",\"casado (a)\",\"casado (a)\",\"solteiro (a)\",\"solteiro (a)\",\"solteiro (a)\",\"casado (a)\",\"divorciado (a)\",\"divorciado (a)\",\"solteiro (a)\",\"casado (a)\",\"casado (a)\",\"casado (a)\",\"casado (a)\",\"solteiro (a)\",\"solteiro (a)\",\"casado (a)\",\"solteiro (a)\",\"casado (a)\",\"casado (a)\",\"solteiro (a)\",\"casado (a)\",\"casado (a)\",\"casado (a)\",\"casado (a)\",\"casado (a)\",\"casado (a)\",\"casado (a)\",\"casado (a)\",\"casado (a)\",\"casado (a)\",\"solteiro (a)\",\"casado (a)\",\"solteiro (a)\",\"solteiro (a)\",\"casado (a)\",\"solteiro (a)\",\"casado (a)\",\"casado (a)\",\"casado (a)\",\"casado (a)\",\"divorciado (a)\",\"solteiro (a)\",\"casado (a)\",\"solteiro (a)\",\"casado (a)\",\"solteiro (a)\",\"casado (a)\",\"casado (a)\",\"casado (a)\",\"casado (a)\",\"divorciado (a)\",\"solteiro (a)\",\"casado (a)\",\"solteiro (a)\",\"casado (a)\",\"solteiro (a)\",\"casado (a)\",\"casado (a)\",\"casado (a)\",\"casado (a)\",\"casado (a)\",\"solteiro (a)\",\"casado (a)\",\"casado (a)\",\"casado (a)\",\"solteiro (a)\",\"divorciado (a)\",\"solteiro (a)\",\"casado (a)\",\"casado (a)\",\"casado (a)\",\"solteiro (a)\",\"casado (a)\",\"casado (a)\",\"solteiro (a)\",\"casado (a)\",\"solteiro (a)\",\"casado (a)\",\"casado (a)\",\"casado (a)\",\"casado (a)\",\"casado (a)\",\"solteiro (a)\",\"casado (a)\",\"solteiro (a)\",\"casado (a)\",\"casado (a)\",\"casado (a)\",\"divorciado (a)\",\"casado (a)\",\"casado (a)\",\"casado (a)\",\"divorciado (a)\",\"casado (a)\",\"casado (a)\",\"solteiro (a)\",\"casado (a)\",\"solteiro (a)\",\"casado (a)\",\"divorciado (a)\",\"casado (a)\",\"casado (a)\",\"casado (a)\",\"divorciado (a)\",\"casado (a)\",\"casado (a)\",\"casado (a)\",\"solteiro (a)\",\"solteiro (a)\",\"casado (a)\",\"solteiro (a)\",\"casado (a)\",\"casado (a)\",\"solteiro (a)\",\"casado (a)\",\"solteiro (a)\",\"casado (a)\",\"casado (a)\",\"casado (a)\",\"casado (a)\",\"casado (a)\",\"casado (a)\",\"casado (a)\",\"casado (a)\",\"casado (a)\",\"solteiro (a)\",\"divorciado (a)\",\"casado (a)\",\"solteiro (a)\",\"divorciado (a)\",\"solteiro (a)\",\"divorciado (a)\",\"casado (a)\",\"casado (a)\",\"casado (a)\",\"casado (a)\",\"divorciado (a)\",\"casado (a)\",\"solteiro (a)\",\"divorciado (a)\",\"casado (a)\",\"solteiro (a)\",\"casado (a)\",\"divorciado (a)\",\"casado (a)\",\"casado (a)\",\"casado (a)\",\"solteiro (a)\",\"casado (a)\",\"solteiro (a)\",\"solteiro (a)\",\"casado (a)\",\"casado (a)\",\"divorciado (a)\",\"solteiro (a)\",\"solteiro (a)\",\"casado (a)\",\"solteiro (a)\",\"solteiro (a)\",\"divorciado (a)\",\"casado (a)\",\"divorciado (a)\",\"casado (a)\",\"solteiro (a)\",\"casado (a)\",\"divorciado (a)\",\"casado (a)\",\"casado (a)\",\"casado (a)\",\"divorciado (a)\",\"casado (a)\",\"casado (a)\",\"divorciado (a)\",\"casado (a)\",\"casado (a)\",\"casado (a)\",\"solteiro (a)\",\"casado (a)\",\"divorciado (a)\",\"casado (a)\",\"casado (a)\",\"casado (a)\",\"casado (a)\",\"casado (a)\",\"casado (a)\",\"solteiro (a)\",\"casado (a)\",\"solteiro (a)\",\"casado (a)\",\"solteiro (a)\",\"solteiro (a)\",\"solteiro (a)\",\"casado (a)\",\"casado (a)\",\"casado (a)\",\"casado (a)\",\"casado (a)\",\"solteiro (a)\",\"casado (a)\",\"casado (a)\",\"solteiro (a)\",\"solteiro (a)\",\"casado (a)\",\"casado (a)\",\"divorciado (a)\",\"casado (a)\",\"divorciado (a)\",\"casado (a)\",\"solteiro (a)\",\"casado (a)\",\"divorciado (a)\",\"casado (a)\",\"casado (a)\",\"solteiro (a)\",\"casado (a)\",\"casado (a)\",\"divorciado (a)\",\"solteiro (a)\",\"divorciado (a)\",\"casado (a)\",\"solteiro (a)\",\"solteiro (a)\",\"casado (a)\",\"solteiro (a)\",\"casado (a)\",\"divorciado (a)\",\"casado (a)\",\"casado (a)\",\"casado (a)\",\"casado (a)\",\"casado (a)\",\"casado (a)\",\"solteiro (a)\",\"casado (a)\",\"casado (a)\",\"casado (a)\",\"solteiro (a)\",\"casado (a)\",\"casado (a)\",\"casado (a)\",\"solteiro (a)\",\"divorciado (a)\",\"solteiro (a)\",\"casado (a)\",\"solteiro (a)\",\"casado (a)\",\"solteiro (a)\",\"casado (a)\",\"casado (a)\",\"casado (a)\",\"casado (a)\",\"divorciado (a)\",\"casado (a)\",\"casado (a)\",\"divorciado (a)\",\"casado (a)\",\"casado (a)\",\"casado (a)\",\"casado (a)\",\"casado (a)\",\"solteiro (a)\",\"divorciado (a)\",\"casado (a)\",\"casado (a)\",\"casado (a)\",\"solteiro (a)\",\"casado (a)\",\"casado (a)\",\"casado (a)\",\"casado (a)\",\"casado (a)\",\"solteiro (a)\",\"solteiro (a)\",\"solteiro (a)\",\"casado (a)\",\"divorciado (a)\",\"casado (a)\",\"divorciado (a)\",\"casado (a)\",\"casado (a)\",\"solteiro (a)\",\"divorciado (a)\",\"casado (a)\",\"solteiro (a)\",\"casado (a)\",\"casado (a)\",\"solteiro (a)\",\"casado (a)\",\"casado (a)\",\"casado (a)\",\"casado (a)\",\"divorciado (a)\",\"casado (a)\",\"casado (a)\",\"casado (a)\",\"solteiro (a)\",\"divorciado (a)\",\"solteiro (a)\",\"casado (a)\",\"casado (a)\",\"solteiro (a)\",\"casado (a)\",\"casado (a)\",\"casado (a)\",\"casado (a)\",\"casado (a)\",\"casado (a)\",\"solteiro (a)\",\"solteiro (a)\",\"divorciado (a)\",\"divorciado (a)\",\"casado (a)\",\"casado (a)\",\"solteiro (a)\",\"divorciado (a)\",\"casado (a)\",\"solteiro (a)\",\"casado (a)\",\"casado (a)\",\"casado (a)\",\"solteiro (a)\",\"casado (a)\",\"casado (a)\",\"solteiro (a)\",\"casado (a)\",\"solteiro (a)\",\"solteiro (a)\",\"casado (a)\",\"casado (a)\",\"casado (a)\",\"casado (a)\",\"divorciado (a)\",\"divorciado (a)\",\"casado (a)\",\"casado (a)\",\"casado (a)\",\"solteiro (a)\",\"casado (a)\",\"divorciado (a)\",\"divorciado (a)\",\"divorciado (a)\",\"casado (a)\",\"solteiro (a)\",\"divorciado (a)\",\"solteiro (a)\",\"casado (a)\",\"casado (a)\",\"solteiro (a)\",\"casado (a)\",\"divorciado (a)\",\"casado (a)\",\"casado (a)\",\"casado (a)\",\"solteiro (a)\",\"casado (a)\",\"casado (a)\",\"casado (a)\",\"casado (a)\",\"casado (a)\",\"casado (a)\",\"casado (a)\",\"casado (a)\",\"casado (a)\",\"solteiro (a)\",\"casado (a)\",\"divorciado (a)\",\"solteiro (a)\",\"casado (a)\",\"casado (a)\",\"casado (a)\",\"casado (a)\",\"solteiro (a)\",\"casado (a)\",\"casado (a)\",\"solteiro (a)\",\"solteiro (a)\",\"solteiro (a)\",\"casado (a)\",\"casado (a)\",\"casado (a)\",\"casado (a)\",\"solteiro (a)\",\"casado (a)\",\"casado (a)\",\"solteiro (a)\",\"casado (a)\",\"divorciado (a)\",\"solteiro (a)\",\"divorciado (a)\",\"casado (a)\",\"solteiro (a)\",\"casado (a)\",\"casado (a)\",\"casado (a)\",\"solteiro (a)\",\"casado (a)\",\"solteiro (a)\",\"casado (a)\",\"casado (a)\",\"casado (a)\",\"divorciado (a)\",\"casado (a)\",\"solteiro (a)\",\"solteiro (a)\",\"casado (a)\",\"casado (a)\",\"solteiro (a)\",\"casado (a)\",\"casado (a)\",\"divorciado (a)\",\"casado (a)\",\"solteiro (a)\",\"casado (a)\",\"solteiro (a)\",\"casado (a)\",\"divorciado (a)\",\"casado (a)\",\"solteiro (a)\",\"casado (a)\",\"casado (a)\",\"solteiro (a)\",\"casado (a)\",\"solteiro (a)\",\"casado (a)\",\"casado (a)\",\"casado (a)\",\"casado (a)\",\"casado (a)\",\"casado (a)\",\"solteiro (a)\",\"casado (a)\",\"solteiro (a)\",\"casado (a)\",\"casado (a)\",\"casado (a)\",\"solteiro (a)\",\"casado (a)\",\"casado (a)\",\"solteiro (a)\",\"casado (a)\",\"casado (a)\",\"solteiro (a)\",\"casado (a)\",\"divorciado (a)\",\"solteiro (a)\",\"casado (a)\",\"casado (a)\"],\"xaxis\":\"x\",\"yaxis\":\"y\",\"type\":\"histogram\"}],                        {\"template\":{\"data\":{\"histogram2dcontour\":[{\"type\":\"histogram2dcontour\",\"colorbar\":{\"outlinewidth\":0,\"ticks\":\"\"},\"colorscale\":[[0.0,\"#0d0887\"],[0.1111111111111111,\"#46039f\"],[0.2222222222222222,\"#7201a8\"],[0.3333333333333333,\"#9c179e\"],[0.4444444444444444,\"#bd3786\"],[0.5555555555555556,\"#d8576b\"],[0.6666666666666666,\"#ed7953\"],[0.7777777777777778,\"#fb9f3a\"],[0.8888888888888888,\"#fdca26\"],[1.0,\"#f0f921\"]]}],\"choropleth\":[{\"type\":\"choropleth\",\"colorbar\":{\"outlinewidth\":0,\"ticks\":\"\"}}],\"histogram2d\":[{\"type\":\"histogram2d\",\"colorbar\":{\"outlinewidth\":0,\"ticks\":\"\"},\"colorscale\":[[0.0,\"#0d0887\"],[0.1111111111111111,\"#46039f\"],[0.2222222222222222,\"#7201a8\"],[0.3333333333333333,\"#9c179e\"],[0.4444444444444444,\"#bd3786\"],[0.5555555555555556,\"#d8576b\"],[0.6666666666666666,\"#ed7953\"],[0.7777777777777778,\"#fb9f3a\"],[0.8888888888888888,\"#fdca26\"],[1.0,\"#f0f921\"]]}],\"heatmap\":[{\"type\":\"heatmap\",\"colorbar\":{\"outlinewidth\":0,\"ticks\":\"\"},\"colorscale\":[[0.0,\"#0d0887\"],[0.1111111111111111,\"#46039f\"],[0.2222222222222222,\"#7201a8\"],[0.3333333333333333,\"#9c179e\"],[0.4444444444444444,\"#bd3786\"],[0.5555555555555556,\"#d8576b\"],[0.6666666666666666,\"#ed7953\"],[0.7777777777777778,\"#fb9f3a\"],[0.8888888888888888,\"#fdca26\"],[1.0,\"#f0f921\"]]}],\"heatmapgl\":[{\"type\":\"heatmapgl\",\"colorbar\":{\"outlinewidth\":0,\"ticks\":\"\"},\"colorscale\":[[0.0,\"#0d0887\"],[0.1111111111111111,\"#46039f\"],[0.2222222222222222,\"#7201a8\"],[0.3333333333333333,\"#9c179e\"],[0.4444444444444444,\"#bd3786\"],[0.5555555555555556,\"#d8576b\"],[0.6666666666666666,\"#ed7953\"],[0.7777777777777778,\"#fb9f3a\"],[0.8888888888888888,\"#fdca26\"],[1.0,\"#f0f921\"]]}],\"contourcarpet\":[{\"type\":\"contourcarpet\",\"colorbar\":{\"outlinewidth\":0,\"ticks\":\"\"}}],\"contour\":[{\"type\":\"contour\",\"colorbar\":{\"outlinewidth\":0,\"ticks\":\"\"},\"colorscale\":[[0.0,\"#0d0887\"],[0.1111111111111111,\"#46039f\"],[0.2222222222222222,\"#7201a8\"],[0.3333333333333333,\"#9c179e\"],[0.4444444444444444,\"#bd3786\"],[0.5555555555555556,\"#d8576b\"],[0.6666666666666666,\"#ed7953\"],[0.7777777777777778,\"#fb9f3a\"],[0.8888888888888888,\"#fdca26\"],[1.0,\"#f0f921\"]]}],\"surface\":[{\"type\":\"surface\",\"colorbar\":{\"outlinewidth\":0,\"ticks\":\"\"},\"colorscale\":[[0.0,\"#0d0887\"],[0.1111111111111111,\"#46039f\"],[0.2222222222222222,\"#7201a8\"],[0.3333333333333333,\"#9c179e\"],[0.4444444444444444,\"#bd3786\"],[0.5555555555555556,\"#d8576b\"],[0.6666666666666666,\"#ed7953\"],[0.7777777777777778,\"#fb9f3a\"],[0.8888888888888888,\"#fdca26\"],[1.0,\"#f0f921\"]]}],\"mesh3d\":[{\"type\":\"mesh3d\",\"colorbar\":{\"outlinewidth\":0,\"ticks\":\"\"}}],\"scatter\":[{\"fillpattern\":{\"fillmode\":\"overlay\",\"size\":10,\"solidity\":0.2},\"type\":\"scatter\"}],\"parcoords\":[{\"type\":\"parcoords\",\"line\":{\"colorbar\":{\"outlinewidth\":0,\"ticks\":\"\"}}}],\"scatterpolargl\":[{\"type\":\"scatterpolargl\",\"marker\":{\"colorbar\":{\"outlinewidth\":0,\"ticks\":\"\"}}}],\"bar\":[{\"error_x\":{\"color\":\"#2a3f5f\"},\"error_y\":{\"color\":\"#2a3f5f\"},\"marker\":{\"line\":{\"color\":\"#E5ECF6\",\"width\":0.5},\"pattern\":{\"fillmode\":\"overlay\",\"size\":10,\"solidity\":0.2}},\"type\":\"bar\"}],\"scattergeo\":[{\"type\":\"scattergeo\",\"marker\":{\"colorbar\":{\"outlinewidth\":0,\"ticks\":\"\"}}}],\"scatterpolar\":[{\"type\":\"scatterpolar\",\"marker\":{\"colorbar\":{\"outlinewidth\":0,\"ticks\":\"\"}}}],\"histogram\":[{\"marker\":{\"pattern\":{\"fillmode\":\"overlay\",\"size\":10,\"solidity\":0.2}},\"type\":\"histogram\"}],\"scattergl\":[{\"type\":\"scattergl\",\"marker\":{\"colorbar\":{\"outlinewidth\":0,\"ticks\":\"\"}}}],\"scatter3d\":[{\"type\":\"scatter3d\",\"line\":{\"colorbar\":{\"outlinewidth\":0,\"ticks\":\"\"}},\"marker\":{\"colorbar\":{\"outlinewidth\":0,\"ticks\":\"\"}}}],\"scattermapbox\":[{\"type\":\"scattermapbox\",\"marker\":{\"colorbar\":{\"outlinewidth\":0,\"ticks\":\"\"}}}],\"scatterternary\":[{\"type\":\"scatterternary\",\"marker\":{\"colorbar\":{\"outlinewidth\":0,\"ticks\":\"\"}}}],\"scattercarpet\":[{\"type\":\"scattercarpet\",\"marker\":{\"colorbar\":{\"outlinewidth\":0,\"ticks\":\"\"}}}],\"carpet\":[{\"aaxis\":{\"endlinecolor\":\"#2a3f5f\",\"gridcolor\":\"white\",\"linecolor\":\"white\",\"minorgridcolor\":\"white\",\"startlinecolor\":\"#2a3f5f\"},\"baxis\":{\"endlinecolor\":\"#2a3f5f\",\"gridcolor\":\"white\",\"linecolor\":\"white\",\"minorgridcolor\":\"white\",\"startlinecolor\":\"#2a3f5f\"},\"type\":\"carpet\"}],\"table\":[{\"cells\":{\"fill\":{\"color\":\"#EBF0F8\"},\"line\":{\"color\":\"white\"}},\"header\":{\"fill\":{\"color\":\"#C8D4E3\"},\"line\":{\"color\":\"white\"}},\"type\":\"table\"}],\"barpolar\":[{\"marker\":{\"line\":{\"color\":\"#E5ECF6\",\"width\":0.5},\"pattern\":{\"fillmode\":\"overlay\",\"size\":10,\"solidity\":0.2}},\"type\":\"barpolar\"}],\"pie\":[{\"automargin\":true,\"type\":\"pie\"}]},\"layout\":{\"autotypenumbers\":\"strict\",\"colorway\":[\"#636efa\",\"#EF553B\",\"#00cc96\",\"#ab63fa\",\"#FFA15A\",\"#19d3f3\",\"#FF6692\",\"#B6E880\",\"#FF97FF\",\"#FECB52\"],\"font\":{\"color\":\"#2a3f5f\"},\"hovermode\":\"closest\",\"hoverlabel\":{\"align\":\"left\"},\"paper_bgcolor\":\"white\",\"plot_bgcolor\":\"#E5ECF6\",\"polar\":{\"bgcolor\":\"#E5ECF6\",\"angularaxis\":{\"gridcolor\":\"white\",\"linecolor\":\"white\",\"ticks\":\"\"},\"radialaxis\":{\"gridcolor\":\"white\",\"linecolor\":\"white\",\"ticks\":\"\"}},\"ternary\":{\"bgcolor\":\"#E5ECF6\",\"aaxis\":{\"gridcolor\":\"white\",\"linecolor\":\"white\",\"ticks\":\"\"},\"baxis\":{\"gridcolor\":\"white\",\"linecolor\":\"white\",\"ticks\":\"\"},\"caxis\":{\"gridcolor\":\"white\",\"linecolor\":\"white\",\"ticks\":\"\"}},\"coloraxis\":{\"colorbar\":{\"outlinewidth\":0,\"ticks\":\"\"}},\"colorscale\":{\"sequential\":[[0.0,\"#0d0887\"],[0.1111111111111111,\"#46039f\"],[0.2222222222222222,\"#7201a8\"],[0.3333333333333333,\"#9c179e\"],[0.4444444444444444,\"#bd3786\"],[0.5555555555555556,\"#d8576b\"],[0.6666666666666666,\"#ed7953\"],[0.7777777777777778,\"#fb9f3a\"],[0.8888888888888888,\"#fdca26\"],[1.0,\"#f0f921\"]],\"sequentialminus\":[[0.0,\"#0d0887\"],[0.1111111111111111,\"#46039f\"],[0.2222222222222222,\"#7201a8\"],[0.3333333333333333,\"#9c179e\"],[0.4444444444444444,\"#bd3786\"],[0.5555555555555556,\"#d8576b\"],[0.6666666666666666,\"#ed7953\"],[0.7777777777777778,\"#fb9f3a\"],[0.8888888888888888,\"#fdca26\"],[1.0,\"#f0f921\"]],\"diverging\":[[0,\"#8e0152\"],[0.1,\"#c51b7d\"],[0.2,\"#de77ae\"],[0.3,\"#f1b6da\"],[0.4,\"#fde0ef\"],[0.5,\"#f7f7f7\"],[0.6,\"#e6f5d0\"],[0.7,\"#b8e186\"],[0.8,\"#7fbc41\"],[0.9,\"#4d9221\"],[1,\"#276419\"]]},\"xaxis\":{\"gridcolor\":\"white\",\"linecolor\":\"white\",\"ticks\":\"\",\"title\":{\"standoff\":15},\"zerolinecolor\":\"white\",\"automargin\":true,\"zerolinewidth\":2},\"yaxis\":{\"gridcolor\":\"white\",\"linecolor\":\"white\",\"ticks\":\"\",\"title\":{\"standoff\":15},\"zerolinecolor\":\"white\",\"automargin\":true,\"zerolinewidth\":2},\"scene\":{\"xaxis\":{\"backgroundcolor\":\"#E5ECF6\",\"gridcolor\":\"white\",\"linecolor\":\"white\",\"showbackground\":true,\"ticks\":\"\",\"zerolinecolor\":\"white\",\"gridwidth\":2},\"yaxis\":{\"backgroundcolor\":\"#E5ECF6\",\"gridcolor\":\"white\",\"linecolor\":\"white\",\"showbackground\":true,\"ticks\":\"\",\"zerolinecolor\":\"white\",\"gridwidth\":2},\"zaxis\":{\"backgroundcolor\":\"#E5ECF6\",\"gridcolor\":\"white\",\"linecolor\":\"white\",\"showbackground\":true,\"ticks\":\"\",\"zerolinecolor\":\"white\",\"gridwidth\":2}},\"shapedefaults\":{\"line\":{\"color\":\"#2a3f5f\"}},\"annotationdefaults\":{\"arrowcolor\":\"#2a3f5f\",\"arrowhead\":0,\"arrowwidth\":1},\"geo\":{\"bgcolor\":\"white\",\"landcolor\":\"#E5ECF6\",\"subunitcolor\":\"white\",\"showland\":true,\"showlakes\":true,\"lakecolor\":\"white\"},\"title\":{\"x\":0.05},\"mapbox\":{\"style\":\"light\"}}},\"xaxis\":{\"anchor\":\"y\",\"domain\":[0.0,1.0],\"title\":{\"text\":\"estado_civil\"}},\"yaxis\":{\"anchor\":\"x\",\"domain\":[0.0,1.0],\"title\":{\"text\":\"count\"}},\"legend\":{\"title\":{\"text\":\"aderencia_investimento\"},\"tracegroupgap\":0},\"margin\":{\"t\":60},\"barmode\":\"group\"},                        {\"responsive\": true}                    ).then(function(){\n",
              "                            \n",
              "var gd = document.getElementById('7f00e164-13b9-49a2-9d89-d3dd62462640');\n",
              "var x = new MutationObserver(function (mutations, observer) {{\n",
              "        var display = window.getComputedStyle(gd).display;\n",
              "        if (!display || display === 'none') {{\n",
              "            console.log([gd, 'removed!']);\n",
              "            Plotly.purge(gd);\n",
              "            observer.disconnect();\n",
              "        }}\n",
              "}});\n",
              "\n",
              "// Listen for the removal of the full notebook cells\n",
              "var notebookContainer = gd.closest('#notebook-container');\n",
              "if (notebookContainer) {{\n",
              "    x.observe(notebookContainer, {childList: true});\n",
              "}}\n",
              "\n",
              "// Listen for the clearing of the current output cell\n",
              "var outputEl = gd.closest('.output');\n",
              "if (outputEl) {{\n",
              "    x.observe(outputEl, {childList: true});\n",
              "}}\n",
              "\n",
              "                        })                };                            </script>        </div>\n",
              "</body>\n",
              "</html>"
            ]
          },
          "metadata": {}
        }
      ]
    },
    {
      "cell_type": "code",
      "source": [
        "px.histogram(dados, x = 'escolaridade', text_auto = True, color = 'aderencia_investimento',  barmode = 'group')"
      ],
      "metadata": {
        "id": "S50ZImfvxT-4",
        "outputId": "92c55fa7-d70e-426d-85f0-2cd43971bb5d",
        "colab": {
          "base_uri": "https://localhost:8080/",
          "height": 542
        }
      },
      "execution_count": 8,
      "outputs": [
        {
          "output_type": "display_data",
          "data": {
            "text/html": [
              "<html>\n",
              "<head><meta charset=\"utf-8\" /></head>\n",
              "<body>\n",
              "    <div>            <script src=\"https://cdnjs.cloudflare.com/ajax/libs/mathjax/2.7.5/MathJax.js?config=TeX-AMS-MML_SVG\"></script><script type=\"text/javascript\">if (window.MathJax && window.MathJax.Hub && window.MathJax.Hub.Config) {window.MathJax.Hub.Config({SVG: {font: \"STIX-Web\"}});}</script>                <script type=\"text/javascript\">window.PlotlyConfig = {MathJaxConfig: 'local'};</script>\n",
              "        <script charset=\"utf-8\" src=\"https://cdn.plot.ly/plotly-2.35.2.min.js\"></script>                <div id=\"c40d3f34-ac60-4f65-8e0e-8db3ab5fce62\" class=\"plotly-graph-div\" style=\"height:525px; width:100%;\"></div>            <script type=\"text/javascript\">                                    window.PLOTLYENV=window.PLOTLYENV || {};                                    if (document.getElementById(\"c40d3f34-ac60-4f65-8e0e-8db3ab5fce62\")) {                    Plotly.newPlot(                        \"c40d3f34-ac60-4f65-8e0e-8db3ab5fce62\",                        [{\"alignmentgroup\":\"True\",\"bingroup\":\"x\",\"hovertemplate\":\"aderencia_investimento=sim\\u003cbr\\u003eescolaridade=%{x}\\u003cbr\\u003ecount=%{y}\\u003cextra\\u003e\\u003c\\u002fextra\\u003e\",\"legendgroup\":\"sim\",\"marker\":{\"color\":\"#636efa\",\"pattern\":{\"shape\":\"\"}},\"name\":\"sim\",\"offsetgroup\":\"sim\",\"orientation\":\"v\",\"showlegend\":true,\"texttemplate\":\"%{value}\",\"x\":[\"superior\",\"medio\",\"superior\",\"medio\",\"medio\",\"superior\",\"medio\",\"medio\",\"medio\",\"superior\",\"superior\",\"superior\",\"medio\",\"medio\",\"medio\",\"superior\",\"superior\",\"medio\",\"medio\",\"medio\",\"medio\",\"medio\",\"superior\",\"superior\",\"superior\",\"superior\",\"superior\",\"superior\",\"superior\",\"medio\",\"superior\",\"superior\",\"medio\",\"fundamental\",\"medio\",\"medio\",\"superior\",\"superior\",\"superior\",\"superior\",\"medio\",\"medio\",\"superior\",\"medio\",\"superior\",\"medio\",\"medio\",\"fundamental\",\"medio\",\"medio\",\"medio\",\"superior\",\"medio\",\"superior\",\"superior\",\"superior\",\"fundamental\",\"medio\",\"fundamental\",\"superior\",\"superior\",\"medio\",\"superior\",\"medio\",\"medio\",\"medio\",\"medio\",\"medio\",\"superior\",\"superior\",\"fundamental\",\"medio\",\"medio\",\"superior\",\"fundamental\",\"superior\",\"medio\",\"fundamental\",\"superior\",\"medio\",\"medio\",\"fundamental\",\"medio\",\"fundamental\",\"medio\",\"fundamental\",\"fundamental\",\"superior\",\"superior\",\"medio\",\"superior\",\"medio\",\"medio\",\"superior\",\"medio\",\"superior\",\"medio\",\"medio\",\"superior\",\"medio\",\"medio\",\"medio\",\"medio\",\"medio\",\"superior\",\"medio\",\"medio\",\"medio\",\"medio\",\"superior\",\"medio\",\"medio\",\"superior\",\"medio\",\"superior\",\"medio\",\"medio\",\"medio\",\"superior\",\"medio\",\"superior\",\"fundamental\",\"medio\",\"superior\",\"medio\",\"medio\",\"fundamental\",\"medio\",\"medio\",\"superior\",\"medio\",\"medio\",\"superior\",\"medio\",\"medio\",\"superior\",\"medio\",\"medio\",\"medio\",\"medio\",\"fundamental\",\"fundamental\",\"superior\",\"superior\",\"medio\",\"superior\",\"superior\",\"superior\",\"medio\",\"medio\",\"superior\",\"medio\",\"superior\",\"superior\",\"medio\",\"superior\",\"medio\",\"superior\",\"medio\",\"fundamental\",\"medio\",\"superior\",\"medio\",\"medio\",\"fundamental\",\"superior\",\"medio\",\"medio\",\"medio\",\"superior\",\"medio\",\"superior\",\"superior\",\"superior\",\"medio\",\"superior\",\"fundamental\",\"superior\",\"medio\",\"medio\",\"medio\",\"superior\",\"medio\",\"superior\",\"superior\",\"fundamental\",\"medio\",\"medio\",\"medio\",\"superior\",\"medio\",\"medio\",\"fundamental\",\"fundamental\",\"superior\",\"superior\",\"medio\",\"superior\",\"medio\",\"fundamental\",\"fundamental\",\"medio\",\"fundamental\",\"superior\",\"fundamental\",\"medio\",\"medio\",\"medio\",\"medio\",\"superior\",\"medio\",\"medio\",\"superior\",\"superior\",\"superior\",\"superior\",\"medio\",\"medio\",\"superior\",\"superior\",\"medio\",\"medio\",\"medio\",\"medio\",\"medio\",\"superior\",\"medio\",\"superior\",\"medio\",\"medio\",\"superior\",\"medio\",\"fundamental\",\"medio\",\"fundamental\",\"superior\",\"superior\",\"fundamental\",\"fundamental\",\"fundamental\",\"superior\",\"superior\",\"superior\",\"medio\",\"medio\",\"medio\",\"medio\",\"medio\",\"medio\",\"medio\",\"medio\",\"medio\",\"superior\",\"fundamental\",\"medio\",\"superior\",\"medio\",\"superior\",\"medio\",\"superior\",\"medio\",\"fundamental\",\"fundamental\",\"medio\",\"superior\",\"superior\",\"superior\",\"medio\",\"medio\",\"medio\",\"superior\",\"medio\",\"superior\",\"superior\",\"medio\",\"superior\",\"fundamental\",\"medio\",\"medio\",\"medio\",\"medio\",\"superior\",\"superior\",\"medio\",\"medio\",\"medio\",\"fundamental\",\"fundamental\",\"medio\",\"superior\",\"superior\",\"fundamental\",\"superior\",\"superior\",\"superior\",\"superior\",\"medio\",\"medio\",\"medio\",\"superior\",\"medio\",\"medio\",\"medio\",\"medio\",\"fundamental\",\"medio\",\"superior\",\"medio\",\"medio\",\"medio\",\"superior\",\"medio\",\"medio\",\"fundamental\",\"medio\",\"superior\",\"superior\",\"superior\",\"superior\",\"medio\",\"superior\",\"fundamental\",\"medio\",\"fundamental\",\"medio\",\"superior\",\"medio\",\"superior\",\"fundamental\",\"medio\",\"superior\",\"medio\",\"medio\",\"superior\",\"superior\",\"superior\",\"medio\",\"medio\",\"superior\",\"medio\",\"superior\",\"medio\",\"superior\",\"medio\",\"medio\",\"fundamental\",\"medio\",\"medio\",\"superior\",\"fundamental\",\"medio\",\"fundamental\",\"medio\",\"superior\",\"medio\",\"medio\",\"superior\",\"medio\",\"fundamental\",\"superior\",\"medio\",\"medio\",\"medio\",\"medio\",\"medio\",\"fundamental\",\"fundamental\",\"superior\",\"medio\",\"medio\",\"superior\",\"superior\",\"superior\",\"superior\",\"medio\",\"medio\",\"fundamental\",\"medio\",\"medio\",\"superior\",\"medio\",\"fundamental\",\"superior\",\"fundamental\",\"superior\",\"medio\",\"superior\",\"fundamental\",\"medio\",\"medio\",\"fundamental\",\"fundamental\",\"superior\",\"medio\",\"medio\",\"superior\",\"medio\",\"medio\",\"superior\",\"superior\",\"medio\",\"medio\",\"superior\",\"superior\",\"superior\",\"superior\",\"medio\",\"fundamental\",\"superior\",\"superior\",\"medio\",\"superior\",\"medio\",\"medio\",\"fundamental\",\"superior\",\"superior\",\"medio\",\"medio\",\"fundamental\",\"fundamental\",\"superior\",\"superior\",\"superior\",\"superior\",\"superior\",\"medio\",\"medio\",\"superior\",\"medio\",\"medio\",\"superior\",\"medio\",\"superior\",\"superior\",\"superior\",\"superior\",\"medio\",\"fundamental\",\"superior\",\"medio\",\"medio\",\"fundamental\",\"superior\",\"medio\",\"medio\",\"superior\",\"medio\",\"superior\",\"superior\",\"medio\",\"medio\",\"superior\",\"medio\",\"superior\",\"superior\",\"superior\",\"superior\",\"medio\",\"medio\",\"superior\",\"medio\",\"fundamental\",\"medio\",\"medio\",\"fundamental\",\"superior\",\"medio\",\"medio\",\"medio\",\"medio\",\"medio\",\"medio\",\"medio\",\"medio\",\"medio\",\"medio\",\"fundamental\",\"medio\",\"medio\",\"superior\",\"superior\",\"superior\",\"superior\",\"superior\",\"fundamental\",\"superior\",\"superior\",\"superior\",\"medio\",\"medio\",\"medio\",\"medio\",\"superior\",\"medio\",\"superior\",\"superior\",\"superior\",\"superior\",\"superior\",\"superior\",\"superior\"],\"xaxis\":\"x\",\"yaxis\":\"y\",\"type\":\"histogram\"},{\"alignmentgroup\":\"True\",\"bingroup\":\"x\",\"hovertemplate\":\"aderencia_investimento=nao\\u003cbr\\u003eescolaridade=%{x}\\u003cbr\\u003ecount=%{y}\\u003cextra\\u003e\\u003c\\u002fextra\\u003e\",\"legendgroup\":\"nao\",\"marker\":{\"color\":\"#EF553B\",\"pattern\":{\"shape\":\"\"}},\"name\":\"nao\",\"offsetgroup\":\"nao\",\"orientation\":\"v\",\"showlegend\":true,\"texttemplate\":\"%{value}\",\"x\":[\"superior\",\"superior\",\"medio\",\"fundamental\",\"medio\",\"fundamental\",\"superior\",\"superior\",\"fundamental\",\"medio\",\"medio\",\"medio\",\"medio\",\"medio\",\"medio\",\"fundamental\",\"medio\",\"medio\",\"medio\",\"medio\",\"medio\",\"superior\",\"medio\",\"medio\",\"fundamental\",\"superior\",\"superior\",\"superior\",\"superior\",\"superior\",\"superior\",\"medio\",\"superior\",\"medio\",\"medio\",\"fundamental\",\"superior\",\"medio\",\"medio\",\"superior\",\"medio\",\"fundamental\",\"fundamental\",\"superior\",\"superior\",\"medio\",\"superior\",\"medio\",\"fundamental\",\"medio\",\"superior\",\"superior\",\"medio\",\"superior\",\"medio\",\"medio\",\"fundamental\",\"fundamental\",\"medio\",\"superior\",\"medio\",\"fundamental\",\"superior\",\"medio\",\"medio\",\"medio\",\"medio\",\"superior\",\"superior\",\"superior\",\"superior\",\"fundamental\",\"superior\",\"medio\",\"medio\",\"medio\",\"fundamental\",\"medio\",\"fundamental\",\"medio\",\"superior\",\"medio\",\"medio\",\"superior\",\"medio\",\"medio\",\"fundamental\",\"medio\",\"medio\",\"superior\",\"medio\",\"medio\",\"medio\",\"medio\",\"superior\",\"medio\",\"medio\",\"medio\",\"superior\",\"medio\",\"medio\",\"superior\",\"medio\",\"medio\",\"superior\",\"medio\",\"medio\",\"superior\",\"medio\",\"medio\",\"fundamental\",\"superior\",\"medio\",\"medio\",\"medio\",\"medio\",\"medio\",\"fundamental\",\"medio\",\"superior\",\"medio\",\"medio\",\"medio\",\"superior\",\"medio\",\"medio\",\"superior\",\"fundamental\",\"medio\",\"medio\",\"medio\",\"medio\",\"medio\",\"medio\",\"medio\",\"medio\",\"superior\",\"medio\",\"medio\",\"fundamental\",\"medio\",\"medio\",\"superior\",\"superior\",\"superior\",\"medio\",\"medio\",\"medio\",\"superior\",\"fundamental\",\"superior\",\"fundamental\",\"medio\",\"medio\",\"medio\",\"medio\",\"fundamental\",\"medio\",\"medio\",\"fundamental\",\"superior\",\"fundamental\",\"fundamental\",\"superior\",\"medio\",\"fundamental\",\"medio\",\"medio\",\"superior\",\"medio\",\"fundamental\",\"superior\",\"superior\",\"medio\",\"superior\",\"medio\",\"medio\",\"fundamental\",\"medio\",\"fundamental\",\"medio\",\"superior\",\"superior\",\"medio\",\"medio\",\"superior\",\"medio\",\"superior\",\"medio\",\"superior\",\"superior\",\"medio\",\"medio\",\"superior\",\"superior\",\"fundamental\",\"medio\",\"superior\",\"medio\",\"medio\",\"fundamental\",\"fundamental\",\"medio\",\"medio\",\"medio\",\"fundamental\",\"medio\",\"medio\",\"superior\",\"superior\",\"fundamental\",\"medio\",\"medio\",\"medio\",\"superior\",\"fundamental\",\"superior\",\"superior\",\"medio\",\"superior\",\"superior\",\"superior\",\"medio\",\"medio\",\"fundamental\",\"superior\",\"medio\",\"medio\",\"fundamental\",\"medio\",\"fundamental\",\"superior\",\"medio\",\"medio\",\"medio\",\"medio\",\"medio\",\"medio\",\"medio\",\"medio\",\"medio\",\"medio\",\"medio\",\"medio\",\"medio\",\"superior\",\"fundamental\",\"fundamental\",\"superior\",\"medio\",\"medio\",\"superior\",\"medio\",\"fundamental\",\"superior\",\"fundamental\",\"superior\",\"medio\",\"superior\",\"fundamental\",\"medio\",\"medio\",\"fundamental\",\"superior\",\"medio\",\"medio\",\"fundamental\",\"superior\",\"medio\",\"superior\",\"medio\",\"medio\",\"medio\",\"medio\",\"superior\",\"medio\",\"medio\",\"fundamental\",\"superior\",\"medio\",\"superior\",\"medio\",\"medio\",\"superior\",\"superior\",\"superior\",\"superior\",\"superior\",\"medio\",\"medio\",\"medio\",\"medio\",\"medio\",\"medio\",\"medio\",\"medio\",\"fundamental\",\"fundamental\",\"medio\",\"medio\",\"superior\",\"medio\",\"superior\",\"medio\",\"medio\",\"superior\",\"superior\",\"medio\",\"medio\",\"medio\",\"medio\",\"medio\",\"medio\",\"medio\",\"superior\",\"medio\",\"superior\",\"fundamental\",\"medio\",\"medio\",\"medio\",\"medio\",\"medio\",\"superior\",\"medio\",\"medio\",\"medio\",\"superior\",\"fundamental\",\"superior\",\"medio\",\"superior\",\"superior\",\"medio\",\"superior\",\"superior\",\"superior\",\"medio\",\"medio\",\"fundamental\",\"medio\",\"fundamental\",\"medio\",\"fundamental\",\"medio\",\"medio\",\"fundamental\",\"fundamental\",\"medio\",\"superior\",\"medio\",\"medio\",\"superior\",\"medio\",\"medio\",\"fundamental\",\"fundamental\",\"fundamental\",\"medio\",\"medio\",\"superior\",\"medio\",\"fundamental\",\"superior\",\"medio\",\"fundamental\",\"fundamental\",\"superior\",\"fundamental\",\"medio\",\"medio\",\"medio\",\"medio\",\"fundamental\",\"medio\",\"medio\",\"medio\",\"fundamental\",\"medio\",\"superior\",\"medio\",\"medio\",\"medio\",\"medio\",\"medio\",\"medio\",\"superior\",\"medio\",\"medio\",\"medio\",\"superior\",\"medio\",\"medio\",\"medio\",\"fundamental\",\"superior\",\"superior\",\"superior\",\"medio\",\"superior\",\"fundamental\",\"medio\",\"medio\",\"superior\",\"superior\",\"medio\",\"superior\",\"superior\",\"medio\",\"medio\",\"fundamental\",\"medio\",\"medio\",\"fundamental\",\"medio\",\"medio\",\"superior\",\"fundamental\",\"fundamental\",\"superior\",\"medio\",\"medio\",\"medio\",\"superior\",\"medio\",\"superior\",\"medio\",\"superior\",\"fundamental\",\"medio\",\"superior\",\"medio\",\"fundamental\",\"medio\",\"superior\",\"superior\",\"medio\",\"medio\",\"superior\",\"fundamental\",\"medio\",\"medio\",\"superior\",\"fundamental\",\"medio\",\"superior\",\"medio\",\"superior\",\"superior\",\"superior\",\"superior\",\"fundamental\",\"medio\",\"superior\",\"medio\",\"medio\",\"superior\",\"medio\",\"superior\",\"superior\",\"superior\",\"superior\",\"medio\",\"fundamental\",\"medio\",\"medio\",\"superior\",\"fundamental\",\"superior\",\"medio\",\"medio\",\"medio\",\"medio\",\"medio\",\"medio\",\"medio\",\"medio\",\"medio\",\"fundamental\",\"fundamental\",\"medio\",\"medio\",\"superior\",\"medio\",\"fundamental\",\"medio\",\"fundamental\",\"superior\",\"medio\",\"medio\",\"medio\",\"medio\",\"medio\",\"superior\",\"fundamental\",\"medio\",\"medio\",\"medio\",\"medio\",\"medio\",\"medio\",\"superior\",\"superior\",\"medio\",\"medio\",\"superior\",\"superior\",\"medio\",\"medio\",\"medio\",\"medio\",\"medio\",\"medio\",\"fundamental\",\"superior\",\"superior\",\"superior\",\"superior\",\"medio\",\"fundamental\",\"fundamental\",\"medio\",\"medio\",\"fundamental\",\"medio\",\"medio\",\"superior\",\"medio\",\"medio\",\"medio\",\"superior\",\"superior\",\"superior\",\"medio\",\"medio\",\"medio\",\"medio\",\"fundamental\",\"medio\",\"superior\",\"superior\",\"superior\",\"medio\",\"medio\",\"superior\",\"superior\",\"superior\",\"medio\",\"medio\",\"superior\",\"superior\",\"medio\",\"medio\",\"medio\",\"fundamental\",\"fundamental\",\"fundamental\",\"medio\",\"medio\",\"medio\",\"medio\",\"medio\",\"medio\",\"superior\",\"medio\",\"superior\",\"fundamental\",\"medio\",\"medio\",\"fundamental\",\"fundamental\",\"fundamental\",\"medio\",\"medio\",\"medio\",\"superior\",\"fundamental\",\"superior\",\"medio\",\"medio\",\"superior\",\"fundamental\",\"superior\",\"fundamental\",\"medio\",\"fundamental\",\"superior\",\"fundamental\",\"superior\",\"superior\",\"medio\",\"superior\",\"medio\",\"medio\",\"superior\",\"medio\",\"medio\",\"superior\",\"medio\",\"superior\",\"fundamental\",\"superior\",\"medio\",\"fundamental\",\"superior\",\"superior\",\"medio\",\"fundamental\",\"fundamental\",\"fundamental\",\"medio\",\"medio\",\"medio\",\"fundamental\",\"superior\",\"medio\",\"medio\",\"medio\",\"medio\",\"medio\",\"medio\",\"medio\",\"medio\",\"superior\",\"superior\",\"medio\",\"superior\",\"medio\",\"superior\",\"medio\",\"medio\",\"medio\",\"superior\",\"medio\",\"medio\",\"superior\",\"fundamental\",\"medio\",\"medio\",\"superior\",\"medio\",\"medio\",\"medio\",\"superior\",\"medio\",\"medio\",\"fundamental\",\"fundamental\",\"fundamental\",\"superior\",\"medio\",\"medio\",\"superior\",\"superior\",\"fundamental\",\"medio\",\"medio\",\"medio\",\"medio\",\"medio\",\"medio\",\"fundamental\",\"fundamental\",\"superior\",\"medio\",\"medio\",\"medio\",\"superior\",\"superior\",\"medio\",\"superior\",\"fundamental\",\"superior\",\"superior\",\"medio\",\"medio\",\"medio\",\"fundamental\",\"medio\",\"medio\",\"medio\",\"fundamental\",\"superior\",\"superior\",\"medio\",\"medio\",\"medio\",\"medio\",\"superior\",\"medio\",\"superior\",\"superior\",\"medio\",\"medio\",\"medio\",\"superior\",\"fundamental\",\"medio\",\"medio\",\"fundamental\",\"medio\",\"medio\",\"fundamental\",\"superior\",\"medio\",\"medio\",\"superior\",\"medio\",\"fundamental\",\"superior\",\"medio\",\"fundamental\",\"superior\",\"superior\",\"medio\",\"superior\",\"fundamental\",\"superior\",\"medio\",\"fundamental\",\"medio\",\"medio\",\"superior\",\"fundamental\",\"medio\",\"medio\",\"medio\",\"medio\",\"medio\",\"medio\",\"fundamental\",\"medio\",\"medio\",\"medio\",\"medio\",\"medio\",\"superior\",\"medio\",\"medio\",\"superior\",\"superior\",\"medio\",\"superior\",\"fundamental\",\"superior\",\"fundamental\",\"superior\",\"medio\",\"medio\",\"medio\",\"medio\",\"medio\",\"fundamental\",\"medio\",\"medio\",\"fundamental\",\"medio\",\"superior\",\"superior\",\"superior\",\"medio\",\"medio\",\"medio\",\"medio\",\"medio\",\"medio\"],\"xaxis\":\"x\",\"yaxis\":\"y\",\"type\":\"histogram\"}],                        {\"template\":{\"data\":{\"histogram2dcontour\":[{\"type\":\"histogram2dcontour\",\"colorbar\":{\"outlinewidth\":0,\"ticks\":\"\"},\"colorscale\":[[0.0,\"#0d0887\"],[0.1111111111111111,\"#46039f\"],[0.2222222222222222,\"#7201a8\"],[0.3333333333333333,\"#9c179e\"],[0.4444444444444444,\"#bd3786\"],[0.5555555555555556,\"#d8576b\"],[0.6666666666666666,\"#ed7953\"],[0.7777777777777778,\"#fb9f3a\"],[0.8888888888888888,\"#fdca26\"],[1.0,\"#f0f921\"]]}],\"choropleth\":[{\"type\":\"choropleth\",\"colorbar\":{\"outlinewidth\":0,\"ticks\":\"\"}}],\"histogram2d\":[{\"type\":\"histogram2d\",\"colorbar\":{\"outlinewidth\":0,\"ticks\":\"\"},\"colorscale\":[[0.0,\"#0d0887\"],[0.1111111111111111,\"#46039f\"],[0.2222222222222222,\"#7201a8\"],[0.3333333333333333,\"#9c179e\"],[0.4444444444444444,\"#bd3786\"],[0.5555555555555556,\"#d8576b\"],[0.6666666666666666,\"#ed7953\"],[0.7777777777777778,\"#fb9f3a\"],[0.8888888888888888,\"#fdca26\"],[1.0,\"#f0f921\"]]}],\"heatmap\":[{\"type\":\"heatmap\",\"colorbar\":{\"outlinewidth\":0,\"ticks\":\"\"},\"colorscale\":[[0.0,\"#0d0887\"],[0.1111111111111111,\"#46039f\"],[0.2222222222222222,\"#7201a8\"],[0.3333333333333333,\"#9c179e\"],[0.4444444444444444,\"#bd3786\"],[0.5555555555555556,\"#d8576b\"],[0.6666666666666666,\"#ed7953\"],[0.7777777777777778,\"#fb9f3a\"],[0.8888888888888888,\"#fdca26\"],[1.0,\"#f0f921\"]]}],\"heatmapgl\":[{\"type\":\"heatmapgl\",\"colorbar\":{\"outlinewidth\":0,\"ticks\":\"\"},\"colorscale\":[[0.0,\"#0d0887\"],[0.1111111111111111,\"#46039f\"],[0.2222222222222222,\"#7201a8\"],[0.3333333333333333,\"#9c179e\"],[0.4444444444444444,\"#bd3786\"],[0.5555555555555556,\"#d8576b\"],[0.6666666666666666,\"#ed7953\"],[0.7777777777777778,\"#fb9f3a\"],[0.8888888888888888,\"#fdca26\"],[1.0,\"#f0f921\"]]}],\"contourcarpet\":[{\"type\":\"contourcarpet\",\"colorbar\":{\"outlinewidth\":0,\"ticks\":\"\"}}],\"contour\":[{\"type\":\"contour\",\"colorbar\":{\"outlinewidth\":0,\"ticks\":\"\"},\"colorscale\":[[0.0,\"#0d0887\"],[0.1111111111111111,\"#46039f\"],[0.2222222222222222,\"#7201a8\"],[0.3333333333333333,\"#9c179e\"],[0.4444444444444444,\"#bd3786\"],[0.5555555555555556,\"#d8576b\"],[0.6666666666666666,\"#ed7953\"],[0.7777777777777778,\"#fb9f3a\"],[0.8888888888888888,\"#fdca26\"],[1.0,\"#f0f921\"]]}],\"surface\":[{\"type\":\"surface\",\"colorbar\":{\"outlinewidth\":0,\"ticks\":\"\"},\"colorscale\":[[0.0,\"#0d0887\"],[0.1111111111111111,\"#46039f\"],[0.2222222222222222,\"#7201a8\"],[0.3333333333333333,\"#9c179e\"],[0.4444444444444444,\"#bd3786\"],[0.5555555555555556,\"#d8576b\"],[0.6666666666666666,\"#ed7953\"],[0.7777777777777778,\"#fb9f3a\"],[0.8888888888888888,\"#fdca26\"],[1.0,\"#f0f921\"]]}],\"mesh3d\":[{\"type\":\"mesh3d\",\"colorbar\":{\"outlinewidth\":0,\"ticks\":\"\"}}],\"scatter\":[{\"fillpattern\":{\"fillmode\":\"overlay\",\"size\":10,\"solidity\":0.2},\"type\":\"scatter\"}],\"parcoords\":[{\"type\":\"parcoords\",\"line\":{\"colorbar\":{\"outlinewidth\":0,\"ticks\":\"\"}}}],\"scatterpolargl\":[{\"type\":\"scatterpolargl\",\"marker\":{\"colorbar\":{\"outlinewidth\":0,\"ticks\":\"\"}}}],\"bar\":[{\"error_x\":{\"color\":\"#2a3f5f\"},\"error_y\":{\"color\":\"#2a3f5f\"},\"marker\":{\"line\":{\"color\":\"#E5ECF6\",\"width\":0.5},\"pattern\":{\"fillmode\":\"overlay\",\"size\":10,\"solidity\":0.2}},\"type\":\"bar\"}],\"scattergeo\":[{\"type\":\"scattergeo\",\"marker\":{\"colorbar\":{\"outlinewidth\":0,\"ticks\":\"\"}}}],\"scatterpolar\":[{\"type\":\"scatterpolar\",\"marker\":{\"colorbar\":{\"outlinewidth\":0,\"ticks\":\"\"}}}],\"histogram\":[{\"marker\":{\"pattern\":{\"fillmode\":\"overlay\",\"size\":10,\"solidity\":0.2}},\"type\":\"histogram\"}],\"scattergl\":[{\"type\":\"scattergl\",\"marker\":{\"colorbar\":{\"outlinewidth\":0,\"ticks\":\"\"}}}],\"scatter3d\":[{\"type\":\"scatter3d\",\"line\":{\"colorbar\":{\"outlinewidth\":0,\"ticks\":\"\"}},\"marker\":{\"colorbar\":{\"outlinewidth\":0,\"ticks\":\"\"}}}],\"scattermapbox\":[{\"type\":\"scattermapbox\",\"marker\":{\"colorbar\":{\"outlinewidth\":0,\"ticks\":\"\"}}}],\"scatterternary\":[{\"type\":\"scatterternary\",\"marker\":{\"colorbar\":{\"outlinewidth\":0,\"ticks\":\"\"}}}],\"scattercarpet\":[{\"type\":\"scattercarpet\",\"marker\":{\"colorbar\":{\"outlinewidth\":0,\"ticks\":\"\"}}}],\"carpet\":[{\"aaxis\":{\"endlinecolor\":\"#2a3f5f\",\"gridcolor\":\"white\",\"linecolor\":\"white\",\"minorgridcolor\":\"white\",\"startlinecolor\":\"#2a3f5f\"},\"baxis\":{\"endlinecolor\":\"#2a3f5f\",\"gridcolor\":\"white\",\"linecolor\":\"white\",\"minorgridcolor\":\"white\",\"startlinecolor\":\"#2a3f5f\"},\"type\":\"carpet\"}],\"table\":[{\"cells\":{\"fill\":{\"color\":\"#EBF0F8\"},\"line\":{\"color\":\"white\"}},\"header\":{\"fill\":{\"color\":\"#C8D4E3\"},\"line\":{\"color\":\"white\"}},\"type\":\"table\"}],\"barpolar\":[{\"marker\":{\"line\":{\"color\":\"#E5ECF6\",\"width\":0.5},\"pattern\":{\"fillmode\":\"overlay\",\"size\":10,\"solidity\":0.2}},\"type\":\"barpolar\"}],\"pie\":[{\"automargin\":true,\"type\":\"pie\"}]},\"layout\":{\"autotypenumbers\":\"strict\",\"colorway\":[\"#636efa\",\"#EF553B\",\"#00cc96\",\"#ab63fa\",\"#FFA15A\",\"#19d3f3\",\"#FF6692\",\"#B6E880\",\"#FF97FF\",\"#FECB52\"],\"font\":{\"color\":\"#2a3f5f\"},\"hovermode\":\"closest\",\"hoverlabel\":{\"align\":\"left\"},\"paper_bgcolor\":\"white\",\"plot_bgcolor\":\"#E5ECF6\",\"polar\":{\"bgcolor\":\"#E5ECF6\",\"angularaxis\":{\"gridcolor\":\"white\",\"linecolor\":\"white\",\"ticks\":\"\"},\"radialaxis\":{\"gridcolor\":\"white\",\"linecolor\":\"white\",\"ticks\":\"\"}},\"ternary\":{\"bgcolor\":\"#E5ECF6\",\"aaxis\":{\"gridcolor\":\"white\",\"linecolor\":\"white\",\"ticks\":\"\"},\"baxis\":{\"gridcolor\":\"white\",\"linecolor\":\"white\",\"ticks\":\"\"},\"caxis\":{\"gridcolor\":\"white\",\"linecolor\":\"white\",\"ticks\":\"\"}},\"coloraxis\":{\"colorbar\":{\"outlinewidth\":0,\"ticks\":\"\"}},\"colorscale\":{\"sequential\":[[0.0,\"#0d0887\"],[0.1111111111111111,\"#46039f\"],[0.2222222222222222,\"#7201a8\"],[0.3333333333333333,\"#9c179e\"],[0.4444444444444444,\"#bd3786\"],[0.5555555555555556,\"#d8576b\"],[0.6666666666666666,\"#ed7953\"],[0.7777777777777778,\"#fb9f3a\"],[0.8888888888888888,\"#fdca26\"],[1.0,\"#f0f921\"]],\"sequentialminus\":[[0.0,\"#0d0887\"],[0.1111111111111111,\"#46039f\"],[0.2222222222222222,\"#7201a8\"],[0.3333333333333333,\"#9c179e\"],[0.4444444444444444,\"#bd3786\"],[0.5555555555555556,\"#d8576b\"],[0.6666666666666666,\"#ed7953\"],[0.7777777777777778,\"#fb9f3a\"],[0.8888888888888888,\"#fdca26\"],[1.0,\"#f0f921\"]],\"diverging\":[[0,\"#8e0152\"],[0.1,\"#c51b7d\"],[0.2,\"#de77ae\"],[0.3,\"#f1b6da\"],[0.4,\"#fde0ef\"],[0.5,\"#f7f7f7\"],[0.6,\"#e6f5d0\"],[0.7,\"#b8e186\"],[0.8,\"#7fbc41\"],[0.9,\"#4d9221\"],[1,\"#276419\"]]},\"xaxis\":{\"gridcolor\":\"white\",\"linecolor\":\"white\",\"ticks\":\"\",\"title\":{\"standoff\":15},\"zerolinecolor\":\"white\",\"automargin\":true,\"zerolinewidth\":2},\"yaxis\":{\"gridcolor\":\"white\",\"linecolor\":\"white\",\"ticks\":\"\",\"title\":{\"standoff\":15},\"zerolinecolor\":\"white\",\"automargin\":true,\"zerolinewidth\":2},\"scene\":{\"xaxis\":{\"backgroundcolor\":\"#E5ECF6\",\"gridcolor\":\"white\",\"linecolor\":\"white\",\"showbackground\":true,\"ticks\":\"\",\"zerolinecolor\":\"white\",\"gridwidth\":2},\"yaxis\":{\"backgroundcolor\":\"#E5ECF6\",\"gridcolor\":\"white\",\"linecolor\":\"white\",\"showbackground\":true,\"ticks\":\"\",\"zerolinecolor\":\"white\",\"gridwidth\":2},\"zaxis\":{\"backgroundcolor\":\"#E5ECF6\",\"gridcolor\":\"white\",\"linecolor\":\"white\",\"showbackground\":true,\"ticks\":\"\",\"zerolinecolor\":\"white\",\"gridwidth\":2}},\"shapedefaults\":{\"line\":{\"color\":\"#2a3f5f\"}},\"annotationdefaults\":{\"arrowcolor\":\"#2a3f5f\",\"arrowhead\":0,\"arrowwidth\":1},\"geo\":{\"bgcolor\":\"white\",\"landcolor\":\"#E5ECF6\",\"subunitcolor\":\"white\",\"showland\":true,\"showlakes\":true,\"lakecolor\":\"white\"},\"title\":{\"x\":0.05},\"mapbox\":{\"style\":\"light\"}}},\"xaxis\":{\"anchor\":\"y\",\"domain\":[0.0,1.0],\"title\":{\"text\":\"escolaridade\"}},\"yaxis\":{\"anchor\":\"x\",\"domain\":[0.0,1.0],\"title\":{\"text\":\"count\"}},\"legend\":{\"title\":{\"text\":\"aderencia_investimento\"},\"tracegroupgap\":0},\"margin\":{\"t\":60},\"barmode\":\"group\"},                        {\"responsive\": true}                    ).then(function(){\n",
              "                            \n",
              "var gd = document.getElementById('c40d3f34-ac60-4f65-8e0e-8db3ab5fce62');\n",
              "var x = new MutationObserver(function (mutations, observer) {{\n",
              "        var display = window.getComputedStyle(gd).display;\n",
              "        if (!display || display === 'none') {{\n",
              "            console.log([gd, 'removed!']);\n",
              "            Plotly.purge(gd);\n",
              "            observer.disconnect();\n",
              "        }}\n",
              "}});\n",
              "\n",
              "// Listen for the removal of the full notebook cells\n",
              "var notebookContainer = gd.closest('#notebook-container');\n",
              "if (notebookContainer) {{\n",
              "    x.observe(notebookContainer, {childList: true});\n",
              "}}\n",
              "\n",
              "// Listen for the clearing of the current output cell\n",
              "var outputEl = gd.closest('.output');\n",
              "if (outputEl) {{\n",
              "    x.observe(outputEl, {childList: true});\n",
              "}}\n",
              "\n",
              "                        })                };                            </script>        </div>\n",
              "</body>\n",
              "</html>"
            ]
          },
          "metadata": {}
        }
      ]
    },
    {
      "cell_type": "code",
      "source": [
        "px.histogram(dados, x = 'inadimplencia', text_auto = True, color = 'aderencia_investimento', barmode = 'group')"
      ],
      "metadata": {
        "id": "gdT1NPYexXGL",
        "outputId": "cb641f59-c6d6-434b-9015-cc08d96d33b9",
        "colab": {
          "base_uri": "https://localhost:8080/",
          "height": 542
        }
      },
      "execution_count": 9,
      "outputs": [
        {
          "output_type": "display_data",
          "data": {
            "text/html": [
              "<html>\n",
              "<head><meta charset=\"utf-8\" /></head>\n",
              "<body>\n",
              "    <div>            <script src=\"https://cdnjs.cloudflare.com/ajax/libs/mathjax/2.7.5/MathJax.js?config=TeX-AMS-MML_SVG\"></script><script type=\"text/javascript\">if (window.MathJax && window.MathJax.Hub && window.MathJax.Hub.Config) {window.MathJax.Hub.Config({SVG: {font: \"STIX-Web\"}});}</script>                <script type=\"text/javascript\">window.PlotlyConfig = {MathJaxConfig: 'local'};</script>\n",
              "        <script charset=\"utf-8\" src=\"https://cdn.plot.ly/plotly-2.35.2.min.js\"></script>                <div id=\"4b97e6ce-189e-4d7a-b777-1716f718524a\" class=\"plotly-graph-div\" style=\"height:525px; width:100%;\"></div>            <script type=\"text/javascript\">                                    window.PLOTLYENV=window.PLOTLYENV || {};                                    if (document.getElementById(\"4b97e6ce-189e-4d7a-b777-1716f718524a\")) {                    Plotly.newPlot(                        \"4b97e6ce-189e-4d7a-b777-1716f718524a\",                        [{\"alignmentgroup\":\"True\",\"bingroup\":\"x\",\"hovertemplate\":\"aderencia_investimento=sim\\u003cbr\\u003einadimplencia=%{x}\\u003cbr\\u003ecount=%{y}\\u003cextra\\u003e\\u003c\\u002fextra\\u003e\",\"legendgroup\":\"sim\",\"marker\":{\"color\":\"#636efa\",\"pattern\":{\"shape\":\"\"}},\"name\":\"sim\",\"offsetgroup\":\"sim\",\"orientation\":\"v\",\"showlegend\":true,\"texttemplate\":\"%{value}\",\"x\":[\"nao\",\"nao\",\"nao\",\"nao\",\"nao\",\"nao\",\"nao\",\"nao\",\"nao\",\"nao\",\"nao\",\"nao\",\"nao\",\"nao\",\"nao\",\"nao\",\"nao\",\"nao\",\"nao\",\"nao\",\"nao\",\"nao\",\"nao\",\"nao\",\"nao\",\"nao\",\"nao\",\"nao\",\"nao\",\"nao\",\"nao\",\"nao\",\"nao\",\"nao\",\"nao\",\"nao\",\"nao\",\"nao\",\"nao\",\"nao\",\"nao\",\"nao\",\"nao\",\"nao\",\"nao\",\"sim\",\"nao\",\"nao\",\"nao\",\"nao\",\"nao\",\"nao\",\"nao\",\"nao\",\"nao\",\"nao\",\"nao\",\"nao\",\"nao\",\"nao\",\"nao\",\"nao\",\"nao\",\"nao\",\"nao\",\"nao\",\"nao\",\"nao\",\"nao\",\"nao\",\"nao\",\"nao\",\"nao\",\"nao\",\"nao\",\"nao\",\"nao\",\"nao\",\"nao\",\"nao\",\"nao\",\"nao\",\"nao\",\"nao\",\"nao\",\"nao\",\"nao\",\"nao\",\"nao\",\"nao\",\"nao\",\"nao\",\"nao\",\"nao\",\"nao\",\"nao\",\"nao\",\"nao\",\"nao\",\"nao\",\"nao\",\"nao\",\"nao\",\"nao\",\"nao\",\"nao\",\"nao\",\"nao\",\"nao\",\"nao\",\"nao\",\"nao\",\"nao\",\"nao\",\"nao\",\"nao\",\"nao\",\"nao\",\"nao\",\"nao\",\"nao\",\"nao\",\"nao\",\"nao\",\"nao\",\"nao\",\"nao\",\"nao\",\"nao\",\"nao\",\"nao\",\"nao\",\"nao\",\"nao\",\"nao\",\"nao\",\"nao\",\"nao\",\"nao\",\"nao\",\"nao\",\"nao\",\"nao\",\"nao\",\"nao\",\"nao\",\"nao\",\"nao\",\"nao\",\"nao\",\"nao\",\"nao\",\"nao\",\"nao\",\"nao\",\"nao\",\"nao\",\"nao\",\"sim\",\"nao\",\"nao\",\"nao\",\"nao\",\"nao\",\"nao\",\"nao\",\"nao\",\"nao\",\"sim\",\"nao\",\"nao\",\"nao\",\"nao\",\"nao\",\"nao\",\"nao\",\"nao\",\"nao\",\"nao\",\"nao\",\"nao\",\"nao\",\"nao\",\"nao\",\"nao\",\"nao\",\"nao\",\"nao\",\"nao\",\"nao\",\"nao\",\"nao\",\"nao\",\"nao\",\"nao\",\"nao\",\"nao\",\"nao\",\"nao\",\"nao\",\"nao\",\"nao\",\"nao\",\"nao\",\"nao\",\"nao\",\"nao\",\"nao\",\"nao\",\"nao\",\"sim\",\"nao\",\"nao\",\"nao\",\"nao\",\"nao\",\"nao\",\"nao\",\"nao\",\"nao\",\"nao\",\"nao\",\"nao\",\"nao\",\"nao\",\"nao\",\"nao\",\"nao\",\"nao\",\"nao\",\"nao\",\"nao\",\"nao\",\"nao\",\"nao\",\"nao\",\"nao\",\"nao\",\"nao\",\"nao\",\"nao\",\"nao\",\"nao\",\"nao\",\"nao\",\"nao\",\"nao\",\"nao\",\"nao\",\"nao\",\"nao\",\"nao\",\"nao\",\"nao\",\"nao\",\"nao\",\"nao\",\"nao\",\"nao\",\"nao\",\"nao\",\"nao\",\"nao\",\"nao\",\"nao\",\"nao\",\"nao\",\"nao\",\"nao\",\"nao\",\"nao\",\"nao\",\"nao\",\"nao\",\"nao\",\"nao\",\"nao\",\"nao\",\"nao\",\"nao\",\"nao\",\"nao\",\"nao\",\"nao\",\"nao\",\"nao\",\"nao\",\"nao\",\"nao\",\"nao\",\"nao\",\"nao\",\"nao\",\"nao\",\"nao\",\"nao\",\"nao\",\"nao\",\"nao\",\"nao\",\"nao\",\"nao\",\"nao\",\"nao\",\"nao\",\"nao\",\"nao\",\"nao\",\"nao\",\"nao\",\"nao\",\"nao\",\"nao\",\"nao\",\"nao\",\"nao\",\"nao\",\"nao\",\"nao\",\"nao\",\"nao\",\"nao\",\"nao\",\"nao\",\"nao\",\"nao\",\"nao\",\"nao\",\"nao\",\"nao\",\"nao\",\"nao\",\"nao\",\"nao\",\"nao\",\"nao\",\"nao\",\"nao\",\"nao\",\"nao\",\"nao\",\"nao\",\"nao\",\"nao\",\"nao\",\"nao\",\"nao\",\"nao\",\"nao\",\"nao\",\"nao\",\"nao\",\"nao\",\"nao\",\"nao\",\"nao\",\"nao\",\"nao\",\"nao\",\"nao\",\"nao\",\"nao\",\"nao\",\"nao\",\"nao\",\"nao\",\"nao\",\"nao\",\"nao\",\"nao\",\"nao\",\"nao\",\"nao\",\"nao\",\"nao\",\"nao\",\"nao\",\"nao\",\"nao\",\"nao\",\"nao\",\"nao\",\"nao\",\"nao\",\"nao\",\"nao\",\"nao\",\"sim\",\"nao\",\"nao\",\"nao\",\"nao\",\"nao\",\"nao\",\"nao\",\"nao\",\"nao\",\"nao\",\"nao\",\"nao\",\"nao\",\"sim\",\"nao\",\"nao\",\"nao\",\"nao\",\"nao\",\"nao\",\"nao\",\"nao\",\"nao\",\"nao\",\"nao\",\"nao\",\"nao\",\"nao\",\"nao\",\"nao\",\"nao\",\"nao\",\"nao\",\"nao\",\"nao\",\"nao\",\"nao\",\"nao\",\"nao\",\"nao\",\"nao\",\"nao\",\"nao\",\"nao\",\"nao\",\"nao\",\"nao\",\"nao\",\"nao\",\"nao\",\"nao\",\"nao\",\"nao\",\"nao\",\"nao\",\"nao\",\"nao\",\"nao\",\"nao\",\"nao\",\"sim\",\"nao\",\"nao\",\"nao\",\"nao\",\"nao\",\"nao\",\"nao\",\"nao\",\"nao\",\"nao\",\"nao\",\"nao\",\"nao\",\"nao\",\"nao\",\"nao\",\"nao\",\"nao\",\"nao\",\"nao\",\"nao\",\"nao\",\"nao\",\"nao\",\"nao\",\"nao\",\"nao\",\"sim\",\"nao\",\"nao\",\"nao\",\"nao\",\"nao\",\"nao\",\"nao\",\"nao\",\"nao\",\"nao\",\"nao\",\"nao\",\"nao\",\"nao\",\"nao\",\"nao\",\"nao\",\"nao\",\"nao\",\"nao\",\"nao\",\"nao\",\"nao\",\"nao\",\"nao\"],\"xaxis\":\"x\",\"yaxis\":\"y\",\"type\":\"histogram\"},{\"alignmentgroup\":\"True\",\"bingroup\":\"x\",\"hovertemplate\":\"aderencia_investimento=nao\\u003cbr\\u003einadimplencia=%{x}\\u003cbr\\u003ecount=%{y}\\u003cextra\\u003e\\u003c\\u002fextra\\u003e\",\"legendgroup\":\"nao\",\"marker\":{\"color\":\"#EF553B\",\"pattern\":{\"shape\":\"\"}},\"name\":\"nao\",\"offsetgroup\":\"nao\",\"orientation\":\"v\",\"showlegend\":true,\"texttemplate\":\"%{value}\",\"x\":[\"nao\",\"nao\",\"nao\",\"nao\",\"nao\",\"nao\",\"nao\",\"nao\",\"nao\",\"nao\",\"nao\",\"nao\",\"nao\",\"nao\",\"nao\",\"nao\",\"nao\",\"nao\",\"nao\",\"nao\",\"nao\",\"nao\",\"nao\",\"sim\",\"nao\",\"nao\",\"nao\",\"nao\",\"nao\",\"nao\",\"nao\",\"nao\",\"nao\",\"nao\",\"nao\",\"nao\",\"nao\",\"nao\",\"nao\",\"nao\",\"nao\",\"nao\",\"nao\",\"nao\",\"nao\",\"nao\",\"nao\",\"nao\",\"nao\",\"nao\",\"nao\",\"nao\",\"nao\",\"nao\",\"nao\",\"nao\",\"sim\",\"nao\",\"nao\",\"nao\",\"nao\",\"nao\",\"nao\",\"nao\",\"nao\",\"nao\",\"nao\",\"nao\",\"nao\",\"nao\",\"nao\",\"nao\",\"nao\",\"nao\",\"nao\",\"nao\",\"nao\",\"nao\",\"nao\",\"nao\",\"nao\",\"nao\",\"nao\",\"nao\",\"nao\",\"nao\",\"nao\",\"nao\",\"nao\",\"nao\",\"nao\",\"nao\",\"nao\",\"nao\",\"nao\",\"nao\",\"nao\",\"nao\",\"nao\",\"nao\",\"nao\",\"nao\",\"nao\",\"nao\",\"nao\",\"nao\",\"nao\",\"nao\",\"nao\",\"nao\",\"nao\",\"sim\",\"nao\",\"nao\",\"sim\",\"nao\",\"nao\",\"nao\",\"nao\",\"nao\",\"nao\",\"nao\",\"nao\",\"nao\",\"nao\",\"nao\",\"nao\",\"nao\",\"nao\",\"nao\",\"nao\",\"nao\",\"nao\",\"nao\",\"nao\",\"nao\",\"nao\",\"nao\",\"nao\",\"nao\",\"nao\",\"nao\",\"nao\",\"nao\",\"nao\",\"nao\",\"nao\",\"nao\",\"nao\",\"nao\",\"nao\",\"nao\",\"nao\",\"nao\",\"nao\",\"nao\",\"nao\",\"nao\",\"nao\",\"nao\",\"nao\",\"nao\",\"nao\",\"nao\",\"sim\",\"nao\",\"nao\",\"nao\",\"nao\",\"nao\",\"nao\",\"nao\",\"nao\",\"nao\",\"nao\",\"nao\",\"nao\",\"nao\",\"nao\",\"nao\",\"nao\",\"nao\",\"nao\",\"nao\",\"nao\",\"nao\",\"nao\",\"nao\",\"nao\",\"nao\",\"nao\",\"nao\",\"nao\",\"nao\",\"nao\",\"nao\",\"nao\",\"nao\",\"nao\",\"nao\",\"nao\",\"nao\",\"nao\",\"nao\",\"nao\",\"nao\",\"nao\",\"nao\",\"nao\",\"nao\",\"nao\",\"nao\",\"nao\",\"nao\",\"nao\",\"nao\",\"nao\",\"nao\",\"nao\",\"nao\",\"nao\",\"nao\",\"nao\",\"nao\",\"nao\",\"nao\",\"nao\",\"nao\",\"nao\",\"nao\",\"nao\",\"nao\",\"nao\",\"nao\",\"nao\",\"nao\",\"nao\",\"nao\",\"nao\",\"nao\",\"nao\",\"nao\",\"nao\",\"nao\",\"nao\",\"nao\",\"nao\",\"nao\",\"nao\",\"nao\",\"nao\",\"nao\",\"nao\",\"nao\",\"nao\",\"nao\",\"nao\",\"nao\",\"nao\",\"nao\",\"nao\",\"nao\",\"nao\",\"nao\",\"nao\",\"nao\",\"nao\",\"nao\",\"nao\",\"nao\",\"nao\",\"nao\",\"nao\",\"nao\",\"nao\",\"nao\",\"nao\",\"nao\",\"nao\",\"nao\",\"nao\",\"nao\",\"nao\",\"nao\",\"nao\",\"nao\",\"nao\",\"nao\",\"nao\",\"nao\",\"nao\",\"nao\",\"nao\",\"nao\",\"nao\",\"nao\",\"nao\",\"nao\",\"nao\",\"nao\",\"nao\",\"nao\",\"nao\",\"nao\",\"nao\",\"sim\",\"nao\",\"sim\",\"nao\",\"nao\",\"nao\",\"nao\",\"nao\",\"nao\",\"nao\",\"nao\",\"nao\",\"nao\",\"nao\",\"nao\",\"nao\",\"nao\",\"nao\",\"nao\",\"nao\",\"nao\",\"sim\",\"nao\",\"nao\",\"nao\",\"nao\",\"nao\",\"nao\",\"nao\",\"nao\",\"nao\",\"nao\",\"nao\",\"nao\",\"nao\",\"nao\",\"nao\",\"nao\",\"nao\",\"nao\",\"nao\",\"nao\",\"nao\",\"nao\",\"nao\",\"nao\",\"nao\",\"nao\",\"nao\",\"nao\",\"nao\",\"nao\",\"nao\",\"nao\",\"nao\",\"nao\",\"nao\",\"nao\",\"nao\",\"sim\",\"nao\",\"nao\",\"nao\",\"nao\",\"nao\",\"nao\",\"nao\",\"nao\",\"nao\",\"nao\",\"nao\",\"nao\",\"nao\",\"nao\",\"nao\",\"nao\",\"nao\",\"nao\",\"nao\",\"nao\",\"nao\",\"nao\",\"nao\",\"nao\",\"nao\",\"nao\",\"nao\",\"nao\",\"nao\",\"nao\",\"nao\",\"nao\",\"nao\",\"nao\",\"nao\",\"nao\",\"nao\",\"nao\",\"nao\",\"nao\",\"nao\",\"nao\",\"nao\",\"nao\",\"nao\",\"nao\",\"nao\",\"nao\",\"nao\",\"nao\",\"nao\",\"nao\",\"nao\",\"nao\",\"nao\",\"nao\",\"nao\",\"nao\",\"nao\",\"nao\",\"nao\",\"nao\",\"nao\",\"nao\",\"nao\",\"nao\",\"nao\",\"nao\",\"nao\",\"nao\",\"nao\",\"nao\",\"nao\",\"nao\",\"nao\",\"nao\",\"nao\",\"nao\",\"nao\",\"nao\",\"nao\",\"nao\",\"nao\",\"sim\",\"nao\",\"nao\",\"nao\",\"nao\",\"nao\",\"nao\",\"nao\",\"nao\",\"nao\",\"nao\",\"nao\",\"nao\",\"nao\",\"nao\",\"nao\",\"nao\",\"nao\",\"nao\",\"nao\",\"nao\",\"nao\",\"nao\",\"nao\",\"nao\",\"nao\",\"nao\",\"nao\",\"nao\",\"nao\",\"nao\",\"nao\",\"nao\",\"nao\",\"nao\",\"nao\",\"nao\",\"nao\",\"nao\",\"nao\",\"nao\",\"nao\",\"nao\",\"nao\",\"nao\",\"nao\",\"nao\",\"nao\",\"nao\",\"nao\",\"nao\",\"nao\",\"nao\",\"nao\",\"nao\",\"nao\",\"nao\",\"nao\",\"nao\",\"nao\",\"nao\",\"nao\",\"nao\",\"nao\",\"nao\",\"nao\",\"nao\",\"nao\",\"nao\",\"nao\",\"nao\",\"nao\",\"nao\",\"nao\",\"nao\",\"nao\",\"nao\",\"nao\",\"nao\",\"nao\",\"nao\",\"nao\",\"nao\",\"nao\",\"nao\",\"nao\",\"nao\",\"nao\",\"nao\",\"nao\",\"nao\",\"nao\",\"nao\",\"nao\",\"nao\",\"nao\",\"nao\",\"nao\",\"nao\",\"nao\",\"nao\",\"nao\",\"nao\",\"nao\",\"nao\",\"nao\",\"nao\",\"nao\",\"nao\",\"nao\",\"nao\",\"nao\",\"nao\",\"nao\",\"nao\",\"nao\",\"nao\",\"nao\",\"nao\",\"nao\",\"nao\",\"nao\",\"nao\",\"nao\",\"nao\",\"sim\",\"nao\",\"nao\",\"nao\",\"nao\",\"nao\",\"nao\",\"nao\",\"nao\",\"nao\",\"nao\",\"nao\",\"sim\",\"nao\",\"nao\",\"nao\",\"nao\",\"nao\",\"nao\",\"nao\",\"nao\",\"nao\",\"nao\",\"nao\",\"nao\",\"nao\",\"nao\",\"nao\",\"nao\",\"nao\",\"nao\",\"nao\",\"nao\",\"nao\",\"nao\",\"nao\",\"nao\",\"nao\",\"nao\",\"nao\",\"nao\",\"nao\",\"nao\",\"nao\",\"nao\",\"nao\",\"nao\",\"nao\",\"nao\",\"nao\",\"nao\",\"nao\",\"nao\",\"nao\",\"nao\",\"nao\",\"nao\",\"nao\",\"nao\",\"nao\",\"nao\",\"nao\",\"nao\",\"nao\",\"nao\",\"nao\",\"nao\",\"nao\",\"nao\",\"nao\",\"nao\",\"nao\",\"nao\",\"nao\",\"nao\",\"nao\",\"nao\",\"nao\",\"nao\",\"nao\",\"nao\",\"nao\",\"nao\",\"nao\",\"nao\",\"nao\",\"nao\",\"nao\",\"nao\",\"nao\",\"nao\",\"nao\",\"nao\",\"nao\",\"nao\",\"nao\",\"nao\",\"nao\",\"nao\",\"nao\",\"nao\",\"nao\",\"nao\",\"nao\",\"nao\",\"nao\",\"nao\",\"nao\",\"nao\",\"nao\",\"nao\",\"nao\",\"nao\",\"nao\",\"nao\",\"nao\",\"nao\",\"sim\",\"nao\",\"sim\",\"nao\",\"nao\",\"nao\",\"nao\",\"nao\",\"nao\",\"nao\",\"nao\",\"nao\",\"nao\",\"nao\",\"nao\",\"nao\",\"nao\",\"nao\",\"nao\",\"nao\",\"nao\",\"nao\",\"nao\",\"nao\",\"nao\",\"nao\",\"nao\",\"nao\",\"nao\",\"nao\",\"nao\",\"nao\",\"nao\",\"nao\",\"nao\",\"nao\",\"nao\",\"nao\",\"nao\",\"nao\",\"nao\",\"nao\",\"nao\",\"nao\",\"nao\",\"nao\",\"sim\",\"nao\",\"nao\",\"nao\",\"nao\",\"nao\",\"nao\",\"nao\",\"nao\",\"nao\",\"nao\",\"nao\",\"nao\",\"nao\",\"nao\",\"nao\",\"nao\",\"nao\",\"nao\",\"nao\",\"nao\",\"nao\",\"nao\",\"nao\",\"nao\",\"nao\",\"nao\",\"nao\",\"nao\",\"nao\"],\"xaxis\":\"x\",\"yaxis\":\"y\",\"type\":\"histogram\"}],                        {\"template\":{\"data\":{\"histogram2dcontour\":[{\"type\":\"histogram2dcontour\",\"colorbar\":{\"outlinewidth\":0,\"ticks\":\"\"},\"colorscale\":[[0.0,\"#0d0887\"],[0.1111111111111111,\"#46039f\"],[0.2222222222222222,\"#7201a8\"],[0.3333333333333333,\"#9c179e\"],[0.4444444444444444,\"#bd3786\"],[0.5555555555555556,\"#d8576b\"],[0.6666666666666666,\"#ed7953\"],[0.7777777777777778,\"#fb9f3a\"],[0.8888888888888888,\"#fdca26\"],[1.0,\"#f0f921\"]]}],\"choropleth\":[{\"type\":\"choropleth\",\"colorbar\":{\"outlinewidth\":0,\"ticks\":\"\"}}],\"histogram2d\":[{\"type\":\"histogram2d\",\"colorbar\":{\"outlinewidth\":0,\"ticks\":\"\"},\"colorscale\":[[0.0,\"#0d0887\"],[0.1111111111111111,\"#46039f\"],[0.2222222222222222,\"#7201a8\"],[0.3333333333333333,\"#9c179e\"],[0.4444444444444444,\"#bd3786\"],[0.5555555555555556,\"#d8576b\"],[0.6666666666666666,\"#ed7953\"],[0.7777777777777778,\"#fb9f3a\"],[0.8888888888888888,\"#fdca26\"],[1.0,\"#f0f921\"]]}],\"heatmap\":[{\"type\":\"heatmap\",\"colorbar\":{\"outlinewidth\":0,\"ticks\":\"\"},\"colorscale\":[[0.0,\"#0d0887\"],[0.1111111111111111,\"#46039f\"],[0.2222222222222222,\"#7201a8\"],[0.3333333333333333,\"#9c179e\"],[0.4444444444444444,\"#bd3786\"],[0.5555555555555556,\"#d8576b\"],[0.6666666666666666,\"#ed7953\"],[0.7777777777777778,\"#fb9f3a\"],[0.8888888888888888,\"#fdca26\"],[1.0,\"#f0f921\"]]}],\"heatmapgl\":[{\"type\":\"heatmapgl\",\"colorbar\":{\"outlinewidth\":0,\"ticks\":\"\"},\"colorscale\":[[0.0,\"#0d0887\"],[0.1111111111111111,\"#46039f\"],[0.2222222222222222,\"#7201a8\"],[0.3333333333333333,\"#9c179e\"],[0.4444444444444444,\"#bd3786\"],[0.5555555555555556,\"#d8576b\"],[0.6666666666666666,\"#ed7953\"],[0.7777777777777778,\"#fb9f3a\"],[0.8888888888888888,\"#fdca26\"],[1.0,\"#f0f921\"]]}],\"contourcarpet\":[{\"type\":\"contourcarpet\",\"colorbar\":{\"outlinewidth\":0,\"ticks\":\"\"}}],\"contour\":[{\"type\":\"contour\",\"colorbar\":{\"outlinewidth\":0,\"ticks\":\"\"},\"colorscale\":[[0.0,\"#0d0887\"],[0.1111111111111111,\"#46039f\"],[0.2222222222222222,\"#7201a8\"],[0.3333333333333333,\"#9c179e\"],[0.4444444444444444,\"#bd3786\"],[0.5555555555555556,\"#d8576b\"],[0.6666666666666666,\"#ed7953\"],[0.7777777777777778,\"#fb9f3a\"],[0.8888888888888888,\"#fdca26\"],[1.0,\"#f0f921\"]]}],\"surface\":[{\"type\":\"surface\",\"colorbar\":{\"outlinewidth\":0,\"ticks\":\"\"},\"colorscale\":[[0.0,\"#0d0887\"],[0.1111111111111111,\"#46039f\"],[0.2222222222222222,\"#7201a8\"],[0.3333333333333333,\"#9c179e\"],[0.4444444444444444,\"#bd3786\"],[0.5555555555555556,\"#d8576b\"],[0.6666666666666666,\"#ed7953\"],[0.7777777777777778,\"#fb9f3a\"],[0.8888888888888888,\"#fdca26\"],[1.0,\"#f0f921\"]]}],\"mesh3d\":[{\"type\":\"mesh3d\",\"colorbar\":{\"outlinewidth\":0,\"ticks\":\"\"}}],\"scatter\":[{\"fillpattern\":{\"fillmode\":\"overlay\",\"size\":10,\"solidity\":0.2},\"type\":\"scatter\"}],\"parcoords\":[{\"type\":\"parcoords\",\"line\":{\"colorbar\":{\"outlinewidth\":0,\"ticks\":\"\"}}}],\"scatterpolargl\":[{\"type\":\"scatterpolargl\",\"marker\":{\"colorbar\":{\"outlinewidth\":0,\"ticks\":\"\"}}}],\"bar\":[{\"error_x\":{\"color\":\"#2a3f5f\"},\"error_y\":{\"color\":\"#2a3f5f\"},\"marker\":{\"line\":{\"color\":\"#E5ECF6\",\"width\":0.5},\"pattern\":{\"fillmode\":\"overlay\",\"size\":10,\"solidity\":0.2}},\"type\":\"bar\"}],\"scattergeo\":[{\"type\":\"scattergeo\",\"marker\":{\"colorbar\":{\"outlinewidth\":0,\"ticks\":\"\"}}}],\"scatterpolar\":[{\"type\":\"scatterpolar\",\"marker\":{\"colorbar\":{\"outlinewidth\":0,\"ticks\":\"\"}}}],\"histogram\":[{\"marker\":{\"pattern\":{\"fillmode\":\"overlay\",\"size\":10,\"solidity\":0.2}},\"type\":\"histogram\"}],\"scattergl\":[{\"type\":\"scattergl\",\"marker\":{\"colorbar\":{\"outlinewidth\":0,\"ticks\":\"\"}}}],\"scatter3d\":[{\"type\":\"scatter3d\",\"line\":{\"colorbar\":{\"outlinewidth\":0,\"ticks\":\"\"}},\"marker\":{\"colorbar\":{\"outlinewidth\":0,\"ticks\":\"\"}}}],\"scattermapbox\":[{\"type\":\"scattermapbox\",\"marker\":{\"colorbar\":{\"outlinewidth\":0,\"ticks\":\"\"}}}],\"scatterternary\":[{\"type\":\"scatterternary\",\"marker\":{\"colorbar\":{\"outlinewidth\":0,\"ticks\":\"\"}}}],\"scattercarpet\":[{\"type\":\"scattercarpet\",\"marker\":{\"colorbar\":{\"outlinewidth\":0,\"ticks\":\"\"}}}],\"carpet\":[{\"aaxis\":{\"endlinecolor\":\"#2a3f5f\",\"gridcolor\":\"white\",\"linecolor\":\"white\",\"minorgridcolor\":\"white\",\"startlinecolor\":\"#2a3f5f\"},\"baxis\":{\"endlinecolor\":\"#2a3f5f\",\"gridcolor\":\"white\",\"linecolor\":\"white\",\"minorgridcolor\":\"white\",\"startlinecolor\":\"#2a3f5f\"},\"type\":\"carpet\"}],\"table\":[{\"cells\":{\"fill\":{\"color\":\"#EBF0F8\"},\"line\":{\"color\":\"white\"}},\"header\":{\"fill\":{\"color\":\"#C8D4E3\"},\"line\":{\"color\":\"white\"}},\"type\":\"table\"}],\"barpolar\":[{\"marker\":{\"line\":{\"color\":\"#E5ECF6\",\"width\":0.5},\"pattern\":{\"fillmode\":\"overlay\",\"size\":10,\"solidity\":0.2}},\"type\":\"barpolar\"}],\"pie\":[{\"automargin\":true,\"type\":\"pie\"}]},\"layout\":{\"autotypenumbers\":\"strict\",\"colorway\":[\"#636efa\",\"#EF553B\",\"#00cc96\",\"#ab63fa\",\"#FFA15A\",\"#19d3f3\",\"#FF6692\",\"#B6E880\",\"#FF97FF\",\"#FECB52\"],\"font\":{\"color\":\"#2a3f5f\"},\"hovermode\":\"closest\",\"hoverlabel\":{\"align\":\"left\"},\"paper_bgcolor\":\"white\",\"plot_bgcolor\":\"#E5ECF6\",\"polar\":{\"bgcolor\":\"#E5ECF6\",\"angularaxis\":{\"gridcolor\":\"white\",\"linecolor\":\"white\",\"ticks\":\"\"},\"radialaxis\":{\"gridcolor\":\"white\",\"linecolor\":\"white\",\"ticks\":\"\"}},\"ternary\":{\"bgcolor\":\"#E5ECF6\",\"aaxis\":{\"gridcolor\":\"white\",\"linecolor\":\"white\",\"ticks\":\"\"},\"baxis\":{\"gridcolor\":\"white\",\"linecolor\":\"white\",\"ticks\":\"\"},\"caxis\":{\"gridcolor\":\"white\",\"linecolor\":\"white\",\"ticks\":\"\"}},\"coloraxis\":{\"colorbar\":{\"outlinewidth\":0,\"ticks\":\"\"}},\"colorscale\":{\"sequential\":[[0.0,\"#0d0887\"],[0.1111111111111111,\"#46039f\"],[0.2222222222222222,\"#7201a8\"],[0.3333333333333333,\"#9c179e\"],[0.4444444444444444,\"#bd3786\"],[0.5555555555555556,\"#d8576b\"],[0.6666666666666666,\"#ed7953\"],[0.7777777777777778,\"#fb9f3a\"],[0.8888888888888888,\"#fdca26\"],[1.0,\"#f0f921\"]],\"sequentialminus\":[[0.0,\"#0d0887\"],[0.1111111111111111,\"#46039f\"],[0.2222222222222222,\"#7201a8\"],[0.3333333333333333,\"#9c179e\"],[0.4444444444444444,\"#bd3786\"],[0.5555555555555556,\"#d8576b\"],[0.6666666666666666,\"#ed7953\"],[0.7777777777777778,\"#fb9f3a\"],[0.8888888888888888,\"#fdca26\"],[1.0,\"#f0f921\"]],\"diverging\":[[0,\"#8e0152\"],[0.1,\"#c51b7d\"],[0.2,\"#de77ae\"],[0.3,\"#f1b6da\"],[0.4,\"#fde0ef\"],[0.5,\"#f7f7f7\"],[0.6,\"#e6f5d0\"],[0.7,\"#b8e186\"],[0.8,\"#7fbc41\"],[0.9,\"#4d9221\"],[1,\"#276419\"]]},\"xaxis\":{\"gridcolor\":\"white\",\"linecolor\":\"white\",\"ticks\":\"\",\"title\":{\"standoff\":15},\"zerolinecolor\":\"white\",\"automargin\":true,\"zerolinewidth\":2},\"yaxis\":{\"gridcolor\":\"white\",\"linecolor\":\"white\",\"ticks\":\"\",\"title\":{\"standoff\":15},\"zerolinecolor\":\"white\",\"automargin\":true,\"zerolinewidth\":2},\"scene\":{\"xaxis\":{\"backgroundcolor\":\"#E5ECF6\",\"gridcolor\":\"white\",\"linecolor\":\"white\",\"showbackground\":true,\"ticks\":\"\",\"zerolinecolor\":\"white\",\"gridwidth\":2},\"yaxis\":{\"backgroundcolor\":\"#E5ECF6\",\"gridcolor\":\"white\",\"linecolor\":\"white\",\"showbackground\":true,\"ticks\":\"\",\"zerolinecolor\":\"white\",\"gridwidth\":2},\"zaxis\":{\"backgroundcolor\":\"#E5ECF6\",\"gridcolor\":\"white\",\"linecolor\":\"white\",\"showbackground\":true,\"ticks\":\"\",\"zerolinecolor\":\"white\",\"gridwidth\":2}},\"shapedefaults\":{\"line\":{\"color\":\"#2a3f5f\"}},\"annotationdefaults\":{\"arrowcolor\":\"#2a3f5f\",\"arrowhead\":0,\"arrowwidth\":1},\"geo\":{\"bgcolor\":\"white\",\"landcolor\":\"#E5ECF6\",\"subunitcolor\":\"white\",\"showland\":true,\"showlakes\":true,\"lakecolor\":\"white\"},\"title\":{\"x\":0.05},\"mapbox\":{\"style\":\"light\"}}},\"xaxis\":{\"anchor\":\"y\",\"domain\":[0.0,1.0],\"title\":{\"text\":\"inadimplencia\"}},\"yaxis\":{\"anchor\":\"x\",\"domain\":[0.0,1.0],\"title\":{\"text\":\"count\"}},\"legend\":{\"title\":{\"text\":\"aderencia_investimento\"},\"tracegroupgap\":0},\"margin\":{\"t\":60},\"barmode\":\"group\"},                        {\"responsive\": true}                    ).then(function(){\n",
              "                            \n",
              "var gd = document.getElementById('4b97e6ce-189e-4d7a-b777-1716f718524a');\n",
              "var x = new MutationObserver(function (mutations, observer) {{\n",
              "        var display = window.getComputedStyle(gd).display;\n",
              "        if (!display || display === 'none') {{\n",
              "            console.log([gd, 'removed!']);\n",
              "            Plotly.purge(gd);\n",
              "            observer.disconnect();\n",
              "        }}\n",
              "}});\n",
              "\n",
              "// Listen for the removal of the full notebook cells\n",
              "var notebookContainer = gd.closest('#notebook-container');\n",
              "if (notebookContainer) {{\n",
              "    x.observe(notebookContainer, {childList: true});\n",
              "}}\n",
              "\n",
              "// Listen for the clearing of the current output cell\n",
              "var outputEl = gd.closest('.output');\n",
              "if (outputEl) {{\n",
              "    x.observe(outputEl, {childList: true});\n",
              "}}\n",
              "\n",
              "                        })                };                            </script>        </div>\n",
              "</body>\n",
              "</html>"
            ]
          },
          "metadata": {}
        }
      ]
    },
    {
      "cell_type": "code",
      "source": [
        "px.histogram(dados, x = 'fez_emprestimo', text_auto = True, color = 'aderencia_investimento', barmode = 'group')"
      ],
      "metadata": {
        "id": "SzoDMAMKxaL7",
        "outputId": "7691f68c-77f3-46ce-f65f-1b4da82f4e40",
        "colab": {
          "base_uri": "https://localhost:8080/",
          "height": 542
        }
      },
      "execution_count": 10,
      "outputs": [
        {
          "output_type": "display_data",
          "data": {
            "text/html": [
              "<html>\n",
              "<head><meta charset=\"utf-8\" /></head>\n",
              "<body>\n",
              "    <div>            <script src=\"https://cdnjs.cloudflare.com/ajax/libs/mathjax/2.7.5/MathJax.js?config=TeX-AMS-MML_SVG\"></script><script type=\"text/javascript\">if (window.MathJax && window.MathJax.Hub && window.MathJax.Hub.Config) {window.MathJax.Hub.Config({SVG: {font: \"STIX-Web\"}});}</script>                <script type=\"text/javascript\">window.PlotlyConfig = {MathJaxConfig: 'local'};</script>\n",
              "        <script charset=\"utf-8\" src=\"https://cdn.plot.ly/plotly-2.35.2.min.js\"></script>                <div id=\"09bdc06b-026c-47d6-9220-d18199535bba\" class=\"plotly-graph-div\" style=\"height:525px; width:100%;\"></div>            <script type=\"text/javascript\">                                    window.PLOTLYENV=window.PLOTLYENV || {};                                    if (document.getElementById(\"09bdc06b-026c-47d6-9220-d18199535bba\")) {                    Plotly.newPlot(                        \"09bdc06b-026c-47d6-9220-d18199535bba\",                        [{\"alignmentgroup\":\"True\",\"bingroup\":\"x\",\"hovertemplate\":\"aderencia_investimento=sim\\u003cbr\\u003efez_emprestimo=%{x}\\u003cbr\\u003ecount=%{y}\\u003cextra\\u003e\\u003c\\u002fextra\\u003e\",\"legendgroup\":\"sim\",\"marker\":{\"color\":\"#636efa\",\"pattern\":{\"shape\":\"\"}},\"name\":\"sim\",\"offsetgroup\":\"sim\",\"orientation\":\"v\",\"showlegend\":true,\"texttemplate\":\"%{value}\",\"x\":[\"nao\",\"nao\",\"nao\",\"nao\",\"sim\",\"nao\",\"sim\",\"nao\",\"nao\",\"nao\",\"nao\",\"nao\",\"nao\",\"nao\",\"nao\",\"nao\",\"nao\",\"sim\",\"nao\",\"nao\",\"nao\",\"nao\",\"nao\",\"nao\",\"nao\",\"nao\",\"nao\",\"nao\",\"sim\",\"nao\",\"nao\",\"nao\",\"nao\",\"nao\",\"nao\",\"nao\",\"nao\",\"nao\",\"nao\",\"nao\",\"nao\",\"nao\",\"sim\",\"nao\",\"nao\",\"nao\",\"nao\",\"nao\",\"nao\",\"nao\",\"nao\",\"nao\",\"nao\",\"nao\",\"nao\",\"nao\",\"nao\",\"nao\",\"nao\",\"sim\",\"nao\",\"nao\",\"nao\",\"nao\",\"nao\",\"nao\",\"nao\",\"nao\",\"nao\",\"nao\",\"nao\",\"sim\",\"nao\",\"nao\",\"nao\",\"nao\",\"sim\",\"nao\",\"nao\",\"nao\",\"nao\",\"nao\",\"nao\",\"nao\",\"nao\",\"nao\",\"nao\",\"nao\",\"nao\",\"nao\",\"nao\",\"nao\",\"nao\",\"nao\",\"nao\",\"nao\",\"nao\",\"nao\",\"nao\",\"nao\",\"sim\",\"nao\",\"nao\",\"nao\",\"nao\",\"nao\",\"nao\",\"nao\",\"nao\",\"nao\",\"nao\",\"nao\",\"nao\",\"nao\",\"nao\",\"nao\",\"nao\",\"nao\",\"nao\",\"nao\",\"nao\",\"nao\",\"nao\",\"nao\",\"nao\",\"nao\",\"sim\",\"nao\",\"nao\",\"nao\",\"nao\",\"nao\",\"nao\",\"nao\",\"nao\",\"sim\",\"nao\",\"nao\",\"nao\",\"nao\",\"nao\",\"nao\",\"nao\",\"nao\",\"nao\",\"nao\",\"nao\",\"sim\",\"nao\",\"nao\",\"nao\",\"nao\",\"nao\",\"nao\",\"nao\",\"nao\",\"nao\",\"nao\",\"sim\",\"nao\",\"nao\",\"nao\",\"nao\",\"nao\",\"nao\",\"nao\",\"nao\",\"nao\",\"sim\",\"nao\",\"nao\",\"sim\",\"nao\",\"sim\",\"nao\",\"nao\",\"nao\",\"nao\",\"nao\",\"nao\",\"nao\",\"nao\",\"nao\",\"nao\",\"nao\",\"nao\",\"nao\",\"nao\",\"nao\",\"nao\",\"nao\",\"nao\",\"nao\",\"nao\",\"nao\",\"nao\",\"nao\",\"nao\",\"nao\",\"nao\",\"nao\",\"nao\",\"nao\",\"nao\",\"nao\",\"nao\",\"nao\",\"nao\",\"nao\",\"nao\",\"nao\",\"nao\",\"nao\",\"nao\",\"nao\",\"nao\",\"nao\",\"sim\",\"nao\",\"nao\",\"nao\",\"nao\",\"nao\",\"nao\",\"nao\",\"nao\",\"nao\",\"nao\",\"nao\",\"nao\",\"nao\",\"sim\",\"nao\",\"nao\",\"nao\",\"nao\",\"nao\",\"nao\",\"nao\",\"nao\",\"nao\",\"nao\",\"nao\",\"nao\",\"nao\",\"nao\",\"nao\",\"nao\",\"nao\",\"nao\",\"sim\",\"nao\",\"nao\",\"sim\",\"nao\",\"nao\",\"nao\",\"nao\",\"nao\",\"nao\",\"nao\",\"nao\",\"nao\",\"nao\",\"nao\",\"nao\",\"nao\",\"sim\",\"nao\",\"nao\",\"nao\",\"nao\",\"sim\",\"sim\",\"nao\",\"nao\",\"nao\",\"nao\",\"nao\",\"nao\",\"nao\",\"nao\",\"nao\",\"nao\",\"nao\",\"nao\",\"nao\",\"nao\",\"nao\",\"nao\",\"nao\",\"nao\",\"nao\",\"nao\",\"nao\",\"nao\",\"nao\",\"nao\",\"nao\",\"nao\",\"sim\",\"nao\",\"nao\",\"nao\",\"nao\",\"nao\",\"nao\",\"nao\",\"nao\",\"nao\",\"nao\",\"sim\",\"nao\",\"nao\",\"nao\",\"nao\",\"nao\",\"nao\",\"nao\",\"nao\",\"nao\",\"nao\",\"nao\",\"nao\",\"nao\",\"nao\",\"sim\",\"nao\",\"sim\",\"nao\",\"nao\",\"nao\",\"nao\",\"sim\",\"nao\",\"nao\",\"sim\",\"nao\",\"nao\",\"nao\",\"nao\",\"nao\",\"nao\",\"nao\",\"nao\",\"nao\",\"nao\",\"nao\",\"nao\",\"nao\",\"nao\",\"nao\",\"nao\",\"nao\",\"nao\",\"nao\",\"nao\",\"nao\",\"nao\",\"nao\",\"sim\",\"nao\",\"nao\",\"sim\",\"sim\",\"nao\",\"nao\",\"nao\",\"nao\",\"nao\",\"nao\",\"nao\",\"nao\",\"nao\",\"sim\",\"nao\",\"nao\",\"nao\",\"nao\",\"nao\",\"nao\",\"nao\",\"nao\",\"nao\",\"nao\",\"nao\",\"nao\",\"nao\",\"sim\",\"nao\",\"nao\",\"nao\",\"nao\",\"nao\",\"nao\",\"nao\",\"nao\",\"nao\",\"nao\",\"nao\",\"nao\",\"nao\",\"nao\",\"nao\",\"nao\",\"nao\",\"nao\",\"sim\",\"nao\",\"nao\",\"nao\",\"nao\",\"nao\",\"nao\",\"nao\",\"sim\",\"nao\",\"nao\",\"sim\",\"nao\",\"nao\",\"nao\",\"sim\",\"nao\",\"nao\",\"nao\",\"nao\",\"nao\",\"nao\",\"nao\",\"nao\",\"nao\",\"nao\",\"nao\",\"nao\",\"nao\",\"nao\",\"nao\",\"nao\",\"nao\",\"sim\",\"nao\",\"nao\",\"nao\",\"nao\",\"nao\",\"nao\",\"nao\",\"nao\",\"nao\",\"nao\",\"nao\",\"nao\",\"nao\",\"nao\",\"nao\",\"nao\",\"nao\",\"sim\",\"nao\",\"nao\",\"nao\",\"nao\",\"nao\",\"nao\",\"nao\",\"nao\",\"nao\",\"nao\",\"nao\",\"sim\",\"nao\",\"nao\",\"nao\",\"nao\",\"nao\",\"nao\",\"nao\",\"nao\",\"nao\",\"nao\",\"nao\",\"nao\",\"nao\",\"nao\",\"nao\",\"nao\",\"nao\",\"nao\",\"nao\",\"nao\",\"sim\",\"nao\",\"nao\",\"nao\",\"nao\",\"nao\",\"nao\",\"nao\",\"sim\",\"nao\",\"nao\"],\"xaxis\":\"x\",\"yaxis\":\"y\",\"type\":\"histogram\"},{\"alignmentgroup\":\"True\",\"bingroup\":\"x\",\"hovertemplate\":\"aderencia_investimento=nao\\u003cbr\\u003efez_emprestimo=%{x}\\u003cbr\\u003ecount=%{y}\\u003cextra\\u003e\\u003c\\u002fextra\\u003e\",\"legendgroup\":\"nao\",\"marker\":{\"color\":\"#EF553B\",\"pattern\":{\"shape\":\"\"}},\"name\":\"nao\",\"offsetgroup\":\"nao\",\"orientation\":\"v\",\"showlegend\":true,\"texttemplate\":\"%{value}\",\"x\":[\"nao\",\"nao\",\"nao\",\"nao\",\"nao\",\"nao\",\"nao\",\"nao\",\"nao\",\"nao\",\"nao\",\"nao\",\"nao\",\"nao\",\"nao\",\"nao\",\"sim\",\"sim\",\"nao\",\"nao\",\"nao\",\"nao\",\"nao\",\"nao\",\"sim\",\"nao\",\"nao\",\"nao\",\"nao\",\"nao\",\"nao\",\"sim\",\"sim\",\"nao\",\"nao\",\"nao\",\"nao\",\"nao\",\"sim\",\"nao\",\"nao\",\"nao\",\"nao\",\"nao\",\"nao\",\"nao\",\"nao\",\"nao\",\"nao\",\"sim\",\"nao\",\"nao\",\"nao\",\"sim\",\"nao\",\"sim\",\"sim\",\"nao\",\"nao\",\"sim\",\"nao\",\"nao\",\"nao\",\"nao\",\"nao\",\"sim\",\"nao\",\"nao\",\"sim\",\"sim\",\"sim\",\"nao\",\"nao\",\"nao\",\"nao\",\"nao\",\"nao\",\"nao\",\"sim\",\"nao\",\"nao\",\"nao\",\"nao\",\"nao\",\"sim\",\"nao\",\"nao\",\"nao\",\"nao\",\"nao\",\"nao\",\"nao\",\"nao\",\"nao\",\"sim\",\"nao\",\"nao\",\"nao\",\"nao\",\"nao\",\"nao\",\"nao\",\"nao\",\"nao\",\"nao\",\"nao\",\"nao\",\"nao\",\"nao\",\"nao\",\"nao\",\"nao\",\"sim\",\"nao\",\"sim\",\"nao\",\"sim\",\"nao\",\"nao\",\"nao\",\"nao\",\"nao\",\"nao\",\"nao\",\"nao\",\"nao\",\"nao\",\"nao\",\"nao\",\"sim\",\"nao\",\"sim\",\"sim\",\"nao\",\"nao\",\"nao\",\"nao\",\"sim\",\"nao\",\"nao\",\"nao\",\"nao\",\"sim\",\"nao\",\"nao\",\"nao\",\"nao\",\"nao\",\"nao\",\"nao\",\"nao\",\"nao\",\"nao\",\"nao\",\"sim\",\"nao\",\"nao\",\"nao\",\"nao\",\"nao\",\"nao\",\"nao\",\"sim\",\"nao\",\"nao\",\"nao\",\"nao\",\"nao\",\"nao\",\"nao\",\"sim\",\"nao\",\"nao\",\"nao\",\"nao\",\"nao\",\"nao\",\"nao\",\"nao\",\"nao\",\"nao\",\"nao\",\"nao\",\"nao\",\"nao\",\"nao\",\"nao\",\"nao\",\"nao\",\"nao\",\"nao\",\"nao\",\"nao\",\"nao\",\"nao\",\"nao\",\"nao\",\"nao\",\"sim\",\"nao\",\"nao\",\"sim\",\"nao\",\"sim\",\"nao\",\"nao\",\"nao\",\"nao\",\"sim\",\"nao\",\"nao\",\"sim\",\"sim\",\"nao\",\"nao\",\"nao\",\"nao\",\"nao\",\"nao\",\"nao\",\"sim\",\"nao\",\"nao\",\"nao\",\"nao\",\"nao\",\"nao\",\"nao\",\"nao\",\"nao\",\"nao\",\"nao\",\"nao\",\"sim\",\"nao\",\"nao\",\"nao\",\"nao\",\"nao\",\"nao\",\"nao\",\"nao\",\"nao\",\"nao\",\"nao\",\"nao\",\"nao\",\"sim\",\"nao\",\"nao\",\"nao\",\"nao\",\"sim\",\"nao\",\"nao\",\"nao\",\"nao\",\"nao\",\"nao\",\"nao\",\"sim\",\"nao\",\"nao\",\"nao\",\"nao\",\"nao\",\"nao\",\"nao\",\"nao\",\"nao\",\"nao\",\"nao\",\"nao\",\"nao\",\"nao\",\"nao\",\"nao\",\"nao\",\"sim\",\"nao\",\"nao\",\"nao\",\"nao\",\"nao\",\"nao\",\"nao\",\"nao\",\"nao\",\"sim\",\"nao\",\"sim\",\"nao\",\"sim\",\"sim\",\"sim\",\"nao\",\"nao\",\"nao\",\"nao\",\"nao\",\"nao\",\"nao\",\"nao\",\"sim\",\"nao\",\"sim\",\"nao\",\"nao\",\"nao\",\"nao\",\"nao\",\"nao\",\"nao\",\"nao\",\"nao\",\"nao\",\"nao\",\"nao\",\"sim\",\"nao\",\"nao\",\"sim\",\"sim\",\"nao\",\"nao\",\"nao\",\"sim\",\"nao\",\"sim\",\"nao\",\"nao\",\"nao\",\"nao\",\"nao\",\"nao\",\"nao\",\"nao\",\"nao\",\"nao\",\"nao\",\"nao\",\"nao\",\"nao\",\"sim\",\"sim\",\"sim\",\"nao\",\"nao\",\"nao\",\"nao\",\"nao\",\"nao\",\"sim\",\"nao\",\"nao\",\"sim\",\"nao\",\"sim\",\"nao\",\"nao\",\"nao\",\"nao\",\"nao\",\"nao\",\"nao\",\"nao\",\"nao\",\"nao\",\"nao\",\"sim\",\"sim\",\"nao\",\"nao\",\"nao\",\"nao\",\"nao\",\"nao\",\"nao\",\"nao\",\"sim\",\"nao\",\"nao\",\"nao\",\"nao\",\"nao\",\"sim\",\"nao\",\"sim\",\"sim\",\"nao\",\"nao\",\"nao\",\"nao\",\"sim\",\"sim\",\"nao\",\"nao\",\"nao\",\"nao\",\"nao\",\"nao\",\"nao\",\"nao\",\"nao\",\"nao\",\"nao\",\"nao\",\"nao\",\"nao\",\"nao\",\"nao\",\"sim\",\"nao\",\"nao\",\"sim\",\"nao\",\"nao\",\"nao\",\"nao\",\"nao\",\"nao\",\"nao\",\"nao\",\"nao\",\"sim\",\"nao\",\"nao\",\"nao\",\"nao\",\"nao\",\"nao\",\"nao\",\"nao\",\"nao\",\"nao\",\"sim\",\"nao\",\"nao\",\"nao\",\"nao\",\"nao\",\"nao\",\"nao\",\"nao\",\"nao\",\"nao\",\"nao\",\"nao\",\"nao\",\"nao\",\"nao\",\"nao\",\"nao\",\"nao\",\"sim\",\"nao\",\"nao\",\"sim\",\"sim\",\"nao\",\"nao\",\"nao\",\"nao\",\"nao\",\"nao\",\"nao\",\"nao\",\"sim\",\"sim\",\"nao\",\"nao\",\"nao\",\"nao\",\"sim\",\"nao\",\"sim\",\"nao\",\"sim\",\"nao\",\"sim\",\"nao\",\"sim\",\"sim\",\"nao\",\"nao\",\"nao\",\"nao\",\"nao\",\"nao\",\"sim\",\"nao\",\"sim\",\"nao\",\"sim\",\"nao\",\"nao\",\"nao\",\"nao\",\"nao\",\"nao\",\"nao\",\"nao\",\"sim\",\"nao\",\"nao\",\"nao\",\"nao\",\"nao\",\"nao\",\"nao\",\"nao\",\"sim\",\"sim\",\"nao\",\"nao\",\"nao\",\"nao\",\"nao\",\"nao\",\"nao\",\"nao\",\"nao\",\"sim\",\"nao\",\"sim\",\"nao\",\"nao\",\"sim\",\"sim\",\"nao\",\"sim\",\"nao\",\"nao\",\"nao\",\"nao\",\"nao\",\"nao\",\"nao\",\"nao\",\"nao\",\"nao\",\"nao\",\"nao\",\"nao\",\"nao\",\"nao\",\"nao\",\"nao\",\"nao\",\"nao\",\"nao\",\"nao\",\"nao\",\"sim\",\"nao\",\"sim\",\"nao\",\"nao\",\"nao\",\"sim\",\"nao\",\"nao\",\"nao\",\"nao\",\"nao\",\"nao\",\"nao\",\"sim\",\"nao\",\"nao\",\"nao\",\"nao\",\"nao\",\"nao\",\"nao\",\"nao\",\"sim\",\"sim\",\"sim\",\"nao\",\"nao\",\"nao\",\"nao\",\"nao\",\"nao\",\"nao\",\"nao\",\"nao\",\"nao\",\"nao\",\"nao\",\"nao\",\"nao\",\"nao\",\"nao\",\"nao\",\"nao\",\"nao\",\"nao\",\"nao\",\"nao\",\"nao\",\"nao\",\"sim\",\"sim\",\"nao\",\"nao\",\"nao\",\"nao\",\"nao\",\"sim\",\"nao\",\"sim\",\"nao\",\"nao\",\"sim\",\"sim\",\"nao\",\"nao\",\"nao\",\"nao\",\"nao\",\"nao\",\"nao\",\"sim\",\"sim\",\"sim\",\"nao\",\"nao\",\"nao\",\"sim\",\"nao\",\"nao\",\"nao\",\"nao\",\"nao\",\"sim\",\"nao\",\"nao\",\"nao\",\"nao\",\"nao\",\"sim\",\"nao\",\"nao\",\"nao\",\"nao\",\"nao\",\"nao\",\"nao\",\"nao\",\"nao\",\"sim\",\"nao\",\"nao\",\"nao\",\"nao\",\"nao\",\"nao\",\"nao\",\"nao\",\"nao\",\"nao\",\"nao\",\"nao\",\"nao\",\"nao\",\"nao\",\"nao\",\"nao\",\"nao\",\"nao\",\"nao\",\"nao\",\"nao\",\"nao\",\"nao\",\"nao\",\"nao\",\"nao\",\"nao\",\"nao\",\"nao\",\"nao\",\"nao\",\"sim\",\"nao\",\"nao\",\"nao\",\"nao\",\"nao\",\"nao\",\"nao\",\"nao\",\"nao\",\"nao\",\"nao\",\"nao\",\"nao\",\"sim\",\"nao\",\"nao\",\"sim\",\"nao\",\"nao\",\"nao\",\"nao\",\"nao\",\"nao\",\"nao\",\"nao\",\"nao\",\"nao\",\"nao\",\"sim\",\"nao\",\"nao\",\"nao\",\"sim\",\"nao\",\"sim\",\"nao\",\"sim\",\"nao\",\"nao\",\"nao\",\"nao\",\"nao\",\"nao\",\"nao\",\"nao\",\"sim\",\"nao\",\"sim\",\"sim\",\"nao\",\"nao\",\"nao\",\"nao\",\"nao\",\"nao\",\"nao\",\"nao\",\"nao\",\"nao\",\"nao\",\"nao\",\"nao\",\"nao\",\"nao\",\"nao\",\"nao\",\"sim\",\"sim\",\"nao\",\"nao\",\"nao\",\"nao\",\"nao\",\"nao\",\"nao\",\"nao\",\"nao\",\"nao\",\"sim\",\"sim\"],\"xaxis\":\"x\",\"yaxis\":\"y\",\"type\":\"histogram\"}],                        {\"template\":{\"data\":{\"histogram2dcontour\":[{\"type\":\"histogram2dcontour\",\"colorbar\":{\"outlinewidth\":0,\"ticks\":\"\"},\"colorscale\":[[0.0,\"#0d0887\"],[0.1111111111111111,\"#46039f\"],[0.2222222222222222,\"#7201a8\"],[0.3333333333333333,\"#9c179e\"],[0.4444444444444444,\"#bd3786\"],[0.5555555555555556,\"#d8576b\"],[0.6666666666666666,\"#ed7953\"],[0.7777777777777778,\"#fb9f3a\"],[0.8888888888888888,\"#fdca26\"],[1.0,\"#f0f921\"]]}],\"choropleth\":[{\"type\":\"choropleth\",\"colorbar\":{\"outlinewidth\":0,\"ticks\":\"\"}}],\"histogram2d\":[{\"type\":\"histogram2d\",\"colorbar\":{\"outlinewidth\":0,\"ticks\":\"\"},\"colorscale\":[[0.0,\"#0d0887\"],[0.1111111111111111,\"#46039f\"],[0.2222222222222222,\"#7201a8\"],[0.3333333333333333,\"#9c179e\"],[0.4444444444444444,\"#bd3786\"],[0.5555555555555556,\"#d8576b\"],[0.6666666666666666,\"#ed7953\"],[0.7777777777777778,\"#fb9f3a\"],[0.8888888888888888,\"#fdca26\"],[1.0,\"#f0f921\"]]}],\"heatmap\":[{\"type\":\"heatmap\",\"colorbar\":{\"outlinewidth\":0,\"ticks\":\"\"},\"colorscale\":[[0.0,\"#0d0887\"],[0.1111111111111111,\"#46039f\"],[0.2222222222222222,\"#7201a8\"],[0.3333333333333333,\"#9c179e\"],[0.4444444444444444,\"#bd3786\"],[0.5555555555555556,\"#d8576b\"],[0.6666666666666666,\"#ed7953\"],[0.7777777777777778,\"#fb9f3a\"],[0.8888888888888888,\"#fdca26\"],[1.0,\"#f0f921\"]]}],\"heatmapgl\":[{\"type\":\"heatmapgl\",\"colorbar\":{\"outlinewidth\":0,\"ticks\":\"\"},\"colorscale\":[[0.0,\"#0d0887\"],[0.1111111111111111,\"#46039f\"],[0.2222222222222222,\"#7201a8\"],[0.3333333333333333,\"#9c179e\"],[0.4444444444444444,\"#bd3786\"],[0.5555555555555556,\"#d8576b\"],[0.6666666666666666,\"#ed7953\"],[0.7777777777777778,\"#fb9f3a\"],[0.8888888888888888,\"#fdca26\"],[1.0,\"#f0f921\"]]}],\"contourcarpet\":[{\"type\":\"contourcarpet\",\"colorbar\":{\"outlinewidth\":0,\"ticks\":\"\"}}],\"contour\":[{\"type\":\"contour\",\"colorbar\":{\"outlinewidth\":0,\"ticks\":\"\"},\"colorscale\":[[0.0,\"#0d0887\"],[0.1111111111111111,\"#46039f\"],[0.2222222222222222,\"#7201a8\"],[0.3333333333333333,\"#9c179e\"],[0.4444444444444444,\"#bd3786\"],[0.5555555555555556,\"#d8576b\"],[0.6666666666666666,\"#ed7953\"],[0.7777777777777778,\"#fb9f3a\"],[0.8888888888888888,\"#fdca26\"],[1.0,\"#f0f921\"]]}],\"surface\":[{\"type\":\"surface\",\"colorbar\":{\"outlinewidth\":0,\"ticks\":\"\"},\"colorscale\":[[0.0,\"#0d0887\"],[0.1111111111111111,\"#46039f\"],[0.2222222222222222,\"#7201a8\"],[0.3333333333333333,\"#9c179e\"],[0.4444444444444444,\"#bd3786\"],[0.5555555555555556,\"#d8576b\"],[0.6666666666666666,\"#ed7953\"],[0.7777777777777778,\"#fb9f3a\"],[0.8888888888888888,\"#fdca26\"],[1.0,\"#f0f921\"]]}],\"mesh3d\":[{\"type\":\"mesh3d\",\"colorbar\":{\"outlinewidth\":0,\"ticks\":\"\"}}],\"scatter\":[{\"fillpattern\":{\"fillmode\":\"overlay\",\"size\":10,\"solidity\":0.2},\"type\":\"scatter\"}],\"parcoords\":[{\"type\":\"parcoords\",\"line\":{\"colorbar\":{\"outlinewidth\":0,\"ticks\":\"\"}}}],\"scatterpolargl\":[{\"type\":\"scatterpolargl\",\"marker\":{\"colorbar\":{\"outlinewidth\":0,\"ticks\":\"\"}}}],\"bar\":[{\"error_x\":{\"color\":\"#2a3f5f\"},\"error_y\":{\"color\":\"#2a3f5f\"},\"marker\":{\"line\":{\"color\":\"#E5ECF6\",\"width\":0.5},\"pattern\":{\"fillmode\":\"overlay\",\"size\":10,\"solidity\":0.2}},\"type\":\"bar\"}],\"scattergeo\":[{\"type\":\"scattergeo\",\"marker\":{\"colorbar\":{\"outlinewidth\":0,\"ticks\":\"\"}}}],\"scatterpolar\":[{\"type\":\"scatterpolar\",\"marker\":{\"colorbar\":{\"outlinewidth\":0,\"ticks\":\"\"}}}],\"histogram\":[{\"marker\":{\"pattern\":{\"fillmode\":\"overlay\",\"size\":10,\"solidity\":0.2}},\"type\":\"histogram\"}],\"scattergl\":[{\"type\":\"scattergl\",\"marker\":{\"colorbar\":{\"outlinewidth\":0,\"ticks\":\"\"}}}],\"scatter3d\":[{\"type\":\"scatter3d\",\"line\":{\"colorbar\":{\"outlinewidth\":0,\"ticks\":\"\"}},\"marker\":{\"colorbar\":{\"outlinewidth\":0,\"ticks\":\"\"}}}],\"scattermapbox\":[{\"type\":\"scattermapbox\",\"marker\":{\"colorbar\":{\"outlinewidth\":0,\"ticks\":\"\"}}}],\"scatterternary\":[{\"type\":\"scatterternary\",\"marker\":{\"colorbar\":{\"outlinewidth\":0,\"ticks\":\"\"}}}],\"scattercarpet\":[{\"type\":\"scattercarpet\",\"marker\":{\"colorbar\":{\"outlinewidth\":0,\"ticks\":\"\"}}}],\"carpet\":[{\"aaxis\":{\"endlinecolor\":\"#2a3f5f\",\"gridcolor\":\"white\",\"linecolor\":\"white\",\"minorgridcolor\":\"white\",\"startlinecolor\":\"#2a3f5f\"},\"baxis\":{\"endlinecolor\":\"#2a3f5f\",\"gridcolor\":\"white\",\"linecolor\":\"white\",\"minorgridcolor\":\"white\",\"startlinecolor\":\"#2a3f5f\"},\"type\":\"carpet\"}],\"table\":[{\"cells\":{\"fill\":{\"color\":\"#EBF0F8\"},\"line\":{\"color\":\"white\"}},\"header\":{\"fill\":{\"color\":\"#C8D4E3\"},\"line\":{\"color\":\"white\"}},\"type\":\"table\"}],\"barpolar\":[{\"marker\":{\"line\":{\"color\":\"#E5ECF6\",\"width\":0.5},\"pattern\":{\"fillmode\":\"overlay\",\"size\":10,\"solidity\":0.2}},\"type\":\"barpolar\"}],\"pie\":[{\"automargin\":true,\"type\":\"pie\"}]},\"layout\":{\"autotypenumbers\":\"strict\",\"colorway\":[\"#636efa\",\"#EF553B\",\"#00cc96\",\"#ab63fa\",\"#FFA15A\",\"#19d3f3\",\"#FF6692\",\"#B6E880\",\"#FF97FF\",\"#FECB52\"],\"font\":{\"color\":\"#2a3f5f\"},\"hovermode\":\"closest\",\"hoverlabel\":{\"align\":\"left\"},\"paper_bgcolor\":\"white\",\"plot_bgcolor\":\"#E5ECF6\",\"polar\":{\"bgcolor\":\"#E5ECF6\",\"angularaxis\":{\"gridcolor\":\"white\",\"linecolor\":\"white\",\"ticks\":\"\"},\"radialaxis\":{\"gridcolor\":\"white\",\"linecolor\":\"white\",\"ticks\":\"\"}},\"ternary\":{\"bgcolor\":\"#E5ECF6\",\"aaxis\":{\"gridcolor\":\"white\",\"linecolor\":\"white\",\"ticks\":\"\"},\"baxis\":{\"gridcolor\":\"white\",\"linecolor\":\"white\",\"ticks\":\"\"},\"caxis\":{\"gridcolor\":\"white\",\"linecolor\":\"white\",\"ticks\":\"\"}},\"coloraxis\":{\"colorbar\":{\"outlinewidth\":0,\"ticks\":\"\"}},\"colorscale\":{\"sequential\":[[0.0,\"#0d0887\"],[0.1111111111111111,\"#46039f\"],[0.2222222222222222,\"#7201a8\"],[0.3333333333333333,\"#9c179e\"],[0.4444444444444444,\"#bd3786\"],[0.5555555555555556,\"#d8576b\"],[0.6666666666666666,\"#ed7953\"],[0.7777777777777778,\"#fb9f3a\"],[0.8888888888888888,\"#fdca26\"],[1.0,\"#f0f921\"]],\"sequentialminus\":[[0.0,\"#0d0887\"],[0.1111111111111111,\"#46039f\"],[0.2222222222222222,\"#7201a8\"],[0.3333333333333333,\"#9c179e\"],[0.4444444444444444,\"#bd3786\"],[0.5555555555555556,\"#d8576b\"],[0.6666666666666666,\"#ed7953\"],[0.7777777777777778,\"#fb9f3a\"],[0.8888888888888888,\"#fdca26\"],[1.0,\"#f0f921\"]],\"diverging\":[[0,\"#8e0152\"],[0.1,\"#c51b7d\"],[0.2,\"#de77ae\"],[0.3,\"#f1b6da\"],[0.4,\"#fde0ef\"],[0.5,\"#f7f7f7\"],[0.6,\"#e6f5d0\"],[0.7,\"#b8e186\"],[0.8,\"#7fbc41\"],[0.9,\"#4d9221\"],[1,\"#276419\"]]},\"xaxis\":{\"gridcolor\":\"white\",\"linecolor\":\"white\",\"ticks\":\"\",\"title\":{\"standoff\":15},\"zerolinecolor\":\"white\",\"automargin\":true,\"zerolinewidth\":2},\"yaxis\":{\"gridcolor\":\"white\",\"linecolor\":\"white\",\"ticks\":\"\",\"title\":{\"standoff\":15},\"zerolinecolor\":\"white\",\"automargin\":true,\"zerolinewidth\":2},\"scene\":{\"xaxis\":{\"backgroundcolor\":\"#E5ECF6\",\"gridcolor\":\"white\",\"linecolor\":\"white\",\"showbackground\":true,\"ticks\":\"\",\"zerolinecolor\":\"white\",\"gridwidth\":2},\"yaxis\":{\"backgroundcolor\":\"#E5ECF6\",\"gridcolor\":\"white\",\"linecolor\":\"white\",\"showbackground\":true,\"ticks\":\"\",\"zerolinecolor\":\"white\",\"gridwidth\":2},\"zaxis\":{\"backgroundcolor\":\"#E5ECF6\",\"gridcolor\":\"white\",\"linecolor\":\"white\",\"showbackground\":true,\"ticks\":\"\",\"zerolinecolor\":\"white\",\"gridwidth\":2}},\"shapedefaults\":{\"line\":{\"color\":\"#2a3f5f\"}},\"annotationdefaults\":{\"arrowcolor\":\"#2a3f5f\",\"arrowhead\":0,\"arrowwidth\":1},\"geo\":{\"bgcolor\":\"white\",\"landcolor\":\"#E5ECF6\",\"subunitcolor\":\"white\",\"showland\":true,\"showlakes\":true,\"lakecolor\":\"white\"},\"title\":{\"x\":0.05},\"mapbox\":{\"style\":\"light\"}}},\"xaxis\":{\"anchor\":\"y\",\"domain\":[0.0,1.0],\"title\":{\"text\":\"fez_emprestimo\"}},\"yaxis\":{\"anchor\":\"x\",\"domain\":[0.0,1.0],\"title\":{\"text\":\"count\"}},\"legend\":{\"title\":{\"text\":\"aderencia_investimento\"},\"tracegroupgap\":0},\"margin\":{\"t\":60},\"barmode\":\"group\"},                        {\"responsive\": true}                    ).then(function(){\n",
              "                            \n",
              "var gd = document.getElementById('09bdc06b-026c-47d6-9220-d18199535bba');\n",
              "var x = new MutationObserver(function (mutations, observer) {{\n",
              "        var display = window.getComputedStyle(gd).display;\n",
              "        if (!display || display === 'none') {{\n",
              "            console.log([gd, 'removed!']);\n",
              "            Plotly.purge(gd);\n",
              "            observer.disconnect();\n",
              "        }}\n",
              "}});\n",
              "\n",
              "// Listen for the removal of the full notebook cells\n",
              "var notebookContainer = gd.closest('#notebook-container');\n",
              "if (notebookContainer) {{\n",
              "    x.observe(notebookContainer, {childList: true});\n",
              "}}\n",
              "\n",
              "// Listen for the clearing of the current output cell\n",
              "var outputEl = gd.closest('.output');\n",
              "if (outputEl) {{\n",
              "    x.observe(outputEl, {childList: true});\n",
              "}}\n",
              "\n",
              "                        })                };                            </script>        </div>\n",
              "</body>\n",
              "</html>"
            ]
          },
          "metadata": {}
        }
      ]
    },
    {
      "cell_type": "code",
      "source": [
        "px.box(dados, x = 'idade', color = 'aderencia_investimento')"
      ],
      "metadata": {
        "id": "Lp02nsYQxrJg",
        "outputId": "a486e719-a779-4f4c-96aa-4a452ee0548d",
        "colab": {
          "base_uri": "https://localhost:8080/",
          "height": 542
        }
      },
      "execution_count": 11,
      "outputs": [
        {
          "output_type": "display_data",
          "data": {
            "text/html": [
              "<html>\n",
              "<head><meta charset=\"utf-8\" /></head>\n",
              "<body>\n",
              "    <div>            <script src=\"https://cdnjs.cloudflare.com/ajax/libs/mathjax/2.7.5/MathJax.js?config=TeX-AMS-MML_SVG\"></script><script type=\"text/javascript\">if (window.MathJax && window.MathJax.Hub && window.MathJax.Hub.Config) {window.MathJax.Hub.Config({SVG: {font: \"STIX-Web\"}});}</script>                <script type=\"text/javascript\">window.PlotlyConfig = {MathJaxConfig: 'local'};</script>\n",
              "        <script charset=\"utf-8\" src=\"https://cdn.plot.ly/plotly-2.35.2.min.js\"></script>                <div id=\"24183a9d-ce42-4a66-9c05-69f82b17f5eb\" class=\"plotly-graph-div\" style=\"height:525px; width:100%;\"></div>            <script type=\"text/javascript\">                                    window.PLOTLYENV=window.PLOTLYENV || {};                                    if (document.getElementById(\"24183a9d-ce42-4a66-9c05-69f82b17f5eb\")) {                    Plotly.newPlot(                        \"24183a9d-ce42-4a66-9c05-69f82b17f5eb\",                        [{\"alignmentgroup\":\"True\",\"hovertemplate\":\"aderencia_investimento=sim\\u003cbr\\u003eidade=%{x}\\u003cextra\\u003e\\u003c\\u002fextra\\u003e\",\"legendgroup\":\"sim\",\"marker\":{\"color\":\"#636efa\"},\"name\":\"sim\",\"notched\":false,\"offsetgroup\":\"sim\",\"orientation\":\"h\",\"showlegend\":true,\"x\":[45,42,58,50,24,34,33,33,80,46,30,47,30,47,32,71,31,30,52,51,34,59,35,22,28,60,43,35,54,32,49,43,20,49,48,49,49,32,38,31,27,32,34,33,34,32,68,60,32,21,33,39,54,42,45,31,83,34,47,48,29,33,31,58,37,28,49,57,34,30,78,29,59,48,49,75,46,79,28,43,26,66,61,72,53,58,52,62,37,55,33,35,40,25,49,37,74,35,33,39,47,34,51,46,36,43,61,31,55,30,49,32,36,34,49,38,45,53,52,43,61,31,59,30,35,38,53,47,22,35,27,63,28,47,27,29,46,44,32,38,71,73,41,38,25,46,77,30,48,25,32,53,51,37,28,49,19,50,41,80,52,31,46,28,41,27,46,44,41,28,44,57,43,30,37,36,58,54,32,44,24,55,53,35,34,31,32,59,33,30,46,52,45,55,32,33,56,34,43,32,41,42,53,54,23,32,75,37,39,36,36,53,35,32,49,77,41,45,67,46,48,27,54,63,27,32,48,27,33,49,41,35,87,32,53,31,30,56,49,36,28,36,33,32,44,49,35,61,36,46,42,47,48,60,46,66,55,30,34,40,40,59,50,39,37,47,43,38,38,35,25,25,31,50,47,29,59,46,75,37,63,32,34,48,27,33,55,60,46,33,30,45,23,59,44,29,28,34,29,34,50,43,47,71,34,28,32,53,49,33,64,25,60,22,32,34,31,29,31,51,61,83,29,44,38,29,46,44,41,43,39,59,37,40,38,44,42,45,54,28,36,59,59,36,26,26,35,64,38,59,42,60,51,62,27,34,26,53,36,37,30,32,40,43,27,45,19,25,44,38,27,37,35,41,28,56,36,29,33,55,28,84,32,73,77,52,62,56,41,41,31,56,39,40,28,36,42,31,25,35,59,30,53,32,38,34,26,50,38,38,34,69,47,35,39,34,38,29,54,55,48,34,25,52,40,36,24,33,34,68,27,47,39,36,41,34,35,57,32,28,55,41,35,60,28,35,27,74,39,34,56,26,29,33,37,42,61,50,29,36,32,31,53,45,37,53,40,27,36,34,31,55,61,45,45,49,55,41,47,42,37,32,25,38,39,79,26,33,47,24,53,40,30,38,32,37,36,52,35,30,42,29],\"x0\":\" \",\"xaxis\":\"x\",\"y0\":\" \",\"yaxis\":\"y\",\"type\":\"box\"},{\"alignmentgroup\":\"True\",\"hovertemplate\":\"aderencia_investimento=nao\\u003cbr\\u003eidade=%{x}\\u003cextra\\u003e\\u003c\\u002fextra\\u003e\",\"legendgroup\":\"nao\",\"marker\":{\"color\":\"#EF553B\"},\"name\":\"nao\",\"notched\":false,\"offsetgroup\":\"nao\",\"orientation\":\"h\",\"showlegend\":true,\"x\":[23,53,30,39,30,39,34,38,48,39,53,38,24,44,53,41,27,58,51,47,34,40,44,55,38,38,54,43,31,36,33,38,57,31,34,29,38,41,34,37,50,55,45,35,49,36,41,48,49,55,34,57,38,40,45,61,57,76,33,32,34,37,34,31,47,31,35,31,35,40,38,49,40,34,50,40,43,39,45,26,42,33,75,30,32,59,38,52,36,50,27,45,40,48,36,49,36,39,33,30,32,29,36,41,38,36,42,30,31,30,27,37,34,59,35,42,28,55,50,33,32,53,60,34,54,42,36,33,67,34,70,35,34,61,47,40,28,33,52,43,30,59,39,32,42,57,33,37,44,45,41,26,51,46,45,46,41,29,41,59,34,30,42,33,30,39,59,39,33,42,52,33,36,40,45,60,36,53,34,49,43,46,39,41,44,41,27,31,25,32,56,30,29,31,37,58,57,33,51,42,54,28,35,46,26,59,50,36,52,32,53,52,41,40,34,49,34,28,32,34,36,56,42,29,45,37,46,40,42,34,55,33,51,42,30,50,41,32,32,53,36,33,33,58,49,43,80,55,30,27,36,35,36,32,39,50,36,52,37,47,39,41,23,36,58,52,23,34,47,50,38,31,40,40,48,39,34,41,55,59,40,28,36,41,27,33,47,44,31,28,34,31,31,34,33,37,58,37,28,34,34,25,35,39,58,26,32,31,31,45,37,83,51,52,29,30,35,30,26,45,41,22,41,33,41,34,33,29,49,51,40,42,31,31,31,46,34,38,27,56,33,37,30,42,52,49,47,46,51,42,59,27,60,38,28,31,38,55,58,53,30,49,25,46,28,49,43,56,38,33,32,27,29,59,28,32,44,63,51,44,38,40,33,36,35,56,32,35,57,31,39,57,44,38,60,38,37,34,49,40,46,29,31,23,48,38,33,42,48,48,45,39,34,59,40,31,33,57,58,36,50,34,45,36,53,36,28,30,33,43,38,32,30,45,30,53,43,49,35,36,45,30,40,40,34,36,42,52,42,28,39,41,46,40,33,54,51,33,56,43,29,43,58,29,57,54,42,34,31,30,31,47,44,30,33,57,37,36,51,43,59,54,32,45,37,69,43,31,58,56,34,47,31,39,38,46,57,27,58,26,58,37,41,49,37,43,34,53,33,36,26,41,37,33,36,38,33,48,33,27,33,33,33,59,33,36,46,26,40,46,26,39,36,39,39,35,31,45,48,47,33,41,31,50,55,37,36,36,60,32,35,32,39,50,52,35,35,43,55,26,31,30,38,48,43,35,37,58,41,49,49,49,53,48,28,36,42,36,37,28,42,69,45,46,40,48,52,52,32,32,31,34,32,56,34,39,44,39,42,30,54,38,35,30,32,36,40,41,31,58,55,39,38,34,42,35,29,54,48,32,46,51,56,35,42,46,58,44,54,53,41,42,25,70,56,35,38,50,30,30,39,36,34,53,27,42,51,57,59,39,38,45,41,45,52,38,40,29,35,43,34,41,76,30,32,39,38,59,47,44,52,51,32,33,56,35,59,58,28,56,42,58,32,33,55,33,48,61,49,36,51,30,27,33,28,34,45,50,54,56,25,47,51,28,33,39,36,37,35,26,41,40,36,35,31,30,47,47,56,33,31,30,30,51,37,34,54,41,35,49,37,49,58,31,42,33,51,36,57,34,42,30,43,42,34,46,33,27,46,31,66,57,38,45,28,33,35,32,58,34,26,37,40,26,38,56],\"x0\":\" \",\"xaxis\":\"x\",\"y0\":\" \",\"yaxis\":\"y\",\"type\":\"box\"}],                        {\"template\":{\"data\":{\"histogram2dcontour\":[{\"type\":\"histogram2dcontour\",\"colorbar\":{\"outlinewidth\":0,\"ticks\":\"\"},\"colorscale\":[[0.0,\"#0d0887\"],[0.1111111111111111,\"#46039f\"],[0.2222222222222222,\"#7201a8\"],[0.3333333333333333,\"#9c179e\"],[0.4444444444444444,\"#bd3786\"],[0.5555555555555556,\"#d8576b\"],[0.6666666666666666,\"#ed7953\"],[0.7777777777777778,\"#fb9f3a\"],[0.8888888888888888,\"#fdca26\"],[1.0,\"#f0f921\"]]}],\"choropleth\":[{\"type\":\"choropleth\",\"colorbar\":{\"outlinewidth\":0,\"ticks\":\"\"}}],\"histogram2d\":[{\"type\":\"histogram2d\",\"colorbar\":{\"outlinewidth\":0,\"ticks\":\"\"},\"colorscale\":[[0.0,\"#0d0887\"],[0.1111111111111111,\"#46039f\"],[0.2222222222222222,\"#7201a8\"],[0.3333333333333333,\"#9c179e\"],[0.4444444444444444,\"#bd3786\"],[0.5555555555555556,\"#d8576b\"],[0.6666666666666666,\"#ed7953\"],[0.7777777777777778,\"#fb9f3a\"],[0.8888888888888888,\"#fdca26\"],[1.0,\"#f0f921\"]]}],\"heatmap\":[{\"type\":\"heatmap\",\"colorbar\":{\"outlinewidth\":0,\"ticks\":\"\"},\"colorscale\":[[0.0,\"#0d0887\"],[0.1111111111111111,\"#46039f\"],[0.2222222222222222,\"#7201a8\"],[0.3333333333333333,\"#9c179e\"],[0.4444444444444444,\"#bd3786\"],[0.5555555555555556,\"#d8576b\"],[0.6666666666666666,\"#ed7953\"],[0.7777777777777778,\"#fb9f3a\"],[0.8888888888888888,\"#fdca26\"],[1.0,\"#f0f921\"]]}],\"heatmapgl\":[{\"type\":\"heatmapgl\",\"colorbar\":{\"outlinewidth\":0,\"ticks\":\"\"},\"colorscale\":[[0.0,\"#0d0887\"],[0.1111111111111111,\"#46039f\"],[0.2222222222222222,\"#7201a8\"],[0.3333333333333333,\"#9c179e\"],[0.4444444444444444,\"#bd3786\"],[0.5555555555555556,\"#d8576b\"],[0.6666666666666666,\"#ed7953\"],[0.7777777777777778,\"#fb9f3a\"],[0.8888888888888888,\"#fdca26\"],[1.0,\"#f0f921\"]]}],\"contourcarpet\":[{\"type\":\"contourcarpet\",\"colorbar\":{\"outlinewidth\":0,\"ticks\":\"\"}}],\"contour\":[{\"type\":\"contour\",\"colorbar\":{\"outlinewidth\":0,\"ticks\":\"\"},\"colorscale\":[[0.0,\"#0d0887\"],[0.1111111111111111,\"#46039f\"],[0.2222222222222222,\"#7201a8\"],[0.3333333333333333,\"#9c179e\"],[0.4444444444444444,\"#bd3786\"],[0.5555555555555556,\"#d8576b\"],[0.6666666666666666,\"#ed7953\"],[0.7777777777777778,\"#fb9f3a\"],[0.8888888888888888,\"#fdca26\"],[1.0,\"#f0f921\"]]}],\"surface\":[{\"type\":\"surface\",\"colorbar\":{\"outlinewidth\":0,\"ticks\":\"\"},\"colorscale\":[[0.0,\"#0d0887\"],[0.1111111111111111,\"#46039f\"],[0.2222222222222222,\"#7201a8\"],[0.3333333333333333,\"#9c179e\"],[0.4444444444444444,\"#bd3786\"],[0.5555555555555556,\"#d8576b\"],[0.6666666666666666,\"#ed7953\"],[0.7777777777777778,\"#fb9f3a\"],[0.8888888888888888,\"#fdca26\"],[1.0,\"#f0f921\"]]}],\"mesh3d\":[{\"type\":\"mesh3d\",\"colorbar\":{\"outlinewidth\":0,\"ticks\":\"\"}}],\"scatter\":[{\"fillpattern\":{\"fillmode\":\"overlay\",\"size\":10,\"solidity\":0.2},\"type\":\"scatter\"}],\"parcoords\":[{\"type\":\"parcoords\",\"line\":{\"colorbar\":{\"outlinewidth\":0,\"ticks\":\"\"}}}],\"scatterpolargl\":[{\"type\":\"scatterpolargl\",\"marker\":{\"colorbar\":{\"outlinewidth\":0,\"ticks\":\"\"}}}],\"bar\":[{\"error_x\":{\"color\":\"#2a3f5f\"},\"error_y\":{\"color\":\"#2a3f5f\"},\"marker\":{\"line\":{\"color\":\"#E5ECF6\",\"width\":0.5},\"pattern\":{\"fillmode\":\"overlay\",\"size\":10,\"solidity\":0.2}},\"type\":\"bar\"}],\"scattergeo\":[{\"type\":\"scattergeo\",\"marker\":{\"colorbar\":{\"outlinewidth\":0,\"ticks\":\"\"}}}],\"scatterpolar\":[{\"type\":\"scatterpolar\",\"marker\":{\"colorbar\":{\"outlinewidth\":0,\"ticks\":\"\"}}}],\"histogram\":[{\"marker\":{\"pattern\":{\"fillmode\":\"overlay\",\"size\":10,\"solidity\":0.2}},\"type\":\"histogram\"}],\"scattergl\":[{\"type\":\"scattergl\",\"marker\":{\"colorbar\":{\"outlinewidth\":0,\"ticks\":\"\"}}}],\"scatter3d\":[{\"type\":\"scatter3d\",\"line\":{\"colorbar\":{\"outlinewidth\":0,\"ticks\":\"\"}},\"marker\":{\"colorbar\":{\"outlinewidth\":0,\"ticks\":\"\"}}}],\"scattermapbox\":[{\"type\":\"scattermapbox\",\"marker\":{\"colorbar\":{\"outlinewidth\":0,\"ticks\":\"\"}}}],\"scatterternary\":[{\"type\":\"scatterternary\",\"marker\":{\"colorbar\":{\"outlinewidth\":0,\"ticks\":\"\"}}}],\"scattercarpet\":[{\"type\":\"scattercarpet\",\"marker\":{\"colorbar\":{\"outlinewidth\":0,\"ticks\":\"\"}}}],\"carpet\":[{\"aaxis\":{\"endlinecolor\":\"#2a3f5f\",\"gridcolor\":\"white\",\"linecolor\":\"white\",\"minorgridcolor\":\"white\",\"startlinecolor\":\"#2a3f5f\"},\"baxis\":{\"endlinecolor\":\"#2a3f5f\",\"gridcolor\":\"white\",\"linecolor\":\"white\",\"minorgridcolor\":\"white\",\"startlinecolor\":\"#2a3f5f\"},\"type\":\"carpet\"}],\"table\":[{\"cells\":{\"fill\":{\"color\":\"#EBF0F8\"},\"line\":{\"color\":\"white\"}},\"header\":{\"fill\":{\"color\":\"#C8D4E3\"},\"line\":{\"color\":\"white\"}},\"type\":\"table\"}],\"barpolar\":[{\"marker\":{\"line\":{\"color\":\"#E5ECF6\",\"width\":0.5},\"pattern\":{\"fillmode\":\"overlay\",\"size\":10,\"solidity\":0.2}},\"type\":\"barpolar\"}],\"pie\":[{\"automargin\":true,\"type\":\"pie\"}]},\"layout\":{\"autotypenumbers\":\"strict\",\"colorway\":[\"#636efa\",\"#EF553B\",\"#00cc96\",\"#ab63fa\",\"#FFA15A\",\"#19d3f3\",\"#FF6692\",\"#B6E880\",\"#FF97FF\",\"#FECB52\"],\"font\":{\"color\":\"#2a3f5f\"},\"hovermode\":\"closest\",\"hoverlabel\":{\"align\":\"left\"},\"paper_bgcolor\":\"white\",\"plot_bgcolor\":\"#E5ECF6\",\"polar\":{\"bgcolor\":\"#E5ECF6\",\"angularaxis\":{\"gridcolor\":\"white\",\"linecolor\":\"white\",\"ticks\":\"\"},\"radialaxis\":{\"gridcolor\":\"white\",\"linecolor\":\"white\",\"ticks\":\"\"}},\"ternary\":{\"bgcolor\":\"#E5ECF6\",\"aaxis\":{\"gridcolor\":\"white\",\"linecolor\":\"white\",\"ticks\":\"\"},\"baxis\":{\"gridcolor\":\"white\",\"linecolor\":\"white\",\"ticks\":\"\"},\"caxis\":{\"gridcolor\":\"white\",\"linecolor\":\"white\",\"ticks\":\"\"}},\"coloraxis\":{\"colorbar\":{\"outlinewidth\":0,\"ticks\":\"\"}},\"colorscale\":{\"sequential\":[[0.0,\"#0d0887\"],[0.1111111111111111,\"#46039f\"],[0.2222222222222222,\"#7201a8\"],[0.3333333333333333,\"#9c179e\"],[0.4444444444444444,\"#bd3786\"],[0.5555555555555556,\"#d8576b\"],[0.6666666666666666,\"#ed7953\"],[0.7777777777777778,\"#fb9f3a\"],[0.8888888888888888,\"#fdca26\"],[1.0,\"#f0f921\"]],\"sequentialminus\":[[0.0,\"#0d0887\"],[0.1111111111111111,\"#46039f\"],[0.2222222222222222,\"#7201a8\"],[0.3333333333333333,\"#9c179e\"],[0.4444444444444444,\"#bd3786\"],[0.5555555555555556,\"#d8576b\"],[0.6666666666666666,\"#ed7953\"],[0.7777777777777778,\"#fb9f3a\"],[0.8888888888888888,\"#fdca26\"],[1.0,\"#f0f921\"]],\"diverging\":[[0,\"#8e0152\"],[0.1,\"#c51b7d\"],[0.2,\"#de77ae\"],[0.3,\"#f1b6da\"],[0.4,\"#fde0ef\"],[0.5,\"#f7f7f7\"],[0.6,\"#e6f5d0\"],[0.7,\"#b8e186\"],[0.8,\"#7fbc41\"],[0.9,\"#4d9221\"],[1,\"#276419\"]]},\"xaxis\":{\"gridcolor\":\"white\",\"linecolor\":\"white\",\"ticks\":\"\",\"title\":{\"standoff\":15},\"zerolinecolor\":\"white\",\"automargin\":true,\"zerolinewidth\":2},\"yaxis\":{\"gridcolor\":\"white\",\"linecolor\":\"white\",\"ticks\":\"\",\"title\":{\"standoff\":15},\"zerolinecolor\":\"white\",\"automargin\":true,\"zerolinewidth\":2},\"scene\":{\"xaxis\":{\"backgroundcolor\":\"#E5ECF6\",\"gridcolor\":\"white\",\"linecolor\":\"white\",\"showbackground\":true,\"ticks\":\"\",\"zerolinecolor\":\"white\",\"gridwidth\":2},\"yaxis\":{\"backgroundcolor\":\"#E5ECF6\",\"gridcolor\":\"white\",\"linecolor\":\"white\",\"showbackground\":true,\"ticks\":\"\",\"zerolinecolor\":\"white\",\"gridwidth\":2},\"zaxis\":{\"backgroundcolor\":\"#E5ECF6\",\"gridcolor\":\"white\",\"linecolor\":\"white\",\"showbackground\":true,\"ticks\":\"\",\"zerolinecolor\":\"white\",\"gridwidth\":2}},\"shapedefaults\":{\"line\":{\"color\":\"#2a3f5f\"}},\"annotationdefaults\":{\"arrowcolor\":\"#2a3f5f\",\"arrowhead\":0,\"arrowwidth\":1},\"geo\":{\"bgcolor\":\"white\",\"landcolor\":\"#E5ECF6\",\"subunitcolor\":\"white\",\"showland\":true,\"showlakes\":true,\"lakecolor\":\"white\"},\"title\":{\"x\":0.05},\"mapbox\":{\"style\":\"light\"}}},\"xaxis\":{\"anchor\":\"y\",\"domain\":[0.0,1.0],\"title\":{\"text\":\"idade\"}},\"yaxis\":{\"anchor\":\"x\",\"domain\":[0.0,1.0]},\"legend\":{\"title\":{\"text\":\"aderencia_investimento\"},\"tracegroupgap\":0},\"margin\":{\"t\":60},\"boxmode\":\"group\"},                        {\"responsive\": true}                    ).then(function(){\n",
              "                            \n",
              "var gd = document.getElementById('24183a9d-ce42-4a66-9c05-69f82b17f5eb');\n",
              "var x = new MutationObserver(function (mutations, observer) {{\n",
              "        var display = window.getComputedStyle(gd).display;\n",
              "        if (!display || display === 'none') {{\n",
              "            console.log([gd, 'removed!']);\n",
              "            Plotly.purge(gd);\n",
              "            observer.disconnect();\n",
              "        }}\n",
              "}});\n",
              "\n",
              "// Listen for the removal of the full notebook cells\n",
              "var notebookContainer = gd.closest('#notebook-container');\n",
              "if (notebookContainer) {{\n",
              "    x.observe(notebookContainer, {childList: true});\n",
              "}}\n",
              "\n",
              "// Listen for the clearing of the current output cell\n",
              "var outputEl = gd.closest('.output');\n",
              "if (outputEl) {{\n",
              "    x.observe(outputEl, {childList: true});\n",
              "}}\n",
              "\n",
              "                        })                };                            </script>        </div>\n",
              "</body>\n",
              "</html>"
            ]
          },
          "metadata": {}
        }
      ]
    },
    {
      "cell_type": "code",
      "source": [
        "px.box(dados, x = 'saldo', color = 'aderencia_investimento')"
      ],
      "metadata": {
        "id": "TvefAb-TymzY",
        "outputId": "8810c20b-b683-416e-a96c-757156b09401",
        "colab": {
          "base_uri": "https://localhost:8080/",
          "height": 542
        }
      },
      "execution_count": 12,
      "outputs": [
        {
          "output_type": "display_data",
          "data": {
            "text/html": [
              "<html>\n",
              "<head><meta charset=\"utf-8\" /></head>\n",
              "<body>\n",
              "    <div>            <script src=\"https://cdnjs.cloudflare.com/ajax/libs/mathjax/2.7.5/MathJax.js?config=TeX-AMS-MML_SVG\"></script><script type=\"text/javascript\">if (window.MathJax && window.MathJax.Hub && window.MathJax.Hub.Config) {window.MathJax.Hub.Config({SVG: {font: \"STIX-Web\"}});}</script>                <script type=\"text/javascript\">window.PlotlyConfig = {MathJaxConfig: 'local'};</script>\n",
              "        <script charset=\"utf-8\" src=\"https://cdn.plot.ly/plotly-2.35.2.min.js\"></script>                <div id=\"410e3763-7686-4353-88d7-844309d00e31\" class=\"plotly-graph-div\" style=\"height:525px; width:100%;\"></div>            <script type=\"text/javascript\">                                    window.PLOTLYENV=window.PLOTLYENV || {};                                    if (document.getElementById(\"410e3763-7686-4353-88d7-844309d00e31\")) {                    Plotly.newPlot(                        \"410e3763-7686-4353-88d7-844309d00e31\",                        [{\"alignmentgroup\":\"True\",\"hovertemplate\":\"aderencia_investimento=sim\\u003cbr\\u003esaldo=%{x}\\u003cextra\\u003e\\u003c\\u002fextra\\u003e\",\"legendgroup\":\"sim\",\"marker\":{\"color\":\"#636efa\"},\"name\":\"sim\",\"notched\":false,\"offsetgroup\":\"sim\",\"orientation\":\"h\",\"showlegend\":true,\"x\":[242,1289,1382,3357,174,5086,139,2411,8304,624,102,4402,2145,1167,118,14220,156,-393,335,117,1337,259,1265,691,0,366,388,470,2171,230,151,1696,502,2146,480,687,3726,2431,3436,3283,213,1905,18,0,606,-53,4189,65,678,2488,3935,1047,2206,372,2048,4148,1097,247,126,1167,1445,478,325,462,0,198,2039,1044,3050,305,229,-20,2308,1147,889,3810,-90,8556,442,2160,255,206,985,763,1796,565,-191,6,238,3450,79,152,1451,760,3608,1315,921,0,3143,7066,405,2374,1679,548,2944,3285,4608,2544,1613,302,-454,811,1133,215,523,2543,410,25,-970,132,997,26965,1026,201,0,2253,104,3696,2488,2658,-195,3904,1562,225,897,199,668,14,2089,-242,4657,796,1646,1988,331,273,0,2,817,8,311,94,297,5106,227,755,302,1200,-386,0,195,636,22,171,39,802,368,205,720,4579,244,0,1429,1942,-242,495,1013,0,38,2776,822,-375,765,7050,197,406,2881,5845,386,944,70,657,844,976,0,61,-1206,462,3403,228,5310,4945,306,8295,4,620,1341,2442,902,3057,12,459,1354,2,1235,7802,75,5346,701,1297,4415,158,0,474,0,874,568,3733,133,197,231,3636,230,152,27,1331,569,3391,3371,1177,80,9,1412,759,7138,320,724,1191,4438,-824,1080,1219,1808,362,2232,1948,538,424,0,0,3,0,4108,607,5355,3727,1304,593,226,4508,808,304,1224,3463,3676,2325,4198,4,3771,480,1490,41,703,4099,489,-416,3334,493,57,273,1221,1893,1129,2013,5063,572,153,479,1070,3301,-54,136,1230,2850,2929,2788,4665,665,823,95,846,505,3735,3472,133,674,12569,437,2603,95,6610,425,113,4758,70,455,556,1058,664,104,2763,0,3665,-17,25,2734,-247,204,876,1633,490,1,9676,1511,668,-887,978,1574,2812,1727,936,11262,9228,1859,451,1076,294,2398,-308,393,-522,0,1836,699,710,-311,103,343,1679,6728,5291,3913,8,326,517,1044,1925,908,2085,9756,4745,639,883,279,4659,2087,0,1238,6046,1020,459,694,426,100,168,495,257,747,10,0,351,239,15,2536,623,5462,1347,341,170,0,-251,2144,1996,2971,2303,69,104,84,-315,2587,7195,2646,-242,2557,1361,197,556,697,1539,19317,54,0,687,2987,5037,925,145,2887,415,0,1580,1066,1792,4256,-46,0,703,4079,3,0,45,622,1026,661,4089,1205,6016,13,482,480,5514,92,732,59,1978,980,0,3792,1049,16,1766,602,2917,0,0,1623,-308,-306,1233,994,0,1625,2506,1199,763,429,170,1064,2306,4500,0,-839,315,3234,889,66,925,83,5958,-477,2187,19],\"x0\":\" \",\"xaxis\":\"x\",\"y0\":\" \",\"yaxis\":\"y\",\"type\":\"box\"},{\"alignmentgroup\":\"True\",\"hovertemplate\":\"aderencia_investimento=nao\\u003cbr\\u003esaldo=%{x}\\u003cextra\\u003e\\u003c\\u002fextra\\u003e\",\"legendgroup\":\"nao\",\"marker\":{\"color\":\"#EF553B\"},\"name\":\"nao\",\"notched\":false,\"offsetgroup\":\"nao\",\"orientation\":\"h\",\"showlegend\":true,\"x\":[363,4446,946,879,-94,7685,1116,0,559,0,70,157,-46,10888,719,7735,-247,1640,2662,2246,475,1584,0,-404,168,12877,98,13342,8312,119,3696,497,27069,40,1831,950,1513,1680,61,0,579,2275,0,8,87,3064,771,340,1032,1467,84,320,-673,-495,0,313,195,2590,106,1100,-228,403,415,1660,302,0,1810,0,62,194,2278,937,226,1553,0,10378,8167,102,180,-759,0,3470,6053,0,950,204,-363,-888,-461,201,7,827,0,302,678,2201,63,1439,641,1743,4,451,465,77,432,2394,-921,2,1086,3107,1209,0,1897,92,0,292,225,298,7317,640,1005,751,-396,436,653,508,6,92,16353,4943,2815,1067,470,5207,0,260,-328,0,431,2567,4,879,691,2185,7190,1469,22,1053,900,999,-29,3342,1069,7378,128,834,8,103,231,748,1657,1317,1322,263,4,1506,5314,260,150,1811,217,1240,1109,1012,220,89,1482,2581,475,198,17555,334,0,4900,304,171,619,2395,913,267,2959,975,0,1494,1698,781,158,316,2323,2974,541,0,13658,451,209,0,1111,1855,54,3939,4143,196,8238,1100,899,365,171,0,0,-292,442,442,30,228,757,489,390,61,1628,250,1187,2155,143,1533,178,732,552,1148,6402,5715,1409,474,0,502,1568,422,6483,229,0,2171,0,71,146,795,894,395,0,-9,168,2642,285,174,8627,1531,14412,108,8627,586,1121,52,3732,24,-1,93,-551,1022,943,204,979,9976,502,655,80,72,1,23,2515,22,-230,459,103,775,203,1386,-163,430,435,851,389,5320,180,1790,321,1045,111,-402,1831,25,4888,315,4153,0,1840,1117,828,102,633,1787,-32,295,-217,333,879,0,-256,44,10,14,305,-3,51,12223,614,360,22546,1410,1611,435,671,828,4902,3242,371,0,2347,0,145,2558,2237,525,2381,842,0,279,28,355,0,284,116,4554,6164,280,-221,-3,-298,1019,-93,21664,290,1897,604,186,-194,0,56,401,27,1084,-379,3463,578,9374,215,1746,35,212,705,786,0,500,5803,295,310,258,252,0,2685,902,1114,542,2904,417,388,736,-471,-278,75,-166,2294,1738,7353,399,50,46,462,191,1410,1238,2538,167,283,351,809,222,105,1327,378,2186,324,34,126,736,79,68,1372,71,520,171,949,177,115,125,-117,2805,0,0,179,1623,2,356,1315,4,1427,3571,181,1327,5108,-56,-59,1188,4210,192,314,200,11494,-630,-411,351,462,75,631,2,0,648,5235,82,3561,398,602,-98,2921,2225,569,-839,260,745,7343,5191,-123,2146,1671,136,472,278,0,324,16063,76,225,115,413,410,176,321,1050,291,6766,459,706,475,443,0,140,925,0,0,-53,0,6699,-179,1,359,804,133,137,1594,2262,856,-378,435,454,562,613,266,-540,69,1588,3854,10655,0,621,6563,609,1011,1983,0,605,1328,1025,62,118,493,406,60,1141,1147,0,3060,1011,236,202,20,0,2330,667,44,37,590,2993,902,15,-384,225,20,8,16430,-679,9269,427,2700,0,579,265,222,1670,-583,3163,1054,2349,5878,-219,4348,249,344,262,0,-329,0,130,4213,4382,950,5731,-518,273,553,-396,1172,25,0,61,4722,0,1666,10907,275,3672,0,1355,473,271,1415,16873,1145,157,0,331,5045,1295,-905,2125,0,1420,6850,1270,2988,506,669,11,261,0,2357,79,451,468,382,377,5799,2814,722,595,1269,4824,1529,592,4366,2,330,308,738,0,0,86,329,0,5731,-196,593,477,1071,0,42,3616,595,345,2,163,65,-97,238,3052,23,474,148,138,238,117,967,443,42,-55,931,-584,894,1532,0,-322,181,1480,306,-350,480,5050,0,0,83,40,490,0,1216,1602,33,-381,0,0,3516,881,286,2190,636,79,334,901,40,176,1076,865,429,221,4667,6969,1916,2223,5,47,1844,-55,300,0,318,1932,180,1574,-97,8,-35,1465,872,1790,660,10177,0,1147,784,16,212,5304,2343,1831,297,203,64,6,1064,-762,205],\"x0\":\" \",\"xaxis\":\"x\",\"y0\":\" \",\"yaxis\":\"y\",\"type\":\"box\"}],                        {\"template\":{\"data\":{\"histogram2dcontour\":[{\"type\":\"histogram2dcontour\",\"colorbar\":{\"outlinewidth\":0,\"ticks\":\"\"},\"colorscale\":[[0.0,\"#0d0887\"],[0.1111111111111111,\"#46039f\"],[0.2222222222222222,\"#7201a8\"],[0.3333333333333333,\"#9c179e\"],[0.4444444444444444,\"#bd3786\"],[0.5555555555555556,\"#d8576b\"],[0.6666666666666666,\"#ed7953\"],[0.7777777777777778,\"#fb9f3a\"],[0.8888888888888888,\"#fdca26\"],[1.0,\"#f0f921\"]]}],\"choropleth\":[{\"type\":\"choropleth\",\"colorbar\":{\"outlinewidth\":0,\"ticks\":\"\"}}],\"histogram2d\":[{\"type\":\"histogram2d\",\"colorbar\":{\"outlinewidth\":0,\"ticks\":\"\"},\"colorscale\":[[0.0,\"#0d0887\"],[0.1111111111111111,\"#46039f\"],[0.2222222222222222,\"#7201a8\"],[0.3333333333333333,\"#9c179e\"],[0.4444444444444444,\"#bd3786\"],[0.5555555555555556,\"#d8576b\"],[0.6666666666666666,\"#ed7953\"],[0.7777777777777778,\"#fb9f3a\"],[0.8888888888888888,\"#fdca26\"],[1.0,\"#f0f921\"]]}],\"heatmap\":[{\"type\":\"heatmap\",\"colorbar\":{\"outlinewidth\":0,\"ticks\":\"\"},\"colorscale\":[[0.0,\"#0d0887\"],[0.1111111111111111,\"#46039f\"],[0.2222222222222222,\"#7201a8\"],[0.3333333333333333,\"#9c179e\"],[0.4444444444444444,\"#bd3786\"],[0.5555555555555556,\"#d8576b\"],[0.6666666666666666,\"#ed7953\"],[0.7777777777777778,\"#fb9f3a\"],[0.8888888888888888,\"#fdca26\"],[1.0,\"#f0f921\"]]}],\"heatmapgl\":[{\"type\":\"heatmapgl\",\"colorbar\":{\"outlinewidth\":0,\"ticks\":\"\"},\"colorscale\":[[0.0,\"#0d0887\"],[0.1111111111111111,\"#46039f\"],[0.2222222222222222,\"#7201a8\"],[0.3333333333333333,\"#9c179e\"],[0.4444444444444444,\"#bd3786\"],[0.5555555555555556,\"#d8576b\"],[0.6666666666666666,\"#ed7953\"],[0.7777777777777778,\"#fb9f3a\"],[0.8888888888888888,\"#fdca26\"],[1.0,\"#f0f921\"]]}],\"contourcarpet\":[{\"type\":\"contourcarpet\",\"colorbar\":{\"outlinewidth\":0,\"ticks\":\"\"}}],\"contour\":[{\"type\":\"contour\",\"colorbar\":{\"outlinewidth\":0,\"ticks\":\"\"},\"colorscale\":[[0.0,\"#0d0887\"],[0.1111111111111111,\"#46039f\"],[0.2222222222222222,\"#7201a8\"],[0.3333333333333333,\"#9c179e\"],[0.4444444444444444,\"#bd3786\"],[0.5555555555555556,\"#d8576b\"],[0.6666666666666666,\"#ed7953\"],[0.7777777777777778,\"#fb9f3a\"],[0.8888888888888888,\"#fdca26\"],[1.0,\"#f0f921\"]]}],\"surface\":[{\"type\":\"surface\",\"colorbar\":{\"outlinewidth\":0,\"ticks\":\"\"},\"colorscale\":[[0.0,\"#0d0887\"],[0.1111111111111111,\"#46039f\"],[0.2222222222222222,\"#7201a8\"],[0.3333333333333333,\"#9c179e\"],[0.4444444444444444,\"#bd3786\"],[0.5555555555555556,\"#d8576b\"],[0.6666666666666666,\"#ed7953\"],[0.7777777777777778,\"#fb9f3a\"],[0.8888888888888888,\"#fdca26\"],[1.0,\"#f0f921\"]]}],\"mesh3d\":[{\"type\":\"mesh3d\",\"colorbar\":{\"outlinewidth\":0,\"ticks\":\"\"}}],\"scatter\":[{\"fillpattern\":{\"fillmode\":\"overlay\",\"size\":10,\"solidity\":0.2},\"type\":\"scatter\"}],\"parcoords\":[{\"type\":\"parcoords\",\"line\":{\"colorbar\":{\"outlinewidth\":0,\"ticks\":\"\"}}}],\"scatterpolargl\":[{\"type\":\"scatterpolargl\",\"marker\":{\"colorbar\":{\"outlinewidth\":0,\"ticks\":\"\"}}}],\"bar\":[{\"error_x\":{\"color\":\"#2a3f5f\"},\"error_y\":{\"color\":\"#2a3f5f\"},\"marker\":{\"line\":{\"color\":\"#E5ECF6\",\"width\":0.5},\"pattern\":{\"fillmode\":\"overlay\",\"size\":10,\"solidity\":0.2}},\"type\":\"bar\"}],\"scattergeo\":[{\"type\":\"scattergeo\",\"marker\":{\"colorbar\":{\"outlinewidth\":0,\"ticks\":\"\"}}}],\"scatterpolar\":[{\"type\":\"scatterpolar\",\"marker\":{\"colorbar\":{\"outlinewidth\":0,\"ticks\":\"\"}}}],\"histogram\":[{\"marker\":{\"pattern\":{\"fillmode\":\"overlay\",\"size\":10,\"solidity\":0.2}},\"type\":\"histogram\"}],\"scattergl\":[{\"type\":\"scattergl\",\"marker\":{\"colorbar\":{\"outlinewidth\":0,\"ticks\":\"\"}}}],\"scatter3d\":[{\"type\":\"scatter3d\",\"line\":{\"colorbar\":{\"outlinewidth\":0,\"ticks\":\"\"}},\"marker\":{\"colorbar\":{\"outlinewidth\":0,\"ticks\":\"\"}}}],\"scattermapbox\":[{\"type\":\"scattermapbox\",\"marker\":{\"colorbar\":{\"outlinewidth\":0,\"ticks\":\"\"}}}],\"scatterternary\":[{\"type\":\"scatterternary\",\"marker\":{\"colorbar\":{\"outlinewidth\":0,\"ticks\":\"\"}}}],\"scattercarpet\":[{\"type\":\"scattercarpet\",\"marker\":{\"colorbar\":{\"outlinewidth\":0,\"ticks\":\"\"}}}],\"carpet\":[{\"aaxis\":{\"endlinecolor\":\"#2a3f5f\",\"gridcolor\":\"white\",\"linecolor\":\"white\",\"minorgridcolor\":\"white\",\"startlinecolor\":\"#2a3f5f\"},\"baxis\":{\"endlinecolor\":\"#2a3f5f\",\"gridcolor\":\"white\",\"linecolor\":\"white\",\"minorgridcolor\":\"white\",\"startlinecolor\":\"#2a3f5f\"},\"type\":\"carpet\"}],\"table\":[{\"cells\":{\"fill\":{\"color\":\"#EBF0F8\"},\"line\":{\"color\":\"white\"}},\"header\":{\"fill\":{\"color\":\"#C8D4E3\"},\"line\":{\"color\":\"white\"}},\"type\":\"table\"}],\"barpolar\":[{\"marker\":{\"line\":{\"color\":\"#E5ECF6\",\"width\":0.5},\"pattern\":{\"fillmode\":\"overlay\",\"size\":10,\"solidity\":0.2}},\"type\":\"barpolar\"}],\"pie\":[{\"automargin\":true,\"type\":\"pie\"}]},\"layout\":{\"autotypenumbers\":\"strict\",\"colorway\":[\"#636efa\",\"#EF553B\",\"#00cc96\",\"#ab63fa\",\"#FFA15A\",\"#19d3f3\",\"#FF6692\",\"#B6E880\",\"#FF97FF\",\"#FECB52\"],\"font\":{\"color\":\"#2a3f5f\"},\"hovermode\":\"closest\",\"hoverlabel\":{\"align\":\"left\"},\"paper_bgcolor\":\"white\",\"plot_bgcolor\":\"#E5ECF6\",\"polar\":{\"bgcolor\":\"#E5ECF6\",\"angularaxis\":{\"gridcolor\":\"white\",\"linecolor\":\"white\",\"ticks\":\"\"},\"radialaxis\":{\"gridcolor\":\"white\",\"linecolor\":\"white\",\"ticks\":\"\"}},\"ternary\":{\"bgcolor\":\"#E5ECF6\",\"aaxis\":{\"gridcolor\":\"white\",\"linecolor\":\"white\",\"ticks\":\"\"},\"baxis\":{\"gridcolor\":\"white\",\"linecolor\":\"white\",\"ticks\":\"\"},\"caxis\":{\"gridcolor\":\"white\",\"linecolor\":\"white\",\"ticks\":\"\"}},\"coloraxis\":{\"colorbar\":{\"outlinewidth\":0,\"ticks\":\"\"}},\"colorscale\":{\"sequential\":[[0.0,\"#0d0887\"],[0.1111111111111111,\"#46039f\"],[0.2222222222222222,\"#7201a8\"],[0.3333333333333333,\"#9c179e\"],[0.4444444444444444,\"#bd3786\"],[0.5555555555555556,\"#d8576b\"],[0.6666666666666666,\"#ed7953\"],[0.7777777777777778,\"#fb9f3a\"],[0.8888888888888888,\"#fdca26\"],[1.0,\"#f0f921\"]],\"sequentialminus\":[[0.0,\"#0d0887\"],[0.1111111111111111,\"#46039f\"],[0.2222222222222222,\"#7201a8\"],[0.3333333333333333,\"#9c179e\"],[0.4444444444444444,\"#bd3786\"],[0.5555555555555556,\"#d8576b\"],[0.6666666666666666,\"#ed7953\"],[0.7777777777777778,\"#fb9f3a\"],[0.8888888888888888,\"#fdca26\"],[1.0,\"#f0f921\"]],\"diverging\":[[0,\"#8e0152\"],[0.1,\"#c51b7d\"],[0.2,\"#de77ae\"],[0.3,\"#f1b6da\"],[0.4,\"#fde0ef\"],[0.5,\"#f7f7f7\"],[0.6,\"#e6f5d0\"],[0.7,\"#b8e186\"],[0.8,\"#7fbc41\"],[0.9,\"#4d9221\"],[1,\"#276419\"]]},\"xaxis\":{\"gridcolor\":\"white\",\"linecolor\":\"white\",\"ticks\":\"\",\"title\":{\"standoff\":15},\"zerolinecolor\":\"white\",\"automargin\":true,\"zerolinewidth\":2},\"yaxis\":{\"gridcolor\":\"white\",\"linecolor\":\"white\",\"ticks\":\"\",\"title\":{\"standoff\":15},\"zerolinecolor\":\"white\",\"automargin\":true,\"zerolinewidth\":2},\"scene\":{\"xaxis\":{\"backgroundcolor\":\"#E5ECF6\",\"gridcolor\":\"white\",\"linecolor\":\"white\",\"showbackground\":true,\"ticks\":\"\",\"zerolinecolor\":\"white\",\"gridwidth\":2},\"yaxis\":{\"backgroundcolor\":\"#E5ECF6\",\"gridcolor\":\"white\",\"linecolor\":\"white\",\"showbackground\":true,\"ticks\":\"\",\"zerolinecolor\":\"white\",\"gridwidth\":2},\"zaxis\":{\"backgroundcolor\":\"#E5ECF6\",\"gridcolor\":\"white\",\"linecolor\":\"white\",\"showbackground\":true,\"ticks\":\"\",\"zerolinecolor\":\"white\",\"gridwidth\":2}},\"shapedefaults\":{\"line\":{\"color\":\"#2a3f5f\"}},\"annotationdefaults\":{\"arrowcolor\":\"#2a3f5f\",\"arrowhead\":0,\"arrowwidth\":1},\"geo\":{\"bgcolor\":\"white\",\"landcolor\":\"#E5ECF6\",\"subunitcolor\":\"white\",\"showland\":true,\"showlakes\":true,\"lakecolor\":\"white\"},\"title\":{\"x\":0.05},\"mapbox\":{\"style\":\"light\"}}},\"xaxis\":{\"anchor\":\"y\",\"domain\":[0.0,1.0],\"title\":{\"text\":\"saldo\"}},\"yaxis\":{\"anchor\":\"x\",\"domain\":[0.0,1.0]},\"legend\":{\"title\":{\"text\":\"aderencia_investimento\"},\"tracegroupgap\":0},\"margin\":{\"t\":60},\"boxmode\":\"group\"},                        {\"responsive\": true}                    ).then(function(){\n",
              "                            \n",
              "var gd = document.getElementById('410e3763-7686-4353-88d7-844309d00e31');\n",
              "var x = new MutationObserver(function (mutations, observer) {{\n",
              "        var display = window.getComputedStyle(gd).display;\n",
              "        if (!display || display === 'none') {{\n",
              "            console.log([gd, 'removed!']);\n",
              "            Plotly.purge(gd);\n",
              "            observer.disconnect();\n",
              "        }}\n",
              "}});\n",
              "\n",
              "// Listen for the removal of the full notebook cells\n",
              "var notebookContainer = gd.closest('#notebook-container');\n",
              "if (notebookContainer) {{\n",
              "    x.observe(notebookContainer, {childList: true});\n",
              "}}\n",
              "\n",
              "// Listen for the clearing of the current output cell\n",
              "var outputEl = gd.closest('.output');\n",
              "if (outputEl) {{\n",
              "    x.observe(outputEl, {childList: true});\n",
              "}}\n",
              "\n",
              "                        })                };                            </script>        </div>\n",
              "</body>\n",
              "</html>"
            ]
          },
          "metadata": {}
        }
      ]
    },
    {
      "cell_type": "code",
      "source": [
        "px.box(dados, x = 'tempo_ult_contato', color = 'aderencia_investimento')"
      ],
      "metadata": {
        "id": "cOEYiwOyyoou",
        "outputId": "5fa30f13-8ff1-4726-c4fb-73c919755973",
        "colab": {
          "base_uri": "https://localhost:8080/",
          "height": 542
        }
      },
      "execution_count": 13,
      "outputs": [
        {
          "output_type": "display_data",
          "data": {
            "text/html": [
              "<html>\n",
              "<head><meta charset=\"utf-8\" /></head>\n",
              "<body>\n",
              "    <div>            <script src=\"https://cdnjs.cloudflare.com/ajax/libs/mathjax/2.7.5/MathJax.js?config=TeX-AMS-MML_SVG\"></script><script type=\"text/javascript\">if (window.MathJax && window.MathJax.Hub && window.MathJax.Hub.Config) {window.MathJax.Hub.Config({SVG: {font: \"STIX-Web\"}});}</script>                <script type=\"text/javascript\">window.PlotlyConfig = {MathJaxConfig: 'local'};</script>\n",
              "        <script charset=\"utf-8\" src=\"https://cdn.plot.ly/plotly-2.35.2.min.js\"></script>                <div id=\"945d4c52-d33a-48f8-ba83-b824c1769a4a\" class=\"plotly-graph-div\" style=\"height:525px; width:100%;\"></div>            <script type=\"text/javascript\">                                    window.PLOTLYENV=window.PLOTLYENV || {};                                    if (document.getElementById(\"945d4c52-d33a-48f8-ba83-b824c1769a4a\")) {                    Plotly.newPlot(                        \"945d4c52-d33a-48f8-ba83-b824c1769a4a\",                        [{\"alignmentgroup\":\"True\",\"hovertemplate\":\"aderencia_investimento=sim\\u003cbr\\u003etempo_ult_contato=%{x}\\u003cextra\\u003e\\u003c\\u002fextra\\u003e\",\"legendgroup\":\"sim\",\"marker\":{\"color\":\"#636efa\"},\"name\":\"sim\",\"notched\":false,\"offsetgroup\":\"sim\",\"orientation\":\"h\",\"showlegend\":true,\"x\":[587,250,700,239,487,213,732,130,712,336,470,805,727,968,1275,397,657,435,411,467,330,415,326,338,767,593,2087,743,1034,442,97,257,261,1516,830,772,875,646,663,258,378,709,359,1448,97,648,897,1028,1579,258,765,554,104,654,310,316,181,401,2456,264,328,475,1139,495,146,128,451,585,469,633,97,574,815,389,388,262,270,326,474,261,457,479,998,384,295,876,755,216,185,169,249,563,314,223,231,224,394,1073,421,667,994,161,417,1181,882,1721,212,252,296,528,558,563,293,350,152,223,891,528,489,574,106,654,669,325,1174,937,701,250,449,768,391,250,659,1126,397,1689,1263,167,132,1173,93,427,261,164,170,910,847,1031,517,107,757,493,415,244,278,1212,205,904,477,639,220,352,388,93,549,569,293,289,651,409,1735,648,1015,436,1149,157,206,618,744,701,184,814,959,222,78,736,356,1060,253,251,229,398,1018,345,550,836,382,1877,707,1017,984,311,388,207,395,1234,415,91,691,2769,587,558,736,100,354,421,479,187,254,716,1032,650,161,423,1608,1282,378,198,218,223,352,808,144,158,230,297,976,243,269,330,676,386,480,317,809,1971,287,214,446,429,951,697,245,816,121,216,353,298,154,228,998,493,526,454,466,993,501,1484,762,854,267,226,1441,96,567,125,309,268,185,344,506,686,342,397,356,767,632,671,796,803,279,1259,806,222,418,314,1124,515,30,485,698,363,412,185,518,369,860,371,780,335,671,386,190,332,171,587,344,504,280,1309,481,883,328,712,255,403,646,188,955,635,526,812,664,474,232,897,519,224,269,275,207,159,234,270,576,827,1370,301,830,500,931,323,655,245,652,152,87,317,725,567,670,594,750,1258,653,1030,104,377,718,232,192,124,93,788,681,353,904,1663,501,103,360,353,798,399,161,267,227,1558,300,882,623,144,1029,221,347,213,955,543,857,171,1063,412,921,958,297,430,280,670,442,260,641,417,761,429,775,120,606,1101,2029,328,609,142,600,134,1473,260,460,860,441,249,543,508,869,307,252,709,799,819,777,294,1007,109,630,239,199,524,590,343,488,262,1467,1451,226,968,289,376,670,76,1097,213,319,688,759,873,404,352,147,279,224,990,166,324,215,1472,264,1081,781,500,91,149,268,796,485,178,877,1006,129,562,239,733,80,1018,1407,578,185,1164,321,1223,215,1532,525,110],\"x0\":\" \",\"xaxis\":\"x\",\"y0\":\" \",\"yaxis\":\"y\",\"type\":\"box\"},{\"alignmentgroup\":\"True\",\"hovertemplate\":\"aderencia_investimento=nao\\u003cbr\\u003etempo_ult_contato=%{x}\\u003cextra\\u003e\\u003c\\u002fextra\\u003e\",\"legendgroup\":\"nao\",\"marker\":{\"color\":\"#EF553B\"},\"name\":\"nao\",\"notched\":false,\"offsetgroup\":\"nao\",\"orientation\":\"h\",\"showlegend\":true,\"x\":[16,429,1065,102,41,493,53,71,1231,793,611,299,23,163,230,220,344,72,148,330,559,661,264,502,212,118,420,465,43,127,305,88,174,123,203,135,330,76,21,129,83,139,211,55,165,240,106,255,41,277,231,76,364,303,768,42,185,68,175,67,187,318,123,342,89,79,65,298,67,189,244,66,176,200,86,523,114,272,62,191,118,285,865,209,219,286,340,135,254,248,98,319,297,208,85,233,56,73,347,192,145,451,160,56,10,184,115,102,410,1516,283,108,441,139,105,222,866,144,172,318,215,343,443,28,352,70,246,127,223,117,125,179,217,336,676,52,318,83,73,109,443,228,517,354,375,364,76,405,322,182,41,329,247,466,275,196,155,314,76,184,566,395,178,119,84,299,200,146,151,150,193,505,328,410,89,156,177,99,538,205,14,36,561,121,129,209,16,218,113,128,325,256,83,275,95,74,73,126,151,187,237,380,220,389,319,3025,50,75,103,209,200,116,124,660,377,59,191,479,181,181,102,77,98,12,103,205,208,112,119,193,193,295,627,86,747,736,463,121,158,287,235,400,224,197,206,110,123,175,127,130,85,836,284,131,491,419,60,123,227,310,209,367,169,81,297,543,281,489,454,22,379,631,173,134,168,20,96,111,123,57,267,606,251,764,65,216,40,265,715,83,956,361,177,185,502,154,122,151,15,114,298,224,189,290,58,127,86,381,475,103,35,140,312,365,215,614,128,79,14,92,313,129,60,236,147,118,167,87,834,91,50,36,72,592,8,93,490,193,332,214,110,233,124,209,603,71,157,107,619,127,173,273,151,110,220,61,179,252,580,8,152,162,250,205,559,285,402,214,283,197,95,136,127,207,66,294,485,201,261,210,112,7,543,99,152,27,20,322,104,19,83,151,200,587,123,39,187,159,283,1816,277,90,730,119,668,143,204,85,251,349,536,133,89,78,272,40,8,274,307,57,226,467,155,317,74,174,346,366,217,29,164,700,317,254,240,86,15,19,245,63,209,238,770,173,163,81,96,21,380,76,1337,74,32,222,265,115,272,119,127,140,119,203,67,322,198,173,78,326,147,123,248,89,389,287,67,140,98,77,347,112,251,73,348,68,446,595,217,187,131,594,160,70,907,60,29,293,352,236,122,46,104,337,42,135,586,150,210,317,329,141,84,107,490,884,147,206,617,176,425,54,257,210,266,206,305,250,44,95,541,192,28,303,86,102,29,461,14,10,5,58,217,136,1126,340,123,115,204,82,388,166,358,289,253,151,22,29,90,253,112,8,146,404,82,15,228,310,24,133,24,210,550,25,304,145,196,197,159,107,371,337,131,230,14,71,161,25,56,273,134,159,66,373,258,221,371,53,171,46,285,142,193,210,164,244,97,106,127,153,169,535,113,483,1473,30,74,144,1210,1366,134,624,134,151,223,82,650,239,82,20,179,213,285,82,124,252,80,179,122,88,157,233,502,228,104,125,109,294,143,97,81,141,245,549,168,160,122,188,197,88,77,585,172,239,192,122,80,175,60,64,973,143,197,51,165,22,605,653,464,162,79,808,32,91,90,717,205,45,635,180,27,102,281,1183,411,509,253,191,225,599,108,212,95,211,75,205,44,69,359,73,340,472,142,70,30,669,71,447,143,557,90,211,235,389,601,79,147,70,71,244,150,130,412,281,1139,101,141,241,119,287,197,133,192,203,167,216,169,304,98,1130,214,115,272,97,249,34,119,260,340,226,1531,63,104,239,140,113,408,442],\"x0\":\" \",\"xaxis\":\"x\",\"y0\":\" \",\"yaxis\":\"y\",\"type\":\"box\"}],                        {\"template\":{\"data\":{\"histogram2dcontour\":[{\"type\":\"histogram2dcontour\",\"colorbar\":{\"outlinewidth\":0,\"ticks\":\"\"},\"colorscale\":[[0.0,\"#0d0887\"],[0.1111111111111111,\"#46039f\"],[0.2222222222222222,\"#7201a8\"],[0.3333333333333333,\"#9c179e\"],[0.4444444444444444,\"#bd3786\"],[0.5555555555555556,\"#d8576b\"],[0.6666666666666666,\"#ed7953\"],[0.7777777777777778,\"#fb9f3a\"],[0.8888888888888888,\"#fdca26\"],[1.0,\"#f0f921\"]]}],\"choropleth\":[{\"type\":\"choropleth\",\"colorbar\":{\"outlinewidth\":0,\"ticks\":\"\"}}],\"histogram2d\":[{\"type\":\"histogram2d\",\"colorbar\":{\"outlinewidth\":0,\"ticks\":\"\"},\"colorscale\":[[0.0,\"#0d0887\"],[0.1111111111111111,\"#46039f\"],[0.2222222222222222,\"#7201a8\"],[0.3333333333333333,\"#9c179e\"],[0.4444444444444444,\"#bd3786\"],[0.5555555555555556,\"#d8576b\"],[0.6666666666666666,\"#ed7953\"],[0.7777777777777778,\"#fb9f3a\"],[0.8888888888888888,\"#fdca26\"],[1.0,\"#f0f921\"]]}],\"heatmap\":[{\"type\":\"heatmap\",\"colorbar\":{\"outlinewidth\":0,\"ticks\":\"\"},\"colorscale\":[[0.0,\"#0d0887\"],[0.1111111111111111,\"#46039f\"],[0.2222222222222222,\"#7201a8\"],[0.3333333333333333,\"#9c179e\"],[0.4444444444444444,\"#bd3786\"],[0.5555555555555556,\"#d8576b\"],[0.6666666666666666,\"#ed7953\"],[0.7777777777777778,\"#fb9f3a\"],[0.8888888888888888,\"#fdca26\"],[1.0,\"#f0f921\"]]}],\"heatmapgl\":[{\"type\":\"heatmapgl\",\"colorbar\":{\"outlinewidth\":0,\"ticks\":\"\"},\"colorscale\":[[0.0,\"#0d0887\"],[0.1111111111111111,\"#46039f\"],[0.2222222222222222,\"#7201a8\"],[0.3333333333333333,\"#9c179e\"],[0.4444444444444444,\"#bd3786\"],[0.5555555555555556,\"#d8576b\"],[0.6666666666666666,\"#ed7953\"],[0.7777777777777778,\"#fb9f3a\"],[0.8888888888888888,\"#fdca26\"],[1.0,\"#f0f921\"]]}],\"contourcarpet\":[{\"type\":\"contourcarpet\",\"colorbar\":{\"outlinewidth\":0,\"ticks\":\"\"}}],\"contour\":[{\"type\":\"contour\",\"colorbar\":{\"outlinewidth\":0,\"ticks\":\"\"},\"colorscale\":[[0.0,\"#0d0887\"],[0.1111111111111111,\"#46039f\"],[0.2222222222222222,\"#7201a8\"],[0.3333333333333333,\"#9c179e\"],[0.4444444444444444,\"#bd3786\"],[0.5555555555555556,\"#d8576b\"],[0.6666666666666666,\"#ed7953\"],[0.7777777777777778,\"#fb9f3a\"],[0.8888888888888888,\"#fdca26\"],[1.0,\"#f0f921\"]]}],\"surface\":[{\"type\":\"surface\",\"colorbar\":{\"outlinewidth\":0,\"ticks\":\"\"},\"colorscale\":[[0.0,\"#0d0887\"],[0.1111111111111111,\"#46039f\"],[0.2222222222222222,\"#7201a8\"],[0.3333333333333333,\"#9c179e\"],[0.4444444444444444,\"#bd3786\"],[0.5555555555555556,\"#d8576b\"],[0.6666666666666666,\"#ed7953\"],[0.7777777777777778,\"#fb9f3a\"],[0.8888888888888888,\"#fdca26\"],[1.0,\"#f0f921\"]]}],\"mesh3d\":[{\"type\":\"mesh3d\",\"colorbar\":{\"outlinewidth\":0,\"ticks\":\"\"}}],\"scatter\":[{\"fillpattern\":{\"fillmode\":\"overlay\",\"size\":10,\"solidity\":0.2},\"type\":\"scatter\"}],\"parcoords\":[{\"type\":\"parcoords\",\"line\":{\"colorbar\":{\"outlinewidth\":0,\"ticks\":\"\"}}}],\"scatterpolargl\":[{\"type\":\"scatterpolargl\",\"marker\":{\"colorbar\":{\"outlinewidth\":0,\"ticks\":\"\"}}}],\"bar\":[{\"error_x\":{\"color\":\"#2a3f5f\"},\"error_y\":{\"color\":\"#2a3f5f\"},\"marker\":{\"line\":{\"color\":\"#E5ECF6\",\"width\":0.5},\"pattern\":{\"fillmode\":\"overlay\",\"size\":10,\"solidity\":0.2}},\"type\":\"bar\"}],\"scattergeo\":[{\"type\":\"scattergeo\",\"marker\":{\"colorbar\":{\"outlinewidth\":0,\"ticks\":\"\"}}}],\"scatterpolar\":[{\"type\":\"scatterpolar\",\"marker\":{\"colorbar\":{\"outlinewidth\":0,\"ticks\":\"\"}}}],\"histogram\":[{\"marker\":{\"pattern\":{\"fillmode\":\"overlay\",\"size\":10,\"solidity\":0.2}},\"type\":\"histogram\"}],\"scattergl\":[{\"type\":\"scattergl\",\"marker\":{\"colorbar\":{\"outlinewidth\":0,\"ticks\":\"\"}}}],\"scatter3d\":[{\"type\":\"scatter3d\",\"line\":{\"colorbar\":{\"outlinewidth\":0,\"ticks\":\"\"}},\"marker\":{\"colorbar\":{\"outlinewidth\":0,\"ticks\":\"\"}}}],\"scattermapbox\":[{\"type\":\"scattermapbox\",\"marker\":{\"colorbar\":{\"outlinewidth\":0,\"ticks\":\"\"}}}],\"scatterternary\":[{\"type\":\"scatterternary\",\"marker\":{\"colorbar\":{\"outlinewidth\":0,\"ticks\":\"\"}}}],\"scattercarpet\":[{\"type\":\"scattercarpet\",\"marker\":{\"colorbar\":{\"outlinewidth\":0,\"ticks\":\"\"}}}],\"carpet\":[{\"aaxis\":{\"endlinecolor\":\"#2a3f5f\",\"gridcolor\":\"white\",\"linecolor\":\"white\",\"minorgridcolor\":\"white\",\"startlinecolor\":\"#2a3f5f\"},\"baxis\":{\"endlinecolor\":\"#2a3f5f\",\"gridcolor\":\"white\",\"linecolor\":\"white\",\"minorgridcolor\":\"white\",\"startlinecolor\":\"#2a3f5f\"},\"type\":\"carpet\"}],\"table\":[{\"cells\":{\"fill\":{\"color\":\"#EBF0F8\"},\"line\":{\"color\":\"white\"}},\"header\":{\"fill\":{\"color\":\"#C8D4E3\"},\"line\":{\"color\":\"white\"}},\"type\":\"table\"}],\"barpolar\":[{\"marker\":{\"line\":{\"color\":\"#E5ECF6\",\"width\":0.5},\"pattern\":{\"fillmode\":\"overlay\",\"size\":10,\"solidity\":0.2}},\"type\":\"barpolar\"}],\"pie\":[{\"automargin\":true,\"type\":\"pie\"}]},\"layout\":{\"autotypenumbers\":\"strict\",\"colorway\":[\"#636efa\",\"#EF553B\",\"#00cc96\",\"#ab63fa\",\"#FFA15A\",\"#19d3f3\",\"#FF6692\",\"#B6E880\",\"#FF97FF\",\"#FECB52\"],\"font\":{\"color\":\"#2a3f5f\"},\"hovermode\":\"closest\",\"hoverlabel\":{\"align\":\"left\"},\"paper_bgcolor\":\"white\",\"plot_bgcolor\":\"#E5ECF6\",\"polar\":{\"bgcolor\":\"#E5ECF6\",\"angularaxis\":{\"gridcolor\":\"white\",\"linecolor\":\"white\",\"ticks\":\"\"},\"radialaxis\":{\"gridcolor\":\"white\",\"linecolor\":\"white\",\"ticks\":\"\"}},\"ternary\":{\"bgcolor\":\"#E5ECF6\",\"aaxis\":{\"gridcolor\":\"white\",\"linecolor\":\"white\",\"ticks\":\"\"},\"baxis\":{\"gridcolor\":\"white\",\"linecolor\":\"white\",\"ticks\":\"\"},\"caxis\":{\"gridcolor\":\"white\",\"linecolor\":\"white\",\"ticks\":\"\"}},\"coloraxis\":{\"colorbar\":{\"outlinewidth\":0,\"ticks\":\"\"}},\"colorscale\":{\"sequential\":[[0.0,\"#0d0887\"],[0.1111111111111111,\"#46039f\"],[0.2222222222222222,\"#7201a8\"],[0.3333333333333333,\"#9c179e\"],[0.4444444444444444,\"#bd3786\"],[0.5555555555555556,\"#d8576b\"],[0.6666666666666666,\"#ed7953\"],[0.7777777777777778,\"#fb9f3a\"],[0.8888888888888888,\"#fdca26\"],[1.0,\"#f0f921\"]],\"sequentialminus\":[[0.0,\"#0d0887\"],[0.1111111111111111,\"#46039f\"],[0.2222222222222222,\"#7201a8\"],[0.3333333333333333,\"#9c179e\"],[0.4444444444444444,\"#bd3786\"],[0.5555555555555556,\"#d8576b\"],[0.6666666666666666,\"#ed7953\"],[0.7777777777777778,\"#fb9f3a\"],[0.8888888888888888,\"#fdca26\"],[1.0,\"#f0f921\"]],\"diverging\":[[0,\"#8e0152\"],[0.1,\"#c51b7d\"],[0.2,\"#de77ae\"],[0.3,\"#f1b6da\"],[0.4,\"#fde0ef\"],[0.5,\"#f7f7f7\"],[0.6,\"#e6f5d0\"],[0.7,\"#b8e186\"],[0.8,\"#7fbc41\"],[0.9,\"#4d9221\"],[1,\"#276419\"]]},\"xaxis\":{\"gridcolor\":\"white\",\"linecolor\":\"white\",\"ticks\":\"\",\"title\":{\"standoff\":15},\"zerolinecolor\":\"white\",\"automargin\":true,\"zerolinewidth\":2},\"yaxis\":{\"gridcolor\":\"white\",\"linecolor\":\"white\",\"ticks\":\"\",\"title\":{\"standoff\":15},\"zerolinecolor\":\"white\",\"automargin\":true,\"zerolinewidth\":2},\"scene\":{\"xaxis\":{\"backgroundcolor\":\"#E5ECF6\",\"gridcolor\":\"white\",\"linecolor\":\"white\",\"showbackground\":true,\"ticks\":\"\",\"zerolinecolor\":\"white\",\"gridwidth\":2},\"yaxis\":{\"backgroundcolor\":\"#E5ECF6\",\"gridcolor\":\"white\",\"linecolor\":\"white\",\"showbackground\":true,\"ticks\":\"\",\"zerolinecolor\":\"white\",\"gridwidth\":2},\"zaxis\":{\"backgroundcolor\":\"#E5ECF6\",\"gridcolor\":\"white\",\"linecolor\":\"white\",\"showbackground\":true,\"ticks\":\"\",\"zerolinecolor\":\"white\",\"gridwidth\":2}},\"shapedefaults\":{\"line\":{\"color\":\"#2a3f5f\"}},\"annotationdefaults\":{\"arrowcolor\":\"#2a3f5f\",\"arrowhead\":0,\"arrowwidth\":1},\"geo\":{\"bgcolor\":\"white\",\"landcolor\":\"#E5ECF6\",\"subunitcolor\":\"white\",\"showland\":true,\"showlakes\":true,\"lakecolor\":\"white\"},\"title\":{\"x\":0.05},\"mapbox\":{\"style\":\"light\"}}},\"xaxis\":{\"anchor\":\"y\",\"domain\":[0.0,1.0],\"title\":{\"text\":\"tempo_ult_contato\"}},\"yaxis\":{\"anchor\":\"x\",\"domain\":[0.0,1.0]},\"legend\":{\"title\":{\"text\":\"aderencia_investimento\"},\"tracegroupgap\":0},\"margin\":{\"t\":60},\"boxmode\":\"group\"},                        {\"responsive\": true}                    ).then(function(){\n",
              "                            \n",
              "var gd = document.getElementById('945d4c52-d33a-48f8-ba83-b824c1769a4a');\n",
              "var x = new MutationObserver(function (mutations, observer) {{\n",
              "        var display = window.getComputedStyle(gd).display;\n",
              "        if (!display || display === 'none') {{\n",
              "            console.log([gd, 'removed!']);\n",
              "            Plotly.purge(gd);\n",
              "            observer.disconnect();\n",
              "        }}\n",
              "}});\n",
              "\n",
              "// Listen for the removal of the full notebook cells\n",
              "var notebookContainer = gd.closest('#notebook-container');\n",
              "if (notebookContainer) {{\n",
              "    x.observe(notebookContainer, {childList: true});\n",
              "}}\n",
              "\n",
              "// Listen for the clearing of the current output cell\n",
              "var outputEl = gd.closest('.output');\n",
              "if (outputEl) {{\n",
              "    x.observe(outputEl, {childList: true});\n",
              "}}\n",
              "\n",
              "                        })                };                            </script>        </div>\n",
              "</body>\n",
              "</html>"
            ]
          },
          "metadata": {}
        }
      ]
    },
    {
      "cell_type": "code",
      "source": [
        "px.box(dados, x = 'numero_contatos', color = 'aderencia_investimento')"
      ],
      "metadata": {
        "id": "CP2e2Wb0ysC6",
        "outputId": "51ddf0bd-2734-4a87-c8d8-7e05bb7ebaa9",
        "colab": {
          "base_uri": "https://localhost:8080/",
          "height": 542
        }
      },
      "execution_count": 14,
      "outputs": [
        {
          "output_type": "display_data",
          "data": {
            "text/html": [
              "<html>\n",
              "<head><meta charset=\"utf-8\" /></head>\n",
              "<body>\n",
              "    <div>            <script src=\"https://cdnjs.cloudflare.com/ajax/libs/mathjax/2.7.5/MathJax.js?config=TeX-AMS-MML_SVG\"></script><script type=\"text/javascript\">if (window.MathJax && window.MathJax.Hub && window.MathJax.Hub.Config) {window.MathJax.Hub.Config({SVG: {font: \"STIX-Web\"}});}</script>                <script type=\"text/javascript\">window.PlotlyConfig = {MathJaxConfig: 'local'};</script>\n",
              "        <script charset=\"utf-8\" src=\"https://cdn.plot.ly/plotly-2.35.2.min.js\"></script>                <div id=\"80b5d2a9-2631-4bd2-9c86-90267b162ec9\" class=\"plotly-graph-div\" style=\"height:525px; width:100%;\"></div>            <script type=\"text/javascript\">                                    window.PLOTLYENV=window.PLOTLYENV || {};                                    if (document.getElementById(\"80b5d2a9-2631-4bd2-9c86-90267b162ec9\")) {                    Plotly.newPlot(                        \"80b5d2a9-2631-4bd2-9c86-90267b162ec9\",                        [{\"alignmentgroup\":\"True\",\"hovertemplate\":\"aderencia_investimento=sim\\u003cbr\\u003enumero_contatos=%{x}\\u003cextra\\u003e\\u003c\\u002fextra\\u003e\",\"legendgroup\":\"sim\",\"marker\":{\"color\":\"#636efa\"},\"name\":\"sim\",\"notched\":false,\"offsetgroup\":\"sim\",\"orientation\":\"h\",\"showlegend\":true,\"x\":[1,4,1,4,1,4,2,1,1,2,7,1,2,1,1,1,7,1,1,2,2,1,5,1,5,1,2,13,1,1,3,1,1,2,1,1,2,5,4,1,1,2,1,7,1,1,2,2,1,6,1,1,1,2,1,3,1,2,2,1,2,2,2,1,4,2,1,1,1,1,1,1,1,1,1,1,1,2,3,1,1,1,6,2,1,1,1,1,1,1,2,1,1,3,1,1,2,1,2,3,2,1,1,4,8,2,1,1,1,3,1,1,1,3,2,1,4,2,1,1,1,2,1,2,1,3,1,2,2,2,1,2,4,4,1,4,2,1,1,3,5,1,1,2,4,2,1,8,1,2,2,1,4,1,1,4,1,3,1,1,1,4,6,1,2,1,1,1,1,2,4,1,1,2,6,3,1,1,1,1,1,2,3,3,3,1,1,2,1,2,2,2,3,1,4,3,2,3,2,6,1,2,3,1,2,3,7,3,2,4,2,1,2,2,3,1,9,1,2,3,3,2,1,1,13,6,2,1,1,1,2,2,1,2,3,1,12,1,2,1,2,4,1,5,2,4,2,4,1,3,3,4,1,6,1,1,2,4,1,2,1,2,2,2,4,6,2,24,3,1,2,2,2,1,1,1,1,1,1,2,1,5,1,2,4,2,4,4,1,1,4,6,1,4,2,1,2,1,1,2,2,7,1,1,2,2,2,2,4,1,1,2,1,1,1,2,1,1,4,4,2,1,2,6,3,1,3,3,5,3,2,1,3,1,2,4,1,2,3,1,8,2,2,1,3,2,3,3,1,4,1,1,4,3,1,1,1,1,1,3,2,4,2,2,1,1,2,1,1,1,2,1,3,1,1,2,2,1,2,2,1,3,1,3,1,1,2,1,6,1,1,1,1,1,3,3,2,2,4,1,5,1,2,6,4,1,6,4,1,3,1,1,2,4,3,3,3,2,1,2,2,1,4,5,1,1,2,2,1,1,2,1,1,1,9,1,2,10,4,2,1,3,6,3,1,1,3,3,1,1,1,2,1,1,2,2,3,1,3,1,1,1,2,8,1,1,1,2,4,1,2,3,1,1,1,2,1,1,1,1,2,1,1,1,7,2,1,1,4,2,2,2,1,2,1,2,3,6,1,2,3,2],\"x0\":\" \",\"xaxis\":\"x\",\"y0\":\" \",\"yaxis\":\"y\",\"type\":\"box\"},{\"alignmentgroup\":\"True\",\"hovertemplate\":\"aderencia_investimento=nao\\u003cbr\\u003enumero_contatos=%{x}\\u003cextra\\u003e\\u003c\\u002fextra\\u003e\",\"legendgroup\":\"nao\",\"marker\":{\"color\":\"#EF553B\"},\"name\":\"nao\",\"notched\":false,\"offsetgroup\":\"nao\",\"orientation\":\"h\",\"showlegend\":true,\"x\":[18,1,1,2,2,3,5,1,2,2,2,5,1,1,1,1,2,6,2,1,1,1,5,3,3,3,4,1,13,8,1,5,3,2,2,3,1,2,1,4,4,9,2,4,1,3,8,2,5,2,1,2,1,2,2,1,4,12,3,1,3,2,1,1,3,3,2,1,1,2,1,1,2,2,4,3,2,2,2,1,6,2,2,2,4,2,2,1,2,1,2,5,1,3,3,3,8,6,2,4,2,1,1,1,2,2,2,1,1,2,1,1,1,2,3,3,2,3,1,1,1,4,1,1,1,1,1,1,2,2,2,6,1,1,1,1,2,12,17,1,2,1,1,2,2,1,2,3,2,2,2,4,2,1,2,2,2,1,2,1,2,2,1,2,3,2,3,1,2,1,6,2,2,1,4,2,2,1,8,3,14,6,4,2,2,1,5,1,4,1,1,2,6,12,2,2,1,3,10,5,3,4,2,4,2,2,1,1,1,2,3,1,4,2,3,2,1,1,2,6,3,3,1,8,1,5,2,3,1,6,2,1,1,1,5,7,1,1,1,2,2,2,8,2,6,1,1,3,1,1,6,12,2,3,1,2,1,1,1,2,1,2,1,3,1,12,1,2,6,8,2,1,1,2,2,3,4,7,1,2,4,2,3,3,2,3,3,2,1,13,2,1,1,6,2,4,6,1,7,6,3,1,1,13,2,2,2,1,4,1,16,10,3,1,3,2,3,1,6,1,1,1,4,10,2,1,5,1,10,9,1,1,4,4,6,1,2,2,2,1,1,1,2,2,3,7,6,1,1,2,2,1,1,5,2,6,2,4,3,6,11,3,1,2,7,5,2,8,1,1,3,2,1,2,1,2,1,1,1,3,2,8,12,1,1,1,4,1,2,18,3,11,1,2,2,2,2,1,1,1,2,1,2,1,7,2,4,4,11,1,2,2,2,2,1,1,1,1,6,1,3,1,2,1,2,2,1,1,2,1,2,3,1,1,2,1,13,3,2,5,4,2,2,6,2,4,1,17,1,2,4,5,3,3,2,2,1,5,6,2,1,2,2,2,1,1,5,11,1,1,4,1,5,1,3,1,1,2,1,2,1,2,1,1,2,1,4,2,2,1,1,1,2,3,32,6,3,1,6,3,5,2,1,3,3,2,5,6,1,3,3,1,1,3,2,1,2,15,1,2,1,1,1,1,12,3,14,5,1,3,18,2,2,2,1,3,1,3,3,3,1,8,1,2,1,1,1,4,8,1,2,2,5,8,5,1,6,2,2,2,1,6,4,1,3,2,2,1,12,2,7,1,1,3,1,3,1,2,3,4,2,1,3,2,2,7,6,1,5,2,2,8,1,1,1,1,1,2,1,4,4,2,2,6,3,2,1,1,5,2,3,1,6,1,3,5,1,1,2,5,4,3,1,2,1,2,3,6,10,1,3,12,2,3,2,1,1,1,1,1,1,2,1,1,1,1,4,1,3,1,3,2,7,1,2,2,5,2,2,4,1,1,1,16,2,2,1,2,1,3,1,2,2,2,1,3,1,1,1,1,1,6,3,1,1,5,1,1,6,4,2,1,2,2,1,2,2,2,1,1,3,2,7,6,8,6,3,1,3,2,1,3,29,6,1,4,1,7,2,11,11,2,1,1,2,2,1,1,1,2,1,3,2,7,1,3,6,1,2,2,32,1,3,4,4,3,4,3,5,1,4,1,5,1,4,2,1,1,1,4,1,4,1,1,2,2],\"x0\":\" \",\"xaxis\":\"x\",\"y0\":\" \",\"yaxis\":\"y\",\"type\":\"box\"}],                        {\"template\":{\"data\":{\"histogram2dcontour\":[{\"type\":\"histogram2dcontour\",\"colorbar\":{\"outlinewidth\":0,\"ticks\":\"\"},\"colorscale\":[[0.0,\"#0d0887\"],[0.1111111111111111,\"#46039f\"],[0.2222222222222222,\"#7201a8\"],[0.3333333333333333,\"#9c179e\"],[0.4444444444444444,\"#bd3786\"],[0.5555555555555556,\"#d8576b\"],[0.6666666666666666,\"#ed7953\"],[0.7777777777777778,\"#fb9f3a\"],[0.8888888888888888,\"#fdca26\"],[1.0,\"#f0f921\"]]}],\"choropleth\":[{\"type\":\"choropleth\",\"colorbar\":{\"outlinewidth\":0,\"ticks\":\"\"}}],\"histogram2d\":[{\"type\":\"histogram2d\",\"colorbar\":{\"outlinewidth\":0,\"ticks\":\"\"},\"colorscale\":[[0.0,\"#0d0887\"],[0.1111111111111111,\"#46039f\"],[0.2222222222222222,\"#7201a8\"],[0.3333333333333333,\"#9c179e\"],[0.4444444444444444,\"#bd3786\"],[0.5555555555555556,\"#d8576b\"],[0.6666666666666666,\"#ed7953\"],[0.7777777777777778,\"#fb9f3a\"],[0.8888888888888888,\"#fdca26\"],[1.0,\"#f0f921\"]]}],\"heatmap\":[{\"type\":\"heatmap\",\"colorbar\":{\"outlinewidth\":0,\"ticks\":\"\"},\"colorscale\":[[0.0,\"#0d0887\"],[0.1111111111111111,\"#46039f\"],[0.2222222222222222,\"#7201a8\"],[0.3333333333333333,\"#9c179e\"],[0.4444444444444444,\"#bd3786\"],[0.5555555555555556,\"#d8576b\"],[0.6666666666666666,\"#ed7953\"],[0.7777777777777778,\"#fb9f3a\"],[0.8888888888888888,\"#fdca26\"],[1.0,\"#f0f921\"]]}],\"heatmapgl\":[{\"type\":\"heatmapgl\",\"colorbar\":{\"outlinewidth\":0,\"ticks\":\"\"},\"colorscale\":[[0.0,\"#0d0887\"],[0.1111111111111111,\"#46039f\"],[0.2222222222222222,\"#7201a8\"],[0.3333333333333333,\"#9c179e\"],[0.4444444444444444,\"#bd3786\"],[0.5555555555555556,\"#d8576b\"],[0.6666666666666666,\"#ed7953\"],[0.7777777777777778,\"#fb9f3a\"],[0.8888888888888888,\"#fdca26\"],[1.0,\"#f0f921\"]]}],\"contourcarpet\":[{\"type\":\"contourcarpet\",\"colorbar\":{\"outlinewidth\":0,\"ticks\":\"\"}}],\"contour\":[{\"type\":\"contour\",\"colorbar\":{\"outlinewidth\":0,\"ticks\":\"\"},\"colorscale\":[[0.0,\"#0d0887\"],[0.1111111111111111,\"#46039f\"],[0.2222222222222222,\"#7201a8\"],[0.3333333333333333,\"#9c179e\"],[0.4444444444444444,\"#bd3786\"],[0.5555555555555556,\"#d8576b\"],[0.6666666666666666,\"#ed7953\"],[0.7777777777777778,\"#fb9f3a\"],[0.8888888888888888,\"#fdca26\"],[1.0,\"#f0f921\"]]}],\"surface\":[{\"type\":\"surface\",\"colorbar\":{\"outlinewidth\":0,\"ticks\":\"\"},\"colorscale\":[[0.0,\"#0d0887\"],[0.1111111111111111,\"#46039f\"],[0.2222222222222222,\"#7201a8\"],[0.3333333333333333,\"#9c179e\"],[0.4444444444444444,\"#bd3786\"],[0.5555555555555556,\"#d8576b\"],[0.6666666666666666,\"#ed7953\"],[0.7777777777777778,\"#fb9f3a\"],[0.8888888888888888,\"#fdca26\"],[1.0,\"#f0f921\"]]}],\"mesh3d\":[{\"type\":\"mesh3d\",\"colorbar\":{\"outlinewidth\":0,\"ticks\":\"\"}}],\"scatter\":[{\"fillpattern\":{\"fillmode\":\"overlay\",\"size\":10,\"solidity\":0.2},\"type\":\"scatter\"}],\"parcoords\":[{\"type\":\"parcoords\",\"line\":{\"colorbar\":{\"outlinewidth\":0,\"ticks\":\"\"}}}],\"scatterpolargl\":[{\"type\":\"scatterpolargl\",\"marker\":{\"colorbar\":{\"outlinewidth\":0,\"ticks\":\"\"}}}],\"bar\":[{\"error_x\":{\"color\":\"#2a3f5f\"},\"error_y\":{\"color\":\"#2a3f5f\"},\"marker\":{\"line\":{\"color\":\"#E5ECF6\",\"width\":0.5},\"pattern\":{\"fillmode\":\"overlay\",\"size\":10,\"solidity\":0.2}},\"type\":\"bar\"}],\"scattergeo\":[{\"type\":\"scattergeo\",\"marker\":{\"colorbar\":{\"outlinewidth\":0,\"ticks\":\"\"}}}],\"scatterpolar\":[{\"type\":\"scatterpolar\",\"marker\":{\"colorbar\":{\"outlinewidth\":0,\"ticks\":\"\"}}}],\"histogram\":[{\"marker\":{\"pattern\":{\"fillmode\":\"overlay\",\"size\":10,\"solidity\":0.2}},\"type\":\"histogram\"}],\"scattergl\":[{\"type\":\"scattergl\",\"marker\":{\"colorbar\":{\"outlinewidth\":0,\"ticks\":\"\"}}}],\"scatter3d\":[{\"type\":\"scatter3d\",\"line\":{\"colorbar\":{\"outlinewidth\":0,\"ticks\":\"\"}},\"marker\":{\"colorbar\":{\"outlinewidth\":0,\"ticks\":\"\"}}}],\"scattermapbox\":[{\"type\":\"scattermapbox\",\"marker\":{\"colorbar\":{\"outlinewidth\":0,\"ticks\":\"\"}}}],\"scatterternary\":[{\"type\":\"scatterternary\",\"marker\":{\"colorbar\":{\"outlinewidth\":0,\"ticks\":\"\"}}}],\"scattercarpet\":[{\"type\":\"scattercarpet\",\"marker\":{\"colorbar\":{\"outlinewidth\":0,\"ticks\":\"\"}}}],\"carpet\":[{\"aaxis\":{\"endlinecolor\":\"#2a3f5f\",\"gridcolor\":\"white\",\"linecolor\":\"white\",\"minorgridcolor\":\"white\",\"startlinecolor\":\"#2a3f5f\"},\"baxis\":{\"endlinecolor\":\"#2a3f5f\",\"gridcolor\":\"white\",\"linecolor\":\"white\",\"minorgridcolor\":\"white\",\"startlinecolor\":\"#2a3f5f\"},\"type\":\"carpet\"}],\"table\":[{\"cells\":{\"fill\":{\"color\":\"#EBF0F8\"},\"line\":{\"color\":\"white\"}},\"header\":{\"fill\":{\"color\":\"#C8D4E3\"},\"line\":{\"color\":\"white\"}},\"type\":\"table\"}],\"barpolar\":[{\"marker\":{\"line\":{\"color\":\"#E5ECF6\",\"width\":0.5},\"pattern\":{\"fillmode\":\"overlay\",\"size\":10,\"solidity\":0.2}},\"type\":\"barpolar\"}],\"pie\":[{\"automargin\":true,\"type\":\"pie\"}]},\"layout\":{\"autotypenumbers\":\"strict\",\"colorway\":[\"#636efa\",\"#EF553B\",\"#00cc96\",\"#ab63fa\",\"#FFA15A\",\"#19d3f3\",\"#FF6692\",\"#B6E880\",\"#FF97FF\",\"#FECB52\"],\"font\":{\"color\":\"#2a3f5f\"},\"hovermode\":\"closest\",\"hoverlabel\":{\"align\":\"left\"},\"paper_bgcolor\":\"white\",\"plot_bgcolor\":\"#E5ECF6\",\"polar\":{\"bgcolor\":\"#E5ECF6\",\"angularaxis\":{\"gridcolor\":\"white\",\"linecolor\":\"white\",\"ticks\":\"\"},\"radialaxis\":{\"gridcolor\":\"white\",\"linecolor\":\"white\",\"ticks\":\"\"}},\"ternary\":{\"bgcolor\":\"#E5ECF6\",\"aaxis\":{\"gridcolor\":\"white\",\"linecolor\":\"white\",\"ticks\":\"\"},\"baxis\":{\"gridcolor\":\"white\",\"linecolor\":\"white\",\"ticks\":\"\"},\"caxis\":{\"gridcolor\":\"white\",\"linecolor\":\"white\",\"ticks\":\"\"}},\"coloraxis\":{\"colorbar\":{\"outlinewidth\":0,\"ticks\":\"\"}},\"colorscale\":{\"sequential\":[[0.0,\"#0d0887\"],[0.1111111111111111,\"#46039f\"],[0.2222222222222222,\"#7201a8\"],[0.3333333333333333,\"#9c179e\"],[0.4444444444444444,\"#bd3786\"],[0.5555555555555556,\"#d8576b\"],[0.6666666666666666,\"#ed7953\"],[0.7777777777777778,\"#fb9f3a\"],[0.8888888888888888,\"#fdca26\"],[1.0,\"#f0f921\"]],\"sequentialminus\":[[0.0,\"#0d0887\"],[0.1111111111111111,\"#46039f\"],[0.2222222222222222,\"#7201a8\"],[0.3333333333333333,\"#9c179e\"],[0.4444444444444444,\"#bd3786\"],[0.5555555555555556,\"#d8576b\"],[0.6666666666666666,\"#ed7953\"],[0.7777777777777778,\"#fb9f3a\"],[0.8888888888888888,\"#fdca26\"],[1.0,\"#f0f921\"]],\"diverging\":[[0,\"#8e0152\"],[0.1,\"#c51b7d\"],[0.2,\"#de77ae\"],[0.3,\"#f1b6da\"],[0.4,\"#fde0ef\"],[0.5,\"#f7f7f7\"],[0.6,\"#e6f5d0\"],[0.7,\"#b8e186\"],[0.8,\"#7fbc41\"],[0.9,\"#4d9221\"],[1,\"#276419\"]]},\"xaxis\":{\"gridcolor\":\"white\",\"linecolor\":\"white\",\"ticks\":\"\",\"title\":{\"standoff\":15},\"zerolinecolor\":\"white\",\"automargin\":true,\"zerolinewidth\":2},\"yaxis\":{\"gridcolor\":\"white\",\"linecolor\":\"white\",\"ticks\":\"\",\"title\":{\"standoff\":15},\"zerolinecolor\":\"white\",\"automargin\":true,\"zerolinewidth\":2},\"scene\":{\"xaxis\":{\"backgroundcolor\":\"#E5ECF6\",\"gridcolor\":\"white\",\"linecolor\":\"white\",\"showbackground\":true,\"ticks\":\"\",\"zerolinecolor\":\"white\",\"gridwidth\":2},\"yaxis\":{\"backgroundcolor\":\"#E5ECF6\",\"gridcolor\":\"white\",\"linecolor\":\"white\",\"showbackground\":true,\"ticks\":\"\",\"zerolinecolor\":\"white\",\"gridwidth\":2},\"zaxis\":{\"backgroundcolor\":\"#E5ECF6\",\"gridcolor\":\"white\",\"linecolor\":\"white\",\"showbackground\":true,\"ticks\":\"\",\"zerolinecolor\":\"white\",\"gridwidth\":2}},\"shapedefaults\":{\"line\":{\"color\":\"#2a3f5f\"}},\"annotationdefaults\":{\"arrowcolor\":\"#2a3f5f\",\"arrowhead\":0,\"arrowwidth\":1},\"geo\":{\"bgcolor\":\"white\",\"landcolor\":\"#E5ECF6\",\"subunitcolor\":\"white\",\"showland\":true,\"showlakes\":true,\"lakecolor\":\"white\"},\"title\":{\"x\":0.05},\"mapbox\":{\"style\":\"light\"}}},\"xaxis\":{\"anchor\":\"y\",\"domain\":[0.0,1.0],\"title\":{\"text\":\"numero_contatos\"}},\"yaxis\":{\"anchor\":\"x\",\"domain\":[0.0,1.0]},\"legend\":{\"title\":{\"text\":\"aderencia_investimento\"},\"tracegroupgap\":0},\"margin\":{\"t\":60},\"boxmode\":\"group\"},                        {\"responsive\": true}                    ).then(function(){\n",
              "                            \n",
              "var gd = document.getElementById('80b5d2a9-2631-4bd2-9c86-90267b162ec9');\n",
              "var x = new MutationObserver(function (mutations, observer) {{\n",
              "        var display = window.getComputedStyle(gd).display;\n",
              "        if (!display || display === 'none') {{\n",
              "            console.log([gd, 'removed!']);\n",
              "            Plotly.purge(gd);\n",
              "            observer.disconnect();\n",
              "        }}\n",
              "}});\n",
              "\n",
              "// Listen for the removal of the full notebook cells\n",
              "var notebookContainer = gd.closest('#notebook-container');\n",
              "if (notebookContainer) {{\n",
              "    x.observe(notebookContainer, {childList: true});\n",
              "}}\n",
              "\n",
              "// Listen for the clearing of the current output cell\n",
              "var outputEl = gd.closest('.output');\n",
              "if (outputEl) {{\n",
              "    x.observe(outputEl, {childList: true});\n",
              "}}\n",
              "\n",
              "                        })                };                            </script>        </div>\n",
              "</body>\n",
              "</html>"
            ]
          },
          "metadata": {}
        }
      ]
    }
  ]
}