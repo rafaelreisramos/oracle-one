{
  "nbformat": 4,
  "nbformat_minor": 0,
  "metadata": {
    "colab": {
      "provenance": [],
      "authorship_tag": "ABX9TyMppYK2ApD5nB9rZWTvX6Z6",
      "include_colab_link": true
    },
    "kernelspec": {
      "name": "python3",
      "display_name": "Python 3"
    },
    "language_info": {
      "name": "python"
    }
  },
  "cells": [
    {
      "cell_type": "markdown",
      "metadata": {
        "id": "view-in-github",
        "colab_type": "text"
      },
      "source": [
        "<a href=\"https://colab.research.google.com/github/rafaelreisramos/oracle-one/blob/main/pandas-transformacao-manipulacao-dados/desafio_administracao_condominios.ipynb\" target=\"_parent\"><img src=\"https://colab.research.google.com/assets/colab-badge.svg\" alt=\"Open In Colab\"/></a>"
      ]
    },
    {
      "cell_type": "markdown",
      "source": [
        "# Desafio 2: administração de condomínios\n",
        "\n",
        "A administração de condomínios é uma tarefa que requer muita atenção e organização. Entre as diversas responsabilidades da gestão está o recebimento dos aluguéis dos locatários. Para garantir uma boa saúde financeira do empreendimento, é fundamental que esses pagamentos sejam feitos de forma regular e pontual. No entanto, sabemos que nem sempre isso acontece.\n",
        "\n",
        "Pensando nisso, proponho um desafio de tratamento de dados com o objetivo de analisar o atraso no pagamento de aluguéis no condomínio de alguns moradores. Disponibilizo a base de dados [dados_locacao_imoveis.json](https://raw.githubusercontent.com/rafaelreisramos/oracle-one/refs/heads/main/pandas-transformacao-manipulacao-dados/dados_locacao_imoveis.json), que contém informações sobre o apartamento dos locatários, o dia acordado para o pagamento do aluguel, o dia da efetivação do pagamento de aluguel e o valor do aluguel."
      ],
      "metadata": {
        "id": "gzJGP3bq63By"
      }
    },
    {
      "cell_type": "code",
      "source": [],
      "metadata": {
        "id": "NK2Ip8i97Ole"
      },
      "execution_count": null,
      "outputs": []
    }
  ]
}