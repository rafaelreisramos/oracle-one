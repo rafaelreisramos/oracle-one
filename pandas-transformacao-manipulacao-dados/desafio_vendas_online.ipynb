{
  "nbformat": 4,
  "nbformat_minor": 0,
  "metadata": {
    "colab": {
      "provenance": [],
      "authorship_tag": "ABX9TyPdZ7Qm0o8u+8lcOdzDSLJP",
      "include_colab_link": true
    },
    "kernelspec": {
      "name": "python3",
      "display_name": "Python 3"
    },
    "language_info": {
      "name": "python"
    }
  },
  "cells": [
    {
      "cell_type": "markdown",
      "metadata": {
        "id": "view-in-github",
        "colab_type": "text"
      },
      "source": [
        "<a href=\"https://colab.research.google.com/github/rafaelreisramos/oracle-one/blob/main/pandas-transformacao-manipulacao-dados/desafio_vendas_online.ipynb\" target=\"_parent\"><img src=\"https://colab.research.google.com/assets/colab-badge.svg\" alt=\"Open In Colab\"/></a>"
      ]
    },
    {
      "cell_type": "markdown",
      "source": [
        "# Projeto desafio 1: vendas online\n",
        "\n",
        "O objetivo desse projeto é realizar uma análise dos resultados de um evento com os clientes de uma empresa de vendas online. Foi coletado um conjunto de dados que contém os clientes que mais gastaram com produtos dentro de 5 dias de vendas, que é o período de duração do evento. Essa análise vai identificar o cliente com a maior compra na semana, que irá receber um prêmio da loja, e posteriormente, ela pode ajudar a empresa a criar novas estratégias para atrair mais clientes.\n",
        "\n",
        "A base de dados utilizada nessa análise é a [dados_vendas_clientes.json](https://raw.githubusercontent.com/rafaelreisramos/oracle-one/refs/heads/main/pandas-transformacao-manipulacao-dados/dados_vendas_clientes.json) e contém informações importantes sobre os clientes como, o nome de cadastro do cliente, o valor total pago na compra e o dia da compra."
      ],
      "metadata": {
        "id": "-5t17UX25RK6"
      }
    },
    {
      "cell_type": "code",
      "source": [],
      "metadata": {
        "id": "OKy9z0IZ5mom"
      },
      "execution_count": null,
      "outputs": []
    }
  ]
}